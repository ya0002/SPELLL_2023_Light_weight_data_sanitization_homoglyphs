{
  "nbformat": 4,
  "nbformat_minor": 0,
  "metadata": {
    "colab": {
      "provenance": [],
      "collapsed_sections": [
        "AAM07ZOdXqu2"
      ]
    },
    "kernelspec": {
      "name": "python3",
      "display_name": "Python 3"
    },
    "language_info": {
      "name": "python"
    }
  },
  "cells": [
    {
      "cell_type": "code",
      "source": [
        "from google.colab import drive\n",
        "drive.mount('/content/drive')"
      ],
      "metadata": {
        "colab": {
          "base_uri": "https://localhost:8080/"
        },
        "id": "QXohaXV6aQ74",
        "outputId": "f33ad72b-7bb3-4c45-aa68-47c0a610237e"
      },
      "execution_count": null,
      "outputs": [
        {
          "output_type": "stream",
          "name": "stdout",
          "text": [
            "Drive already mounted at /content/drive; to attempt to forcibly remount, call drive.mount(\"/content/drive\", force_remount=True).\n"
          ]
        }
      ]
    },
    {
      "cell_type": "markdown",
      "source": [
        "# for grid"
      ],
      "metadata": {
        "id": "AAM07ZOdXqu2"
      }
    },
    {
      "cell_type": "code",
      "source": [
        "! rm -r '/content/for grid'"
      ],
      "metadata": {
        "id": "0J8OLU-sjpMs"
      },
      "execution_count": null,
      "outputs": []
    },
    {
      "cell_type": "code",
      "source": [
        "import os\n",
        "from PIL import Image\n",
        "import numpy as np\n",
        "import matplotlib.pyplot as plt\n",
        "import zipfile\n",
        "\n",
        "# set the zip file path and extract the contents to a directory\n",
        "zip_file_path = \"/content/for grid.zip\"\n",
        "folder_path = \"/content/for grid/for grid/for grid\"\n",
        "# with zipfile.ZipFile(zip_file_path, 'r') as zip_ref:\n",
        "#     zip_ref.extractall(folder_path)\n",
        "\n",
        "# get a list of all image file names in the folder\n",
        "image_files = [os.path.join(folder_path, f) for f in sorted(os.listdir(folder_path),key=lambda x: (x[0].lower(), x[0].isupper())) if os.path.isfile(os.path.join(folder_path, f))]\n",
        "# print(image_files)\n",
        "\n",
        "# set the number of images per row and column\n",
        "num_rows = 10\n",
        "num_cols = 10\n",
        "\n",
        "# create an empty grid for the images\n",
        "grid = np.zeros((num_rows * 28, num_cols * 28), dtype=np.uint8)\n",
        "\n",
        "# iterate over each image and place it in the grid\n",
        "for i in range(num_rows):\n",
        "    for j in range(num_cols):\n",
        "        index = i * num_cols + j\n",
        "        if index < len(image_files):\n",
        "            # load the image and resize it to 28x28 pixels\n",
        "            img = Image.open(image_files[index]).convert('L')\n",
        "            img = img.resize((28, 28), resample=Image.LANCZOS)\n",
        "            # add the image to the grid\n",
        "            grid[i*28:(i+1)*28, j*28:(j+1)*28] = np.asarray(img)\n",
        "\n",
        "# # display the grid of images\n",
        "# plt.imshow(grid, cmap='gray')\n",
        "# plt.axis('off')\n",
        "# plt.show()\n",
        "\n",
        "\n",
        "# create a PIL Image object from the NumPy array\n",
        "grid_img = Image.fromarray(grid)\n",
        "\n",
        "# save the image to a file\n",
        "grid_img.save(\"grid.png\")\n",
        "grid_img"
      ],
      "metadata": {
        "colab": {
          "base_uri": "https://localhost:8080/",
          "height": 297
        },
        "id": "z54Fcvzvf-9D",
        "outputId": "38743fd9-3227-4c31-fa7e-138ff6a7fca1"
      },
      "execution_count": null,
      "outputs": [
        {
          "output_type": "execute_result",
          "data": {
            "text/plain": [
              "<PIL.Image.Image image mode=L size=280x280 at 0x7F197D068E80>"
            ],
            "image/png": "[encoded data removed]"
          },
          "metadata": {},
          "execution_count": 18
        }
      ]
    },
    {
      "cell_type": "markdown",
      "source": [
        "# Exploratory"
      ],
      "metadata": {
        "id": "or13WzCt5Mn7"
      }
    },
    {
      "cell_type": "code",
      "execution_count": null,
      "metadata": {
        "id": "jd3OVM4lryrO"
      },
      "outputs": [],
      "source": [
        "from PIL import Image\n",
        "from PIL import ImageFont\n",
        "from PIL import ImageDraw\n",
        "\n",
        "import numpy as np\n",
        "\n",
        "import pandas as pd\n",
        "from tqdm import tqdm"
      ]
    },
    {
      "cell_type": "code",
      "source": [
        "def draw_char(char: str, typeface: str, size: int) -> Image:\n",
        "    # font = ImageFont.truetype(f'{typeface}.ttf', size)\n",
        "    font = ImageFont.load_default()\n",
        "    img = Image.new('L', (size, size))\n",
        "    draw = ImageDraw.Draw(img)\n",
        "    draw.text((0, 0), char, 255, font=font)\n",
        "    return img\n",
        "\n",
        "\n",
        "def render(char: str, typeface='Helvetica', size=10) -> np.ndarray:\n",
        "    img = draw_char(char, typeface=typeface, size=size)\n",
        "    return np.asarray(img)\n",
        "\n",
        "\n",
        "def encode_char(char, typeface='Helvetica', size=10):\n",
        "    img = draw_char(char, typeface=typeface, size=size)\n",
        "    grayscale = np.asarray(img)\n",
        "    bitmap = (grayscale > 0).astype('uint8')\n",
        "    return ''.join(map(str, (bit for row in bitmap for bit in row)))"
      ],
      "metadata": {
        "id": "02hiDTMTsTHu"
      },
      "execution_count": null,
      "outputs": []
    },
    {
      "cell_type": "code",
      "source": [
        "\n",
        "# char_codes = pd.DataFrame(\n",
        "#     {\n",
        "#         'char': chr(i),\n",
        "#         'code': encode_char(char, size=20),\n",
        "#         'n_bits': sum(bit == '1' for bit in code)\n",
        "#     }\n",
        "#     for i in tqdm(range(0x10ffff))\n",
        "# )"
      ],
      "metadata": {
        "id": "GB3pW9Yer6NO"
      },
      "execution_count": null,
      "outputs": []
    },
    {
      "cell_type": "markdown",
      "source": [
        "# Using [homoglyphs](https://pypi.org/project/homoglyphs/) library"
      ],
      "metadata": {
        "id": "nooXnNYl5R8j"
      }
    },
    {
      "cell_type": "code",
      "source": [
        "! pip install homoglyphs"
      ],
      "metadata": {
        "colab": {
          "base_uri": "https://localhost:8080/"
        },
        "id": "MbHZAPDi4Mpq",
        "outputId": "a43e4289-3b66-4985-b26b-7fca60851e27"
      },
      "execution_count": null,
      "outputs": [
        {
          "output_type": "stream",
          "name": "stdout",
          "text": [
            "Looking in indexes: https://pypi.org/simple, https://us-python.pkg.dev/colab-wheels/public/simple/\n",
            "Collecting homoglyphs\n",
            "  Downloading homoglyphs-2.0.4-py3-none-any.whl (88 kB)\n",
            "\u001b[K     |████████████████████████████████| 88 kB 4.2 MB/s \n",
            "\u001b[?25hInstalling collected packages: homoglyphs\n",
            "Successfully installed homoglyphs-2.0.4\n"
          ]
        }
      ]
    },
    {
      "cell_type": "code",
      "source": [
        "import homoglyphs as hg\n",
        "import pandas as pd\n",
        "import pickle"
      ],
      "metadata": {
        "id": "Yl5qWlDN4Npa"
      },
      "execution_count": null,
      "outputs": []
    },
    {
      "cell_type": "code",
      "source": [
        "# get homoglyphs (latin alphabet initialized by default)\n",
        "# hg.Homoglyphs().get_combinations('aao')"
      ],
      "metadata": {
        "id": "3KOTmuVs4ZX-"
      },
      "execution_count": null,
      "outputs": []
    },
    {
      "cell_type": "code",
      "source": [
        "alphabets = \"ABCDEFGHIJKLMNOPQRSTUVWXYZabcdefghijklmnopqrstuvwxyz\"\n",
        "alpha_hg = {i:hg.Homoglyphs().get_combinations(i) for i in alphabets}\n",
        "\n",
        "# alpha_hg"
      ],
      "metadata": {
        "id": "_btxNbhs4wsv"
      },
      "execution_count": null,
      "outputs": []
    },
    {
      "cell_type": "code",
      "source": [
        "combinations= ['rn','cl', 'vv','ci']\n",
        "comb_hg = {i:hg.Homoglyphs().get_combinations(i) for i in combinations}\n",
        "\n",
        "# comb_hg\n"
      ],
      "metadata": {
        "id": "w11DoHq6WpXk"
      },
      "execution_count": null,
      "outputs": []
    },
    {
      "cell_type": "code",
      "source": [
        "comb_alpha = {'rn':'m','cl':'d', 'vv':'w','ci':'a','\\/\\/':'W'}\n",
        "\n",
        "for comb,alpha in comb_alpha.items():\n",
        "  alpha_hg[alpha].extend(comb_hg[comb])\n"
      ],
      "metadata": {
        "id": "lStlMTg3Y5yg"
      },
      "execution_count": null,
      "outputs": []
    },
    {
      "cell_type": "code",
      "source": [
        "alpha_hg['d']"
      ],
      "metadata": {
        "id": "lgwMO_u4Z5La"
      },
      "execution_count": null,
      "outputs": []
    },
    {
      "cell_type": "code",
      "source": [
        "with open(r'/content/drive/MyDrive/Homoglyphed code-mixed/Datsets/homoglyphs/mapped_homoglyphs.pkl', 'wb') as f:\n",
        "    pickle.dump(alpha_hg, f)"
      ],
      "metadata": {
        "id": "oS-uMJuXePzg"
      },
      "execution_count": null,
      "outputs": []
    },
    {
      "cell_type": "markdown",
      "source": [
        "# Created homoglyphed emnist dataset"
      ],
      "metadata": {
        "id": "6O3NzMEhgxBn"
      }
    },
    {
      "cell_type": "code",
      "source": [
        "with open(r'/content/drive/MyDrive/Homoglyphed code-mixed/Datsets/homoglyphs/mapped_homoglyphs.pkl', 'rb') as f:\n",
        "    loaded_dict = pickle.load(f)"
      ],
      "metadata": {
        "id": "YMAytE2mech3"
      },
      "execution_count": null,
      "outputs": []
    }
  ]
}
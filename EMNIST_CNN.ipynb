{
  "nbformat": 4,
  "nbformat_minor": 0,
  "metadata": {
    "colab": {
      "provenance": [],
      "collapsed_sections": [
        "GORwG7eyfY1j"
      ]
    },
    "kernelspec": {
      "name": "python3",
      "display_name": "Python 3"
    },
    "language_info": {
      "name": "python"
    },
    "gpuClass": "standard"
  },
  "cells": [
    {
      "cell_type": "markdown",
      "metadata": {
        "id": "ROxbq53ZliZO"
      },
      "source": [
        "\n",
        "\n",
        "Just run this in console in inspect\n",
        "\n",
        "```\n",
        "function ClickConnect(){\n",
        "console.log(\"Working\");\n",
        "document\n",
        "  .querySelector('#top-toolbar > colab-connect-button')\n",
        "  .shadowRoot.querySelector('#connect')\n",
        "  .click()\n",
        "}\n",
        "setInterval(ClickConnect,60000)\n",
        "```\n",
        "\n"
      ]
    },
    {
      "cell_type": "code",
      "execution_count": null,
      "metadata": {
        "id": "TaJSqiM89ynT",
        "colab": {
          "base_uri": "https://localhost:8080/"
        },
        "outputId": "3f0d5fff-be9f-4c1a-89b0-1af440399665"
      },
      "outputs": [
        {
          "output_type": "stream",
          "name": "stdout",
          "text": [
            "Drive already mounted at /content/drive; to attempt to forcibly remount, call drive.mount(\"/content/drive\", force_remount=True).\n"
          ]
        }
      ],
      "source": [
        "from google.colab import drive\n",
        "drive.mount('/content/drive')"
      ]
    },
    {
      "cell_type": "code",
      "source": [
        "import torch\n",
        "import torch.nn as nn\n",
        "import torch.nn.functional as F\n",
        "from torch.utils.data import Dataset, DataLoader, random_split, WeightedRandomSampler\n",
        "import torchvision\n",
        "from torchvision import transforms, utils, datasets, models\n",
        "import torch.optim as optim\n",
        "\n",
        "from torchsummary import summary\n",
        "\n",
        "\n",
        "from sklearn.model_selection import train_test_split\n",
        "\n",
        "import numpy as np\n",
        "import pandas as pd\n",
        "from PIL import Image\n",
        "import os\n",
        "import copy\n",
        "from tqdm import tqdm\n",
        "import random\n",
        "import matplotlib.pyplot as plt\n",
        "import seaborn as sns\n",
        "from collections import Counter\n",
        "from tqdm import tqdm\n",
        "import time\n",
        "\n",
        "\n",
        "device = torch.device(\"cuda\" if torch.cuda.is_available() else \"cpu\")\n",
        "# device=torch.device(\"cpu\")\n",
        "print(device)\n",
        "\n",
        "print(torch.__version__)\n",
        "print(torchvision.__version__)"
      ],
      "metadata": {
        "colab": {
          "base_uri": "https://localhost:8080/"
        },
        "id": "pupwQH_rf8XX",
        "outputId": "bfcf8b23-4a0c-4578-ae85-2850a9686391"
      },
      "execution_count": null,
      "outputs": [
        {
          "output_type": "stream",
          "name": "stdout",
          "text": [
            "cuda\n",
            "1.12.1+cu113\n",
            "0.13.1+cu113\n"
          ]
        }
      ]
    },
    {
      "cell_type": "code",
      "source": [
        "path_by_class = '/content/drive/MyDrive/Homoglyphed code-mixed/Datsets/EMNIST_by_class.zip'\n",
        "path_by_merge = '/content/drive/MyDrive/Homoglyphed code-mixed/Datsets/EMNIST_by_merge.zip'\n",
        "path_by_class_h = '/content/drive/MyDrive/Homoglyphed code-mixed/Datsets/homoglyphed datasets/H-EMNIST/H-EMNIST.zip'"
      ],
      "metadata": {
        "id": "s2BH7KGZSzmm"
      },
      "execution_count": null,
      "outputs": []
    },
    {
      "cell_type": "code",
      "source": [
        "! mkdir 'EMNIST_by_class'\n",
        "! unzip '/content/drive/MyDrive/Homoglyphed code-mixed/Datsets/homoglyphed datasets/H-EMNIST/H-EMNIST.zip' -d 'EMNIST_by_class'\n",
        "\n",
        "train_dir = '/content/EMNIST_by_class/train'\n",
        "test_dir = '/content/EMNIST_by_class/test'"
      ],
      "metadata": {
        "id": "JGCpA339CccV"
      },
      "execution_count": null,
      "outputs": []
    },
    {
      "cell_type": "code",
      "source": [
        "# ! mkdir 'EMNIST_by_class'\n",
        "# ! unzip '/content/drive/MyDrive/Homoglyphed code-mixed/Datsets/EMNIST_by_class.zip' -d 'EMNIST_by_class'\n",
        "\n",
        "# train_dir = '/content/EMNIST_by_class/train'\n",
        "# test_dir = '/content/EMNIST_by_class/test'"
      ],
      "metadata": {
        "id": "KG83WeKJSzr4"
      },
      "execution_count": null,
      "outputs": []
    },
    {
      "cell_type": "code",
      "source": [
        "# ! mkdir 'EMNIST_by_merge'\n",
        "# ! unzip '/content/drive/MyDrive/Homoglyphed code-mixed/Datsets/EMNIST_by_merge.zip' -d 'EMNIST_by_merge'\n",
        "\n",
        "# train_dir = '/content/EMNIST_by_merge/train'\n",
        "# test_dir = '/content/EMNIST_by_merge/test'"
      ],
      "metadata": {
        "id": "Q_OtsA0uT5PY"
      },
      "execution_count": null,
      "outputs": []
    },
    {
      "cell_type": "code",
      "source": [
        "all_cats = sorted(os.listdir(train_dir))\n",
        "char_idx = {i:j for i,j in zip(all_cats,list(range(len(all_cats))))}\n",
        "idx_char = {i:j for i,j in zip(list(range(len(all_cats))),all_cats)}"
      ],
      "metadata": {
        "id": "0_Q3vqQA9QhK"
      },
      "execution_count": null,
      "outputs": []
    },
    {
      "cell_type": "code",
      "source": [
        "print(char_idx)"
      ],
      "metadata": {
        "colab": {
          "base_uri": "https://localhost:8080/"
        },
        "id": "HTWNhAiiKt-f",
        "outputId": "7d9729b3-4f09-4328-ac63-d1bf6851fa8d"
      },
      "execution_count": null,
      "outputs": [
        {
          "output_type": "stream",
          "name": "stdout",
          "text": [
            "{'A': 0, 'B': 1, 'C': 2, 'D': 3, 'E': 4, 'F': 5, 'G': 6, 'H': 7, 'I': 8, 'J': 9, 'K': 10, 'L': 11, 'M': 12, 'N': 13, 'O': 14, 'P': 15, 'Q': 16, 'R': 17, 'S': 18, 'T': 19, 'U': 20, 'V': 21, 'W': 22, 'X': 23, 'Y': 24, 'Z': 25, 'a': 26, 'b': 27, 'c': 28, 'd': 29, 'e': 30, 'f': 31, 'g': 32, 'h': 33, 'i': 34, 'j': 35, 'k': 36, 'l': 37, 'm': 38, 'n': 39, 'o': 40, 'p': 41, 'q': 42, 'r': 43, 's': 44, 't': 45, 'u': 46, 'v': 47, 'w': 48, 'x': 49, 'y': 50, 'z': 51}\n"
          ]
        }
      ]
    },
    {
      "cell_type": "code",
      "source": [
        "print(idx_char)"
      ],
      "metadata": {
        "colab": {
          "base_uri": "https://localhost:8080/"
        },
        "id": "3u1KTBvzDicU",
        "outputId": "76d3604f-27df-4cf0-ad88-cecf46921c8b"
      },
      "execution_count": null,
      "outputs": [
        {
          "output_type": "stream",
          "name": "stdout",
          "text": [
            "{0: 'A', 1: 'B', 2: 'C', 3: 'D', 4: 'E', 5: 'F', 6: 'G', 7: 'H', 8: 'I', 9: 'J', 10: 'K', 11: 'L', 12: 'M', 13: 'N', 14: 'O', 15: 'P', 16: 'Q', 17: 'R', 18: 'S', 19: 'T', 20: 'U', 21: 'V', 22: 'W', 23: 'X', 24: 'Y', 25: 'Z', 26: 'a', 27: 'b', 28: 'c', 29: 'd', 30: 'e', 31: 'f', 32: 'g', 33: 'h', 34: 'i', 35: 'j', 36: 'k', 37: 'l', 38: 'm', 39: 'n', 40: 'o', 41: 'p', 42: 'q', 43: 'r', 44: 's', 45: 't', 46: 'u', 47: 'v', 48: 'w', 49: 'x', 50: 'y', 51: 'z'}\n"
          ]
        }
      ]
    },
    {
      "cell_type": "code",
      "source": [
        "len(all_cats)"
      ],
      "metadata": {
        "colab": {
          "base_uri": "https://localhost:8080/"
        },
        "id": "s5T02mwKOO0S",
        "outputId": "eec42185-e210-461e-e574-f1edc74471a5"
      },
      "execution_count": null,
      "outputs": [
        {
          "output_type": "execute_result",
          "data": {
            "text/plain": [
              "52"
            ]
          },
          "metadata": {},
          "execution_count": 7
        }
      ]
    },
    {
      "cell_type": "code",
      "source": [
        "dirs = [train_dir, test_dir]\n",
        "train_subdirs, test_subdirs = {i:os.path.join(train_dir,i) for i in all_cats} , {i:os.path.join(test_dir,i) for i in all_cats}\n",
        "\n",
        "subdirs = [train_subdirs, test_subdirs]"
      ],
      "metadata": {
        "id": "75kChwiR_tHD"
      },
      "execution_count": null,
      "outputs": []
    },
    {
      "cell_type": "code",
      "source": [
        "dfs = {'train_df':{'label':[], 'img_path':[]}, 'test_df':{'label':[], 'img_path':[]}}\n",
        "\n",
        "for subdir,df in zip(subdirs,dfs.keys()):\n",
        "  print(df)\n",
        "  for label,root in tqdm(subdir.items()):\n",
        "    for file_name in os.listdir(root):\n",
        "      dfs[df]['img_path'].append(os.path.join(root,file_name))\n",
        "      dfs[df]['label'].append(char_idx[label])\n"
      ],
      "metadata": {
        "colab": {
          "base_uri": "https://localhost:8080/"
        },
        "id": "FAVbDVzRAKN_",
        "outputId": "148f4177-de81-4a70-ad82-c93823d1fb13"
      },
      "execution_count": null,
      "outputs": [
        {
          "output_type": "stream",
          "name": "stdout",
          "text": [
            "train_df\n"
          ]
        },
        {
          "output_type": "stream",
          "name": "stderr",
          "text": [
            "100%|██████████| 52/52 [00:00<00:00, 71.41it/s]\n"
          ]
        },
        {
          "output_type": "stream",
          "name": "stdout",
          "text": [
            "test_df\n"
          ]
        },
        {
          "output_type": "stream",
          "name": "stderr",
          "text": [
            "100%|██████████| 52/52 [00:00<00:00, 394.66it/s]\n"
          ]
        }
      ]
    },
    {
      "cell_type": "code",
      "source": [
        "train_df = pd.DataFrame(dfs['train_df'])\n",
        "test_df = pd.DataFrame(dfs['test_df'])"
      ],
      "metadata": {
        "id": "cC6itNZGKeZt"
      },
      "execution_count": null,
      "outputs": []
    },
    {
      "cell_type": "code",
      "source": [
        "train_df"
      ],
      "metadata": {
        "colab": {
          "base_uri": "https://localhost:8080/",
          "height": 424
        },
        "id": "VBTNlFMjK_AS",
        "outputId": "87977aae-f4fc-4296-fc5e-d7cd4a54169d"
      },
      "execution_count": null,
      "outputs": [
        {
          "output_type": "execute_result",
          "data": {
            "text/plain": [
              "        label                                     img_path\n",
              "0           0  /content/EMNIST_by_class/train/A/A_4249.png\n",
              "1           0  /content/EMNIST_by_class/train/A/A_3750.png\n",
              "2           0  /content/EMNIST_by_class/train/A/A_1945.png\n",
              "3           0  /content/EMNIST_by_class/train/A/A_5826.png\n",
              "4           0    /content/EMNIST_by_class/train/A/A_20.png\n",
              "...       ...                                          ...\n",
              "358606     51   /content/EMNIST_by_class/train/z/z_462.png\n",
              "358607     51  /content/EMNIST_by_class/train/z/z_2182.png\n",
              "358608     51   /content/EMNIST_by_class/train/z/z_909.png\n",
              "358609     51   /content/EMNIST_by_class/train/z/z_611.png\n",
              "358610     51  /content/EMNIST_by_class/train/z/z_2124.png\n",
              "\n",
              "[358611 rows x 2 columns]"
            ],
            "text/html": [
              "\n",
              "  <div id=\"df-1cf5211a-d372-4038-8a20-315c98d68731\">\n",
              "    <div class=\"colab-df-container\">\n",
              "      <div>\n",
              "<style scoped>\n",
              "    .dataframe tbody tr th:only-of-type {\n",
              "        vertical-align: middle;\n",
              "    }\n",
              "\n",
              "    .dataframe tbody tr th {\n",
              "        vertical-align: top;\n",
              "    }\n",
              "\n",
              "    .dataframe thead th {\n",
              "        text-align: right;\n",
              "    }\n",
              "</style>\n",
              "<table border=\"1\" class=\"dataframe\">\n",
              "  <thead>\n",
              "    <tr style=\"text-align: right;\">\n",
              "      <th></th>\n",
              "      <th>label</th>\n",
              "      <th>img_path</th>\n",
              "    </tr>\n",
              "  </thead>\n",
              "  <tbody>\n",
              "    <tr>\n",
              "      <th>0</th>\n",
              "      <td>0</td>\n",
              "      <td>/content/EMNIST_by_class/train/A/A_4249.png</td>\n",
              "    </tr>\n",
              "    <tr>\n",
              "      <th>1</th>\n",
              "      <td>0</td>\n",
              "      <td>/content/EMNIST_by_class/train/A/A_3750.png</td>\n",
              "    </tr>\n",
              "    <tr>\n",
              "      <th>2</th>\n",
              "      <td>0</td>\n",
              "      <td>/content/EMNIST_by_class/train/A/A_1945.png</td>\n",
              "    </tr>\n",
              "    <tr>\n",
              "      <th>3</th>\n",
              "      <td>0</td>\n",
              "      <td>/content/EMNIST_by_class/train/A/A_5826.png</td>\n",
              "    </tr>\n",
              "    <tr>\n",
              "      <th>4</th>\n",
              "      <td>0</td>\n",
              "      <td>/content/EMNIST_by_class/train/A/A_20.png</td>\n",
              "    </tr>\n",
              "    <tr>\n",
              "      <th>...</th>\n",
              "      <td>...</td>\n",
              "      <td>...</td>\n",
              "    </tr>\n",
              "    <tr>\n",
              "      <th>358606</th>\n",
              "      <td>51</td>\n",
              "      <td>/content/EMNIST_by_class/train/z/z_462.png</td>\n",
              "    </tr>\n",
              "    <tr>\n",
              "      <th>358607</th>\n",
              "      <td>51</td>\n",
              "      <td>/content/EMNIST_by_class/train/z/z_2182.png</td>\n",
              "    </tr>\n",
              "    <tr>\n",
              "      <th>358608</th>\n",
              "      <td>51</td>\n",
              "      <td>/content/EMNIST_by_class/train/z/z_909.png</td>\n",
              "    </tr>\n",
              "    <tr>\n",
              "      <th>358609</th>\n",
              "      <td>51</td>\n",
              "      <td>/content/EMNIST_by_class/train/z/z_611.png</td>\n",
              "    </tr>\n",
              "    <tr>\n",
              "      <th>358610</th>\n",
              "      <td>51</td>\n",
              "      <td>/content/EMNIST_by_class/train/z/z_2124.png</td>\n",
              "    </tr>\n",
              "  </tbody>\n",
              "</table>\n",
              "<p>358611 rows × 2 columns</p>\n",
              "</div>\n",
              "      <button class=\"colab-df-convert\" onclick=\"convertToInteractive('df-1cf5211a-d372-4038-8a20-315c98d68731')\"\n",
              "              title=\"Convert this dataframe to an interactive table.\"\n",
              "              style=\"display:none;\">\n",
              "        \n",
              "  <svg xmlns=\"http://www.w3.org/2000/svg\" height=\"24px\"viewBox=\"0 0 24 24\"\n",
              "       width=\"24px\">\n",
              "    <path d=\"M0 0h24v24H0V0z\" fill=\"none\"/>\n",
              "    <path d=\"M18.56 5.44l.94 2.06.94-2.06 2.06-.94-2.06-.94-.94-2.06-.94 2.06-2.06.94zm-11 1L8.5 8.5l.94-2.06 2.06-.94-2.06-.94L8.5 2.5l-.94 2.06-2.06.94zm10 10l.94 2.06.94-2.06 2.06-.94-2.06-.94-.94-2.06-.94 2.06-2.06.94z\"/><path d=\"M17.41 7.96l-1.37-1.37c-.4-.4-.92-.59-1.43-.59-.52 0-1.04.2-1.43.59L10.3 9.45l-7.72 7.72c-.78.78-.78 2.05 0 2.83L4 21.41c.39.39.9.59 1.41.59.51 0 1.02-.2 1.41-.59l7.78-7.78 2.81-2.81c.8-.78.8-2.07 0-2.86zM5.41 20L4 18.59l7.72-7.72 1.47 1.35L5.41 20z\"/>\n",
              "  </svg>\n",
              "      </button>\n",
              "      \n",
              "  <style>\n",
              "    .colab-df-container {\n",
              "      display:flex;\n",
              "      flex-wrap:wrap;\n",
              "      gap: 12px;\n",
              "    }\n",
              "\n",
              "    .colab-df-convert {\n",
              "      background-color: #E8F0FE;\n",
              "      border: none;\n",
              "      border-radius: 50%;\n",
              "      cursor: pointer;\n",
              "      display: none;\n",
              "      fill: #1967D2;\n",
              "      height: 32px;\n",
              "      padding: 0 0 0 0;\n",
              "      width: 32px;\n",
              "    }\n",
              "\n",
              "    .colab-df-convert:hover {\n",
              "      background-color: #E2EBFA;\n",
              "      box-shadow: 0px 1px 2px rgba(60, 64, 67, 0.3), 0px 1px 3px 1px rgba(60, 64, 67, 0.15);\n",
              "      fill: #174EA6;\n",
              "    }\n",
              "\n",
              "    [theme=dark] .colab-df-convert {\n",
              "      background-color: #3B4455;\n",
              "      fill: #D2E3FC;\n",
              "    }\n",
              "\n",
              "    [theme=dark] .colab-df-convert:hover {\n",
              "      background-color: #434B5C;\n",
              "      box-shadow: 0px 1px 3px 1px rgba(0, 0, 0, 0.15);\n",
              "      filter: drop-shadow(0px 1px 2px rgba(0, 0, 0, 0.3));\n",
              "      fill: #FFFFFF;\n",
              "    }\n",
              "  </style>\n",
              "\n",
              "      <script>\n",
              "        const buttonEl =\n",
              "          document.querySelector('#df-1cf5211a-d372-4038-8a20-315c98d68731 button.colab-df-convert');\n",
              "        buttonEl.style.display =\n",
              "          google.colab.kernel.accessAllowed ? 'block' : 'none';\n",
              "\n",
              "        async function convertToInteractive(key) {\n",
              "          const element = document.querySelector('#df-1cf5211a-d372-4038-8a20-315c98d68731');\n",
              "          const dataTable =\n",
              "            await google.colab.kernel.invokeFunction('convertToInteractive',\n",
              "                                                     [key], {});\n",
              "          if (!dataTable) return;\n",
              "\n",
              "          const docLinkHtml = 'Like what you see? Visit the ' +\n",
              "            '<a target=\"_blank\" href=https://colab.research.google.com/notebooks/data_table.ipynb>data table notebook</a>'\n",
              "            + ' to learn more about interactive tables.';\n",
              "          element.innerHTML = '';\n",
              "          dataTable['output_type'] = 'display_data';\n",
              "          await google.colab.output.renderOutput(dataTable, element);\n",
              "          const docLink = document.createElement('div');\n",
              "          docLink.innerHTML = docLinkHtml;\n",
              "          element.appendChild(docLink);\n",
              "        }\n",
              "      </script>\n",
              "    </div>\n",
              "  </div>\n",
              "  "
            ]
          },
          "metadata": {},
          "execution_count": 11
        }
      ]
    },
    {
      "cell_type": "code",
      "source": [
        "test_df"
      ],
      "metadata": {
        "colab": {
          "base_uri": "https://localhost:8080/",
          "height": 424
        },
        "id": "VSHbiYzlLAMy",
        "outputId": "6dcd6343-4a65-4057-9fe5-7e2fa63ccb49"
      },
      "execution_count": null,
      "outputs": [
        {
          "output_type": "execute_result",
          "data": {
            "text/plain": [
              "       label                                   img_path\n",
              "0          0   /content/EMNIST_by_class/test/A/A_20.png\n",
              "1          0  /content/EMNIST_by_class/test/A/A_878.png\n",
              "2          0  /content/EMNIST_by_class/test/A/A_446.png\n",
              "3          0  /content/EMNIST_by_class/test/A/A_721.png\n",
              "4          0  /content/EMNIST_by_class/test/A/A_629.png\n",
              "...      ...                                        ...\n",
              "58998     51  /content/EMNIST_by_class/test/z/z_370.png\n",
              "58999     51  /content/EMNIST_by_class/test/z/z_332.png\n",
              "59000     51  /content/EMNIST_by_class/test/z/z_448.png\n",
              "59001     51  /content/EMNIST_by_class/test/z/z_357.png\n",
              "59002     51  /content/EMNIST_by_class/test/z/z_200.png\n",
              "\n",
              "[59003 rows x 2 columns]"
            ],
            "text/html": [
              "\n",
              "  <div id=\"df-1ab6286e-b31d-4321-8f5f-77f08d0fc778\">\n",
              "    <div class=\"colab-df-container\">\n",
              "      <div>\n",
              "<style scoped>\n",
              "    .dataframe tbody tr th:only-of-type {\n",
              "        vertical-align: middle;\n",
              "    }\n",
              "\n",
              "    .dataframe tbody tr th {\n",
              "        vertical-align: top;\n",
              "    }\n",
              "\n",
              "    .dataframe thead th {\n",
              "        text-align: right;\n",
              "    }\n",
              "</style>\n",
              "<table border=\"1\" class=\"dataframe\">\n",
              "  <thead>\n",
              "    <tr style=\"text-align: right;\">\n",
              "      <th></th>\n",
              "      <th>label</th>\n",
              "      <th>img_path</th>\n",
              "    </tr>\n",
              "  </thead>\n",
              "  <tbody>\n",
              "    <tr>\n",
              "      <th>0</th>\n",
              "      <td>0</td>\n",
              "      <td>/content/EMNIST_by_class/test/A/A_20.png</td>\n",
              "    </tr>\n",
              "    <tr>\n",
              "      <th>1</th>\n",
              "      <td>0</td>\n",
              "      <td>/content/EMNIST_by_class/test/A/A_878.png</td>\n",
              "    </tr>\n",
              "    <tr>\n",
              "      <th>2</th>\n",
              "      <td>0</td>\n",
              "      <td>/content/EMNIST_by_class/test/A/A_446.png</td>\n",
              "    </tr>\n",
              "    <tr>\n",
              "      <th>3</th>\n",
              "      <td>0</td>\n",
              "      <td>/content/EMNIST_by_class/test/A/A_721.png</td>\n",
              "    </tr>\n",
              "    <tr>\n",
              "      <th>4</th>\n",
              "      <td>0</td>\n",
              "      <td>/content/EMNIST_by_class/test/A/A_629.png</td>\n",
              "    </tr>\n",
              "    <tr>\n",
              "      <th>...</th>\n",
              "      <td>...</td>\n",
              "      <td>...</td>\n",
              "    </tr>\n",
              "    <tr>\n",
              "      <th>58998</th>\n",
              "      <td>51</td>\n",
              "      <td>/content/EMNIST_by_class/test/z/z_370.png</td>\n",
              "    </tr>\n",
              "    <tr>\n",
              "      <th>58999</th>\n",
              "      <td>51</td>\n",
              "      <td>/content/EMNIST_by_class/test/z/z_332.png</td>\n",
              "    </tr>\n",
              "    <tr>\n",
              "      <th>59000</th>\n",
              "      <td>51</td>\n",
              "      <td>/content/EMNIST_by_class/test/z/z_448.png</td>\n",
              "    </tr>\n",
              "    <tr>\n",
              "      <th>59001</th>\n",
              "      <td>51</td>\n",
              "      <td>/content/EMNIST_by_class/test/z/z_357.png</td>\n",
              "    </tr>\n",
              "    <tr>\n",
              "      <th>59002</th>\n",
              "      <td>51</td>\n",
              "      <td>/content/EMNIST_by_class/test/z/z_200.png</td>\n",
              "    </tr>\n",
              "  </tbody>\n",
              "</table>\n",
              "<p>59003 rows × 2 columns</p>\n",
              "</div>\n",
              "      <button class=\"colab-df-convert\" onclick=\"convertToInteractive('df-1ab6286e-b31d-4321-8f5f-77f08d0fc778')\"\n",
              "              title=\"Convert this dataframe to an interactive table.\"\n",
              "              style=\"display:none;\">\n",
              "        \n",
              "  <svg xmlns=\"http://www.w3.org/2000/svg\" height=\"24px\"viewBox=\"0 0 24 24\"\n",
              "       width=\"24px\">\n",
              "    <path d=\"M0 0h24v24H0V0z\" fill=\"none\"/>\n",
              "    <path d=\"M18.56 5.44l.94 2.06.94-2.06 2.06-.94-2.06-.94-.94-2.06-.94 2.06-2.06.94zm-11 1L8.5 8.5l.94-2.06 2.06-.94-2.06-.94L8.5 2.5l-.94 2.06-2.06.94zm10 10l.94 2.06.94-2.06 2.06-.94-2.06-.94-.94-2.06-.94 2.06-2.06.94z\"/><path d=\"M17.41 7.96l-1.37-1.37c-.4-.4-.92-.59-1.43-.59-.52 0-1.04.2-1.43.59L10.3 9.45l-7.72 7.72c-.78.78-.78 2.05 0 2.83L4 21.41c.39.39.9.59 1.41.59.51 0 1.02-.2 1.41-.59l7.78-7.78 2.81-2.81c.8-.78.8-2.07 0-2.86zM5.41 20L4 18.59l7.72-7.72 1.47 1.35L5.41 20z\"/>\n",
              "  </svg>\n",
              "      </button>\n",
              "      \n",
              "  <style>\n",
              "    .colab-df-container {\n",
              "      display:flex;\n",
              "      flex-wrap:wrap;\n",
              "      gap: 12px;\n",
              "    }\n",
              "\n",
              "    .colab-df-convert {\n",
              "      background-color: #E8F0FE;\n",
              "      border: none;\n",
              "      border-radius: 50%;\n",
              "      cursor: pointer;\n",
              "      display: none;\n",
              "      fill: #1967D2;\n",
              "      height: 32px;\n",
              "      padding: 0 0 0 0;\n",
              "      width: 32px;\n",
              "    }\n",
              "\n",
              "    .colab-df-convert:hover {\n",
              "      background-color: #E2EBFA;\n",
              "      box-shadow: 0px 1px 2px rgba(60, 64, 67, 0.3), 0px 1px 3px 1px rgba(60, 64, 67, 0.15);\n",
              "      fill: #174EA6;\n",
              "    }\n",
              "\n",
              "    [theme=dark] .colab-df-convert {\n",
              "      background-color: #3B4455;\n",
              "      fill: #D2E3FC;\n",
              "    }\n",
              "\n",
              "    [theme=dark] .colab-df-convert:hover {\n",
              "      background-color: #434B5C;\n",
              "      box-shadow: 0px 1px 3px 1px rgba(0, 0, 0, 0.15);\n",
              "      filter: drop-shadow(0px 1px 2px rgba(0, 0, 0, 0.3));\n",
              "      fill: #FFFFFF;\n",
              "    }\n",
              "  </style>\n",
              "\n",
              "      <script>\n",
              "        const buttonEl =\n",
              "          document.querySelector('#df-1ab6286e-b31d-4321-8f5f-77f08d0fc778 button.colab-df-convert');\n",
              "        buttonEl.style.display =\n",
              "          google.colab.kernel.accessAllowed ? 'block' : 'none';\n",
              "\n",
              "        async function convertToInteractive(key) {\n",
              "          const element = document.querySelector('#df-1ab6286e-b31d-4321-8f5f-77f08d0fc778');\n",
              "          const dataTable =\n",
              "            await google.colab.kernel.invokeFunction('convertToInteractive',\n",
              "                                                     [key], {});\n",
              "          if (!dataTable) return;\n",
              "\n",
              "          const docLinkHtml = 'Like what you see? Visit the ' +\n",
              "            '<a target=\"_blank\" href=https://colab.research.google.com/notebooks/data_table.ipynb>data table notebook</a>'\n",
              "            + ' to learn more about interactive tables.';\n",
              "          element.innerHTML = '';\n",
              "          dataTable['output_type'] = 'display_data';\n",
              "          await google.colab.output.renderOutput(dataTable, element);\n",
              "          const docLink = document.createElement('div');\n",
              "          docLink.innerHTML = docLinkHtml;\n",
              "          element.appendChild(docLink);\n",
              "        }\n",
              "      </script>\n",
              "    </div>\n",
              "  </div>\n",
              "  "
            ]
          },
          "metadata": {},
          "execution_count": 12
        }
      ]
    },
    {
      "cell_type": "code",
      "source": [
        "train_df.iloc[190]['img_path']"
      ],
      "metadata": {
        "colab": {
          "base_uri": "https://localhost:8080/",
          "height": 36
        },
        "id": "XIHAYp5TPlKY",
        "outputId": "fbf10fcb-de08-43c3-d192-245734c6b743"
      },
      "execution_count": null,
      "outputs": [
        {
          "output_type": "execute_result",
          "data": {
            "text/plain": [
              "'/content/EMNIST_by_class/train/A/A_4_H.png'"
            ],
            "application/vnd.google.colaboratory.intrinsic+json": {
              "type": "string"
            }
          },
          "metadata": {},
          "execution_count": 25
        }
      ]
    },
    {
      "cell_type": "code",
      "source": [
        "Image.open('/content/EMNIST_by_class/test/z/z_253.png').size"
      ],
      "metadata": {
        "colab": {
          "base_uri": "https://localhost:8080/"
        },
        "id": "AmJwcTj6P51r",
        "outputId": "0d1c9629-6f05-4464-95ee-aca6a18aa1ae"
      },
      "execution_count": null,
      "outputs": [
        {
          "output_type": "execute_result",
          "data": {
            "text/plain": [
              "(28, 28)"
            ]
          },
          "metadata": {},
          "execution_count": 15
        }
      ]
    },
    {
      "cell_type": "markdown",
      "source": [
        "# Model"
      ],
      "metadata": {
        "id": "P422pJX8V8II"
      }
    },
    {
      "cell_type": "code",
      "source": [
        "# from https://github.dev/austin-hill/EMNIST-CNN\n",
        "\n",
        "class EMNIST_CNN(nn.Module):\n",
        "    def __init__(self, fmaps1, fmaps2, dense, dropout, num_classes=52):\n",
        "        super(EMNIST_CNN, self).__init__()\n",
        "        self.conv1 = nn.Sequential(\n",
        "            nn.Conv2d(in_channels=1, out_channels=fmaps1, kernel_size=5, stride=1, padding='same'),\n",
        "            nn.LeakyReLU(),\n",
        "            nn.MaxPool2d(kernel_size=2),\n",
        "        )\n",
        "        self.conv2 = nn.Sequential(\n",
        "            nn.Conv2d(in_channels=fmaps1, out_channels=fmaps2, kernel_size=5, stride=1, padding='same'),\n",
        "            nn.LeakyReLU(),\n",
        "            nn.MaxPool2d(kernel_size=2),\n",
        "        )\n",
        "        self.fcon1 = nn.Sequential(nn.Linear(49*fmaps2, dense), nn.LeakyReLU())\n",
        "        self.fcon2 = nn.Linear(dense, num_classes)\n",
        "        self.dropout = nn.Dropout(p=dropout)\n",
        "\n",
        "    def forward(self, x):\n",
        "        x = self.conv1(x)\n",
        "        x = self.conv2(x)\n",
        "        x = x.view(x.size(0), -1)\n",
        "        x = self.dropout(self.fcon1(x))\n",
        "        x = self.fcon2(x)\n",
        "        return x"
      ],
      "metadata": {
        "id": "asE2N0K7V9N-"
      },
      "execution_count": null,
      "outputs": []
    },
    {
      "cell_type": "code",
      "source": [
        "test_model = EMNIST_CNN(40, 160, 200, 0.4)"
      ],
      "metadata": {
        "id": "1JDg8qjV7t7r"
      },
      "execution_count": null,
      "outputs": []
    },
    {
      "cell_type": "code",
      "source": [
        "summary(test_model, (1, 28, 28).to(device))"
      ],
      "metadata": {
        "id": "qzqeSf8i8hs5"
      },
      "execution_count": null,
      "outputs": []
    },
    {
      "cell_type": "markdown",
      "source": [
        "# Dataloader"
      ],
      "metadata": {
        "id": "GORwG7eyfY1j"
      }
    },
    {
      "cell_type": "code",
      "source": [
        "\n",
        "class EMNISTDataset(Dataset):\n",
        "    def __init__(self, csv_file, transform=None):\n",
        "        self.annotations = csv_file\n",
        "        self.transform = transform\n",
        "\n",
        "    def __len__(self):\n",
        "        return len(self.annotations)\n",
        "\n",
        "    def __getitem__(self, idx):\n",
        "        img_path = self.annotations.iloc[idx]['img_path']\n",
        "        image = Image.open(img_path)\n",
        "\n",
        "        y_label = torch.tensor(int(self.annotations.iloc[idx]['label']))\n",
        "\n",
        "        if self.transform:\n",
        "            image = self.transform(image)\n",
        "\n",
        "        return (image, y_label)\n",
        "\n",
        "    def get_labels(self):\n",
        "        return self.annotations['label']"
      ],
      "metadata": {
        "id": "usjNHZL5U4PF"
      },
      "execution_count": null,
      "outputs": []
    },
    {
      "cell_type": "code",
      "source": [
        "def find_mean_std(datasets,batch_s=1):\n",
        "    means_stds=[]\n",
        "    for dataset in datasets:\n",
        "        to_norm_loader=DataLoader(dataset=dataset, batch_size=batch_s)\n",
        "        print('Total number of samples: ', len(dataset))\n",
        "\n",
        "        # #run for 1 batch\n",
        "        # data_iter=iter(to_norm_loader)\n",
        "        # img,_,__=data_iter.next()\n",
        "        # print(img.shape)\n",
        "\n",
        "        channels_sum, channels_squared_sum, num_batches=0, 0, 0\n",
        "        for img,_ in tqdm(to_norm_loader):\n",
        "            # print(img.shape)#[batch,C,H,W]\n",
        "            img= img\n",
        "            channels_sum+=torch.mean(img,dim=[0,2,3])\n",
        "            channels_squared_sum+=torch.mean(img**2,dim=[0,2,3])\n",
        "            num_batches+=1\n",
        "\n",
        "        mean=channels_sum/num_batches\n",
        "        std=(channels_squared_sum/num_batches- mean**2)**0.5\n",
        "        means_stds.append(mean)\n",
        "        means_stds.append(std)\n",
        "    return means_stds"
      ],
      "metadata": {
        "id": "fa7rroxKfXq8"
      },
      "execution_count": null,
      "outputs": []
    },
    {
      "cell_type": "code",
      "source": [
        "h,w = 28,28\n",
        "batch_size = 1000"
      ],
      "metadata": {
        "id": "DjBAKkJFQx3D"
      },
      "execution_count": null,
      "outputs": []
    },
    {
      "cell_type": "code",
      "source": [
        "# for finding mean and std\n",
        "\n",
        "transform=transforms.Compose([\n",
        "                              transforms.Grayscale(num_output_channels=1),\n",
        "                              transforms.Resize((h,w)),\n",
        "                              transforms.ToTensor(),\n",
        "])\n",
        "\n",
        "\n",
        "train_dataset = EMNISTDataset(csv_file=train_df, transform=transform)\n",
        "val_dataset = EMNISTDataset(csv_file=test_df, transform=transform)"
      ],
      "metadata": {
        "id": "ynIIEOTlgS7T"
      },
      "execution_count": null,
      "outputs": []
    },
    {
      "cell_type": "code",
      "source": [
        "# find mean and std\n",
        "find_mean_std([train_dataset, val_dataset],batch_s=batch_size)"
      ],
      "metadata": {
        "id": "5ByKLgisgTEM",
        "colab": {
          "base_uri": "https://localhost:8080/"
        },
        "outputId": "4146fcc1-f796-46c9-b215-ddf9629cb1cc"
      },
      "execution_count": null,
      "outputs": [
        {
          "output_type": "stream",
          "name": "stdout",
          "text": [
            "Total number of samples:  358611\n"
          ]
        },
        {
          "output_type": "stream",
          "name": "stderr",
          "text": [
            "100%|██████████| 359/359 [04:24<00:00,  1.36it/s]\n"
          ]
        },
        {
          "output_type": "stream",
          "name": "stdout",
          "text": [
            "Total number of samples:  59003\n"
          ]
        },
        {
          "output_type": "stream",
          "name": "stderr",
          "text": [
            "100%|██████████| 60/60 [00:41<00:00,  1.43it/s]\n"
          ]
        },
        {
          "output_type": "execute_result",
          "data": {
            "text/plain": [
              "[tensor([0.1746]), tensor([0.3323]), tensor([0.1750]), tensor([0.3323])]"
            ]
          },
          "metadata": {},
          "execution_count": 27
        }
      ]
    },
    {
      "cell_type": "code",
      "source": [
        "train_transform=transforms.Compose([\n",
        "                                    transforms.Grayscale(num_output_channels=1),\n",
        "                                    transforms.Resize((h,w)),\n",
        "                                    transforms.CenterCrop((h,w)),\n",
        "                                    # transforms.RandomHorizontalFlip(),\n",
        "                                    transforms.ColorJitter(\n",
        "#                                                            contrast=(0,5),\n",
        "#                                                            saturation=(3,10),\n",
        "                                                            hue=(0,.5)\n",
        "                                                          ),\n",
        "                                    transforms.RandomAffine(30,shear=0.2),\n",
        "#                                     transforms.RandomAffine(degrees=(-45,+45), scale=(1,2)),\n",
        "                                    transforms.ToTensor(),\n",
        "                                    transforms.Normalize(mean=[0.1746],\n",
        "                                                       std=[0.3323]\n",
        "                                                      ),\n",
        "])\n",
        "\n",
        "val_transform=transforms.Compose([\n",
        "                            transforms.Grayscale(num_output_channels=1),\n",
        "                              transforms.Resize((h,w)),\n",
        "                              transforms.ToTensor(),\n",
        "                              transforms.Normalize(mean=[0.1750],\n",
        "                                                   std=[0.3323]\n",
        "                                                  ),\n",
        "])\n",
        "\n",
        "\n",
        "train_dataset = EMNISTDataset(csv_file=train_df, transform=train_transform)\n",
        "val_dataset = EMNISTDataset(csv_file=test_df, transform=val_transform)"
      ],
      "metadata": {
        "id": "7BiIfTCQggCe"
      },
      "execution_count": null,
      "outputs": []
    },
    {
      "cell_type": "code",
      "source": [
        "class UnNormalize(object):\n",
        "    def __init__(self, mean, std):\n",
        "        self.mean = mean\n",
        "        self.std = std\n",
        "\n",
        "    def __call__(self, tensor):\n",
        "        \"\"\"\n",
        "        Args:\n",
        "            tensor (Tensor): Tensor image of size (C, H, W) to be normalized.\n",
        "        Returns:\n",
        "            Tensor: Normalized image.\n",
        "        \"\"\"\n",
        "        for t, m, s in zip(tensor, self.mean, self.std):\n",
        "            t.mul_(s).add_(m)\n",
        "            # The normalize code -> t.sub_(m).div_(s)\n",
        "        return tensor"
      ],
      "metadata": {
        "id": "D49hu_XkggII"
      },
      "execution_count": null,
      "outputs": []
    },
    {
      "cell_type": "code",
      "source": [
        "im,lab=train_dataset[200]\n",
        "print(im.shape)\n",
        "\n",
        "unorm = UnNormalize(mean=[0.1747], std=[0.3322])\n",
        "im=unorm(im)\n",
        "\n",
        "show_im=transforms.ToPILImage()(im)\n",
        "\n",
        "plt.subplot(121)\n",
        "plt.imshow(show_im, cmap='gray')"
      ],
      "metadata": {
        "colab": {
          "base_uri": "https://localhost:8080/",
          "height": 236
        },
        "id": "ngJgDBPxgl92",
        "outputId": "a315548d-dbe1-4a32-a932-e3c4389c20d2"
      },
      "execution_count": null,
      "outputs": [
        {
          "output_type": "stream",
          "name": "stdout",
          "text": [
            "torch.Size([1, 28, 28])\n"
          ]
        },
        {
          "output_type": "execute_result",
          "data": {
            "text/plain": [
              "<matplotlib.image.AxesImage at 0x7f5336251310>"
            ]
          },
          "metadata": {},
          "execution_count": 35
        },
        {
          "output_type": "display_data",
          "data": {
            "text/plain": [
              "<Figure size 432x288 with 1 Axes>"
            ],
            "image/png": "[encoded data removed]"
          },
          "metadata": {
            "needs_background": "light"
          }
        }
      ]
    },
    {
      "cell_type": "code",
      "source": [
        "train_dataloader= DataLoader(dataset=train_dataset, batch_size=64,shuffle=True)\n",
        "\n",
        "val_dataloader= DataLoader(dataset=val_dataset, batch_size=1000)"
      ],
      "metadata": {
        "id": "JXennRh_-leS"
      },
      "execution_count": null,
      "outputs": []
    },
    {
      "cell_type": "markdown",
      "source": [
        "# Train"
      ],
      "metadata": {
        "id": "KOQcHmJjVC9_"
      }
    },
    {
      "cell_type": "code",
      "source": [
        "def train_model(model, dataloaders, criterion, optimizer, num_epochs=25, scheduler=None):\n",
        "    since = time.time()\n",
        "\n",
        "    val_acc_history = []\n",
        "\n",
        "    best_model_wts = copy.deepcopy(model.state_dict())\n",
        "    best_acc = 0.0\n",
        "\n",
        "    for epoch in range(num_epochs):\n",
        "        print('Epoch {}/{}'.format(epoch, num_epochs - 1))\n",
        "        print('-' * 10)\n",
        "\n",
        "        # Each epoch has a training and validation phase\n",
        "        for phase in ['train', 'val']:\n",
        "            if phase == 'train':\n",
        "                model.train()  # Set model to training mode\n",
        "            else:\n",
        "                model.eval()   # Set model to evaluate mode\n",
        "\n",
        "            running_loss = 0.0\n",
        "            running_corrects = 0\n",
        "\n",
        "            # Iterate over data.\n",
        "            for inputs, labels in tqdm(dataloaders[phase]):\n",
        "                inputs = inputs.to(device)\n",
        "                labels = labels.to(device)\n",
        "\n",
        "                # zero the parameter gradients\n",
        "                optimizer.zero_grad()\n",
        "\n",
        "                # forward\n",
        "                # track history if only in train\n",
        "                with torch.set_grad_enabled(phase == 'train'):\n",
        "\n",
        "                    outputs = model(inputs)\n",
        "                    loss = criterion(outputs, labels)\n",
        "\n",
        "                    _, preds = torch.max(outputs, 1)\n",
        "\n",
        "                    # backward + optimize only if in training phase\n",
        "                    if phase == 'train':\n",
        "                        loss.backward()\n",
        "                        optimizer.step()\n",
        "\n",
        "                        if scheduler != None:\n",
        "                          scheduler.step()\n",
        "\n",
        "                # statistics\n",
        "                running_loss += loss.item() * inputs.size(0)\n",
        "                running_corrects += torch.sum(preds == labels.data)\n",
        "\n",
        "            epoch_loss = running_loss / len(dataloaders[phase].dataset)\n",
        "            epoch_acc = running_corrects.double() / len(dataloaders[phase].dataset)\n",
        "\n",
        "            print('{} Loss: {:.4f} Acc: {:.4f}'.format(phase, epoch_loss, epoch_acc))\n",
        "\n",
        "            # deep copy the model\n",
        "            if phase == 'val' and epoch_acc > best_acc:\n",
        "                best_acc = epoch_acc\n",
        "                best_model_wts = copy.deepcopy(model.state_dict())\n",
        "                torch.save({\n",
        "                    'epoch': epoch,\n",
        "                    'model_state_dict': model.state_dict(),\n",
        "                    'optimizer_state_dict': optimizer.state_dict(),\n",
        "                    'loss': loss,\n",
        "                    }, f'/content/drive/MyDrive/Homoglyphed code-mixed/checkpoints/H-EMNIST by class letters/HEMNIST_CNN_{epoch}.pth')\n",
        "            if phase == 'val':\n",
        "                val_acc_history.append(epoch_acc)\n",
        "\n",
        "        print()\n",
        "\n",
        "    time_elapsed = time.time() - since\n",
        "    print('Training complete in {:.0f}m {:.0f}s'.format(time_elapsed // 60, time_elapsed % 60))\n",
        "    print('Best val Acc: {:4f}'.format(best_acc))\n",
        "\n",
        "    # load best model weights\n",
        "    model.load_state_dict(best_model_wts)\n",
        "    return model, val_acc_history"
      ],
      "metadata": {
        "id": "6MmJ80iyVEdu"
      },
      "execution_count": null,
      "outputs": []
    },
    {
      "cell_type": "code",
      "source": [
        "model = EMNIST_CNN(40, 160, 200, 0.4, 52).to(device)\n",
        "\n",
        "loss_function=nn.CrossEntropyLoss()\n",
        "# optimizer=optim.Adam(model.classifier[1].parameters(),lr=0.001,weight_decay=6e-5)\n",
        "optimizer=optim.SGD( model.parameters(), lr=0.001, momentum=0.9)\n",
        "scheduler = torch.optim.lr_scheduler.StepLR(optimizer, step_size=15, gamma=0.5)\n"
      ],
      "metadata": {
        "id": "K5GijNc2V6AF"
      },
      "execution_count": null,
      "outputs": []
    },
    {
      "cell_type": "code",
      "source": [
        "# checkpoint = torch.load('../input/effi-net-attempt2-16/effi_net_b2_epoch_16.pth')\n",
        "# model.load_state_dict(checkpoint['model_state_dict'])\n",
        "# # optimizer.load_state_dict(checkpoint['optimizer_state_dict'])\n",
        "\n",
        "\n",
        "# model.train()"
      ],
      "metadata": {
        "id": "zoazQ9qP-JcY"
      },
      "execution_count": null,
      "outputs": []
    },
    {
      "cell_type": "code",
      "source": [
        "model, val_acc_history= train_model(model,\n",
        "                                    dataloaders={'train':train_dataloader,\n",
        "                                                'val':val_dataloader\n",
        "                                                },\n",
        "                                    criterion=loss_function,\n",
        "                                    optimizer=optimizer,\n",
        "                                    num_epochs=100\n",
        "                                   )"
      ],
      "metadata": {
        "colab": {
          "base_uri": "https://localhost:8080/"
        },
        "id": "ryg1wx8I-PBZ",
        "outputId": "9d71ca80-47b5-4ea6-852f-2deb71172974"
      },
      "execution_count": null,
      "outputs": [
        {
          "output_type": "stream",
          "name": "stdout",
          "text": [
            "Epoch 0/99\n",
            "----------\n"
          ]
        },
        {
          "output_type": "stream",
          "name": "stderr",
          "text": [
            "100%|██████████| 5604/5604 [07:40<00:00, 12.17it/s]\n"
          ]
        },
        {
          "output_type": "stream",
          "name": "stdout",
          "text": [
            "train Loss: 1.1626 Acc: 0.6656\n"
          ]
        },
        {
          "output_type": "stream",
          "name": "stderr",
          "text": [
            "100%|██████████| 60/60 [00:59<00:00,  1.01it/s]\n"
          ]
        },
        {
          "output_type": "stream",
          "name": "stdout",
          "text": [
            "val Loss: 0.5474 Acc: 0.8169\n",
            "\n",
            "Epoch 1/99\n",
            "----------\n"
          ]
        },
        {
          "output_type": "stream",
          "name": "stderr",
          "text": [
            "100%|██████████| 5604/5604 [07:33<00:00, 12.35it/s]\n"
          ]
        },
        {
          "output_type": "stream",
          "name": "stdout",
          "text": [
            "train Loss: 0.6730 Acc: 0.7842\n"
          ]
        },
        {
          "output_type": "stream",
          "name": "stderr",
          "text": [
            "100%|██████████| 60/60 [00:52<00:00,  1.14it/s]\n"
          ]
        },
        {
          "output_type": "stream",
          "name": "stdout",
          "text": [
            "val Loss: 0.4767 Acc: 0.8356\n",
            "\n",
            "Epoch 2/99\n",
            "----------\n"
          ]
        },
        {
          "output_type": "stream",
          "name": "stderr",
          "text": [
            "100%|██████████| 5604/5604 [07:33<00:00, 12.35it/s]\n"
          ]
        },
        {
          "output_type": "stream",
          "name": "stdout",
          "text": [
            "train Loss: 0.6036 Acc: 0.8019\n"
          ]
        },
        {
          "output_type": "stream",
          "name": "stderr",
          "text": [
            "100%|██████████| 60/60 [00:54<00:00,  1.10it/s]\n"
          ]
        },
        {
          "output_type": "stream",
          "name": "stdout",
          "text": [
            "val Loss: 0.4559 Acc: 0.8380\n",
            "\n",
            "Epoch 3/99\n",
            "----------\n"
          ]
        },
        {
          "output_type": "stream",
          "name": "stderr",
          "text": [
            "100%|██████████| 5604/5604 [07:36<00:00, 12.27it/s]\n"
          ]
        },
        {
          "output_type": "stream",
          "name": "stdout",
          "text": [
            "train Loss: 0.5642 Acc: 0.8121\n"
          ]
        },
        {
          "output_type": "stream",
          "name": "stderr",
          "text": [
            "100%|██████████| 60/60 [00:52<00:00,  1.15it/s]\n"
          ]
        },
        {
          "output_type": "stream",
          "name": "stdout",
          "text": [
            "val Loss: 0.4365 Acc: 0.8434\n",
            "\n",
            "Epoch 4/99\n",
            "----------\n"
          ]
        },
        {
          "output_type": "stream",
          "name": "stderr",
          "text": [
            "100%|██████████| 5604/5604 [07:32<00:00, 12.38it/s]\n"
          ]
        },
        {
          "output_type": "stream",
          "name": "stdout",
          "text": [
            "train Loss: 0.5373 Acc: 0.8192\n"
          ]
        },
        {
          "output_type": "stream",
          "name": "stderr",
          "text": [
            "100%|██████████| 60/60 [00:52<00:00,  1.14it/s]\n"
          ]
        },
        {
          "output_type": "stream",
          "name": "stdout",
          "text": [
            "val Loss: 0.4261 Acc: 0.8470\n",
            "\n",
            "Epoch 5/99\n",
            "----------\n"
          ]
        },
        {
          "output_type": "stream",
          "name": "stderr",
          "text": [
            "100%|██████████| 5604/5604 [07:33<00:00, 12.36it/s]\n"
          ]
        },
        {
          "output_type": "stream",
          "name": "stdout",
          "text": [
            "train Loss: 0.5177 Acc: 0.8236\n"
          ]
        },
        {
          "output_type": "stream",
          "name": "stderr",
          "text": [
            "100%|██████████| 60/60 [00:52<00:00,  1.15it/s]\n"
          ]
        },
        {
          "output_type": "stream",
          "name": "stdout",
          "text": [
            "val Loss: 0.4155 Acc: 0.8490\n",
            "\n",
            "Epoch 6/99\n",
            "----------\n"
          ]
        },
        {
          "output_type": "stream",
          "name": "stderr",
          "text": [
            "100%|██████████| 5604/5604 [07:30<00:00, 12.43it/s]\n"
          ]
        },
        {
          "output_type": "stream",
          "name": "stdout",
          "text": [
            "train Loss: 0.5037 Acc: 0.8267\n"
          ]
        },
        {
          "output_type": "stream",
          "name": "stderr",
          "text": [
            "100%|██████████| 60/60 [00:52<00:00,  1.15it/s]\n"
          ]
        },
        {
          "output_type": "stream",
          "name": "stdout",
          "text": [
            "val Loss: 0.4060 Acc: 0.8525\n",
            "\n",
            "Epoch 7/99\n",
            "----------\n"
          ]
        },
        {
          "output_type": "stream",
          "name": "stderr",
          "text": [
            "100%|██████████| 5604/5604 [07:25<00:00, 12.57it/s]\n"
          ]
        },
        {
          "output_type": "stream",
          "name": "stdout",
          "text": [
            "train Loss: 0.4905 Acc: 0.8311\n"
          ]
        },
        {
          "output_type": "stream",
          "name": "stderr",
          "text": [
            "100%|██████████| 60/60 [00:51<00:00,  1.17it/s]\n"
          ]
        },
        {
          "output_type": "stream",
          "name": "stdout",
          "text": [
            "val Loss: 0.4019 Acc: 0.8532\n",
            "\n",
            "Epoch 8/99\n",
            "----------\n"
          ]
        },
        {
          "output_type": "stream",
          "name": "stderr",
          "text": [
            "100%|██████████| 5604/5604 [07:28<00:00, 12.48it/s]\n"
          ]
        },
        {
          "output_type": "stream",
          "name": "stdout",
          "text": [
            "train Loss: 0.4821 Acc: 0.8325\n"
          ]
        },
        {
          "output_type": "stream",
          "name": "stderr",
          "text": [
            "100%|██████████| 60/60 [00:51<00:00,  1.16it/s]\n"
          ]
        },
        {
          "output_type": "stream",
          "name": "stdout",
          "text": [
            "val Loss: 0.3942 Acc: 0.8550\n",
            "\n",
            "Epoch 9/99\n",
            "----------\n"
          ]
        },
        {
          "output_type": "stream",
          "name": "stderr",
          "text": [
            "100%|██████████| 5604/5604 [07:28<00:00, 12.50it/s]\n"
          ]
        },
        {
          "output_type": "stream",
          "name": "stdout",
          "text": [
            "train Loss: 0.4725 Acc: 0.8355\n"
          ]
        },
        {
          "output_type": "stream",
          "name": "stderr",
          "text": [
            "100%|██████████| 60/60 [00:51<00:00,  1.16it/s]\n"
          ]
        },
        {
          "output_type": "stream",
          "name": "stdout",
          "text": [
            "val Loss: 0.3958 Acc: 0.8542\n",
            "\n",
            "Epoch 10/99\n",
            "----------\n"
          ]
        },
        {
          "output_type": "stream",
          "name": "stderr",
          "text": [
            "100%|██████████| 5604/5604 [07:32<00:00, 12.39it/s]\n"
          ]
        },
        {
          "output_type": "stream",
          "name": "stdout",
          "text": [
            "train Loss: 0.4639 Acc: 0.8376\n"
          ]
        },
        {
          "output_type": "stream",
          "name": "stderr",
          "text": [
            "100%|██████████| 60/60 [00:52<00:00,  1.14it/s]\n"
          ]
        },
        {
          "output_type": "stream",
          "name": "stdout",
          "text": [
            "val Loss: 0.3907 Acc: 0.8560\n",
            "\n",
            "Epoch 11/99\n",
            "----------\n"
          ]
        },
        {
          "output_type": "stream",
          "name": "stderr",
          "text": [
            "100%|██████████| 5604/5604 [07:40<00:00, 12.17it/s]\n"
          ]
        },
        {
          "output_type": "stream",
          "name": "stdout",
          "text": [
            "train Loss: 0.4577 Acc: 0.8390\n"
          ]
        },
        {
          "output_type": "stream",
          "name": "stderr",
          "text": [
            "100%|██████████| 60/60 [00:53<00:00,  1.12it/s]\n"
          ]
        },
        {
          "output_type": "stream",
          "name": "stdout",
          "text": [
            "val Loss: 0.3841 Acc: 0.8581\n",
            "\n",
            "Epoch 12/99\n",
            "----------\n"
          ]
        },
        {
          "output_type": "stream",
          "name": "stderr",
          "text": [
            "100%|██████████| 5604/5604 [07:35<00:00, 12.30it/s]\n"
          ]
        },
        {
          "output_type": "stream",
          "name": "stdout",
          "text": [
            "train Loss: 0.4518 Acc: 0.8410\n"
          ]
        },
        {
          "output_type": "stream",
          "name": "stderr",
          "text": [
            "100%|██████████| 60/60 [00:52<00:00,  1.14it/s]\n"
          ]
        },
        {
          "output_type": "stream",
          "name": "stdout",
          "text": [
            "val Loss: 0.3865 Acc: 0.8565\n",
            "\n",
            "Epoch 13/99\n",
            "----------\n"
          ]
        },
        {
          "output_type": "stream",
          "name": "stderr",
          "text": [
            "100%|██████████| 5604/5604 [07:33<00:00, 12.36it/s]\n"
          ]
        },
        {
          "output_type": "stream",
          "name": "stdout",
          "text": [
            "train Loss: 0.4473 Acc: 0.8421\n"
          ]
        },
        {
          "output_type": "stream",
          "name": "stderr",
          "text": [
            "100%|██████████| 60/60 [00:52<00:00,  1.14it/s]\n"
          ]
        },
        {
          "output_type": "stream",
          "name": "stdout",
          "text": [
            "val Loss: 0.3848 Acc: 0.8578\n",
            "\n",
            "Epoch 14/99\n",
            "----------\n"
          ]
        },
        {
          "output_type": "stream",
          "name": "stderr",
          "text": [
            "100%|██████████| 5604/5604 [07:42<00:00, 12.13it/s]\n"
          ]
        },
        {
          "output_type": "stream",
          "name": "stdout",
          "text": [
            "train Loss: 0.4429 Acc: 0.8430\n"
          ]
        },
        {
          "output_type": "stream",
          "name": "stderr",
          "text": [
            "100%|██████████| 60/60 [00:53<00:00,  1.12it/s]\n"
          ]
        },
        {
          "output_type": "stream",
          "name": "stdout",
          "text": [
            "val Loss: 0.3799 Acc: 0.8586\n",
            "\n",
            "Epoch 15/99\n",
            "----------\n"
          ]
        },
        {
          "output_type": "stream",
          "name": "stderr",
          "text": [
            "100%|██████████| 5604/5604 [07:42<00:00, 12.13it/s]\n"
          ]
        },
        {
          "output_type": "stream",
          "name": "stdout",
          "text": [
            "train Loss: 0.4375 Acc: 0.8444\n"
          ]
        },
        {
          "output_type": "stream",
          "name": "stderr",
          "text": [
            "100%|██████████| 60/60 [00:53<00:00,  1.13it/s]\n"
          ]
        },
        {
          "output_type": "stream",
          "name": "stdout",
          "text": [
            "val Loss: 0.3784 Acc: 0.8596\n",
            "\n",
            "Epoch 16/99\n",
            "----------\n"
          ]
        },
        {
          "output_type": "stream",
          "name": "stderr",
          "text": [
            "100%|██████████| 5604/5604 [07:38<00:00, 12.23it/s]\n"
          ]
        },
        {
          "output_type": "stream",
          "name": "stdout",
          "text": [
            "train Loss: 0.4339 Acc: 0.8453\n"
          ]
        },
        {
          "output_type": "stream",
          "name": "stderr",
          "text": [
            "100%|██████████| 60/60 [00:53<00:00,  1.12it/s]\n"
          ]
        },
        {
          "output_type": "stream",
          "name": "stdout",
          "text": [
            "val Loss: 0.3790 Acc: 0.8592\n",
            "\n",
            "Epoch 17/99\n",
            "----------\n"
          ]
        },
        {
          "output_type": "stream",
          "name": "stderr",
          "text": [
            "100%|██████████| 5604/5604 [07:45<00:00, 12.03it/s]\n"
          ]
        },
        {
          "output_type": "stream",
          "name": "stdout",
          "text": [
            "train Loss: 0.4301 Acc: 0.8463\n"
          ]
        },
        {
          "output_type": "stream",
          "name": "stderr",
          "text": [
            "100%|██████████| 60/60 [00:53<00:00,  1.12it/s]\n"
          ]
        },
        {
          "output_type": "stream",
          "name": "stdout",
          "text": [
            "val Loss: 0.3770 Acc: 0.8582\n",
            "\n",
            "Epoch 18/99\n",
            "----------\n"
          ]
        },
        {
          "output_type": "stream",
          "name": "stderr",
          "text": [
            "100%|██████████| 5604/5604 [07:44<00:00, 12.07it/s]\n"
          ]
        },
        {
          "output_type": "stream",
          "name": "stdout",
          "text": [
            "train Loss: 0.4280 Acc: 0.8470\n"
          ]
        },
        {
          "output_type": "stream",
          "name": "stderr",
          "text": [
            "100%|██████████| 60/60 [00:53<00:00,  1.13it/s]\n"
          ]
        },
        {
          "output_type": "stream",
          "name": "stdout",
          "text": [
            "val Loss: 0.3761 Acc: 0.8609\n",
            "\n",
            "Epoch 19/99\n",
            "----------\n"
          ]
        },
        {
          "output_type": "stream",
          "name": "stderr",
          "text": [
            "100%|██████████| 5604/5604 [07:43<00:00, 12.08it/s]\n"
          ]
        },
        {
          "output_type": "stream",
          "name": "stdout",
          "text": [
            "train Loss: 0.4239 Acc: 0.8479\n"
          ]
        },
        {
          "output_type": "stream",
          "name": "stderr",
          "text": [
            "100%|██████████| 60/60 [00:52<00:00,  1.13it/s]\n"
          ]
        },
        {
          "output_type": "stream",
          "name": "stdout",
          "text": [
            "val Loss: 0.3778 Acc: 0.8603\n",
            "\n",
            "Epoch 20/99\n",
            "----------\n"
          ]
        },
        {
          "output_type": "stream",
          "name": "stderr",
          "text": [
            "100%|██████████| 5604/5604 [07:45<00:00, 12.05it/s]\n"
          ]
        },
        {
          "output_type": "stream",
          "name": "stdout",
          "text": [
            "train Loss: 0.4200 Acc: 0.8486\n"
          ]
        },
        {
          "output_type": "stream",
          "name": "stderr",
          "text": [
            "100%|██████████| 60/60 [00:52<00:00,  1.13it/s]\n"
          ]
        },
        {
          "output_type": "stream",
          "name": "stdout",
          "text": [
            "val Loss: 0.3712 Acc: 0.8614\n",
            "\n",
            "Epoch 21/99\n",
            "----------\n"
          ]
        },
        {
          "output_type": "stream",
          "name": "stderr",
          "text": [
            "100%|██████████| 5604/5604 [07:41<00:00, 12.14it/s]\n"
          ]
        },
        {
          "output_type": "stream",
          "name": "stdout",
          "text": [
            "train Loss: 0.4186 Acc: 0.8490\n"
          ]
        },
        {
          "output_type": "stream",
          "name": "stderr",
          "text": [
            "100%|██████████| 60/60 [00:55<00:00,  1.08it/s]\n"
          ]
        },
        {
          "output_type": "stream",
          "name": "stdout",
          "text": [
            "val Loss: 0.3718 Acc: 0.8602\n",
            "\n",
            "Epoch 22/99\n",
            "----------\n"
          ]
        },
        {
          "output_type": "stream",
          "name": "stderr",
          "text": [
            "100%|██████████| 5604/5604 [07:42<00:00, 12.11it/s]\n"
          ]
        },
        {
          "output_type": "stream",
          "name": "stdout",
          "text": [
            "train Loss: 0.4155 Acc: 0.8500\n"
          ]
        },
        {
          "output_type": "stream",
          "name": "stderr",
          "text": [
            "100%|██████████| 60/60 [00:53<00:00,  1.13it/s]\n"
          ]
        },
        {
          "output_type": "stream",
          "name": "stdout",
          "text": [
            "val Loss: 0.3730 Acc: 0.8609\n",
            "\n",
            "Epoch 23/99\n",
            "----------\n"
          ]
        },
        {
          "output_type": "stream",
          "name": "stderr",
          "text": [
            " 86%|████████▌ | 4825/5604 [06:44<01:02, 12.44it/s]"
          ]
        }
      ]
    },
    {
      "cell_type": "code",
      "source": [
        "val_acc_history"
      ],
      "metadata": {
        "id": "f2sO3LZ-A7MA"
      },
      "execution_count": null,
      "outputs": []
    },
    {
      "cell_type": "markdown",
      "source": [
        "Epoch 0/99\n",
        "----------\n",
        "100%|██████████| 5604/5604 [07:40<00:00, 12.17it/s]\n",
        "train Loss: 1.1626 Acc: 0.6656\n",
        "100%|██████████| 60/60 [00:59<00:00,  1.01it/s]\n",
        "val Loss: 0.5474 Acc: 0.8169\n",
        "\n",
        "Epoch 1/99\n",
        "----------\n",
        "100%|██████████| 5604/5604 [07:33<00:00, 12.35it/s]\n",
        "train Loss: 0.6730 Acc: 0.7842\n",
        "100%|██████████| 60/60 [00:52<00:00,  1.14it/s]\n",
        "val Loss: 0.4767 Acc: 0.8356\n",
        "\n",
        "Epoch 2/99\n",
        "----------\n",
        "100%|██████████| 5604/5604 [07:33<00:00, 12.35it/s]\n",
        "train Loss: 0.6036 Acc: 0.8019\n",
        "100%|██████████| 60/60 [00:54<00:00,  1.10it/s]\n",
        "val Loss: 0.4559 Acc: 0.8380\n",
        "\n",
        "Epoch 3/99\n",
        "----------\n",
        "100%|██████████| 5604/5604 [07:36<00:00, 12.27it/s]\n",
        "train Loss: 0.5642 Acc: 0.8121\n",
        "100%|██████████| 60/60 [00:52<00:00,  1.15it/s]\n",
        "val Loss: 0.4365 Acc: 0.8434\n",
        "\n",
        "Epoch 4/99\n",
        "----------\n",
        "100%|██████████| 5604/5604 [07:32<00:00, 12.38it/s]\n",
        "train Loss: 0.5373 Acc: 0.8192\n",
        "100%|██████████| 60/60 [00:52<00:00,  1.14it/s]\n",
        "val Loss: 0.4261 Acc: 0.8470\n",
        "\n",
        "Epoch 5/99\n",
        "----------\n",
        "100%|██████████| 5604/5604 [07:33<00:00, 12.36it/s]\n",
        "train Loss: 0.5177 Acc: 0.8236\n",
        "100%|██████████| 60/60 [00:52<00:00,  1.15it/s]\n",
        "val Loss: 0.4155 Acc: 0.8490\n",
        "\n",
        "Epoch 6/99\n",
        "----------\n",
        "100%|██████████| 5604/5604 [07:30<00:00, 12.43it/s]\n",
        "train Loss: 0.5037 Acc: 0.8267\n",
        "100%|██████████| 60/60 [00:52<00:00,  1.15it/s]\n",
        "val Loss: 0.4060 Acc: 0.8525\n",
        "\n",
        "Epoch 7/99\n",
        "----------\n",
        "100%|██████████| 5604/5604 [07:25<00:00, 12.57it/s]\n",
        "train Loss: 0.4905 Acc: 0.8311\n",
        "100%|██████████| 60/60 [00:51<00:00,  1.17it/s]\n",
        "val Loss: 0.4019 Acc: 0.8532\n",
        "\n",
        "Epoch 8/99\n",
        "----------\n",
        "100%|██████████| 5604/5604 [07:28<00:00, 12.48it/s]\n",
        "train Loss: 0.4821 Acc: 0.8325\n",
        "100%|██████████| 60/60 [00:51<00:00,  1.16it/s]\n",
        "val Loss: 0.3942 Acc: 0.8550\n",
        "\n",
        "Epoch 9/99\n",
        "----------\n",
        "100%|██████████| 5604/5604 [07:28<00:00, 12.50it/s]\n",
        "train Loss: 0.4725 Acc: 0.8355\n",
        "100%|██████████| 60/60 [00:51<00:00,  1.16it/s]\n",
        "val Loss: 0.3958 Acc: 0.8542\n",
        "\n",
        "Epoch 10/99\n",
        "----------\n",
        "100%|██████████| 5604/5604 [07:32<00:00, 12.39it/s]\n",
        "train Loss: 0.4639 Acc: 0.8376\n",
        "100%|██████████| 60/60 [00:52<00:00,  1.14it/s]\n",
        "val Loss: 0.3907 Acc: 0.8560\n",
        "\n",
        "Epoch 11/99\n",
        "----------\n",
        "100%|██████████| 5604/5604 [07:40<00:00, 12.17it/s]\n",
        "train Loss: 0.4577 Acc: 0.8390\n",
        "100%|██████████| 60/60 [00:53<00:00,  1.12it/s]\n",
        "val Loss: 0.3841 Acc: 0.8581\n",
        "\n",
        "Epoch 12/99\n",
        "----------\n",
        "100%|██████████| 5604/5604 [07:35<00:00, 12.30it/s]\n",
        "train Loss: 0.4518 Acc: 0.8410\n",
        "100%|██████████| 60/60 [00:52<00:00,  1.14it/s]\n",
        "val Loss: 0.3865 Acc: 0.8565\n",
        "\n",
        "Epoch 13/99\n",
        "----------\n",
        "100%|██████████| 5604/5604 [07:33<00:00, 12.36it/s]\n",
        "train Loss: 0.4473 Acc: 0.8421\n",
        "100%|██████████| 60/60 [00:52<00:00,  1.14it/s]\n",
        "val Loss: 0.3848 Acc: 0.8578\n",
        "\n",
        "Epoch 14/99\n",
        "----------\n",
        "100%|██████████| 5604/5604 [07:42<00:00, 12.13it/s]\n",
        "train Loss: 0.4429 Acc: 0.8430\n",
        "100%|██████████| 60/60 [00:53<00:00,  1.12it/s]\n",
        "val Loss: 0.3799 Acc: 0.8586\n",
        "\n",
        "Epoch 15/99\n",
        "----------\n",
        "100%|██████████| 5604/5604 [07:42<00:00, 12.13it/s]\n",
        "train Loss: 0.4375 Acc: 0.8444\n",
        "100%|██████████| 60/60 [00:53<00:00,  1.13it/s]\n",
        "val Loss: 0.3784 Acc: 0.8596\n",
        "\n",
        "Epoch 16/99\n",
        "----------\n",
        "100%|██████████| 5604/5604 [07:38<00:00, 12.23it/s]\n",
        "train Loss: 0.4339 Acc: 0.8453\n",
        "100%|██████████| 60/60 [00:53<00:00,  1.12it/s]\n",
        "val Loss: 0.3790 Acc: 0.8592\n",
        "\n",
        "Epoch 17/99\n",
        "----------\n",
        "100%|██████████| 5604/5604 [07:45<00:00, 12.03it/s]\n",
        "train Loss: 0.4301 Acc: 0.8463\n",
        "100%|██████████| 60/60 [00:53<00:00,  1.12it/s]\n",
        "val Loss: 0.3770 Acc: 0.8582\n",
        "\n",
        "Epoch 18/99\n",
        "----------\n",
        "100%|██████████| 5604/5604 [07:44<00:00, 12.07it/s]\n",
        "train Loss: 0.4280 Acc: 0.8470\n",
        "100%|██████████| 60/60 [00:53<00:00,  1.13it/s]\n",
        "val Loss: 0.3761 Acc: 0.8609\n",
        "\n",
        "Epoch 19/99\n",
        "----------\n",
        "100%|██████████| 5604/5604 [07:43<00:00, 12.08it/s]\n",
        "train Loss: 0.4239 Acc: 0.8479\n",
        "100%|██████████| 60/60 [00:52<00:00,  1.13it/s]\n",
        "val Loss: 0.3778 Acc: 0.8603\n",
        "\n",
        "Epoch 20/99\n",
        "----------\n",
        "100%|██████████| 5604/5604 [07:45<00:00, 12.05it/s]\n",
        "train Loss: 0.4200 Acc: 0.8486\n",
        "100%|██████████| 60/60 [00:52<00:00,  1.13it/s]\n",
        "val Loss: 0.3712 Acc: 0.8614\n",
        "\n",
        "Epoch 21/99\n",
        "----------\n",
        "100%|██████████| 5604/5604 [07:41<00:00, 12.14it/s]\n",
        "train Loss: 0.4186 Acc: 0.8490\n",
        "100%|██████████| 60/60 [00:55<00:00,  1.08it/s]\n",
        "val Loss: 0.3718 Acc: 0.8602\n",
        "\n",
        "Epoch 22/99\n",
        "----------\n",
        "100%|██████████| 5604/5604 [07:42<00:00, 12.11it/s]\n",
        "train Loss: 0.4155 Acc: 0.8500\n",
        "100%|██████████| 60/60 [00:53<00:00,  1.13it/s]\n",
        "val Loss: 0.3730 Acc: 0.8609\n",
        "\n",
        "Epoch 23/99\n",
        "----------\n",
        " 86%|████████▌ | 4825/5604 [06:44<01:02, 12.44it/s]\n"
      ],
      "metadata": {
        "id": "yIRPICt-zeAd"
      }
    },
    {
      "cell_type": "code",
      "source": [],
      "metadata": {
        "id": "SQq2O0HI0eiq"
      },
      "execution_count": null,
      "outputs": []
    },
    {
      "cell_type": "code",
      "source": [],
      "metadata": {
        "id": "VKjte7d80e3a"
      },
      "execution_count": null,
      "outputs": []
    }
  ]
}
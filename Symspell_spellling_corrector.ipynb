{
  "nbformat": 4,
  "nbformat_minor": 0,
  "metadata": {
    "colab": {
      "provenance": [],
      "collapsed_sections": [
        "ESO6XpKmlWeU",
        "H0Zm5Dn7tbsz",
        "RTTJubofy3YN",
        "uDvLyOD2stsl"
      ]
    },
    "kernelspec": {
      "name": "python3",
      "display_name": "Python 3"
    },
    "widgets": {
      "application/vnd.jupyter.widget-state+json": {
        "21f736fc0d554d38a30b3d386749a7d9": {
          "model_module": "@jupyter-widgets/controls",
          "model_name": "HBoxModel",
          "model_module_version": "1.5.0",
          "state": {
            "_dom_classes": [],
            "_model_module": "@jupyter-widgets/controls",
            "_model_module_version": "1.5.0",
            "_model_name": "HBoxModel",
            "_view_count": null,
            "_view_module": "@jupyter-widgets/controls",
            "_view_module_version": "1.5.0",
            "_view_name": "HBoxView",
            "box_style": "",
            "children": [
              "IPY_MODEL_e6f171a69312480f8a93c873107b6601",
              "IPY_MODEL_64fad9ef48fc4545ab35509487b2185c",
              "IPY_MODEL_b15e99766b924280901294a2479453d5"
            ],
            "layout": "IPY_MODEL_8998a04babbe4d668bb390cce9a1aa7a"
          }
        },
        "e6f171a69312480f8a93c873107b6601": {
          "model_module": "@jupyter-widgets/controls",
          "model_name": "HTMLModel",
          "model_module_version": "1.5.0",
          "state": {
            "_dom_classes": [],
            "_model_module": "@jupyter-widgets/controls",
            "_model_module_version": "1.5.0",
            "_model_name": "HTMLModel",
            "_view_count": null,
            "_view_module": "@jupyter-widgets/controls",
            "_view_module_version": "1.5.0",
            "_view_name": "HTMLView",
            "description": "",
            "description_tooltip": null,
            "layout": "IPY_MODEL_21b973f94b3f40eaabd01c42f0ce2932",
            "placeholder": "​",
            "style": "IPY_MODEL_c8d950909a304171ae0f8519b08f6f61",
            "value": "Downloading data files: 100%"
          }
        },
        "64fad9ef48fc4545ab35509487b2185c": {
          "model_module": "@jupyter-widgets/controls",
          "model_name": "FloatProgressModel",
          "model_module_version": "1.5.0",
          "state": {
            "_dom_classes": [],
            "_model_module": "@jupyter-widgets/controls",
            "_model_module_version": "1.5.0",
            "_model_name": "FloatProgressModel",
            "_view_count": null,
            "_view_module": "@jupyter-widgets/controls",
            "_view_module_version": "1.5.0",
            "_view_name": "ProgressView",
            "bar_style": "success",
            "description": "",
            "description_tooltip": null,
            "layout": "IPY_MODEL_e60f3f628a3d423f8c5777380a247d38",
            "max": 1,
            "min": 0,
            "orientation": "horizontal",
            "style": "IPY_MODEL_f76e8b66ff1b49ca9d07c38ba2724e62",
            "value": 1
          }
        },
        "b15e99766b924280901294a2479453d5": {
          "model_module": "@jupyter-widgets/controls",
          "model_name": "HTMLModel",
          "model_module_version": "1.5.0",
          "state": {
            "_dom_classes": [],
            "_model_module": "@jupyter-widgets/controls",
            "_model_module_version": "1.5.0",
            "_model_name": "HTMLModel",
            "_view_count": null,
            "_view_module": "@jupyter-widgets/controls",
            "_view_module_version": "1.5.0",
            "_view_name": "HTMLView",
            "description": "",
            "description_tooltip": null,
            "layout": "IPY_MODEL_f605e02b67424fa4a2533f6d55ac103b",
            "placeholder": "​",
            "style": "IPY_MODEL_1600e83464d94c01b57ca3f6d9b70a19",
            "value": " 1/1 [00:00&lt;00:00, 39.26it/s]"
          }
        },
        "8998a04babbe4d668bb390cce9a1aa7a": {
          "model_module": "@jupyter-widgets/base",
          "model_name": "LayoutModel",
          "model_module_version": "1.2.0",
          "state": {
            "_model_module": "@jupyter-widgets/base",
            "_model_module_version": "1.2.0",
            "_model_name": "LayoutModel",
            "_view_count": null,
            "_view_module": "@jupyter-widgets/base",
            "_view_module_version": "1.2.0",
            "_view_name": "LayoutView",
            "align_content": null,
            "align_items": null,
            "align_self": null,
            "border": null,
            "bottom": null,
            "display": null,
            "flex": null,
            "flex_flow": null,
            "grid_area": null,
            "grid_auto_columns": null,
            "grid_auto_flow": null,
            "grid_auto_rows": null,
            "grid_column": null,
            "grid_gap": null,
            "grid_row": null,
            "grid_template_areas": null,
            "grid_template_columns": null,
            "grid_template_rows": null,
            "height": null,
            "justify_content": null,
            "justify_items": null,
            "left": null,
            "margin": null,
            "max_height": null,
            "max_width": null,
            "min_height": null,
            "min_width": null,
            "object_fit": null,
            "object_position": null,
            "order": null,
            "overflow": null,
            "overflow_x": null,
            "overflow_y": null,
            "padding": null,
            "right": null,
            "top": null,
            "visibility": null,
            "width": null
          }
        },
        "21b973f94b3f40eaabd01c42f0ce2932": {
          "model_module": "@jupyter-widgets/base",
          "model_name": "LayoutModel",
          "model_module_version": "1.2.0",
          "state": {
            "_model_module": "@jupyter-widgets/base",
            "_model_module_version": "1.2.0",
            "_model_name": "LayoutModel",
            "_view_count": null,
            "_view_module": "@jupyter-widgets/base",
            "_view_module_version": "1.2.0",
            "_view_name": "LayoutView",
            "align_content": null,
            "align_items": null,
            "align_self": null,
            "border": null,
            "bottom": null,
            "display": null,
            "flex": null,
            "flex_flow": null,
            "grid_area": null,
            "grid_auto_columns": null,
            "grid_auto_flow": null,
            "grid_auto_rows": null,
            "grid_column": null,
            "grid_gap": null,
            "grid_row": null,
            "grid_template_areas": null,
            "grid_template_columns": null,
            "grid_template_rows": null,
            "height": null,
            "justify_content": null,
            "justify_items": null,
            "left": null,
            "margin": null,
            "max_height": null,
            "max_width": null,
            "min_height": null,
            "min_width": null,
            "object_fit": null,
            "object_position": null,
            "order": null,
            "overflow": null,
            "overflow_x": null,
            "overflow_y": null,
            "padding": null,
            "right": null,
            "top": null,
            "visibility": null,
            "width": null
          }
        },
        "c8d950909a304171ae0f8519b08f6f61": {
          "model_module": "@jupyter-widgets/controls",
          "model_name": "DescriptionStyleModel",
          "model_module_version": "1.5.0",
          "state": {
            "_model_module": "@jupyter-widgets/controls",
            "_model_module_version": "1.5.0",
            "_model_name": "DescriptionStyleModel",
            "_view_count": null,
            "_view_module": "@jupyter-widgets/base",
            "_view_module_version": "1.2.0",
            "_view_name": "StyleView",
            "description_width": ""
          }
        },
        "e60f3f628a3d423f8c5777380a247d38": {
          "model_module": "@jupyter-widgets/base",
          "model_name": "LayoutModel",
          "model_module_version": "1.2.0",
          "state": {
            "_model_module": "@jupyter-widgets/base",
            "_model_module_version": "1.2.0",
            "_model_name": "LayoutModel",
            "_view_count": null,
            "_view_module": "@jupyter-widgets/base",
            "_view_module_version": "1.2.0",
            "_view_name": "LayoutView",
            "align_content": null,
            "align_items": null,
            "align_self": null,
            "border": null,
            "bottom": null,
            "display": null,
            "flex": null,
            "flex_flow": null,
            "grid_area": null,
            "grid_auto_columns": null,
            "grid_auto_flow": null,
            "grid_auto_rows": null,
            "grid_column": null,
            "grid_gap": null,
            "grid_row": null,
            "grid_template_areas": null,
            "grid_template_columns": null,
            "grid_template_rows": null,
            "height": null,
            "justify_content": null,
            "justify_items": null,
            "left": null,
            "margin": null,
            "max_height": null,
            "max_width": null,
            "min_height": null,
            "min_width": null,
            "object_fit": null,
            "object_position": null,
            "order": null,
            "overflow": null,
            "overflow_x": null,
            "overflow_y": null,
            "padding": null,
            "right": null,
            "top": null,
            "visibility": null,
            "width": null
          }
        },
        "f76e8b66ff1b49ca9d07c38ba2724e62": {
          "model_module": "@jupyter-widgets/controls",
          "model_name": "ProgressStyleModel",
          "model_module_version": "1.5.0",
          "state": {
            "_model_module": "@jupyter-widgets/controls",
            "_model_module_version": "1.5.0",
            "_model_name": "ProgressStyleModel",
            "_view_count": null,
            "_view_module": "@jupyter-widgets/base",
            "_view_module_version": "1.2.0",
            "_view_name": "StyleView",
            "bar_color": null,
            "description_width": ""
          }
        },
        "f605e02b67424fa4a2533f6d55ac103b": {
          "model_module": "@jupyter-widgets/base",
          "model_name": "LayoutModel",
          "model_module_version": "1.2.0",
          "state": {
            "_model_module": "@jupyter-widgets/base",
            "_model_module_version": "1.2.0",
            "_model_name": "LayoutModel",
            "_view_count": null,
            "_view_module": "@jupyter-widgets/base",
            "_view_module_version": "1.2.0",
            "_view_name": "LayoutView",
            "align_content": null,
            "align_items": null,
            "align_self": null,
            "border": null,
            "bottom": null,
            "display": null,
            "flex": null,
            "flex_flow": null,
            "grid_area": null,
            "grid_auto_columns": null,
            "grid_auto_flow": null,
            "grid_auto_rows": null,
            "grid_column": null,
            "grid_gap": null,
            "grid_row": null,
            "grid_template_areas": null,
            "grid_template_columns": null,
            "grid_template_rows": null,
            "height": null,
            "justify_content": null,
            "justify_items": null,
            "left": null,
            "margin": null,
            "max_height": null,
            "max_width": null,
            "min_height": null,
            "min_width": null,
            "object_fit": null,
            "object_position": null,
            "order": null,
            "overflow": null,
            "overflow_x": null,
            "overflow_y": null,
            "padding": null,
            "right": null,
            "top": null,
            "visibility": null,
            "width": null
          }
        },
        "1600e83464d94c01b57ca3f6d9b70a19": {
          "model_module": "@jupyter-widgets/controls",
          "model_name": "DescriptionStyleModel",
          "model_module_version": "1.5.0",
          "state": {
            "_model_module": "@jupyter-widgets/controls",
            "_model_module_version": "1.5.0",
            "_model_name": "DescriptionStyleModel",
            "_view_count": null,
            "_view_module": "@jupyter-widgets/base",
            "_view_module_version": "1.2.0",
            "_view_name": "StyleView",
            "description_width": ""
          }
        },
        "d0f7c0dce5644b99866b013f56c22922": {
          "model_module": "@jupyter-widgets/base",
          "model_name": "LayoutModel",
          "model_module_version": "1.2.0",
          "state": {
            "_model_module": "@jupyter-widgets/base",
            "_model_module_version": "1.2.0",
            "_model_name": "LayoutModel",
            "_view_count": null,
            "_view_module": "@jupyter-widgets/base",
            "_view_module_version": "1.2.0",
            "_view_name": "LayoutView",
            "align_content": null,
            "align_items": null,
            "align_self": null,
            "border": null,
            "bottom": null,
            "display": null,
            "flex": null,
            "flex_flow": null,
            "grid_area": null,
            "grid_auto_columns": null,
            "grid_auto_flow": null,
            "grid_auto_rows": null,
            "grid_column": null,
            "grid_gap": null,
            "grid_row": null,
            "grid_template_areas": null,
            "grid_template_columns": null,
            "grid_template_rows": null,
            "height": null,
            "justify_content": null,
            "justify_items": null,
            "left": null,
            "margin": null,
            "max_height": null,
            "max_width": null,
            "min_height": null,
            "min_width": null,
            "object_fit": null,
            "object_position": null,
            "order": null,
            "overflow": null,
            "overflow_x": null,
            "overflow_y": null,
            "padding": null,
            "right": null,
            "top": null,
            "visibility": null,
            "width": null
          }
        },
        "17a91d0345f946d3bb84c2a24a003520": {
          "model_module": "@jupyter-widgets/controls",
          "model_name": "ProgressStyleModel",
          "model_module_version": "1.5.0",
          "state": {
            "_model_module": "@jupyter-widgets/controls",
            "_model_module_version": "1.5.0",
            "_model_name": "ProgressStyleModel",
            "_view_count": null,
            "_view_module": "@jupyter-widgets/base",
            "_view_module_version": "1.2.0",
            "_view_name": "StyleView",
            "bar_color": null,
            "description_width": ""
          }
        },
        "9028a79dd00743a9af277006b8fdda3e": {
          "model_module": "@jupyter-widgets/base",
          "model_name": "LayoutModel",
          "model_module_version": "1.2.0",
          "state": {
            "_model_module": "@jupyter-widgets/base",
            "_model_module_version": "1.2.0",
            "_model_name": "LayoutModel",
            "_view_count": null,
            "_view_module": "@jupyter-widgets/base",
            "_view_module_version": "1.2.0",
            "_view_name": "LayoutView",
            "align_content": null,
            "align_items": null,
            "align_self": null,
            "border": null,
            "bottom": null,
            "display": null,
            "flex": null,
            "flex_flow": null,
            "grid_area": null,
            "grid_auto_columns": null,
            "grid_auto_flow": null,
            "grid_auto_rows": null,
            "grid_column": null,
            "grid_gap": null,
            "grid_row": null,
            "grid_template_areas": null,
            "grid_template_columns": null,
            "grid_template_rows": null,
            "height": null,
            "justify_content": null,
            "justify_items": null,
            "left": null,
            "margin": null,
            "max_height": null,
            "max_width": null,
            "min_height": null,
            "min_width": null,
            "object_fit": null,
            "object_position": null,
            "order": null,
            "overflow": null,
            "overflow_x": null,
            "overflow_y": null,
            "padding": null,
            "right": null,
            "top": null,
            "visibility": null,
            "width": null
          }
        },
        "d083cf389a7c4fce84a1ac0c58757a15": {
          "model_module": "@jupyter-widgets/controls",
          "model_name": "DescriptionStyleModel",
          "model_module_version": "1.5.0",
          "state": {
            "_model_module": "@jupyter-widgets/controls",
            "_model_module_version": "1.5.0",
            "_model_name": "DescriptionStyleModel",
            "_view_count": null,
            "_view_module": "@jupyter-widgets/base",
            "_view_module_version": "1.2.0",
            "_view_name": "StyleView",
            "description_width": ""
          }
        },
        "ad0e82faec41472aaa536d7659a8f2d9": {
          "model_module": "@jupyter-widgets/base",
          "model_name": "LayoutModel",
          "model_module_version": "1.2.0",
          "state": {
            "_model_module": "@jupyter-widgets/base",
            "_model_module_version": "1.2.0",
            "_model_name": "LayoutModel",
            "_view_count": null,
            "_view_module": "@jupyter-widgets/base",
            "_view_module_version": "1.2.0",
            "_view_name": "LayoutView",
            "align_content": null,
            "align_items": null,
            "align_self": null,
            "border": null,
            "bottom": null,
            "display": null,
            "flex": null,
            "flex_flow": null,
            "grid_area": null,
            "grid_auto_columns": null,
            "grid_auto_flow": null,
            "grid_auto_rows": null,
            "grid_column": null,
            "grid_gap": null,
            "grid_row": null,
            "grid_template_areas": null,
            "grid_template_columns": null,
            "grid_template_rows": null,
            "height": null,
            "justify_content": null,
            "justify_items": null,
            "left": null,
            "margin": null,
            "max_height": null,
            "max_width": null,
            "min_height": null,
            "min_width": null,
            "object_fit": null,
            "object_position": null,
            "order": null,
            "overflow": null,
            "overflow_x": null,
            "overflow_y": null,
            "padding": null,
            "right": null,
            "top": null,
            "visibility": null,
            "width": null
          }
        },
        "2c4e4c48a67542619299dd51e9f843c4": {
          "model_module": "@jupyter-widgets/controls",
          "model_name": "DescriptionStyleModel",
          "model_module_version": "1.5.0",
          "state": {
            "_model_module": "@jupyter-widgets/controls",
            "_model_module_version": "1.5.0",
            "_model_name": "DescriptionStyleModel",
            "_view_count": null,
            "_view_module": "@jupyter-widgets/base",
            "_view_module_version": "1.2.0",
            "_view_name": "StyleView",
            "description_width": ""
          }
        },
        "22efcd27a5d648c6841c63d04d491f5a": {
          "model_module": "@jupyter-widgets/controls",
          "model_name": "HTMLModel",
          "model_module_version": "1.5.0",
          "state": {
            "_dom_classes": [],
            "_model_module": "@jupyter-widgets/controls",
            "_model_module_version": "1.5.0",
            "_model_name": "HTMLModel",
            "_view_count": null,
            "_view_module": "@jupyter-widgets/controls",
            "_view_module_version": "1.5.0",
            "_view_name": "HTMLView",
            "description": "",
            "description_tooltip": null,
            "layout": "IPY_MODEL_9028a79dd00743a9af277006b8fdda3e",
            "placeholder": "​",
            "style": "IPY_MODEL_d083cf389a7c4fce84a1ac0c58757a15",
            "value": "Computing checksums: 100%"
          }
        },
        "bc37eb72444b43e2b69a18a778f711df": {
          "model_module": "@jupyter-widgets/controls",
          "model_name": "FloatProgressModel",
          "model_module_version": "1.5.0",
          "state": {
            "_dom_classes": [],
            "_model_module": "@jupyter-widgets/controls",
            "_model_module_version": "1.5.0",
            "_model_name": "FloatProgressModel",
            "_view_count": null,
            "_view_module": "@jupyter-widgets/controls",
            "_view_module_version": "1.5.0",
            "_view_name": "ProgressView",
            "bar_style": "success",
            "description": "",
            "description_tooltip": null,
            "layout": "IPY_MODEL_d0f7c0dce5644b99866b013f56c22922",
            "max": 2,
            "min": 0,
            "orientation": "horizontal",
            "style": "IPY_MODEL_17a91d0345f946d3bb84c2a24a003520",
            "value": 2
          }
        },
        "f32edcd8ac6a44f2a6ff95c93c47429f": {
          "model_module": "@jupyter-widgets/controls",
          "model_name": "HTMLModel",
          "model_module_version": "1.5.0",
          "state": {
            "_dom_classes": [],
            "_model_module": "@jupyter-widgets/controls",
            "_model_module_version": "1.5.0",
            "_model_name": "HTMLModel",
            "_view_count": null,
            "_view_module": "@jupyter-widgets/controls",
            "_view_module_version": "1.5.0",
            "_view_name": "HTMLView",
            "description": "",
            "description_tooltip": null,
            "layout": "IPY_MODEL_ad0e82faec41472aaa536d7659a8f2d9",
            "placeholder": "​",
            "style": "IPY_MODEL_2c4e4c48a67542619299dd51e9f843c4",
            "value": " 2/2 [00:01&lt;00:00,  1.62it/s]"
          }
        },
        "6fb35c9f9b7a4b318cca66eb42a672b7": {
          "model_module": "@jupyter-widgets/base",
          "model_name": "LayoutModel",
          "model_module_version": "1.2.0",
          "state": {
            "_model_module": "@jupyter-widgets/base",
            "_model_module_version": "1.2.0",
            "_model_name": "LayoutModel",
            "_view_count": null,
            "_view_module": "@jupyter-widgets/base",
            "_view_module_version": "1.2.0",
            "_view_name": "LayoutView",
            "align_content": null,
            "align_items": null,
            "align_self": null,
            "border": null,
            "bottom": null,
            "display": null,
            "flex": null,
            "flex_flow": null,
            "grid_area": null,
            "grid_auto_columns": null,
            "grid_auto_flow": null,
            "grid_auto_rows": null,
            "grid_column": null,
            "grid_gap": null,
            "grid_row": null,
            "grid_template_areas": null,
            "grid_template_columns": null,
            "grid_template_rows": null,
            "height": null,
            "justify_content": null,
            "justify_items": null,
            "left": null,
            "margin": null,
            "max_height": null,
            "max_width": null,
            "min_height": null,
            "min_width": null,
            "object_fit": null,
            "object_position": null,
            "order": null,
            "overflow": null,
            "overflow_x": null,
            "overflow_y": null,
            "padding": null,
            "right": null,
            "top": null,
            "visibility": null,
            "width": null
          }
        },
        "c087e7271aeb4f1bb06dd96ca613467d": {
          "model_module": "@jupyter-widgets/base",
          "model_name": "LayoutModel",
          "model_module_version": "1.2.0",
          "state": {
            "_model_module": "@jupyter-widgets/base",
            "_model_module_version": "1.2.0",
            "_model_name": "LayoutModel",
            "_view_count": null,
            "_view_module": "@jupyter-widgets/base",
            "_view_module_version": "1.2.0",
            "_view_name": "LayoutView",
            "align_content": null,
            "align_items": null,
            "align_self": null,
            "border": null,
            "bottom": null,
            "display": null,
            "flex": null,
            "flex_flow": null,
            "grid_area": null,
            "grid_auto_columns": null,
            "grid_auto_flow": null,
            "grid_auto_rows": null,
            "grid_column": null,
            "grid_gap": null,
            "grid_row": null,
            "grid_template_areas": null,
            "grid_template_columns": null,
            "grid_template_rows": null,
            "height": null,
            "justify_content": null,
            "justify_items": null,
            "left": null,
            "margin": null,
            "max_height": null,
            "max_width": null,
            "min_height": null,
            "min_width": null,
            "object_fit": null,
            "object_position": null,
            "order": null,
            "overflow": null,
            "overflow_x": null,
            "overflow_y": null,
            "padding": null,
            "right": null,
            "top": null,
            "visibility": null,
            "width": null
          }
        },
        "4ec656d25df64170b40d3b20a9fb17ba": {
          "model_module": "@jupyter-widgets/controls",
          "model_name": "ProgressStyleModel",
          "model_module_version": "1.5.0",
          "state": {
            "_model_module": "@jupyter-widgets/controls",
            "_model_module_version": "1.5.0",
            "_model_name": "ProgressStyleModel",
            "_view_count": null,
            "_view_module": "@jupyter-widgets/base",
            "_view_module_version": "1.2.0",
            "_view_name": "StyleView",
            "bar_color": null,
            "description_width": ""
          }
        },
        "f4cab00370704b92a45a31eeb5a3945c": {
          "model_module": "@jupyter-widgets/base",
          "model_name": "LayoutModel",
          "model_module_version": "1.2.0",
          "state": {
            "_model_module": "@jupyter-widgets/base",
            "_model_module_version": "1.2.0",
            "_model_name": "LayoutModel",
            "_view_count": null,
            "_view_module": "@jupyter-widgets/base",
            "_view_module_version": "1.2.0",
            "_view_name": "LayoutView",
            "align_content": null,
            "align_items": null,
            "align_self": null,
            "border": null,
            "bottom": null,
            "display": null,
            "flex": null,
            "flex_flow": null,
            "grid_area": null,
            "grid_auto_columns": null,
            "grid_auto_flow": null,
            "grid_auto_rows": null,
            "grid_column": null,
            "grid_gap": null,
            "grid_row": null,
            "grid_template_areas": null,
            "grid_template_columns": null,
            "grid_template_rows": null,
            "height": null,
            "justify_content": null,
            "justify_items": null,
            "left": null,
            "margin": null,
            "max_height": null,
            "max_width": null,
            "min_height": null,
            "min_width": null,
            "object_fit": null,
            "object_position": null,
            "order": null,
            "overflow": null,
            "overflow_x": null,
            "overflow_y": null,
            "padding": null,
            "right": null,
            "top": null,
            "visibility": null,
            "width": null
          }
        },
        "3d9e75a7fdc14229aa9520487ec18b9e": {
          "model_module": "@jupyter-widgets/controls",
          "model_name": "DescriptionStyleModel",
          "model_module_version": "1.5.0",
          "state": {
            "_model_module": "@jupyter-widgets/controls",
            "_model_module_version": "1.5.0",
            "_model_name": "DescriptionStyleModel",
            "_view_count": null,
            "_view_module": "@jupyter-widgets/base",
            "_view_module_version": "1.2.0",
            "_view_name": "StyleView",
            "description_width": ""
          }
        },
        "d0e8ca2f0dbc41c9a77602e3a8e5c9e7": {
          "model_module": "@jupyter-widgets/base",
          "model_name": "LayoutModel",
          "model_module_version": "1.2.0",
          "state": {
            "_model_module": "@jupyter-widgets/base",
            "_model_module_version": "1.2.0",
            "_model_name": "LayoutModel",
            "_view_count": null,
            "_view_module": "@jupyter-widgets/base",
            "_view_module_version": "1.2.0",
            "_view_name": "LayoutView",
            "align_content": null,
            "align_items": null,
            "align_self": null,
            "border": null,
            "bottom": null,
            "display": null,
            "flex": null,
            "flex_flow": null,
            "grid_area": null,
            "grid_auto_columns": null,
            "grid_auto_flow": null,
            "grid_auto_rows": null,
            "grid_column": null,
            "grid_gap": null,
            "grid_row": null,
            "grid_template_areas": null,
            "grid_template_columns": null,
            "grid_template_rows": null,
            "height": null,
            "justify_content": null,
            "justify_items": null,
            "left": null,
            "margin": null,
            "max_height": null,
            "max_width": null,
            "min_height": null,
            "min_width": null,
            "object_fit": null,
            "object_position": null,
            "order": null,
            "overflow": null,
            "overflow_x": null,
            "overflow_y": null,
            "padding": null,
            "right": null,
            "top": null,
            "visibility": null,
            "width": null
          }
        },
        "84c9beddd7314e9b9bee43687d6a300a": {
          "model_module": "@jupyter-widgets/controls",
          "model_name": "DescriptionStyleModel",
          "model_module_version": "1.5.0",
          "state": {
            "_model_module": "@jupyter-widgets/controls",
            "_model_module_version": "1.5.0",
            "_model_name": "DescriptionStyleModel",
            "_view_count": null,
            "_view_module": "@jupyter-widgets/base",
            "_view_module_version": "1.2.0",
            "_view_name": "StyleView",
            "description_width": ""
          }
        },
        "7764326cb7054c95bb76e3da8860cd0a": {
          "model_module": "@jupyter-widgets/controls",
          "model_name": "HTMLModel",
          "model_module_version": "1.5.0",
          "state": {
            "_dom_classes": [],
            "_model_module": "@jupyter-widgets/controls",
            "_model_module_version": "1.5.0",
            "_model_name": "HTMLModel",
            "_view_count": null,
            "_view_module": "@jupyter-widgets/controls",
            "_view_module_version": "1.5.0",
            "_view_name": "HTMLView",
            "description": "",
            "description_tooltip": null,
            "layout": "IPY_MODEL_f4cab00370704b92a45a31eeb5a3945c",
            "placeholder": "​",
            "style": "IPY_MODEL_3d9e75a7fdc14229aa9520487ec18b9e",
            "value": "Extracting data files: 100%"
          }
        },
        "0cc8f67aaacc467a8a91054898ac214a": {
          "model_module": "@jupyter-widgets/controls",
          "model_name": "FloatProgressModel",
          "model_module_version": "1.5.0",
          "state": {
            "_dom_classes": [],
            "_model_module": "@jupyter-widgets/controls",
            "_model_module_version": "1.5.0",
            "_model_name": "FloatProgressModel",
            "_view_count": null,
            "_view_module": "@jupyter-widgets/controls",
            "_view_module_version": "1.5.0",
            "_view_name": "ProgressView",
            "bar_style": "success",
            "description": "",
            "description_tooltip": null,
            "layout": "IPY_MODEL_c087e7271aeb4f1bb06dd96ca613467d",
            "max": 1,
            "min": 0,
            "orientation": "horizontal",
            "style": "IPY_MODEL_4ec656d25df64170b40d3b20a9fb17ba",
            "value": 1
          }
        },
        "f2c523f9beb242e48de49b4a1c2dba88": {
          "model_module": "@jupyter-widgets/controls",
          "model_name": "HTMLModel",
          "model_module_version": "1.5.0",
          "state": {
            "_dom_classes": [],
            "_model_module": "@jupyter-widgets/controls",
            "_model_module_version": "1.5.0",
            "_model_name": "HTMLModel",
            "_view_count": null,
            "_view_module": "@jupyter-widgets/controls",
            "_view_module_version": "1.5.0",
            "_view_name": "HTMLView",
            "description": "",
            "description_tooltip": null,
            "layout": "IPY_MODEL_d0e8ca2f0dbc41c9a77602e3a8e5c9e7",
            "placeholder": "​",
            "style": "IPY_MODEL_84c9beddd7314e9b9bee43687d6a300a",
            "value": " 1/1 [00:00&lt;00:00, 23.59it/s]"
          }
        },
        "188e2da36e854c319abfbed4e9a1cc0c": {
          "model_module": "@jupyter-widgets/base",
          "model_name": "LayoutModel",
          "model_module_version": "1.2.0",
          "state": {
            "_model_module": "@jupyter-widgets/base",
            "_model_module_version": "1.2.0",
            "_model_name": "LayoutModel",
            "_view_count": null,
            "_view_module": "@jupyter-widgets/base",
            "_view_module_version": "1.2.0",
            "_view_name": "LayoutView",
            "align_content": null,
            "align_items": null,
            "align_self": null,
            "border": null,
            "bottom": null,
            "display": null,
            "flex": null,
            "flex_flow": null,
            "grid_area": null,
            "grid_auto_columns": null,
            "grid_auto_flow": null,
            "grid_auto_rows": null,
            "grid_column": null,
            "grid_gap": null,
            "grid_row": null,
            "grid_template_areas": null,
            "grid_template_columns": null,
            "grid_template_rows": null,
            "height": null,
            "justify_content": null,
            "justify_items": null,
            "left": null,
            "margin": null,
            "max_height": null,
            "max_width": null,
            "min_height": null,
            "min_width": null,
            "object_fit": null,
            "object_position": null,
            "order": null,
            "overflow": null,
            "overflow_x": null,
            "overflow_y": null,
            "padding": null,
            "right": null,
            "top": null,
            "visibility": null,
            "width": null
          }
        },
        "fe65d20a949b475fafe3bcdf3e82d0c1": {
          "model_module": "@jupyter-widgets/controls",
          "model_name": "HBoxModel",
          "model_module_version": "1.5.0",
          "state": {
            "_dom_classes": [],
            "_model_module": "@jupyter-widgets/controls",
            "_model_module_version": "1.5.0",
            "_model_name": "HBoxModel",
            "_view_count": null,
            "_view_module": "@jupyter-widgets/controls",
            "_view_module_version": "1.5.0",
            "_view_name": "HBoxView",
            "box_style": "",
            "children": [
              "IPY_MODEL_7764326cb7054c95bb76e3da8860cd0a",
              "IPY_MODEL_0cc8f67aaacc467a8a91054898ac214a",
              "IPY_MODEL_f2c523f9beb242e48de49b4a1c2dba88"
            ],
            "layout": "IPY_MODEL_188e2da36e854c319abfbed4e9a1cc0c"
          }
        },
        "5c64f835e9ae48f9a8dd1ce3a5753b95": {
          "model_module": "@jupyter-widgets/base",
          "model_name": "LayoutModel",
          "model_module_version": "1.2.0",
          "state": {
            "_model_module": "@jupyter-widgets/base",
            "_model_module_version": "1.2.0",
            "_model_name": "LayoutModel",
            "_view_count": null,
            "_view_module": "@jupyter-widgets/base",
            "_view_module_version": "1.2.0",
            "_view_name": "LayoutView",
            "align_content": null,
            "align_items": null,
            "align_self": null,
            "border": null,
            "bottom": null,
            "display": null,
            "flex": null,
            "flex_flow": null,
            "grid_area": null,
            "grid_auto_columns": null,
            "grid_auto_flow": null,
            "grid_auto_rows": null,
            "grid_column": null,
            "grid_gap": null,
            "grid_row": null,
            "grid_template_areas": null,
            "grid_template_columns": null,
            "grid_template_rows": null,
            "height": null,
            "justify_content": null,
            "justify_items": null,
            "left": null,
            "margin": null,
            "max_height": null,
            "max_width": null,
            "min_height": null,
            "min_width": null,
            "object_fit": null,
            "object_position": null,
            "order": null,
            "overflow": null,
            "overflow_x": null,
            "overflow_y": null,
            "padding": null,
            "right": null,
            "top": null,
            "visibility": null,
            "width": "20px"
          }
        },
        "f2629aeb601a42a39290c0fca961aca6": {
          "model_module": "@jupyter-widgets/controls",
          "model_name": "ProgressStyleModel",
          "model_module_version": "1.5.0",
          "state": {
            "_model_module": "@jupyter-widgets/controls",
            "_model_module_version": "1.5.0",
            "_model_name": "ProgressStyleModel",
            "_view_count": null,
            "_view_module": "@jupyter-widgets/base",
            "_view_module_version": "1.2.0",
            "_view_name": "StyleView",
            "bar_color": null,
            "description_width": ""
          }
        },
        "a677b7f2e17641e4a26a3393d4f98aaa": {
          "model_module": "@jupyter-widgets/base",
          "model_name": "LayoutModel",
          "model_module_version": "1.2.0",
          "state": {
            "_model_module": "@jupyter-widgets/base",
            "_model_module_version": "1.2.0",
            "_model_name": "LayoutModel",
            "_view_count": null,
            "_view_module": "@jupyter-widgets/base",
            "_view_module_version": "1.2.0",
            "_view_name": "LayoutView",
            "align_content": null,
            "align_items": null,
            "align_self": null,
            "border": null,
            "bottom": null,
            "display": null,
            "flex": null,
            "flex_flow": null,
            "grid_area": null,
            "grid_auto_columns": null,
            "grid_auto_flow": null,
            "grid_auto_rows": null,
            "grid_column": null,
            "grid_gap": null,
            "grid_row": null,
            "grid_template_areas": null,
            "grid_template_columns": null,
            "grid_template_rows": null,
            "height": null,
            "justify_content": null,
            "justify_items": null,
            "left": null,
            "margin": null,
            "max_height": null,
            "max_width": null,
            "min_height": null,
            "min_width": null,
            "object_fit": null,
            "object_position": null,
            "order": null,
            "overflow": null,
            "overflow_x": null,
            "overflow_y": null,
            "padding": null,
            "right": null,
            "top": null,
            "visibility": null,
            "width": null
          }
        },
        "bc3ef9e531a44c91bbf43d87504fae61": {
          "model_module": "@jupyter-widgets/controls",
          "model_name": "DescriptionStyleModel",
          "model_module_version": "1.5.0",
          "state": {
            "_model_module": "@jupyter-widgets/controls",
            "_model_module_version": "1.5.0",
            "_model_name": "DescriptionStyleModel",
            "_view_count": null,
            "_view_module": "@jupyter-widgets/base",
            "_view_module_version": "1.2.0",
            "_view_name": "StyleView",
            "description_width": ""
          }
        },
        "d86591523c8d41fb8e6e216c41aafc61": {
          "model_module": "@jupyter-widgets/base",
          "model_name": "LayoutModel",
          "model_module_version": "1.2.0",
          "state": {
            "_model_module": "@jupyter-widgets/base",
            "_model_module_version": "1.2.0",
            "_model_name": "LayoutModel",
            "_view_count": null,
            "_view_module": "@jupyter-widgets/base",
            "_view_module_version": "1.2.0",
            "_view_name": "LayoutView",
            "align_content": null,
            "align_items": null,
            "align_self": null,
            "border": null,
            "bottom": null,
            "display": null,
            "flex": null,
            "flex_flow": null,
            "grid_area": null,
            "grid_auto_columns": null,
            "grid_auto_flow": null,
            "grid_auto_rows": null,
            "grid_column": null,
            "grid_gap": null,
            "grid_row": null,
            "grid_template_areas": null,
            "grid_template_columns": null,
            "grid_template_rows": null,
            "height": null,
            "justify_content": null,
            "justify_items": null,
            "left": null,
            "margin": null,
            "max_height": null,
            "max_width": null,
            "min_height": null,
            "min_width": null,
            "object_fit": null,
            "object_position": null,
            "order": null,
            "overflow": null,
            "overflow_x": null,
            "overflow_y": null,
            "padding": null,
            "right": null,
            "top": null,
            "visibility": null,
            "width": null
          }
        },
        "8ffd6662fff44db0b82c2eda30a8cb10": {
          "model_module": "@jupyter-widgets/controls",
          "model_name": "DescriptionStyleModel",
          "model_module_version": "1.5.0",
          "state": {
            "_model_module": "@jupyter-widgets/controls",
            "_model_module_version": "1.5.0",
            "_model_name": "DescriptionStyleModel",
            "_view_count": null,
            "_view_module": "@jupyter-widgets/base",
            "_view_module_version": "1.2.0",
            "_view_name": "StyleView",
            "description_width": ""
          }
        },
        "58ca046071b244cd83ccbe67fb07674b": {
          "model_module": "@jupyter-widgets/controls",
          "model_name": "HTMLModel",
          "model_module_version": "1.5.0",
          "state": {
            "_dom_classes": [],
            "_model_module": "@jupyter-widgets/controls",
            "_model_module_version": "1.5.0",
            "_model_name": "HTMLModel",
            "_view_count": null,
            "_view_module": "@jupyter-widgets/controls",
            "_view_module_version": "1.5.0",
            "_view_name": "HTMLView",
            "description": "",
            "description_tooltip": null,
            "layout": "IPY_MODEL_a677b7f2e17641e4a26a3393d4f98aaa",
            "placeholder": "​",
            "style": "IPY_MODEL_bc3ef9e531a44c91bbf43d87504fae61",
            "value": "Generating train split: "
          }
        },
        "70c20734bfdc4beaaac5fb5a54431a35": {
          "model_module": "@jupyter-widgets/controls",
          "model_name": "FloatProgressModel",
          "model_module_version": "1.5.0",
          "state": {
            "_dom_classes": [],
            "_model_module": "@jupyter-widgets/controls",
            "_model_module_version": "1.5.0",
            "_model_name": "FloatProgressModel",
            "_view_count": null,
            "_view_module": "@jupyter-widgets/controls",
            "_view_module_version": "1.5.0",
            "_view_name": "ProgressView",
            "bar_style": "info",
            "description": "",
            "description_tooltip": null,
            "layout": "IPY_MODEL_5c64f835e9ae48f9a8dd1ce3a5753b95",
            "max": 1,
            "min": 0,
            "orientation": "horizontal",
            "style": "IPY_MODEL_f2629aeb601a42a39290c0fca961aca6",
            "value": 1
          }
        },
        "c63ce3255c3f4037ba7aa09296ed24fd": {
          "model_module": "@jupyter-widgets/controls",
          "model_name": "HTMLModel",
          "model_module_version": "1.5.0",
          "state": {
            "_dom_classes": [],
            "_model_module": "@jupyter-widgets/controls",
            "_model_module_version": "1.5.0",
            "_model_name": "HTMLModel",
            "_view_count": null,
            "_view_module": "@jupyter-widgets/controls",
            "_view_module_version": "1.5.0",
            "_view_name": "HTMLView",
            "description": "",
            "description_tooltip": null,
            "layout": "IPY_MODEL_d86591523c8d41fb8e6e216c41aafc61",
            "placeholder": "​",
            "style": "IPY_MODEL_8ffd6662fff44db0b82c2eda30a8cb10",
            "value": " 14856/0 [00:18&lt;00:00, 36661.35 examples/s]"
          }
        },
        "4c96aab8efad47b99b7521eaddbcefe8": {
          "model_module": "@jupyter-widgets/base",
          "model_name": "LayoutModel",
          "model_module_version": "1.2.0",
          "state": {
            "_model_module": "@jupyter-widgets/base",
            "_model_module_version": "1.2.0",
            "_model_name": "LayoutModel",
            "_view_count": null,
            "_view_module": "@jupyter-widgets/base",
            "_view_module_version": "1.2.0",
            "_view_name": "LayoutView",
            "align_content": null,
            "align_items": null,
            "align_self": null,
            "border": null,
            "bottom": null,
            "display": null,
            "flex": null,
            "flex_flow": null,
            "grid_area": null,
            "grid_auto_columns": null,
            "grid_auto_flow": null,
            "grid_auto_rows": null,
            "grid_column": null,
            "grid_gap": null,
            "grid_row": null,
            "grid_template_areas": null,
            "grid_template_columns": null,
            "grid_template_rows": null,
            "height": null,
            "justify_content": null,
            "justify_items": null,
            "left": null,
            "margin": null,
            "max_height": null,
            "max_width": null,
            "min_height": null,
            "min_width": null,
            "object_fit": null,
            "object_position": null,
            "order": null,
            "overflow": null,
            "overflow_x": null,
            "overflow_y": null,
            "padding": null,
            "right": null,
            "top": null,
            "visibility": null,
            "width": null
          }
        },
        "519561b76ee14b70b441d8d63b2d31a4": {
          "model_module": "@jupyter-widgets/controls",
          "model_name": "HBoxModel",
          "model_module_version": "1.5.0",
          "state": {
            "_dom_classes": [],
            "_model_module": "@jupyter-widgets/controls",
            "_model_module_version": "1.5.0",
            "_model_name": "HBoxModel",
            "_view_count": null,
            "_view_module": "@jupyter-widgets/controls",
            "_view_module_version": "1.5.0",
            "_view_name": "HBoxView",
            "box_style": "",
            "children": [
              "IPY_MODEL_58ca046071b244cd83ccbe67fb07674b",
              "IPY_MODEL_70c20734bfdc4beaaac5fb5a54431a35",
              "IPY_MODEL_c63ce3255c3f4037ba7aa09296ed24fd"
            ],
            "layout": "IPY_MODEL_4c96aab8efad47b99b7521eaddbcefe8"
          }
        },
        "0c027dcba9f944ff8bc21acd107d0b04": {
          "model_module": "@jupyter-widgets/base",
          "model_name": "LayoutModel",
          "model_module_version": "1.2.0",
          "state": {
            "_model_module": "@jupyter-widgets/base",
            "_model_module_version": "1.2.0",
            "_model_name": "LayoutModel",
            "_view_count": null,
            "_view_module": "@jupyter-widgets/base",
            "_view_module_version": "1.2.0",
            "_view_name": "LayoutView",
            "align_content": null,
            "align_items": null,
            "align_self": null,
            "border": null,
            "bottom": null,
            "display": null,
            "flex": null,
            "flex_flow": null,
            "grid_area": null,
            "grid_auto_columns": null,
            "grid_auto_flow": null,
            "grid_auto_rows": null,
            "grid_column": null,
            "grid_gap": null,
            "grid_row": null,
            "grid_template_areas": null,
            "grid_template_columns": null,
            "grid_template_rows": null,
            "height": null,
            "justify_content": null,
            "justify_items": null,
            "left": null,
            "margin": null,
            "max_height": null,
            "max_width": null,
            "min_height": null,
            "min_width": null,
            "object_fit": null,
            "object_position": null,
            "order": null,
            "overflow": null,
            "overflow_x": null,
            "overflow_y": null,
            "padding": null,
            "right": null,
            "top": null,
            "visibility": null,
            "width": null
          }
        },
        "045de92db2974743bdce74d8fbe2a8c4": {
          "model_module": "@jupyter-widgets/controls",
          "model_name": "ProgressStyleModel",
          "model_module_version": "1.5.0",
          "state": {
            "_model_module": "@jupyter-widgets/controls",
            "_model_module_version": "1.5.0",
            "_model_name": "ProgressStyleModel",
            "_view_count": null,
            "_view_module": "@jupyter-widgets/base",
            "_view_module_version": "1.2.0",
            "_view_name": "StyleView",
            "bar_color": null,
            "description_width": ""
          }
        },
        "e6ee62465d554fa4b943f9da84ca7d09": {
          "model_module": "@jupyter-widgets/base",
          "model_name": "LayoutModel",
          "model_module_version": "1.2.0",
          "state": {
            "_model_module": "@jupyter-widgets/base",
            "_model_module_version": "1.2.0",
            "_model_name": "LayoutModel",
            "_view_count": null,
            "_view_module": "@jupyter-widgets/base",
            "_view_module_version": "1.2.0",
            "_view_name": "LayoutView",
            "align_content": null,
            "align_items": null,
            "align_self": null,
            "border": null,
            "bottom": null,
            "display": null,
            "flex": null,
            "flex_flow": null,
            "grid_area": null,
            "grid_auto_columns": null,
            "grid_auto_flow": null,
            "grid_auto_rows": null,
            "grid_column": null,
            "grid_gap": null,
            "grid_row": null,
            "grid_template_areas": null,
            "grid_template_columns": null,
            "grid_template_rows": null,
            "height": null,
            "justify_content": null,
            "justify_items": null,
            "left": null,
            "margin": null,
            "max_height": null,
            "max_width": null,
            "min_height": null,
            "min_width": null,
            "object_fit": null,
            "object_position": null,
            "order": null,
            "overflow": null,
            "overflow_x": null,
            "overflow_y": null,
            "padding": null,
            "right": null,
            "top": null,
            "visibility": null,
            "width": null
          }
        },
        "ac6dc27699bb482d9b43458e0b0e627d": {
          "model_module": "@jupyter-widgets/controls",
          "model_name": "DescriptionStyleModel",
          "model_module_version": "1.5.0",
          "state": {
            "_model_module": "@jupyter-widgets/controls",
            "_model_module_version": "1.5.0",
            "_model_name": "DescriptionStyleModel",
            "_view_count": null,
            "_view_module": "@jupyter-widgets/base",
            "_view_module_version": "1.2.0",
            "_view_name": "StyleView",
            "description_width": ""
          }
        },
        "32d2b0a9fd754dafb4cc351ba71d42a6": {
          "model_module": "@jupyter-widgets/base",
          "model_name": "LayoutModel",
          "model_module_version": "1.2.0",
          "state": {
            "_model_module": "@jupyter-widgets/base",
            "_model_module_version": "1.2.0",
            "_model_name": "LayoutModel",
            "_view_count": null,
            "_view_module": "@jupyter-widgets/base",
            "_view_module_version": "1.2.0",
            "_view_name": "LayoutView",
            "align_content": null,
            "align_items": null,
            "align_self": null,
            "border": null,
            "bottom": null,
            "display": null,
            "flex": null,
            "flex_flow": null,
            "grid_area": null,
            "grid_auto_columns": null,
            "grid_auto_flow": null,
            "grid_auto_rows": null,
            "grid_column": null,
            "grid_gap": null,
            "grid_row": null,
            "grid_template_areas": null,
            "grid_template_columns": null,
            "grid_template_rows": null,
            "height": null,
            "justify_content": null,
            "justify_items": null,
            "left": null,
            "margin": null,
            "max_height": null,
            "max_width": null,
            "min_height": null,
            "min_width": null,
            "object_fit": null,
            "object_position": null,
            "order": null,
            "overflow": null,
            "overflow_x": null,
            "overflow_y": null,
            "padding": null,
            "right": null,
            "top": null,
            "visibility": null,
            "width": null
          }
        },
        "b7c35f0752b546bb8360ab802f9b795c": {
          "model_module": "@jupyter-widgets/controls",
          "model_name": "DescriptionStyleModel",
          "model_module_version": "1.5.0",
          "state": {
            "_model_module": "@jupyter-widgets/controls",
            "_model_module_version": "1.5.0",
            "_model_name": "DescriptionStyleModel",
            "_view_count": null,
            "_view_module": "@jupyter-widgets/base",
            "_view_module_version": "1.2.0",
            "_view_name": "StyleView",
            "description_width": ""
          }
        },
        "08a24f97f81e470ea84e6b0663e9381e": {
          "model_module": "@jupyter-widgets/controls",
          "model_name": "HTMLModel",
          "model_module_version": "1.5.0",
          "state": {
            "_dom_classes": [],
            "_model_module": "@jupyter-widgets/controls",
            "_model_module_version": "1.5.0",
            "_model_name": "HTMLModel",
            "_view_count": null,
            "_view_module": "@jupyter-widgets/controls",
            "_view_module_version": "1.5.0",
            "_view_name": "HTMLView",
            "description": "",
            "description_tooltip": null,
            "layout": "IPY_MODEL_e6ee62465d554fa4b943f9da84ca7d09",
            "placeholder": "​",
            "style": "IPY_MODEL_ac6dc27699bb482d9b43458e0b0e627d",
            "value": "100%"
          }
        },
        "9af03e8d160a4fcbb64152a41288a8ae": {
          "model_module": "@jupyter-widgets/controls",
          "model_name": "FloatProgressModel",
          "model_module_version": "1.5.0",
          "state": {
            "_dom_classes": [],
            "_model_module": "@jupyter-widgets/controls",
            "_model_module_version": "1.5.0",
            "_model_name": "FloatProgressModel",
            "_view_count": null,
            "_view_module": "@jupyter-widgets/controls",
            "_view_module_version": "1.5.0",
            "_view_name": "ProgressView",
            "bar_style": "success",
            "description": "",
            "description_tooltip": null,
            "layout": "IPY_MODEL_0c027dcba9f944ff8bc21acd107d0b04",
            "max": 1,
            "min": 0,
            "orientation": "horizontal",
            "style": "IPY_MODEL_045de92db2974743bdce74d8fbe2a8c4",
            "value": 1
          }
        },
        "1afa3f2738cc42e08ed3de3e2b6cdac8": {
          "model_module": "@jupyter-widgets/controls",
          "model_name": "HTMLModel",
          "model_module_version": "1.5.0",
          "state": {
            "_dom_classes": [],
            "_model_module": "@jupyter-widgets/controls",
            "_model_module_version": "1.5.0",
            "_model_name": "HTMLModel",
            "_view_count": null,
            "_view_module": "@jupyter-widgets/controls",
            "_view_module_version": "1.5.0",
            "_view_name": "HTMLView",
            "description": "",
            "description_tooltip": null,
            "layout": "IPY_MODEL_32d2b0a9fd754dafb4cc351ba71d42a6",
            "placeholder": "​",
            "style": "IPY_MODEL_b7c35f0752b546bb8360ab802f9b795c",
            "value": " 1/1 [00:00&lt;00:00, 26.25it/s]"
          }
        },
        "bac806e7a68448dd9ac89780649b0807": {
          "model_module": "@jupyter-widgets/base",
          "model_name": "LayoutModel",
          "model_module_version": "1.2.0",
          "state": {
            "_model_module": "@jupyter-widgets/base",
            "_model_module_version": "1.2.0",
            "_model_name": "LayoutModel",
            "_view_count": null,
            "_view_module": "@jupyter-widgets/base",
            "_view_module_version": "1.2.0",
            "_view_name": "LayoutView",
            "align_content": null,
            "align_items": null,
            "align_self": null,
            "border": null,
            "bottom": null,
            "display": null,
            "flex": null,
            "flex_flow": null,
            "grid_area": null,
            "grid_auto_columns": null,
            "grid_auto_flow": null,
            "grid_auto_rows": null,
            "grid_column": null,
            "grid_gap": null,
            "grid_row": null,
            "grid_template_areas": null,
            "grid_template_columns": null,
            "grid_template_rows": null,
            "height": null,
            "justify_content": null,
            "justify_items": null,
            "left": null,
            "margin": null,
            "max_height": null,
            "max_width": null,
            "min_height": null,
            "min_width": null,
            "object_fit": null,
            "object_position": null,
            "order": null,
            "overflow": null,
            "overflow_x": null,
            "overflow_y": null,
            "padding": null,
            "right": null,
            "top": null,
            "visibility": null,
            "width": null
          }
        },
        "4ebb4c23ff6648e7b8308dfb80f50d01": {
          "model_module": "@jupyter-widgets/controls",
          "model_name": "HBoxModel",
          "model_module_version": "1.5.0",
          "state": {
            "_dom_classes": [],
            "_model_module": "@jupyter-widgets/controls",
            "_model_module_version": "1.5.0",
            "_model_name": "HBoxModel",
            "_view_count": null,
            "_view_module": "@jupyter-widgets/controls",
            "_view_module_version": "1.5.0",
            "_view_name": "HBoxView",
            "box_style": "",
            "children": [
              "IPY_MODEL_08a24f97f81e470ea84e6b0663e9381e",
              "IPY_MODEL_9af03e8d160a4fcbb64152a41288a8ae",
              "IPY_MODEL_1afa3f2738cc42e08ed3de3e2b6cdac8"
            ],
            "layout": "IPY_MODEL_bac806e7a68448dd9ac89780649b0807"
          }
        },
        "cd408e7627d24450a17f200d7fc3e766": {
          "model_module": "@jupyter-widgets/base",
          "model_name": "LayoutModel",
          "model_module_version": "1.2.0",
          "state": {
            "_model_module": "@jupyter-widgets/base",
            "_model_module_version": "1.2.0",
            "_model_name": "LayoutModel",
            "_view_count": null,
            "_view_module": "@jupyter-widgets/base",
            "_view_module_version": "1.2.0",
            "_view_name": "LayoutView",
            "align_content": null,
            "align_items": null,
            "align_self": null,
            "border": null,
            "bottom": null,
            "display": null,
            "flex": null,
            "flex_flow": null,
            "grid_area": null,
            "grid_auto_columns": null,
            "grid_auto_flow": null,
            "grid_auto_rows": null,
            "grid_column": null,
            "grid_gap": null,
            "grid_row": null,
            "grid_template_areas": null,
            "grid_template_columns": null,
            "grid_template_rows": null,
            "height": null,
            "justify_content": null,
            "justify_items": null,
            "left": null,
            "margin": null,
            "max_height": null,
            "max_width": null,
            "min_height": null,
            "min_width": null,
            "object_fit": null,
            "object_position": null,
            "order": null,
            "overflow": null,
            "overflow_x": null,
            "overflow_y": null,
            "padding": null,
            "right": null,
            "top": null,
            "visibility": null,
            "width": null
          }
        },
        "ade6b4faba644453ba6457113e6664a1": {
          "model_module": "@jupyter-widgets/controls",
          "model_name": "ProgressStyleModel",
          "model_module_version": "1.5.0",
          "state": {
            "_model_module": "@jupyter-widgets/controls",
            "_model_module_version": "1.5.0",
            "_model_name": "ProgressStyleModel",
            "_view_count": null,
            "_view_module": "@jupyter-widgets/base",
            "_view_module_version": "1.2.0",
            "_view_name": "StyleView",
            "bar_color": null,
            "description_width": ""
          }
        },
        "c8b45740d1f64ee0a441a92af64f40ba": {
          "model_module": "@jupyter-widgets/base",
          "model_name": "LayoutModel",
          "model_module_version": "1.2.0",
          "state": {
            "_model_module": "@jupyter-widgets/base",
            "_model_module_version": "1.2.0",
            "_model_name": "LayoutModel",
            "_view_count": null,
            "_view_module": "@jupyter-widgets/base",
            "_view_module_version": "1.2.0",
            "_view_name": "LayoutView",
            "align_content": null,
            "align_items": null,
            "align_self": null,
            "border": null,
            "bottom": null,
            "display": null,
            "flex": null,
            "flex_flow": null,
            "grid_area": null,
            "grid_auto_columns": null,
            "grid_auto_flow": null,
            "grid_auto_rows": null,
            "grid_column": null,
            "grid_gap": null,
            "grid_row": null,
            "grid_template_areas": null,
            "grid_template_columns": null,
            "grid_template_rows": null,
            "height": null,
            "justify_content": null,
            "justify_items": null,
            "left": null,
            "margin": null,
            "max_height": null,
            "max_width": null,
            "min_height": null,
            "min_width": null,
            "object_fit": null,
            "object_position": null,
            "order": null,
            "overflow": null,
            "overflow_x": null,
            "overflow_y": null,
            "padding": null,
            "right": null,
            "top": null,
            "visibility": null,
            "width": null
          }
        },
        "94449ce783ac43cea592f86bc72bff63": {
          "model_module": "@jupyter-widgets/controls",
          "model_name": "DescriptionStyleModel",
          "model_module_version": "1.5.0",
          "state": {
            "_model_module": "@jupyter-widgets/controls",
            "_model_module_version": "1.5.0",
            "_model_name": "DescriptionStyleModel",
            "_view_count": null,
            "_view_module": "@jupyter-widgets/base",
            "_view_module_version": "1.2.0",
            "_view_name": "StyleView",
            "description_width": ""
          }
        },
        "740ebdfb9e41446c9608679cee3bf121": {
          "model_module": "@jupyter-widgets/base",
          "model_name": "LayoutModel",
          "model_module_version": "1.2.0",
          "state": {
            "_model_module": "@jupyter-widgets/base",
            "_model_module_version": "1.2.0",
            "_model_name": "LayoutModel",
            "_view_count": null,
            "_view_module": "@jupyter-widgets/base",
            "_view_module_version": "1.2.0",
            "_view_name": "LayoutView",
            "align_content": null,
            "align_items": null,
            "align_self": null,
            "border": null,
            "bottom": null,
            "display": null,
            "flex": null,
            "flex_flow": null,
            "grid_area": null,
            "grid_auto_columns": null,
            "grid_auto_flow": null,
            "grid_auto_rows": null,
            "grid_column": null,
            "grid_gap": null,
            "grid_row": null,
            "grid_template_areas": null,
            "grid_template_columns": null,
            "grid_template_rows": null,
            "height": null,
            "justify_content": null,
            "justify_items": null,
            "left": null,
            "margin": null,
            "max_height": null,
            "max_width": null,
            "min_height": null,
            "min_width": null,
            "object_fit": null,
            "object_position": null,
            "order": null,
            "overflow": null,
            "overflow_x": null,
            "overflow_y": null,
            "padding": null,
            "right": null,
            "top": null,
            "visibility": null,
            "width": null
          }
        },
        "ce6d05eb201547dba7e212714bf2256c": {
          "model_module": "@jupyter-widgets/controls",
          "model_name": "DescriptionStyleModel",
          "model_module_version": "1.5.0",
          "state": {
            "_model_module": "@jupyter-widgets/controls",
            "_model_module_version": "1.5.0",
            "_model_name": "DescriptionStyleModel",
            "_view_count": null,
            "_view_module": "@jupyter-widgets/base",
            "_view_module_version": "1.2.0",
            "_view_name": "StyleView",
            "description_width": ""
          }
        },
        "40572b5c55844ba7bf428e4271d14d48": {
          "model_module": "@jupyter-widgets/controls",
          "model_name": "HTMLModel",
          "model_module_version": "1.5.0",
          "state": {
            "_dom_classes": [],
            "_model_module": "@jupyter-widgets/controls",
            "_model_module_version": "1.5.0",
            "_model_name": "HTMLModel",
            "_view_count": null,
            "_view_module": "@jupyter-widgets/controls",
            "_view_module_version": "1.5.0",
            "_view_name": "HTMLView",
            "description": "",
            "description_tooltip": null,
            "layout": "IPY_MODEL_c8b45740d1f64ee0a441a92af64f40ba",
            "placeholder": "​",
            "style": "IPY_MODEL_94449ce783ac43cea592f86bc72bff63",
            "value": "100%"
          }
        },
        "128adb0a009a47b6b60a575f28978f6b": {
          "model_module": "@jupyter-widgets/controls",
          "model_name": "FloatProgressModel",
          "model_module_version": "1.5.0",
          "state": {
            "_dom_classes": [],
            "_model_module": "@jupyter-widgets/controls",
            "_model_module_version": "1.5.0",
            "_model_name": "FloatProgressModel",
            "_view_count": null,
            "_view_module": "@jupyter-widgets/controls",
            "_view_module_version": "1.5.0",
            "_view_name": "ProgressView",
            "bar_style": "success",
            "description": "",
            "description_tooltip": null,
            "layout": "IPY_MODEL_cd408e7627d24450a17f200d7fc3e766",
            "max": 15,
            "min": 0,
            "orientation": "horizontal",
            "style": "IPY_MODEL_ade6b4faba644453ba6457113e6664a1",
            "value": 15
          }
        },
        "ce4836f29aa142fa81dff51647913ed9": {
          "model_module": "@jupyter-widgets/controls",
          "model_name": "HTMLModel",
          "model_module_version": "1.5.0",
          "state": {
            "_dom_classes": [],
            "_model_module": "@jupyter-widgets/controls",
            "_model_module_version": "1.5.0",
            "_model_name": "HTMLModel",
            "_view_count": null,
            "_view_module": "@jupyter-widgets/controls",
            "_view_module_version": "1.5.0",
            "_view_name": "HTMLView",
            "description": "",
            "description_tooltip": null,
            "layout": "IPY_MODEL_740ebdfb9e41446c9608679cee3bf121",
            "placeholder": "​",
            "style": "IPY_MODEL_ce6d05eb201547dba7e212714bf2256c",
            "value": " 15/15 [00:00&lt;00:00, 59.75ba/s]"
          }
        },
        "d7b54e24fbd34d798d9386518af8aea2": {
          "model_module": "@jupyter-widgets/base",
          "model_name": "LayoutModel",
          "model_module_version": "1.2.0",
          "state": {
            "_model_module": "@jupyter-widgets/base",
            "_model_module_version": "1.2.0",
            "_model_name": "LayoutModel",
            "_view_count": null,
            "_view_module": "@jupyter-widgets/base",
            "_view_module_version": "1.2.0",
            "_view_name": "LayoutView",
            "align_content": null,
            "align_items": null,
            "align_self": null,
            "border": null,
            "bottom": null,
            "display": null,
            "flex": null,
            "flex_flow": null,
            "grid_area": null,
            "grid_auto_columns": null,
            "grid_auto_flow": null,
            "grid_auto_rows": null,
            "grid_column": null,
            "grid_gap": null,
            "grid_row": null,
            "grid_template_areas": null,
            "grid_template_columns": null,
            "grid_template_rows": null,
            "height": null,
            "justify_content": null,
            "justify_items": null,
            "left": null,
            "margin": null,
            "max_height": null,
            "max_width": null,
            "min_height": null,
            "min_width": null,
            "object_fit": null,
            "object_position": null,
            "order": null,
            "overflow": null,
            "overflow_x": null,
            "overflow_y": null,
            "padding": null,
            "right": null,
            "top": null,
            "visibility": null,
            "width": null
          }
        },
        "84d26ec4e86b49518a50219c623520dd": {
          "model_module": "@jupyter-widgets/controls",
          "model_name": "HBoxModel",
          "model_module_version": "1.5.0",
          "state": {
            "_dom_classes": [],
            "_model_module": "@jupyter-widgets/controls",
            "_model_module_version": "1.5.0",
            "_model_name": "HBoxModel",
            "_view_count": null,
            "_view_module": "@jupyter-widgets/controls",
            "_view_module_version": "1.5.0",
            "_view_name": "HBoxView",
            "box_style": "",
            "children": [
              "IPY_MODEL_40572b5c55844ba7bf428e4271d14d48",
              "IPY_MODEL_128adb0a009a47b6b60a575f28978f6b",
              "IPY_MODEL_ce4836f29aa142fa81dff51647913ed9"
            ],
            "layout": "IPY_MODEL_d7b54e24fbd34d798d9386518af8aea2"
          }
        }
      }
    }
  },
  "cells": [
    {
      "cell_type": "markdown",
      "source": [
        "https://towardsdatascience.com/symspell-vs-bk-tree-100x-faster-fuzzy-string-search-spell-checking-c4f10d80a078#:~:text=The%20Symmetric%20Delete%20spelling%20correction%20algorithm%20reduces%20the%20complexity%20of,%2B%20inserts)%20and%20language%20independent."
      ],
      "metadata": {
        "id": "wIuiLahY8eDX"
      }
    },
    {
      "cell_type": "markdown",
      "metadata": {
        "id": "gFytNmyZsxkl"
      },
      "source": [
        "# Prepare Dataset"
      ]
    },
    {
      "cell_type": "code",
      "source": [
        "! pip -q install datasets transformers symspellpy"
      ],
      "metadata": {
        "id": "PlS7nxcQFPbe",
        "colab": {
          "base_uri": "https://localhost:8080/"
        },
        "outputId": "a6b0ebac-761b-4239-abfe-d569891a6fe4"
      },
      "execution_count": null,
      "outputs": [
        {
          "output_type": "stream",
          "name": "stdout",
          "text": [
            "\u001b[2K     \u001b[90m━━━━━━━━━━━━━━━━━━━━━━━━━━━━━━━━━━━━━━\u001b[0m \u001b[32m452.9/452.9 KB\u001b[0m \u001b[31m19.1 MB/s\u001b[0m eta \u001b[36m0:00:00\u001b[0m\n",
            "\u001b[2K     \u001b[90m━━━━━━━━━━━━━━━━━━━━━━━━━━━━━━━━━━━━━━━━\u001b[0m \u001b[32m5.8/5.8 MB\u001b[0m \u001b[31m85.2 MB/s\u001b[0m eta \u001b[36m0:00:00\u001b[0m\n",
            "\u001b[2K     \u001b[90m━━━━━━━━━━━━━━━━━━━━━━━━━━━━━━━━━━━━━━━━\u001b[0m \u001b[32m2.6/2.6 MB\u001b[0m \u001b[31m87.2 MB/s\u001b[0m eta \u001b[36m0:00:00\u001b[0m\n",
            "\u001b[2K     \u001b[90m━━━━━━━━━━━━━━━━━━━━━━━━━━━━━━━━━━━━━━\u001b[0m \u001b[32m213.0/213.0 KB\u001b[0m \u001b[31m21.1 MB/s\u001b[0m eta \u001b[36m0:00:00\u001b[0m\n",
            "\u001b[2K     \u001b[90m━━━━━━━━━━━━━━━━━━━━━━━━━━━━━━━━━━━━━━\u001b[0m \u001b[32m132.0/132.0 KB\u001b[0m \u001b[31m14.0 MB/s\u001b[0m eta \u001b[36m0:00:00\u001b[0m\n",
            "\u001b[2K     \u001b[90m━━━━━━━━━━━━━━━━━━━━━━━━━━━━━━━━━━━━━━\u001b[0m \u001b[32m182.4/182.4 KB\u001b[0m \u001b[31m23.4 MB/s\u001b[0m eta \u001b[36m0:00:00\u001b[0m\n",
            "\u001b[2K     \u001b[90m━━━━━━━━━━━━━━━━━━━━━━━━━━━━━━━━━━━━━━━━\u001b[0m \u001b[32m7.6/7.6 MB\u001b[0m \u001b[31m96.1 MB/s\u001b[0m eta \u001b[36m0:00:00\u001b[0m\n",
            "\u001b[2K     \u001b[90m━━━━━━━━━━━━━━━━━━━━━━━━━━━━━━━━━━━━━━\u001b[0m \u001b[32m126.9/126.9 KB\u001b[0m \u001b[31m17.6 MB/s\u001b[0m eta \u001b[36m0:00:00\u001b[0m\n",
            "\u001b[2K     \u001b[90m━━━━━━━━━━━━━━━━━━━━━━━━━━━━━━━━━━━━━━\u001b[0m \u001b[32m140.6/140.6 KB\u001b[0m \u001b[31m18.0 MB/s\u001b[0m eta \u001b[36m0:00:00\u001b[0m\n",
            "\u001b[?25h"
          ]
        }
      ]
    },
    {
      "cell_type": "code",
      "source": [
        "from google.colab import drive\n",
        "drive.mount('/content/drive')"
      ],
      "metadata": {
        "colab": {
          "base_uri": "https://localhost:8080/"
        },
        "id": "ECm9uX_qheij",
        "outputId": "c88c04de-189b-4615-f1cd-3a2b02bd53d7"
      },
      "execution_count": null,
      "outputs": [
        {
          "output_type": "stream",
          "name": "stdout",
          "text": [
            "Mounted at /content/drive\n"
          ]
        }
      ]
    },
    {
      "cell_type": "code",
      "source": [
        "from google.colab import output\n",
        "output.enable_custom_widget_manager()"
      ],
      "metadata": {
        "id": "BMSTyO3wFR0w"
      },
      "execution_count": null,
      "outputs": []
    },
    {
      "cell_type": "code",
      "source": [
        "!apt install git-lfs"
      ],
      "metadata": {
        "colab": {
          "base_uri": "https://localhost:8080/"
        },
        "id": "612WCxBAFcEA",
        "outputId": "d5565bab-3a87-4d17-d50e-f1c5f0053eb7"
      },
      "execution_count": null,
      "outputs": [
        {
          "output_type": "stream",
          "name": "stdout",
          "text": [
            "Reading package lists... Done\n",
            "Building dependency tree       \n",
            "Reading state information... Done\n",
            "git-lfs is already the newest version (2.3.4-1).\n",
            "The following package was automatically installed and is no longer required:\n",
            "  libnvidia-common-460\n",
            "Use 'apt autoremove' to remove it.\n",
            "0 upgraded, 0 newly installed, 0 to remove and 21 not upgraded.\n"
          ]
        }
      ]
    },
    {
      "cell_type": "code",
      "source": [
        "import transformers\n",
        "from datasets import DatasetDict, load_dataset, ClassLabel, Dataset\n",
        "import random\n",
        "import pandas as pd\n",
        "from IPython.display import display, HTML\n",
        "from pprint import pprint\n",
        "from tqdm import tqdm\n",
        "\n",
        "import time\n",
        "\n",
        "import re\n",
        "import string\n",
        "from collections import Counter\n",
        "import numpy as np\n",
        "\n",
        "print(transformers.__version__)"
      ],
      "metadata": {
        "colab": {
          "base_uri": "https://localhost:8080/"
        },
        "id": "VqN1njUHFL03",
        "outputId": "6e860e37-553a-4e98-918a-5436a25e5d95"
      },
      "execution_count": null,
      "outputs": [
        {
          "output_type": "stream",
          "name": "stdout",
          "text": [
            "4.25.1\n"
          ]
        }
      ]
    },
    {
      "cell_type": "code",
      "source": [
        "## fdfdshf_AsmDXMNqSSPMWPpvStkqoMwJYTFslhSQsWho\n",
        "\n",
        "! huggingface-cli login"
      ],
      "metadata": {
        "colab": {
          "base_uri": "https://localhost:8080/"
        },
        "id": "oAqeerSMFWPo",
        "outputId": "bcfbe358-5344-4277-b286-788ad48c771f"
      },
      "execution_count": null,
      "outputs": [
        {
          "output_type": "stream",
          "name": "stdout",
          "text": [
            "\n",
            "    _|    _|  _|    _|    _|_|_|    _|_|_|  _|_|_|  _|      _|    _|_|_|      _|_|_|_|    _|_|      _|_|_|  _|_|_|_|\n",
            "    _|    _|  _|    _|  _|        _|          _|    _|_|    _|  _|            _|        _|    _|  _|        _|\n",
            "    _|_|_|_|  _|    _|  _|  _|_|  _|  _|_|    _|    _|  _|  _|  _|  _|_|      _|_|_|    _|_|_|_|  _|        _|_|_|\n",
            "    _|    _|  _|    _|  _|    _|  _|    _|    _|    _|    _|_|  _|    _|      _|        _|    _|  _|        _|\n",
            "    _|    _|    _|_|      _|_|_|    _|_|_|  _|_|_|  _|      _|    _|_|_|      _|        _|    _|    _|_|_|  _|_|_|_|\n",
            "\n",
            "    To login, `huggingface_hub` now requires a token generated from https://huggingface.co/settings/tokens .\n",
            "    \n",
            "Token: \n",
            "Add token as git credential? (Y/n) n\n",
            "Token is valid.\n",
            "Your token has been saved to /root/.huggingface/token\n",
            "Login successful\n"
          ]
        }
      ]
    },
    {
      "cell_type": "code",
      "source": [
        "\n",
        "def show_random_elements(dataset, num_examples=10):\n",
        "    assert num_examples <= len(dataset), \"Can't pick more elements than there are in the dataset.\"\n",
        "    picks = []\n",
        "    for _ in range(num_examples):\n",
        "        pick = random.randint(0, len(dataset)-1)\n",
        "        while pick in picks:\n",
        "            pick = random.randint(0, len(dataset)-1)\n",
        "        picks.append(pick)\n",
        "\n",
        "    df = pd.DataFrame(dataset[picks])\n",
        "    for column, typ in dataset.features.items():\n",
        "        if isinstance(typ, ClassLabel):\n",
        "            df[column] = df[column].transform(lambda i: typ.names[i])\n",
        "    display(HTML(df.to_html()))\n",
        "    return df\n",
        "\n"
      ],
      "metadata": {
        "id": "7OaDOI-eFhKI"
      },
      "execution_count": null,
      "outputs": []
    },
    {
      "cell_type": "markdown",
      "source": [
        "### local csv"
      ],
      "metadata": {
        "id": "ESO6XpKmlWeU"
      }
    },
    {
      "cell_type": "code",
      "source": [
        "my_codemixed_source = r'/content/drive/MyDrive/Homoglyphed code-mixed/Datsets/source/my_code_mixed_11k.csv'\n",
        "IIITH_source = r'/content/drive/MyDrive/Homoglyphed code-mixed/Datsets/source/IIITH_Codemixed.csv'\n",
        "\n",
        "datasets = load_dataset(\"csv\", data_files=[my_codemixed_source,IIITH_source])\n",
        "\n",
        "datasets = datasets.rename_column(\"content\", \"text\")\n",
        "datasets = datasets.remove_columns(['Unnamed: 0', 'label'])\n",
        "datasets = datasets.filter(lambda example: len(example[\"text\"].split())>3).shuffle(seed=42)\n",
        "datasets['test'] = datasets['train']\n",
        "\n",
        "# datasets = DatasetDict({\n",
        "#     # 'train': Dataset.from_list(datasets['train']['content']),\n",
        "#     'test': datasets['train'],\n",
        "#     # 'valid': Dataset.from_dict(datasets['valid'][:test_n])\n",
        "#     })"
      ],
      "metadata": {
        "colab": {
          "base_uri": "https://localhost:8080/",
          "referenced_widgets": [
            "21f736fc0d554d38a30b3d386749a7d9",
            "e6f171a69312480f8a93c873107b6601",
            "64fad9ef48fc4545ab35509487b2185c",
            "b15e99766b924280901294a2479453d5",
            "8998a04babbe4d668bb390cce9a1aa7a",
            "21b973f94b3f40eaabd01c42f0ce2932",
            "c8d950909a304171ae0f8519b08f6f61",
            "e60f3f628a3d423f8c5777380a247d38",
            "f76e8b66ff1b49ca9d07c38ba2724e62",
            "f605e02b67424fa4a2533f6d55ac103b",
            "1600e83464d94c01b57ca3f6d9b70a19",
            "d0f7c0dce5644b99866b013f56c22922",
            "17a91d0345f946d3bb84c2a24a003520",
            "9028a79dd00743a9af277006b8fdda3e",
            "d083cf389a7c4fce84a1ac0c58757a15",
            "ad0e82faec41472aaa536d7659a8f2d9",
            "2c4e4c48a67542619299dd51e9f843c4",
            "22efcd27a5d648c6841c63d04d491f5a",
            "bc37eb72444b43e2b69a18a778f711df",
            "f32edcd8ac6a44f2a6ff95c93c47429f",
            "6fb35c9f9b7a4b318cca66eb42a672b7",
            "c087e7271aeb4f1bb06dd96ca613467d",
            "4ec656d25df64170b40d3b20a9fb17ba",
            "f4cab00370704b92a45a31eeb5a3945c",
            "3d9e75a7fdc14229aa9520487ec18b9e",
            "d0e8ca2f0dbc41c9a77602e3a8e5c9e7",
            "84c9beddd7314e9b9bee43687d6a300a",
            "7764326cb7054c95bb76e3da8860cd0a",
            "0cc8f67aaacc467a8a91054898ac214a",
            "f2c523f9beb242e48de49b4a1c2dba88",
            "188e2da36e854c319abfbed4e9a1cc0c",
            "fe65d20a949b475fafe3bcdf3e82d0c1",
            "5c64f835e9ae48f9a8dd1ce3a5753b95",
            "f2629aeb601a42a39290c0fca961aca6",
            "a677b7f2e17641e4a26a3393d4f98aaa",
            "bc3ef9e531a44c91bbf43d87504fae61",
            "d86591523c8d41fb8e6e216c41aafc61",
            "8ffd6662fff44db0b82c2eda30a8cb10",
            "58ca046071b244cd83ccbe67fb07674b",
            "70c20734bfdc4beaaac5fb5a54431a35",
            "c63ce3255c3f4037ba7aa09296ed24fd",
            "4c96aab8efad47b99b7521eaddbcefe8",
            "519561b76ee14b70b441d8d63b2d31a4",
            "0c027dcba9f944ff8bc21acd107d0b04",
            "045de92db2974743bdce74d8fbe2a8c4",
            "e6ee62465d554fa4b943f9da84ca7d09",
            "ac6dc27699bb482d9b43458e0b0e627d",
            "32d2b0a9fd754dafb4cc351ba71d42a6",
            "b7c35f0752b546bb8360ab802f9b795c",
            "08a24f97f81e470ea84e6b0663e9381e",
            "9af03e8d160a4fcbb64152a41288a8ae",
            "1afa3f2738cc42e08ed3de3e2b6cdac8",
            "bac806e7a68448dd9ac89780649b0807",
            "4ebb4c23ff6648e7b8308dfb80f50d01",
            "cd408e7627d24450a17f200d7fc3e766",
            "ade6b4faba644453ba6457113e6664a1",
            "c8b45740d1f64ee0a441a92af64f40ba",
            "94449ce783ac43cea592f86bc72bff63",
            "740ebdfb9e41446c9608679cee3bf121",
            "ce6d05eb201547dba7e212714bf2256c",
            "40572b5c55844ba7bf428e4271d14d48",
            "128adb0a009a47b6b60a575f28978f6b",
            "ce4836f29aa142fa81dff51647913ed9",
            "d7b54e24fbd34d798d9386518af8aea2",
            "84d26ec4e86b49518a50219c623520dd"
          ]
        },
        "id": "wweUXKE5kq2r",
        "outputId": "7fc07694-2364-4681-d137-cb8e9bee723c"
      },
      "execution_count": null,
      "outputs": [
        {
          "output_type": "stream",
          "name": "stderr",
          "text": [
            "WARNING:datasets.builder:Using custom data configuration default-0cd5a21bec5308d3\n"
          ]
        },
        {
          "output_type": "stream",
          "name": "stdout",
          "text": [
            "Downloading and preparing dataset csv/default to /root/.cache/huggingface/datasets/csv/default-0cd5a21bec5308d3/0.0.0/6b34fb8fcf56f7c8ba51dc895bfa2bfbe43546f190a60fcf74bb5e8afdcc2317...\n"
          ]
        },
        {
          "output_type": "display_data",
          "data": {
            "text/plain": [
              "Downloading data files:   0%|          | 0/1 [00:00<?, ?it/s]"
            ],
            "application/vnd.jupyter.widget-view+json": {
              "version_major": 2,
              "version_minor": 0,
              "model_id": "21f736fc0d554d38a30b3d386749a7d9"
            }
          },
          "metadata": {
            "application/vnd.jupyter.widget-view+json": {
              "colab": {
                "custom_widget_manager": {
                  "url": "https://ssl.gstatic.com/colaboratory-static/widgets/colab-cdn-widget-manager/b3e629b1971e1542/manager.min.js"
                }
              }
            }
          }
        },
        {
          "output_type": "display_data",
          "data": {
            "text/plain": [
              "Extracting data files:   0%|          | 0/1 [00:00<?, ?it/s]"
            ],
            "application/vnd.jupyter.widget-view+json": {
              "version_major": 2,
              "version_minor": 0,
              "model_id": "fe65d20a949b475fafe3bcdf3e82d0c1"
            }
          },
          "metadata": {
            "application/vnd.jupyter.widget-view+json": {
              "colab": {
                "custom_widget_manager": {
                  "url": "https://ssl.gstatic.com/colaboratory-static/widgets/colab-cdn-widget-manager/b3e629b1971e1542/manager.min.js"
                }
              }
            }
          }
        },
        {
          "output_type": "display_data",
          "data": {
            "text/plain": [
              "Generating train split: 0 examples [00:00, ? examples/s]"
            ],
            "application/vnd.jupyter.widget-view+json": {
              "version_major": 2,
              "version_minor": 0,
              "model_id": "519561b76ee14b70b441d8d63b2d31a4"
            }
          },
          "metadata": {
            "application/vnd.jupyter.widget-view+json": {
              "colab": {
                "custom_widget_manager": {
                  "url": "https://ssl.gstatic.com/colaboratory-static/widgets/colab-cdn-widget-manager/b3e629b1971e1542/manager.min.js"
                }
              }
            }
          }
        },
        {
          "output_type": "stream",
          "name": "stdout",
          "text": [
            "Dataset csv downloaded and prepared to /root/.cache/huggingface/datasets/csv/default-0cd5a21bec5308d3/0.0.0/6b34fb8fcf56f7c8ba51dc895bfa2bfbe43546f190a60fcf74bb5e8afdcc2317. Subsequent calls will reuse this data.\n"
          ]
        },
        {
          "output_type": "display_data",
          "data": {
            "text/plain": [
              "  0%|          | 0/1 [00:00<?, ?it/s]"
            ],
            "application/vnd.jupyter.widget-view+json": {
              "version_major": 2,
              "version_minor": 0,
              "model_id": "4ebb4c23ff6648e7b8308dfb80f50d01"
            }
          },
          "metadata": {
            "application/vnd.jupyter.widget-view+json": {
              "colab": {
                "custom_widget_manager": {
                  "url": "https://ssl.gstatic.com/colaboratory-static/widgets/colab-cdn-widget-manager/b3e629b1971e1542/manager.min.js"
                }
              }
            }
          }
        },
        {
          "output_type": "display_data",
          "data": {
            "text/plain": [
              "  0%|          | 0/15 [00:00<?, ?ba/s]"
            ],
            "application/vnd.jupyter.widget-view+json": {
              "version_major": 2,
              "version_minor": 0,
              "model_id": "84d26ec4e86b49518a50219c623520dd"
            }
          },
          "metadata": {
            "application/vnd.jupyter.widget-view+json": {
              "colab": {
                "custom_widget_manager": {
                  "url": "https://ssl.gstatic.com/colaboratory-static/widgets/colab-cdn-widget-manager/b3e629b1971e1542/manager.min.js"
                }
              }
            }
          }
        }
      ]
    },
    {
      "cell_type": "markdown",
      "metadata": {
        "id": "-epyfgOuF7Qw"
      },
      "source": [
        "### reduce samples for testing locally"
      ]
    },
    {
      "cell_type": "code",
      "execution_count": null,
      "metadata": {
        "id": "_72NFMcUF5-p"
      },
      "outputs": [],
      "source": [
        "# test_n = 8_000_000\n",
        "# datasets = DatasetDict({\n",
        "#     'train': Dataset.from_dict(datasets['train'][:test_n]),\n",
        "#     'test': Dataset.from_dict(datasets['test'][:test_n]),\n",
        "#     'valid': Dataset.from_dict(datasets['valid'][:test_n])\n",
        "#     })"
      ]
    },
    {
      "cell_type": "code",
      "source": [
        "test_n = 5_000_000\n",
        "datasets = DatasetDict({\n",
        "    'train': Dataset.from_dict(datasets['train'][:test_n]),\n",
        "    })"
      ],
      "metadata": {
        "id": "RbJOKDe6KhLG"
      },
      "execution_count": null,
      "outputs": []
    },
    {
      "cell_type": "markdown",
      "metadata": {
        "id": "7pwDkwBnuV9M"
      },
      "source": [
        "### Check dataset"
      ]
    },
    {
      "cell_type": "code",
      "execution_count": null,
      "metadata": {
        "colab": {
          "base_uri": "https://localhost:8080/"
        },
        "id": "RtXraaCStlLN",
        "outputId": "4ea6e73e-5438-427f-b4cd-ab9e723c9bbb"
      },
      "outputs": [
        {
          "output_type": "execute_result",
          "data": {
            "text/plain": [
              "DatasetDict({\n",
              "    train: Dataset({\n",
              "        features: ['text'],\n",
              "        num_rows: 13531\n",
              "    })\n",
              "    test: Dataset({\n",
              "        features: ['text'],\n",
              "        num_rows: 13531\n",
              "    })\n",
              "})"
            ]
          },
          "metadata": {},
          "execution_count": 9
        }
      ],
      "source": [
        "datasets"
      ]
    },
    {
      "cell_type": "code",
      "execution_count": null,
      "metadata": {
        "colab": {
          "base_uri": "https://localhost:8080/",
          "height": 380
        },
        "id": "V-llfyZXuGh7",
        "outputId": "e799b320-0881-4cba-e2f4-59c4d8c988f6"
      },
      "outputs": [
        {
          "output_type": "display_data",
          "data": {
            "text/plain": [
              "<IPython.core.display.HTML object>"
            ],
            "text/html": [
              "<table border=\"1\" class=\"dataframe\">\n",
              "  <thead>\n",
              "    <tr style=\"text-align: right;\">\n",
              "      <th></th>\n",
              "      <th>text</th>\n",
              "    </tr>\n",
              "  </thead>\n",
              "  <tbody>\n",
              "    <tr>\n",
              "      <th>0</th>\n",
              "      <td>Super duper hit.rahegi bhai</td>\n",
              "    </tr>\n",
              "    <tr>\n",
              "      <th>1</th>\n",
              "      <td>PM MODI JI BAHUT UDARWADI VIKAS PURUS HAIN</td>\n",
              "    </tr>\n",
              "    <tr>\n",
              "      <th>2</th>\n",
              "      <td>Tu bolke bhi kya aukhad lega pehle carry pe roast kiya toh anjam dekh kr samjh ni ayi kya or papa h tera or papa ko bolne ki aukaat ni h tumhari ohhhhhhhhhhhhhhhhhhhhhhhhhhhhh</td>\n",
              "    </tr>\n",
              "    <tr>\n",
              "      <th>3</th>\n",
              "      <td>Wah Sirji esi situation bhi aap ne kafi acchi bat kah di what a great Thaught thumbs_up OK_hand folded_hands</td>\n",
              "    </tr>\n",
              "    <tr>\n",
              "      <th>4</th>\n",
              "      <td>Tukde gang ki pawn</td>\n",
              "    </tr>\n",
              "    <tr>\n",
              "      <th>5</th>\n",
              "      <td>salman sir plz 5:00 pm kar dou plz 4:00 pm mein nai baat kar saku gi aapse plz sir plz</td>\n",
              "    </tr>\n",
              "    <tr>\n",
              "      <th>6</th>\n",
              "      <td>Tumhare baap main dumm hai to Arakshan hatake dikhao phir batat hu Jay Bhim arakshanjaruri</td>\n",
              "    </tr>\n",
              "    <tr>\n",
              "      <th>7</th>\n",
              "      <td>Wahh baba ramdev g ab Kya kahoge clapping_hands BabaRamdev SayNoToPatanjali ArrestRamdev</td>\n",
              "    </tr>\n",
              "    <tr>\n",
              "      <th>8</th>\n",
              "      <td>Wah Re ! fire fire</td>\n",
              "    </tr>\n",
              "    <tr>\n",
              "      <th>9</th>\n",
              "      <td>Ye kya jawab denge Mam</td>\n",
              "    </tr>\n",
              "  </tbody>\n",
              "</table>"
            ]
          },
          "metadata": {}
        }
      ],
      "source": [
        "random_tokens = show_random_elements(datasets[\"train\"])"
      ]
    },
    {
      "cell_type": "markdown",
      "source": [
        "# Candidate word recommender by Symspell\n",
        "\n",
        "https://github.com/mammothb/symspellpy"
      ],
      "metadata": {
        "id": "MkietIp55t6X"
      }
    },
    {
      "cell_type": "markdown",
      "source": [
        "## new"
      ],
      "metadata": {
        "id": "fmICoqUmswM9"
      }
    },
    {
      "cell_type": "code",
      "source": [
        "words = []\n",
        "for line in tqdm(datasets[\"train\"]):\n",
        "  words += re.findall(r'\\w+', line['text'].lower())\n",
        "\n",
        "# vocabs = set(words)\n",
        "word_counts = Counter(words)\n",
        "# total_words = float(sum(word_counts.values()))\n",
        "words_counts = dict(word_counts)"
      ],
      "metadata": {
        "colab": {
          "base_uri": "https://localhost:8080/"
        },
        "id": "KpiFHWbCfWX9",
        "outputId": "e8e03789-ed4d-4a6a-b764-479ffe5802e7"
      },
      "execution_count": null,
      "outputs": [
        {
          "output_type": "stream",
          "name": "stderr",
          "text": [
            "\n",
            "  0%|          | 0/13531 [00:00<?, ?it/s]\u001b[A\n",
            "  8%|▊         | 1045/13531 [00:00<00:01, 10438.31it/s]\u001b[A\n",
            " 15%|█▌        | 2089/13531 [00:00<00:01, 9649.54it/s] \u001b[A\n",
            " 24%|██▎       | 3192/13531 [00:00<00:01, 10252.22it/s]\u001b[A\n",
            " 32%|███▏      | 4380/13531 [00:00<00:00, 10876.75it/s]\u001b[A\n",
            " 41%|████      | 5518/13531 [00:00<00:00, 11052.71it/s]\u001b[A\n",
            " 49%|████▉     | 6627/13531 [00:00<00:00, 10771.21it/s]\u001b[A\n",
            " 57%|█████▋    | 7738/13531 [00:00<00:00, 10876.75it/s]\u001b[A\n",
            " 65%|██████▌   | 8829/13531 [00:00<00:00, 10745.11it/s]\u001b[A\n",
            " 73%|███████▎  | 9906/13531 [00:00<00:00, 10624.38it/s]\u001b[A\n",
            " 81%|████████▏ | 11000/13531 [00:01<00:00, 10718.99it/s]\u001b[A\n",
            " 89%|████████▉ | 12074/13531 [00:01<00:00, 10228.57it/s]\u001b[A\n",
            "100%|██████████| 13531/13531 [00:01<00:00, 10526.63it/s]\n"
          ]
        }
      ]
    },
    {
      "cell_type": "code",
      "source": [
        "pd.DataFrame([[i for i in word_counts.keys()], [j for j in word_counts.values()]]).T.to_csv(r'/content/drive/MyDrive/Homoglyphed code-mixed/Spelling_corrector/frequency_dict/local_13k.txt', header=None, index=None, sep=' ', mode='a')"
      ],
      "metadata": {
        "id": "LBvLm0DafdID"
      },
      "execution_count": null,
      "outputs": []
    },
    {
      "cell_type": "code",
      "source": [
        "from symspellpy import SymSpell, Verbosity\n",
        "\n",
        "sym_spell = SymSpell()\n",
        "corpus_path = r'/content/pandas.txt'\n",
        "sym_spell.load_dictionary(corpus_path,0,1)\n",
        "\n",
        "sym_spell._max_dictionary_edit_distance=10\n",
        "\n",
        "print(sym_spell.words)\n",
        "print(sym_spell._max_dictionary_edit_distance)"
      ],
      "metadata": {
        "colab": {
          "base_uri": "https://localhost:8080/"
        },
        "id": "5EOCmUb8fxEH",
        "outputId": "de9f03f1-19c2-46d6-aa4b-f379a54d611b"
      },
      "execution_count": null,
      "outputs": [
        {
          "output_type": "stream",
          "name": "stdout",
          "text": [
            "{'aap': 2544, 'ye': 5433, 'btaie': 3, 'ki': 6429, 'lucknow': 24, 'kyu': 423, 'nhi': 1803, 'ate': 18, 'hai': 13878, 'woh': 417, 'chali': 57, 'dekho': 249, 'pyar': 1644, 'gali': 60, 'ussey': 6, 'rokna': 3, 'koi': 1803, 'fatehsagar': 9, 'smiling_face_with_heart': 1149, 'eyes': 1245, 'kya': 9921, 'mujhe': 705, 'miss': 174, 'kar': 2115, 'rahe': 1176, 'ho': 5733, 'picture': 111, 'by': 480, 'udaipur': 72, 'udaipurdiaries': 12, 'udaipurdairies': 3, 'udaipurcity': 6, 'udaipurlove': 6, 'udaipurtimes': 6, 'udaipurite': 9, 'udaipurlakecity': 3, 'udaipurblog': 9, 'bhai': 4800, 'aapki': 216, 'movie': 708, 'chhappar': 3, 'far': 6, 'dega': 96, 'allah': 276, 'kare': 450, 'app': 303, 'film': 495, 'bajrangi': 591, 'bhaijaan': 960, 'south': 15, 'therator': 3, 'mey': 30, 'reliz': 3, 'jaye': 309, 'bharat': 309, 'mata': 63, 'jai': 372, 'wo': 1194, 'jahil': 9, 'h': 3141, 'na': 2043, 'hi': 3177, 'unne': 3, 'science': 21, 'pdi': 6, 'aur': 2403, 'quran': 18, 'me': 4926, 'saaf': 33, 'likha': 84, 'jo': 1671, 'apne': 792, 'watan': 18, 'se': 4608, 'muhabbat': 18, 'kre': 90, 'sachcha': 12, 'musalman': 129, 'when': 1047, 'you': 2562, 'kissing': 3, 'her': 162, 'from': 429, 'last': 141, 'minute': 21, 'amp': 663, 'your': 666, 'dick': 3, 'on': 1071, 'fire': 285, 'yeh': 1515, 'neta': 93, 'naam': 294, 'ke': 4830, 'prajati': 3, 'is': 3060, 'desh': 795, 'ko': 4656, 'le': 441, 'dubegi': 3, 'police': 207, 'ka': 4302, 'to': 7971, 'jese': 111, 'wajood': 9, 'nahee': 6, 'he': 3612, 'bhi': 3834, 'sirf': 441, 'ghooskhori': 3, 'gandu': 93, 's': 1530, 'mullo': 12, 'bh': 18, 'wah': 4950, 'sexy': 24, 'i': 2364, 'likely': 6, 'and': 2235, 'for': 1581, 'next': 81, 'vo': 507, 'online': 120, 'classs': 3, 'mein': 1263, 'teacher': 162, 'camera': 21, 'karvana': 6, 'jaruri': 72, 'pouting_face': 363, 'face_with_tears_of_joy': 3090, 'tweet': 285, 'mera': 870, 'duniya': 306, 'nahi': 3372, 'my': 1068, 'mobile': 42, 'be': 711, 'like': 729, 'bhosdike': 9, 'today': 459, 'performance': 30, 'pic': 192, 'in': 2181, 'aquest': 3, 'engineering': 18, 'quiz': 6, 'of': 2397, 'ishrae': 3, 'one': 423, 'favourite': 57, 'aj': 138, 'party': 636, 'taraf': 114, 'where': 147, 'we': 1098, 'felt': 45, 'good': 423, 'about': 294, 'policies': 3, 'banda': 63, 'workout': 6, 'itna': 447, 'busy': 81, 'isne': 27, 'post': 174, 'kiya': 888, 'new': 219, 'song': 378, 'aaraha': 12, 'loudly_crying_face': 1350, 'yaar': 4467, 'bhaiya': 111, 'aisa': 249, 'thodi': 123, 'hota': 825, 'itte': 3, 'updates': 21, 'deta': 132, 'hu': 933, 'follow': 198, 'krta': 90, 'swara': 15, 'madam': 57, 'corona': 186, 'aaaya': 6, 'chala': 150, 'jayega': 210, 'but': 765, 'log': 1020, 'ne': 1296, 'hindu': 237, 'muslim': 228, 'propaganda': 9, 'baitha': 18, 'bada': 201, 'faila': 9, 'rakha': 141, 'uska': 156, 'hoga': 813, 'shame': 51, 'bhasker': 3, 'face_with_rolling_eyes': 318, 'arrestswarabhasker': 3, 'as': 312, 'well': 195, 'team': 219, 'panchhi': 3, 'gai': 234, 'callpus': 6, 'hain': 1254, 'shoot': 24, 'bey': 42, 'dhakko': 6, 'maar': 72, 'with': 987, 'the': 3765, 'star': 135, 'cast': 30, 'nalsarovar': 3, 'bird': 9, 'sanctuary': 3, 'india': 834, 'mhow': 6, 'holi': 51, 'bhaanghangover': 3, 'highonbhaang': 3, 'sastenashe': 3, 'sarcasm': 9, 'meme': 33, 'mica': 6, 'tab': 186, 'rha': 411, 'jab': 570, 'tum': 1386, 'paida': 54, 'hue': 153, 'thoda': 213, 'sukoon': 27, 'dhundiye': 9, 'janab': 285, 'zarurate': 3, 'kabhi': 570, 'katam': 6, 'hongi': 9, 'apna': 372, 'sapna': 57, 'pura': 165, 'karne': 474, 'liye': 1353, 'puri': 165, 'dokha': 6, 'de': 723, 'sakta': 267, 'lo': 318, 'set': 36, 'huge': 36, 'total': 12, 'overseas': 9, 'market': 30, 'can': 486, 'go': 195, 'over': 129, 'million': 42, 'crworldwide': 6, 'flexed_biceps': 129, 'bohot': 174, 'time': 786, 'hogaya': 36, 'abb': 42, 'toh': 1254, 'shuru': 57, 'karo': 771, 'aah': 15, 'salman': 2571, 'aaj': 807, '4': 438, 'bje': 60, 'khana': 480, 'benana': 3, 'kel': 3, 'rekhlo': 3, 'dear': 54, 'subha': 45, '11': 12, 'nai': 507, 'posible': 3, 'plz': 822, 'try': 75, 'understand': 39, 'this': 1581, 'year': 174, 'need': 177, 'dukh': 393, 'harta': 15, 'take': 129, 'away': 39, 'our': 369, 'problems': 30, 'bless': 60, 'us': 444, 'better': 90, 'times': 27, 'wishing': 57, 'safety': 30, 'peace': 21, 'all': 627, 'happyganeshchaturthi': 6, 'folded_hands': 1146, 'medium': 183, 'light_skin_tone': 636, 'tata': 36, 'vale': 99, 'bhul': 120, 'gaye': 618, 'tension': 42, 'leneka': 6, 'nehi': 66, 'apki': 237, 'pose': 12, 'mast': 102, 'bacho': 21, 'sath': 651, 'exclusive': 3, 'jaan': 612, 'baj': 204, 'gye': 246, 'teri': 720, 'padhai': 120, 'main': 963, 'mar': 204, 'jaunga': 36, 'phir': 279, 'tumko': 69, 'padhunga': 3, 'exam': 309, 'wid': 48, 'phirbhitumkochaahunga': 3, 'dekh': 450, 'liya': 312, 'd': 459, 'male_sign': 87, 'bhutto': 6, 'khan': 789, 'pankidukan': 3, 'london': 30, 'streets': 3, 'pakay': 3, 'dost': 1128, 'thought': 48, 'day': 414, 'ek': 1917, 'barr': 9, 'gujrat': 33, 'aake': 39, 'ghost': 30, 'sab': 1260, 'dhongi': 3, 'baaji': 9, 'chodo': 18, 'watch': 159, 'ram': 111, 'leela': 6, 'youtube': 93, 'home': 111, 'guard': 6, 'logo': 423, 'bhalaye': 3, 'pechele': 6, 'baad': 282, 'bade': 141, 'kaam': 378, 'kerna': 6, 'chotta': 3, 'sa': 222, 'kerdo': 3, 'gaya': 900, 'miyan': 12, 'ankhon': 15, 'mai': 930, 'dikhta': 63, 'meri': 834, 'ankho': 21, 'tujhe': 291, 'welcome': 87, 'narendramodi': 36, 'at': 528, 'airport': 18, 'vegda': 12, 'bapu': 72, 'iproud': 3, 'u': 1479, 'water_pistol': 48, 'mohabbat': 123, 'mukkamal': 3, 'jaldi': 231, 'isko': 99, 'bahot': 183, 'bolti': 48, 'kahaan': 30, 'tu': 1419, 'tired_face': 54, 'face_screaming_in_fear': 69, 'angry_face': 186, 'insan': 105, 'ya': 846, 'janvar': 3, 'use': 306, 'kr': 636, 'k': 2082, 'kismat': 45, 'jag': 18, 'gyi': 87, 'acha': 183, 'hay': 105, 'tou': 48, 'behtar': 15, 'khud': 318, 'fans': 180, 'bolte': 144, 'lekin': 336, 'ban': 264, 'sakte': 267, 'kyuki': 66, 'kosis': 15, 'hee': 66, 'samjhne': 12, 'ashu': 18, 'sing': 30, 'tumhari': 186, 'saat': 15, 'howa': 6, 'mandira': 3, 'haaaaaaaaa': 3, 'oncoming_fist': 33, 'collision': 66, 'grinning_face': 291, 'kuchh': 201, 'din': 795, 'control': 27, 'chai': 1845, 'hot_beverage': 216, 'lovers': 48, 'jantacurfew': 6, 'jantacurfewpledge': 3, 'jantacurfewchallenge': 6, 'chailovers': 18, 'tealovers': 30, 'race': 45, 'gearing': 15, 'up': 402, 'eid': 384, 'ji': 1557, 'flood': 3, 'pai': 18, 'advertising': 9, 'gajab': 27, 'jallad': 3, 'tumhere': 3, 'line': 141, 'marta': 18, 'mil': 324, 'jave': 12, 'apni': 399, 'aurat': 15, 'chod': 69, 'deve': 6, 'harami': 246, 'pure': 120, 'pakistan': 267, 'bech': 33, 'ushka': 6, 'pati': 48, 'friend': 195, 'sip': 9, 'bdyijati': 3, 'gujarati': 78, 'orat': 3, 'or': 2301, 'hihi': 3, 'caleyim': 3, 'cr': 39, 'dolar': 3, 'cesh': 3, 'swath': 6, 'do': 1434, 'chutiye': 264, 'folowar': 3, 'two': 135, 'great': 255, 'things': 105, 'childfund': 3, 'happy': 600, 'face': 294, 'smiley': 207, 'kahege': 3, 'inse': 18, 'ache': 444, 'modiji': 240, 'grinning_face_with_sweat': 345, 'zee': 30, 'news': 288, 'should': 177, 'pay': 36, 'his': 213, 'apology': 6, 'leaders': 24, 'aam': 885, 'admi': 138, 'their': 174, 'criticism': 3, 'tihad': 3, 'kab': 1815, 'ja': 270, 'waqt': 249, 'bahut': 573, 'bhari': 21, 'gae': 57, 'bhaijan': 228, 'abhi': 558, 'ana': 57, 'baaki': 78, 'unka': 105, 'prati': 15, 'aadar': 3, 'chup': 96, 'rah': 66, 'chor': 96, 'pucca': 3, 'rajiv': 36, 'gandhi': 111, 'ijjat': 27, 'rahegi': 24, 'par': 1215, 'bofors': 3, 'paisa': 87, 'khaya': 42, 'tha': 1200, 'sasural': 12, 'walon': 39, 'saath': 264, 'rehne': 54, 'digvijaysenahopayega': 3, 'why': 555, 'iamwithjaypanda': 3, 'because': 111, 'man': 252, 'behind': 24, 'odia': 3, 'panda': 15, 'love': 1254, 'will': 486, 'sir': 1689, 'yehhhhhh': 3, 'fir': 447, 'tuning': 3, 'cnwk': 9, 'luv': 84, 'jago': 30, 'mohan': 3, 'pyare': 99, 'mama': 36, 'umesh': 15, 'yadav': 57, 'bsdk': 33, 'sandhya': 3, 'slman': 18, 'bat': 513, 'karega': 132, 'reply': 444, 'dijiye': 72, 'salmaan': 60, 'fauran': 3, 'mintues': 6, 'yahi': 249, 'twitter': 375, 'pe': 1185, 'waste': 15, 'doge': 69, 'nahana': 15, 'dhona': 39, 'court': 114, 'sc': 18, 'st': 102, 'sayad': 33, 'pasand': 99, 'n': 573, 'karti': 138, 'isliye': 93, 'jangan': 3, 'dulu': 3, 'ada': 39, 'yg': 3, 'doain': 3, 'km': 45, 'gini': 3, 'cil': 3, 'youngstar': 3, 'live': 129, 'loved': 24, 'concept': 6, 'maggi': 15, 'wahh': 75, 'baba': 123, 'ramdev': 9, 'g': 279, 'ab': 1206, 'kahoge': 6, 'clapping_hands': 483, 'babaramdev': 3, 'saynotopatanjali': 3, 'arrestramdev': 3, 'they': 453, 'are': 1200, 'playing': 33, 'foot': 12, 'no': 756, 'dusre': 51, 'kandhe': 6, 'rakhke': 6, 'goli': 48, 'chalana': 21, 'aeda': 3, 'bake': 6, 'peda': 6, 'manipulation': 3, 'pr': 345, 'survive': 6, 'karna': 567, 'bitching': 6, 'a': 2256, 'real': 153, 'bitch': 3, 'game': 51, 'may': 150, 'seem': 6, 'brutal': 3, 'it': 993, 'honest': 15, 'biggboss': 108, 'shamitashetty': 21, 'yh': 66, 'mahool': 3, 'bnadye': 3, 'hindustan': 96, 'never': 87, 'realised': 12, 'anyways': 9, 'waiting': 210, 'ur': 249, 'book': 45, 'arijit': 15, 'singh': 111, 'said': 228, 'ujjian': 3, 'railway': 75, 'station': 57, 'platform': 18, 'jan': 195, 'kis': 162, 'type': 45, 'halla': 9, 'kyo': 114, 'macha': 9, 'umpire': 24, 'congress': 291, 'iske': 63, 'kaan': 9, 'kuch': 1248, 'daalo': 3, 'indvspak': 21, 'asiacupt': 3, 'mubarak': 204, 'there': 330, 'types': 36, 'friends': 270, 'sunn': 6, 'haan': 51, 'bol': 360, 'bhonk': 9, 'typical': 24, 'masala': 54, 'made': 120, 'style': 78, 'pm': 435, 'called': 72, 'guts': 3, 'itni': 177, 'himmat': 45, 'late': 111, 'kidhar': 210, 'nepal': 9, 'nepalindiaborder': 3, 'chinaindiaborder': 6, 'baaaat': 3, 'haiiiiiiiiiiiiiiiiiiiiiiiiiiiiiiiiiiii': 3, 'koe': 24, 'gam': 51, 'nae': 30, 'that': 846, 'means': 42, 'big': 231, 'ben': 24, 'back': 201, 'asli': 54, 'avtar': 3, 'come': 153, 'mean': 45, 'seriously': 42, 'than': 108, 'what': 1107, 'was': 411, 'saturdays': 3, 'episode': 78, 'again': 105, 'putting': 6, 'abir': 15, 'delimma': 3, 'now': 411, 'partener': 3, 'only': 342, 'help': 222, 'him': 159, 'shaheersheikh': 48, 'shaheerasabir': 3, 'yehrishteyhainpyaarke': 3, 'je': 18, 'kaha': 567, 'chuke': 30, 'jamatiyo': 3, 'chillayenge': 3, 'westandwithasiftanha': 3, 'too': 177, 'red_heart': 1263, 'sparkles': 69, 'session': 6, 'karoge': 120, 't': 939, 'bina': 237, 'matlab': 135, 'family': 147, 'jaa': 114, 'raha': 1257, 'samne': 102, 'tere': 978, 'pass': 177, 'sorry': 96, 'bolne': 78, 'aata': 234, 'galti': 90, 'manta': 24, 'maan': 60, 'samajta': 3, 'hoti': 330, 'unko': 135, 'sokh': 9, 'jane': 174, 'diya': 726, 'sanp': 3, 'ghar': 306, 'rak': 12, 'history': 27, 'very': 498, 'important': 54, 'seems': 42, 'congis': 6, 'read': 93, 'learnt': 6, 'lesson': 6, 'pmo': 3, 'modi': 1080, 'birthday': 225, 'birthday_cake': 117, 'den': 39, 'join': 36, 'khabar': 33, 'mili': 48, 'dil': 753, 'khush': 141, 'frowning_face': 15, 'system': 66, 'humare': 63, 'confused_face': 51, 'sharam': 39, 'chaiye': 81, 'ese': 78, 'jurm': 6, 'uski': 180, 'suni': 12, 'rhi': 162, 'puchna': 21, 'chahti': 51, 'aaropi': 9, 'laal': 21, 'ishq': 1050, 'found': 24, 'tohfa': 6, 'hum': 1020, 'smiling_face': 108, 'wrapped_gift': 42, 'mobile_phone_with_arrow': 6, 'oneplus': 18, 'falna': 3, 'kam': 429, 'badhiya': 75, 'koun': 60, 'anupam': 12, 'loveeee': 3, 'youuuuuu': 6, 'shadi': 126, 'bhagwan': 99, 'apko': 264, 'sweet': 66, 'baby': 54, 'gift': 69, 'kree': 3, 'varanasi': 15, 'people': 285, 'skeptical': 81, 'annoyed': 99, 'undecided': 99, 'uneasy': 99, 'hesitantupport': 3, 'arvind': 39, 'kejriwal': 93, 'narendra': 66, 'quit': 6, 'seat': 30, 'after': 210, 'winning': 18, 'election': 78, 'both': 78, 'places': 15, 'ekta': 15, 'mamu': 18, 'heart': 162, 'un': 120, 'dono': 117, 'kant': 45, 'awaz': 18, 'buland': 3, 'word': 57, 'mine': 15, 'oyeeeeeeee': 3, 'officially': 9, 'announce': 9, 'holiwithvishtech': 3, 'canceled': 3, 'due': 21, 'governments': 6, 'guide': 6, 'prime': 36, 'minister': 90, 'doing': 96, 'concert': 21, 'wala': 372, 'relly': 6, 'without': 114, 'mask': 24, 'social': 75, 'distance': 15, 'how': 228, 'political': 48, 'leader': 45, 'works': 6, 'janta': 237, 'bhajapcongress': 3, 'samai': 6, 'vapas': 18, 'milega': 126, 'sevakarlo': 3, 'wattoooooo': 3, 'saala': 51, 'bekar': 129, 'kahi': 171, 'useless': 21, 'player': 24, 'huhhhhh': 3, 'facebook': 81, 'aooo': 6, 'blockbuster': 45, 'moment': 102, 'almost': 21, 'an': 258, 'argument': 3, 'against': 75, 'mom': 111, 'dad': 51, 'idiot': 6, 'gadhe': 138, 'tumhe': 264, 'knowledge': 9, 'humse': 57, 'panga': 15, 'lene': 117, 'wali': 228, 'age': 48, 'mere': 1074, 'paas': 111, 'sawal': 60, 'frown': 105, 'sad': 198, 'andry': 105, 'pouting': 105, 'askarmaan': 3, 'taareekh': 3, 'nayi': 30, 'anjaam': 15, 'wahi': 126, 'kaminon': 3, 'deewaanon': 3, 'saamna': 3, 'sar': 81, 'e': 480, 'milte': 60, 'th': 117, 'nov': 6, 'marjaavaan': 3, 'milapzaveri': 3, 'bhushankumar': 3, 'krishankumar': 3, 'benchod': 3, 'paise': 135, 'mamle': 9, 'chutye': 21, 'aukaat': 45, 'dikha': 90, 'di': 219, 'siddhu': 9, 'sacha': 24, 'sardar': 24, 'nikala': 21, 'dikhaya': 27, 'kal': 249, 'chuslet': 12, 'andar': 39, 'rashmi': 12, 'khula': 6, 'chance': 51, 'bahar': 105, 'dekhte': 60, 'aage': 180, 'winnersid': 3, 'tulip': 66, 'public': 126, 'emotion': 18, 'dekhna': 111, 'available': 45, 'bajarangi': 54, 'flop': 105, 'hogiii': 3, 'maaa': 9, 'bahen': 24, 'hoo': 60, 'gii': 3, 'saaaalaaaa': 3, 'chotiya': 3, 'woahhhhhhhhh': 3, 'baat': 1356, 'aao': 156, 'fb': 105, 'humane': 3, 'wot': 3, 'muze': 33, 'lag': 198, 'rong': 6, 'ramzan': 63, 'kese': 189, 'chl': 24, 'rhe': 417, 'hh': 12, 'khadus': 3, 'kha': 213, 'nation': 75, 'really': 171, 'wants': 69, 'know': 315, 'scene': 147, 'vaha': 42, 'office': 66, 'rakhe': 72, 'samaj': 105, 'amount': 24, 'dijaye': 3, 'high': 69, 'kaisa': 90, 'daaru': 21, 'bhencho': 15, 'aapne': 243, 'sahi': 369, 'ak': 66, 'hume': 138, 'faltu': 54, 'rumer': 3, 'bachana': 9, 'hog': 6, 'vah': 72, 'rohit': 48, 'guled': 3, 'tv': 144, 'watching': 162, 'award': 36, 'show': 213, 'wish': 153, 'dus': 9, 'baje': 84, 'sone': 27, 'jaaoon': 3, 'magadheera': 3, 'remake': 3, 'banao': 36, 'usmein': 3, 'hrithik': 6, 'gud': 39, 'niht': 3, 'alah': 3, 'afiz': 3, 'mery': 21, 'gan': 6, 'saal': 147, 'khatam': 168, 'hone': 252, 'pehle': 249, 'karwaaa': 3, 'plis': 3, 'zindagi': 699, 'tuu': 3, 'rang': 69, 'badalati': 3, 'hazaaron': 6, 'baar': 345, 'goals': 12, 'sleep': 45, 'maybe': 12, 'cutting': 24, 'then': 159, 'sleeping_face': 33, 'guten': 3, 'morgen': 3, 'cloud': 9, 'sunrise': 12, 'nightdutydiaries': 3, 'cloudymornings': 3, 'vese': 21, 'rof': 3, 'jmati': 3, 'es': 75, 'indian': 234, 'garib': 72, 'dhamkate': 3, 'pese': 6, 'valo': 24, 'kon': 228, 'kanun': 15, 'abi': 105, 'shuruaat': 6, 'logkitni': 3, 'musibat': 18, 'm': 843, 'sarkar': 273, 'janti': 18, 'unhone': 42, 'packej': 3, 'ailan': 3, 'such': 162, 'karegi': 63, 'tak': 720, 'sarkari': 21, 'rashan': 12, 'milla': 6, 'loan': 15, 'khak': 12, 'degi': 48, 'sabko': 105, 'bevkoof': 6, 'banaya': 84, 'many': 111, 'returns': 21, 'incr': 3, 'national': 33, 'president': 66, 'manu': 12, 'wow': 219, 'talent': 24, 'rains': 15, 'rt': 366, 'tealover': 63, 'assalamu': 9, 'alykum': 6, 'insaan': 120, 'luck': 66, 'bathere': 9, 'ma': 213, 'fvt': 3, 'frm': 24, 'uhh': 24, 'honeysingh': 9, 'baithe': 69, 'bithaye': 6, 'jannat': 27, 'dikhaye': 21, 'poochho': 6, 'muje': 228, 'baahoe': 3, 'aakar': 15, 'neartharmal': 3, 'thik': 120, 'batao': 156, 'sunana': 3, 'grinning_face_with_big_eyes': 102, 'say': 249, 'make': 186, 'video': 246, 'promote': 24, 'agar': 528, 'ispar': 3, 'rehte': 66, 'aapse': 159, 'ghatiya': 42, 'maine': 147, 'dekha': 186, 'respect': 96, 'thi': 441, 'voto': 12, 'gava': 3, 'kia': 129, 'hova': 9, 'dya': 9, 'gya': 348, 'nalayak': 48, 'haramkhor': 84, 'naughty': 15, 'bacchan': 12, 'haramjade': 3, 'utha': 42, 'politics': 66, 'chhod': 84, 'udit': 3, 'ape': 9, 'nap': 15, 'liea': 3, 'aate': 129, 'jate': 141, 'kisi': 570, 'pta': 147, 'chalta': 66, 'yes': 189, 'samaz': 6, 'speak': 63, 'evil_monkey': 171, 'tag': 129, 'yaad': 243, 'karvaiye': 3, 'abhihumzindahai': 3, 'shayari': 168, 'shayar': 186, 'sabhi': 108, 'state': 54, 'tour': 21, 'laga': 231, 'nikle': 42, 'jaise': 195, '2014': 3, 'aab': 45, 'dekhye': 3, 'kitna': 195, 'parivartan': 3, 'change': 99, 'hua': 645, 'views': 36, 'jyada': 222, 'likes': 27, 'ri': 27, 'fearful_face': 51, 'full': 69, 'support': 153, 'kregi': 12, 'carryminati': 18, 'yet': 39, 'see': 342, 'thadi': 6, 'red': 21, 'carpet': 3, 'laid': 3, 'out': 396, 'customers': 15, 'top': 72, 'decide': 54, 'standupindia': 3, 'usse': 120, 'keep': 141, 'nonsense': 21, 'banta': 42, 'same': 126, 'broda': 3, 'smiling_face_with_smiling_eyes': 330, 'makes': 36, 'crazy': 30, 'khushi': 669, 'golmaalagain': 3, 'parineetichopra': 6, 'dramaqueen': 3, 'jaanemanaah': 3, 'salam': 108, 'lekum': 6, 'ramdan': 6, 'gila': 12, 'kijiye': 54, 'has': 237, 'finally': 42, 'arrived': 9, 'mpowerwarroom': 3, 'three': 51, 'cheers': 9, 'runner': 3, 'mr': 126, 'manoj': 9, 'sahu': 3, 'winner': 24, 'who': 480, 'inspiring': 15, 'journey': 27, 'iski': 45, 'dekhega': 24, 'muslamano': 3, 'chalange': 3, 'so': 822, 'dekhunga': 18, 'jiski': 27, 'marzi': 15, 'actually': 27, 'decided': 21, 'break': 48, 'aamir': 15, 'bhaihaiapna': 6, 'bhaibhai': 156, 'brothers': 33, 'bhaikijaan': 3, 'bro': 129, 'mkfambruharmy': 6, 'moinkhanlifestyle': 6, 'moinkhanlook': 6, 'moinkhanfam': 6, 'moinkhan': 6, 'brostyle': 3, 'neend': 192, 'aapke': 297, 'heart_suit': 183, 'decade': 6, 'ready': 66, 'susha': 3, 'case': 57, 'cbi': 18, 'republic': 9, 'cnn': 3, 'bbc': 9, 'kheech': 3, 'leke': 96, 'usko': 210, 'delhi': 219, 'bas': 327, 'ishaq': 6, 'independence': 9, 'every': 141, 'wink': 57, 'smirkconfusion': 3, 'usne': 93, 'kahe': 108, 'keh': 105, 'vocabulary': 3, 'weak': 3, 'kamzorconfusion': 3, 'week': 48, 'haftaconfusion': 3, 'wine': 15, 'sharabconfusion': 3, 'vine': 3, 'angkor': 3, 'belconfusion': 3, 'vain': 3, 'bekarconfusion': 3, 'vein': 3, 'raggconfusion': 3, 'baato': 21, 'lund': 30, 'farak': 45, 'ni': 414, 'padta': 117, 'think': 135, 'helo': 15, 'bai': 39, 'kesahe': 3, 'r': 483, 'absolutely': 12, 'right': 141, 'kbhi': 96, 'bayan': 18, 'desakte': 3, 'khilaaf': 15, 'badnam': 30, 'image': 21, 'kharab': 114, 'planning': 24, 'hope': 48, 'inshallaha': 3, 'jald': 36, 'inn': 15, 'dhokebaaz': 3, 'logon': 102, 'giraftaar': 3, 'karle': 27, 'tumhare': 216, 'hramiyo': 3, 'jwab': 12, 'chaen': 3, 'lota': 3, 'upside': 66, 'down_face': 63, 'squinting_face_with_tongue': 162, 'winking_face_with_tongue': 255, 'ridhichoudhary': 3, 'imtiyaz': 3, 'kamine': 81, 'talking': 60, 'crush': 51, 'paglo': 3, 'rulaoge': 6, 'senti': 6, 'batee': 3, 'karre': 6, 'lolz': 12, 'zindgi': 123, 'bhe': 45, 'chahie': 30, 'baap': 192, 'nahin': 201, 'smirking_face': 144, 'totally': 39, 'agreed': 3, 'addition': 6, 'these': 129, 'jalti': 9, 'ham': 264, 'bhaiyo': 12, 'dekhke': 9, 'want': 294, 'win': 60, 'bluetooth': 3, 'speaker': 12, 'radiocityantakhshari': 3, 'radiocitysurat': 3, 'rjveer': 3, 'aye': 153, 'beta': 126, 'papa': 84, 'kaise': 429, 'maze': 15, 'karva': 33, 'hoke': 27, 'khyal': 15, 'rakhna': 63, 'best': 426, 'wishes': 21, 'world': 249, 'feeling': 90, 'comes': 48, 'wonderful': 45, 'paper': 27, 'examinations': 3, 'hall': 21, 'smile': 93, 'each': 39, 'other': 93, 'eik': 3, 'ata': 72, 'ra': 42, 'yr': 120, 'expressionless_face': 123, 'bb': 201, 'withbiggboss': 3, 'bigboss': 21, 'salmankhan': 45, 'weekendkavaarwithsalmankhan': 3, 'eviction': 6, 'arhaankhan': 3, 'sehnazgill': 3, 'siddharthshukla': 3, 'wonder': 15, 'used': 33, 'kill': 21, 'job': 138, 'phone': 78, 'internet': 42, 'sutta': 42, 'shops': 6, 'outside': 12, 'came': 15, 'into': 54, 'existence': 6, 'midnightmusings': 3, 'wife': 87, 'hote': 258, 'teddy': 12, 'jayd': 3, 'name': 195, 'saare': 111, 'bacche': 39, 'mereeeee': 3, 'loves': 21, 'most': 168, 'wat': 39, 'difference': 24, 'between': 60, 'boyfrnd': 9, 'lover': 75, 'husband': 12, 'ex': 21, 'simple': 45, 'peepaid': 3, 'postpaid': 3, 'lifetime': 15, 'coin': 3, 'box': 24, 'root': 6, 'law': 27, 'averages': 3, 'apply': 6, 'joeroot': 3, 'indvseng': 30, 'imranhusain': 3, 'dewana': 3, 'chalo': 81, 'diwar': 3, 'nibandh': 3, 'sunao': 51, 'ad': 69, 'agency': 6, 'w': 75, 'confusion': 321, 'imagine': 18, 'would': 60, 'verification': 3, 'maang': 24, 'number': 108, 'email': 6, 'id': 63, 'dontendyjhjk': 3, 'masha': 18, 'nazar': 117, 'lage': 117, 'gaddaro': 12, 'jawano': 6, 'bahaduri': 3, 'sak': 6, 'hlo': 18, 'mammi': 3, 'apke': 219, 'bhut': 96, 'bde': 6, 'fan': 450, 'benchodo': 3, 'mulle': 27, 'bacha': 84, 'uff': 54, 'ok_hand': 624, 'kehnaaaa': 3, 'sbfc': 12, 'perfectionist': 3, 'excited': 24, 'project': 18, 'workhard': 3, 'motivation': 24, 'vote': 168, 'bjh': 3, 'saab': 45, 'visiting': 6, 'indore': 204, 'schools': 15, 'have': 510, 'been': 90, 'forced': 9, 'shut': 15, 'down': 78, 'exams': 177, 'postponed': 9, 'city': 117, 'mess': 6, 'here': 126, 'elections': 33, 'nearby': 3, 'tandoori': 18, 'tandoor': 6, 'isn': 9, 'just': 336, 'chickens': 3, 'smoky': 3, 'flavor': 6, 'gets': 30, 'imparted': 3, 'favorite': 36, 'drink': 39, 'noodlesfestival': 3, 'roshentertainment': 3, 'ritzy': 3, 'karismaredefined': 3, 'lifeisbeautiful': 3, 'apka': 279, 'ghadi': 18, 'slow': 42, 'sara': 60, 'guzar': 15, 'aa': 909, 'y': 138, 'govt': 141, 'work': 135, 'officers': 12, 'harmony': 3, 'relationship': 27, 'advocates': 3, 'mutual': 3, 'understanding': 9, 'taehyung': 3, 'soap': 3, 'bubbles': 3, 'addicted': 6, 'king': 45, 're': 543, 'sour': 3, 'aulad': 39, 'bayaan': 6, 'paati': 6, 'waah': 201, 'khub': 45, 'kahne': 12, 'umdah': 3, 'labo': 3, 'chu': 24, 'lu': 30, 'sham': 39, 'face_blowing_a_kiss': 660, 'years': 66, 'muslmano': 21, 'beizti': 3, 'chahe': 87, 'tera': 648, 'barti': 3, 'koibi': 3, 'bi': 93, 'chokath': 3, 'kuta': 12, 'tune': 219, 'istara': 3, 'behudmi': 3, 'karni': 96, 'chiz': 63, 'f': 123, 'petroldieselprice': 3, 'bjp': 303, 'cropped': 3, 'mind': 66, 'could': 48, 'not': 693, 'get': 228, 'jehrila': 3, 'aadmi': 408, 'must': 81, 'also': 168, 'kept': 9, 'condolence': 3, 'text': 6, 'amit': 36, 'shah': 69, 'yogiji': 12, 'shrap': 3, 'journo': 3, 'community': 24, 'yaha': 375, 'wajah': 51, 'bata': 162, 'bana': 243, 'jata': 240, 'chutiyo': 21, 'chailover': 36, 'shri': 69, 'chouk': 3, 'cafe': 39, 'aapka': 234, 'driving': 6, 'licence': 6, 'bam': 3, 'isudan': 3, 'gadhvi': 3, 'gopal': 3, 'italiya': 3, 'gir': 36, 'somnath': 3, 'bahadur': 12, 'vala': 60, 'aby': 9, 'sarfaraz': 3, 'hy': 180, 'dhoka': 24, 'dyga': 3, 'ambulance': 9, 'kids': 9, 'going': 150, 'person': 120, 'getting': 42, 'meeting': 36, 'interview': 33, 'religion': 33, 'private': 12, 'affair': 3, 'bring': 30, 'road': 66, 'prayers': 3, 'accepted': 12, 'which': 135, 'cause': 12, 'trouble': 6, 'others': 24, 'munni': 21, 'shimla': 12, 'aayi': 60, 'isse': 99, 'chhodne': 9, 'jana': 207, 'am': 246, 'satrangee': 6, 'shayarilovers': 3, 'sultan': 105, 'sultaan': 48, 'vayu': 3, 'vayueffect': 3, 'cyclone': 6, 'monsoon': 18, 'rain': 15, 'clouds': 3, 'teatime': 51, 'goodquotes': 9, 'chaipecharcha': 42, 'mumkin': 15, 'vilayat': 3, 'dey': 24, 'hosh': 12, 'thikaane': 3, 'jayein': 6, 'badi': 135, 'mene': 150, 'dekhi': 27, 'surprise': 36, 'ppl': 63, 'hometown': 3, 'protesting': 9, 'release': 78, 'padmavaat': 3, 'don': 354, 'theatre': 12, 'town': 21, 'll': 111, 'aankhon': 42, 'pyaar': 246, 'aankho': 33, 'twelve_o': 3, 'clock': 9, 'dosti': 141, 'beshak': 6, 'intzaar': 6, 'mila': 177, 'humko': 72, 'supar': 33, 'dupar': 15, 'nmo': 6, 'thande': 18, 'paani': 45, 'chahiye': 342, 'grinning_squinting_face': 138, 'relieved_face': 111, 'beaming_face_with_smiling_eyes': 351, 'winking_face': 264, 'grinning_face_with_smiling_eyes': 180, 'bestfriend': 12, 'special': 93, 'blue_heart': 57, 'kaisi': 48, 'paheli': 9, 'haay': 3, 'pal': 96, 'pavan': 12, 'kumar': 69, 'life': 432, 'pawan': 12, 'dekhuga': 9, 'motivate': 9, 'hona': 177, 'request': 84, 'dp': 39, 'p': 369, 'krdo': 24, 'plzz': 99, 'hit': 318, 'pakki': 12, 'had': 147, 'lost': 57, 'even': 153, 'teenpatti': 3, 'dua': 135, 'karugi': 6, 'soper': 3, 'doper': 6, 'hits': 15, 'jye': 12, 'vivo': 9, 'ipl': 105, 'promo': 15, 'purane': 27, 'jadon': 3, 'kidre': 3, 'jande': 3, 'least': 18, 'mention': 24, 'karde': 33, 'taking': 30, 'students': 138, 'requisite': 3, 'tools': 3, 'technology': 9, 'digital': 27, 'divide': 6, 'expect': 24, 'give': 129, 'promotestudentssavefuture': 3, 'tym': 39, 'aurrrrr': 3, 'fail': 30, 'drishyamonstargold': 3, 'gaadi': 30, 'oncoming_automobile': 24, 'bullet': 42, 'motorcycle': 27, 'sagar': 30, 'har': 525, 'bund': 15, 'pyase': 9, 'srisri': 114, 'sudesh': 120, 'kritagya': 117, 'antevasi': 84, 'rocking': 15, 'han': 66, 'bahi': 84, 'ww': 6, 'iran': 3, 'america': 18, 'bich': 18, 'dekhne': 150, 'rahi': 561, 'moh': 3, 'maaya': 3, 'enjoy': 72, 'rahiye': 6, 'sisters': 27, 'unlike': 9, 'aor': 24, 'lanat': 18, 'bhejo': 18, 'higaya': 3, 'islo': 3, 'ezzat': 3, 'mat': 450, 'bezaty': 3, 'bodhy': 3, 'night': 129, 'expecting': 3, 'sun': 120, 'earth': 30, 'ourself': 3, 'ultimately': 6, 'way': 207, 'hell': 90, 'khubsurat': 33, 'numa': 3, 'sudhrenge': 15, 'sochna': 18, 'activities': 3, 'pahele': 45, 'environment': 9, 'dhyan': 78, 'rakh': 63, 'step': 27, 'lena': 120, 'amazing': 87, 'body': 60, 'bangbangmovie': 6, 'bhokali': 3, 'bataya': 18, 'google': 27, 'ae': 57, 'fake': 183, 'tiger': 204, 'adme': 3, '2': 93, 'accout': 3, 'ker': 63, 'sassery': 3, 'wast': 3, 'deya': 9, 'tik': 30, 'khel': 69, 'skte': 48, 'ball': 27, 'attack': 33, 'sureshraina': 3, 'todi': 12, 'der': 57, 'shakil': 3, 'ahemd': 3, 'bhauke': 3, 'ga': 180, 'tod': 69, 'marod': 6, 'pesh': 3, 'ayega': 45, 'jagh': 3, 'inhe': 27, 'cartoon': 3, 'wedding': 27, 'dushwar': 3, 'bara': 27, 'please': 405, 'mallum': 6, 'thank': 273, 'cure': 3, 'coffee': 99, 'addiction': 9, 'single': 75, 'thing': 120, 'more': 258, 'bhauiiiiiii': 3, 'khaaa': 3, 'hooio': 3, 'lao': 42, 'unki': 117, 'aukat': 42, 'dikhao': 195, 'bjpgotopakistan': 6, 'winter': 33, 'highway': 21, 'highwaytoheaven': 3, 'traveller': 6, 'black_heart': 48, 'sale': 183, 'thankyou': 24, 'guys': 123, 'making': 54, 'paltan': 3, 'squad': 9, 'clinking_beer_mugs': 15, 'bdaycelebration': 3, 'diamond_suit': 3, 'darpan': 6, 'six': 12, 'decise': 3, 'taras': 18, 'cross': 27, 'streaming': 12, 'kyakiyahaintune': 6, 'armaanmalik': 6, 'amaalmallik': 3, 'official': 51, 'amaal': 12, 'chori': 39, 'apana': 18, 'banaaya': 9, 'raho': 120, 'sikhaaya': 6, 'sukh': 57, 'jina': 51, 'bataaya': 6, 'hun': 246, 'tujh': 30, 'vaari': 6, 'sajna': 27, 'trending': 108, 'aaya': 225, 'hrithikbdaycdp': 3, 'missed': 33, 'century': 15, 'twinkle': 54, 'little': 69, 'nawaj': 3, 'tohh': 3, 'kick': 48, 'bcha': 6, 'li': 96, 'iss': 162, 'nrag': 3, 'darna': 24, 'jisme': 42, 'anant': 9, 'haihappy': 3, 'psychology': 3, 'unamused_face': 99, 'wake': 18, 'hindi': 111, 'bollywood': 165, 'movies': 63, 'inspired': 9, 'end': 72, 'zuari': 3, 'sharabi': 6, 'nashedi': 3, 'biviyan': 3, 'badalne': 3, 'shaukeen': 3, 'karta': 264, 'pak': 90, 'wazir': 3, 'azam': 9, 'sahegi': 3, 'dard': 132, 'activa': 6, 'giri': 9, 'ro': 33, 'krlo': 24, 'she': 189, 'champion': 12, 'england': 15, 'got': 84, 'test': 33, 'match': 192, 'innings': 6, 'perfect': 33, 'example': 21, 'engvire': 3, '3': 933, '30': 117, 'uk': 15, 'neet': 30, 'victims': 3, 'peaaaaace': 3, 'days': 147, 'later': 21, 'prepared': 6, 'nothinnnnnng': 3, 'taklifo': 6, 'jindagi': 39, 'pata': 504, 'mood': 54, 'chuki': 21, 'rasta': 36, 'daldal': 3, 'hospital': 39, 'ruki': 3, 'jao': 342, 'wait': 330, 'salmaaan': 3, 'kb': 87, 'aaoge': 45, 'aajo': 9, 'v': 234, 'santaram': 3, 'melpather': 3, 'daily': 45, 'pehne': 9, 'newyear': 9, 'zaruri': 57, 'martabaa': 3, 'gaus': 6, 'baala': 6, 'raat': 183, 'kahani': 51, 'shuruwaat': 3, 'aane': 138, 'panaahein': 3, 'milenge': 33, 'doraahein': 3, 'logic': 36, 'ramadan': 6, 'salu': 75, 'bhaaaiiiii': 3, 'ilovee': 3, 'uuu': 9, 'alooottt': 3, 'weary_cat': 6, 'hilo': 3, 'aurngjeb': 3, 'kmal': 6, 'jotera': 3, 'nam': 132, 'jape': 3, 'mala': 9, 'mal': 12, 'gareb': 9, 'kisan': 48, 'behal': 9, 'evictions': 3, 'weary_face': 36, 'sabby': 3, 'prove': 21, 'himself': 9, 'bad': 228, 'crying_face': 141, 'hiten': 3, 'sane': 6, 'house': 36, 'raaz': 21, 'much': 309, 'powerful': 6, 'everyone': 90, 'else': 36, 'deserved': 6, 'decision': 36, 'itself': 15, 'milna': 126, 'following': 24, 'utsav': 9, 'ud': 18, 'ground': 15, 'achanak': 6, 'wind': 3, 'water': 27, 'thanks': 213, 'lot': 54, 'supporting': 24, 'whose': 6, 'fault': 9, 'ahmedabad': 336, 'ahmedabadlive': 3, 'chaitea': 9, 'tea': 414, 'tealife': 6, 'adarak': 6, 'elaichi': 3, 'cordamoda': 3, 'diaries': 6, 'instagram': 135, 'health': 78, 'wemetontwitter': 3, 'badhau': 3, 'jeet': 84, 'aamdani': 3, 'jaao': 33, 'jaayie': 3, 'msg': 114, 'bda': 60, 'nikalkar': 3, 'bachhe': 15, 'samgho': 3, 'badlo': 9, 'statement': 36, 'yahii': 3, 'hmarii': 3, 'kahii': 3, 'chlte': 6, 'koiii': 3, 'worried_face': 27, 'nitishhelpkota': 6, 'net': 36, 'balance': 9, 'inr': 3, 'mahina': 18, 'mobarrak': 3, 'tala': 3, 'tarraki': 3, 'wha': 33, 'jaoge': 39, 'baho': 9, 'hoon': 258, 'romana': 3, 'ulta': 9, 'kotwal': 3, 'dante': 3, 'gulaam': 3, 'azadi': 27, 'aise': 213, 'mangre': 3, 'katore': 3, 'bheekh': 3, 'chle': 6, 'yha': 51, 'jaiso': 15, 'jarurat': 87, 'ibadt': 3, 'bani': 42, 'rhegi': 9, 'jrur': 27, 'hogi': 366, 'medal': 3, 'winners': 9, 'long': 69, 'run': 39, 'eventually': 3, 'left': 51, 'fend': 3, 'themselves': 21, 'sports': 9, 'attractive': 3, 'udasi': 3, 'wale': 429, 'dhalenge': 3, 'evening': 57, 'superstar': 33, 'devils': 3, 'raghuram': 3, 'own': 45, 'josh': 21, 'famous': 36, 'gujarat': 207, 'event': 27, 'divyachaudhary': 3, 'badasha': 6, 'joshapp': 3, 'business': 51, 'dala': 27, 'coronil': 3, 'baith': 24, 'tamasa': 9, 'bole6e': 3, 'tui': 3, 'janis': 3, 'anti': 36, 'religiã²us': 3, 'kake': 3, 'bole': 135, 'oct': 18, 'padma': 6, 'journalism': 12, 'nahihe': 3, 'ashutosh': 6, 'apane': 15, 'gireban': 3, 'janke': 6, 'gande': 36, 'namoona': 3, 'rone': 15, 'sachchai': 9, 'chhup': 3, 'sakati': 6, 'ashucries': 3, 'kitli': 12, 'vadodara': 129, 'part': 54, 'jin': 24, 'janjeero': 3, 'dusman': 24, 'self': 21, 'summer': 18, 'orange': 9, 'tang': 36, 'says': 153, 'piyegi': 3, 'bank': 87, 'employee': 3, 'credit': 30, 'card': 36, 'payment': 6, 'rekhaji': 6, 'performing': 6, 'iifa': 6, 'cinema': 30, 'tonight': 24, 'glad': 6, 'giving': 27, 'iifarocks': 3, 'sache': 21, 'utna': 27, 'muskil': 12, 'jitna': 63, 'porn': 9, 'happyfriendshipday': 21, 'kiss_mark': 102, 'monkey': 15, 'rose': 207, 'garamchai': 3, 'kulhadchai': 3, 'tealove': 9, 'chaibike': 6, 'indiashutterbugs': 3, 'mobilephotographyindia': 3, 'mobilephotographers': 3, 'mypixeldiaries': 3, 'shotoniphone': 3, 'iphonographer': 3, 'chotu': 6, 'jio': 30, 'network': 30, 'maro': 48, 'ambani': 24, 'ilovejio': 3, 'kk': 24, 'bc': 279, 'ok': 129, 'likh': 69, 'zimbabwe': 6, 'srilanka': 6, 'cup': 78, 'cricket': 72, 'axarpatel': 3, 'viratkohli': 3, 'acceptable': 9, 'marega': 21, 'aaram': 18, 'bengalburning': 3, 'wao': 30, 'crash': 3, 'denge': 111, 'arnav': 6, 'smiling': 9, 'aww': 9, 'tears': 9, 'happiness': 42, 'lt': 75, 'zara': 63, 'kitne': 141, 'banani': 6, 'vimal': 6, 'chull': 6, 'machi': 6, 'boldete': 3, 'jahan': 57, 'achha': 78, 'hindustaa': 3, 'hamara': 114, 'bhukha': 15, 'marna': 54, 'bhikh': 6, 'mangni': 3, 'talve': 6, 'chatne': 3, 'honge': 123, 'swabhiman': 3, 'mehnat': 27, 'khate': 48, 'aapko': 315, 'lagte': 36, 'kaun': 123, 'boodeh': 3, 'peechhe': 6, 'padi': 45, 'makeup': 9, 'dekhle': 9, 'bhaag': 18, 'jaogi': 3, 'waa': 6, 'fair': 21, 'process': 21, 'transparency': 15, 'regular': 9, 'vacancies': 9, 'timely': 30, 'joining': 12, 'list': 54, 'rojgar': 51, 'wordpress': 6, 'wpme': 3, 'wordpressdeveloper': 3, 'wordpresswebsite': 3, 'vrlpro': 3, 'digitalmarketing': 9, 'blogging': 3, 'tomb': 6, 'nawab': 12, 'mohammad': 6, 'patakhe': 12, 'raceto': 3, 'dabanng': 6, 'shuts': 9, 'satara': 3, 'udaas': 12, 'dete': 198, 'masjid': 12, 'aunty': 18, 'bhadka': 3, 'pucha': 42, 'fat': 21, 'jati': 114, 'snap': 9, 'story': 63, 'aayega': 150, 'yessss': 6, 'cuteee': 3, 'sonakshi': 18, 'sonakshisinha': 6, 'kbc': 9, 'ramayan': 30, 'looking': 54, 'soo': 48, 'cute': 102, 'nice': 189, 'clicks': 3, 'bouquet': 195, 'nirma': 6, 'kahenge': 39, 'yamuna': 12, 'aarhi': 3, 'samrat': 6, 'op': 9, 'lovely': 45, 'trailer': 111, 'dilbechara': 15, 'always': 186, 'remembered': 9, 'broken_heart': 267, 'janam': 45, 'sushantsinghrajput': 18, 'sushanthsinghrajput': 6, 'dilbecharatrailer': 3, 'baatein': 27, 'sbhi': 21, 'key': 21, 'bht': 114, 'karte': 639, 'kbi': 27, 'hurt': 36, 'jaonga': 6, 'first': 207, 'tchr': 6, 'hw': 12, 'planets': 6, 'santa': 21, 'mercury': 6, 'maa': 261, 'chut': 27, 'saali': 9, 'randi': 24, 'netji': 3, 'gauge': 3, 'saman': 6, 'uske': 225, 'sanskar': 24, 'hoge': 75, 'sikhay': 3, 'gar': 30, 'talwar': 6, 'salwar': 3, 'common': 48, 'carry': 33, 'khulte': 3, 'umar': 129, 'trend': 150, 'bhakk': 6, 'batayega': 21, 'unstoppable': 30, 'riaz': 39, 'pappu': 69, 'sarukh': 3, 'amir': 30, 'fel': 6, 'jaha': 96, 'jhanda': 12, 'gaar': 6, 'aya': 105, 'mirzapur': 6, 'liy': 18, 'ss': 15, 'spoiler': 18, 'manenge': 3, 'sweat_droplets': 27, 'mirzapurseason': 3, 'guddubhaiya': 3, 'kalinbhaiyya': 3, 'ap': 738, 'hr': 51, 'boht': 42, 'shok': 12, 'sy': 75, 'dekhta': 45, 'jalao': 6, 'jalega': 6, 'apneap': 3, 'speed': 69, 'location': 24, 'signature': 6, 'alpa': 6, 'patel': 54, 'gujju': 54, 'queen': 9, 'crown': 93, 'folksinger': 6, 'kathiyawadi': 9, 'moj': 84, 'singer': 42, 'alpapatel': 3, 'lokdayro': 12, 'dayro': 15, 'mughals': 3, 'shantidoot': 3, 'being': 117, 'human': 66, 'jariye': 6, 'itne': 156, 'madat': 27, 'backhand_index_pointing_down': 420, 'aoge': 18, 'b': 537, 'comeback': 3, 'turned': 6, 'bajrangibhaijaan': 9, 'still': 183, 'record': 84, 'smiling_face_with_sunglasses': 330, 'premier': 6, 'face_savoring_food': 102, 'hostel': 9, 'smiling_face_with_halo': 60, 'hostellife': 3, 'party_popper': 60, 'confetti_ball': 33, 'govindram': 3, 'seksaria': 3, 'institute': 6, 'china': 54, 'product': 12, 'prachar': 9, 'dekhkar': 9, 'chalati': 6, 'virodhi': 9, 'chineseproductsindustbin': 3, 'order': 60, 'manne': 3, 'laao': 3, 'parathey': 3, 'bnao': 6, 'chalu': 66, 'kardo': 39, 'dedo': 33, 'bahane': 15, 'dhundhna': 3, 'mothersday': 6, 'momslovenonstop': 3, 'momsonthemove': 3, 'heart_with_ribbon': 18, 'bhool': 42, 'bhula': 24, 'dena': 216, 'faqat': 15, 'weham': 6, 'bhot': 84, 'weekend': 63, 'start': 150, 'echoteaser': 3, 'kamaal': 57, 'robin': 9, 'uthhppa': 3, 'papad': 6, 'sukhane': 3, 'bhej': 57, 'achhar': 3, 'daloge': 6, 'tom': 15, 'curran': 3, 'archer': 3, 'parag': 3, 'tewatiya': 3, 'tortoise': 3, 'turtle': 3, 'rrvkxip': 3, 'barson': 3, 'mazaa': 18, 'sare': 156, 'tumse': 141, 'milke': 21, 'jaana': 90, 'mohbbat': 12, 'teammechanicalengineers': 3, 'unke': 126, 'password': 9, 'hamko': 15, 'uninstall': 12, 'j': 84, 'ai': 9, 'kay': 54, 'appna': 3, 'yaaron': 12, 'dasht': 3, 'gurbat': 3, 'janaza': 3, 'uthayay': 3, 'phirte': 12, 'qabilajmeri': 3, 'tweeter': 30, 'kowtow': 3, 'sign': 6, 'dogeza': 3, 'merko': 12, 'pilado': 3, 'pliiijjjjjj': 3, 'sikh': 27, 'issues': 21, 'reinvent': 3, 'wheel': 3, 'brother': 66, 'intercaste': 3, 'does': 36, 'previledge': 3, 'status': 72, 'caste': 3, 'reservation': 12, 'gyan': 24, 'caa': 30, 'nrc': 33, 'wheeler': 6, 'four': 9, 'nikalna': 12, 'band': 165, 'bhenchod': 24, 'dimaag': 21, 'baja': 15, 'rkhi': 9, 'swings': 6, 'fucking': 21, 'pendulum': 3, 'let': 81, 'bappa': 12, 'absolute': 6, 'ecofriendlymanner': 3, 'gharki': 3, 'mitti': 24, 'manmohak': 3, 'swarup': 3, 'lagrahe': 3, 'haina': 9, 'ganpati': 12, 'bappamorya': 3, 'ganeshchaturthi': 9, 'ganeshotsav': 3, 'ecofriendlyganesha': 3, 'sugandhmittiki': 3, 'sonaaursachin': 3, 'indoricouple': 3, 'kahna': 21, 'uchit': 6, 'ydi': 3, 'jiwan': 12, 'saralta': 3, 'anubhav': 3, 'bilkul': 63, 'nisfal': 3, 'mara': 87, 'pra': 3, 'kashmir': 69, 'wadiyon': 3, 'ideal': 6, 'country': 90, 'swarthi': 3, 'sansar': 9, 'jiyada': 6, 'ummid': 39, 'per': 267, 'hahahahahahaha': 6, 'pretty': 24, 'reel': 9, 'recipe': 12, 'cheese': 36, 'maggie': 9, 'tumne': 108, 'cube': 3, 'followers': 57, 'sbko': 30, 'bolna': 66, 'siya': 3, 'eed': 9, 'manegi': 3, 'acchi': 63, 'some': 165, 'bell': 6, 'cheezein': 6, 'humesha': 18, 'aati': 117, 'tatti': 18, 'whatsappdown': 9, 'whatsapp': 114, 'accident': 9, 'izzat': 48, 'lagi': 99, 'barabar': 9, 'move': 30, 'uc': 6, 'beautiful': 126, 'gi': 93, 'hafiz': 33, 'bf': 24, 'lllllllloooooooovvvvvvvvvvveeeeeeee': 3, 'youuuu': 3, 'salmaaann': 3, 'gggg': 3, 'aksle': 3, 'kum': 27, 'employ': 3, 'women': 63, 'sheild': 3, 'allegations': 3, 'update': 36, 'character': 36, 'politicians': 27, 'rules': 27, 'ha': 390, 'tho': 78, 'rahage': 3, 'copy': 36, 'sakhta': 6, 'yaro': 18, 'weather': 36, 'cell': 9, 'garma': 6, 'garam': 54, 'hau': 30, 'garmi': 21, 'yah': 96, 'israel': 15, 'halat': 63, 'ise': 84, 'mp': 93, 'government': 108, 'kro': 213, 'mpbse': 9, 'postpone': 15, 'mpboard': 6, 'mannte': 3, 'group': 63, 'call': 162, 'screenshot': 12, 'lekar': 69, 'dur': 69, 'pushpin': 6, 'round': 15, 'allotment': 15, 'jossa': 3, 'counselingi': 3, 'iit': 6, 'nit': 9, 'iiit': 3, 'admission': 9, 'months': 39, 'togetherness': 3, 'coz': 33, 'o': 216, 'mgee': 3, 'shaheer': 18, 'check': 45, 'forgotten': 6, 'btw': 33, 'tysm': 9, 'telling': 9, 'milne': 117, 'krne': 186, 'ekchh': 3, 'joke': 48, 'charcha': 54, 'instead': 42, 'circulated': 3, 'te': 102, 'aevu': 3, 'apyu': 3, 'saurashtra': 3, 'nd': 129, 'kutch': 21, 'jiti': 6, 'jase': 6, 'andolan': 15, 'odi': 6, 'dais': 3, '1st': 24, 'jaumga': 3, 'bakchodi': 39, 'pel': 15, 'karlo': 66, 'demands': 12, 'check_mark_button': 39, 'increase': 18, 'reform': 15, 'results': 24, 'examination': 12, 'gehlot': 12, 'l': 96, 'mshraddhagems': 18, 'yusuf': 6, 'sogns': 3, 'flushed_face': 87, 'rinky': 3, 'kumari': 3, 'alva': 3, 'channels': 24, 'pls': 270, 'aandolan': 9, 'sambidhano': 3, 'kisano': 27, 'dayniya': 3, 'bhare': 27, 'halato': 3, 'andaz': 12, 'trendinghappy': 3, 'edit': 24, 'icaiexams': 9, 'castudents': 6, 'surat': 255, 'drop': 12, 'front': 15, 'desk': 6, 'cakery': 3, 'udaipurconfusion': 3, 'taj': 51, 'laldarwaja': 3, 'bande': 30, 'matramjai': 3, 'hindbharat': 3, 'jaind': 3, 'indai': 6, 'greati': 3, 'duty': 18, 'imandaari': 3, 'pate': 21, 'bachane': 12, 'hair': 18, 'bethe': 42, 'jaag': 18, 'glassdor': 3, 'chutiyaapa': 3, 'wtf': 66, 'proper': 24, 'launch': 21, 'matlb': 15, 'btown': 3, 'celebs': 18, 'samajte': 12, 'songs': 63, 'vision': 15, 'promises': 6, 'creation': 3, 'upsc': 12, 'decreasing': 3, 'aspirants': 12, 'were': 81, 'quiet': 3, 'if': 246, 'matter': 57, 'behaviour': 15, 'kindly': 6, 'date': 60, 'listentoupsc': 3, 'cse': 3, 'vishal': 21, 'breakfast': 57, 'treats': 3, 'londondairycafe': 3, 'french': 9, 'toast': 117, 'though': 24, 'two_hearts': 183, 'dairy': 3, 'shw': 9, 'trailor': 15, 'al': 12, 'vazir': 3, 'acharya': 3, 'rahy': 15, 'epic': 12, 'peene': 24, 'ladki': 147, 'money': 54, 'rupay': 9, 'bache': 45, 'nikal': 162, 'karu': 141, 'bolo': 201, 'aesa': 30, 'pensive_face': 132, 'downcast_face_with_sweat': 39, 'upi': 6, 'skansara': 3, 'justiceformymoney': 3, 'did': 66, 'lose': 12, 'land': 15, 'square': 9, 'kilometers': 3, 'mb': 3, 'space': 12, 'strike': 30, 'chinesespokiemodi': 6, 'chinese': 24, 'alfonso': 3, 'delhielections': 9, 'kiranbedi': 3, 'delhicm': 3, 'firsttweet': 3, 'underrated': 3, 'bit': 21, 'adi': 24, 'sahab': 135, 'kisika': 12, 'intezar': 81, 'pauses': 3, 'while': 69, 'suggesting': 3, 'alone': 30, 'uparse': 6, 'zoya': 36, 'jaate': 51, 'flashback': 3, 'bachi': 15, 'kuchi': 3, 'kasar': 6, 'bepannaah': 42, 'tiktokers': 3, 'started': 36, 'settling': 3, 'reels': 12, 'hearing': 3, 'instagramban': 9, 'twitterban': 9, 'du': 81, 'khayal': 42, 'mile': 195, 'khile': 9, 'jine': 24, 'shahiye': 3, 'yearsofparineetichopra': 3, 'monday': 30, 'madarchod': 153, 'darr': 30, 'lagta': 240, 'face_with_medical_mask': 42, 'boundary': 3, 'talk': 66, 'pps': 3, 'inki': 36, 'inkey': 3, 'chalti': 24, 'superhit': 27, 'karaney': 3, 'smith': 12, 'service': 45, 'ola': 9, 'booking': 18, 'huaa': 27, 'vibhi': 3, 'cancel': 45, 'hisb': 3, 'kondega': 3, 'dizzy': 27, 'badaoge': 3, 'aasa': 6, 'kheti': 9, 'gym': 21, 'jaya': 15, 'khbi': 9, 'jarurt': 9, 'sody': 3, 'buri': 42, 'tuj': 27, 'shidi': 3, 'dhup': 12, 'hundred_points': 126, 'visit': 45, 'zamaat': 3, 'methan': 3, 'selfy': 3, 'gayi': 267, 'electricity': 21, 'till': 66, 'atleast': 36, 'electicity': 3, 'tw': 15, 'someone': 135, 'something': 57, 'thinking': 39, 'sicha': 3, 'vibhag': 9, 'tarah': 183, 'q': 171, 'baccho': 39, 'college': 45, 'jagah': 129, 'collego': 6, 'pdhate': 3, 'girna': 3, 'samal': 3, 'vipkash': 3, 'partyya': 3, 'kiske': 9, 'look': 156, 'achcha': 36, 'jigri': 6, 'fasion': 3, 'deshi': 3, 'rj': 21, 'isi': 27, 'badate': 3, 'neutral_face': 66, 'samjh': 60, 'voh': 57, 'khushkismat': 3, 'samajhte': 12, 'aashiqi': 3, 'jite': 12, 'masroof': 3, 'darshan': 39, 'kai': 51, 'mare': 36, 'kaale': 6, 'javu': 3, 'kasse': 3, 'bus': 138, 'tamari': 6, 'sathe': 18, 'rehvu': 3, 'che': 84, 'through': 15, 'haa': 60, 'karjo': 6, 'saarikisaari': 9, 'words': 72, 'together': 57, 'bread': 45, 'butter': 18, 'c': 111, 'thumbs_up': 318, 'biscuit': 9, 'cookie': 3, 'study': 39, 'pakka': 39, 'open_book': 6, 'mug': 6, 'chay': 3, 'pi': 18, 'darshansondagar': 3, 'dahod': 6, 'hojae': 6, 'dedena': 6, 'typicalindianquestions': 6, 'growing_heart': 36, 'kiss': 48, 'backhand_index_pointing_right': 186, 'sahara': 6, 'naya': 69, 'bawal': 6, 'machao': 3, 'entertainment': 30, 'mithun': 3, 'cricket_game': 27, 'trophy': 27, 'chanpion': 3, 'wall': 12, 'true': 165, 'janm': 3, 'jeena': 27, 'lived': 9, 'fullest': 6, 'ssr': 48, 'chal': 339, 'joothi': 3, 'innocent': 15, 'cbienquiryforssr': 6, 'cbienquiryforsushant': 3, 'bottle': 21, 'pani': 96, 'pine': 21, 'pandey': 48, 'khabardar': 3, 'issko': 3, 'kabi': 27, 'laye': 18, 'sentiment': 3, 'whole': 60, 'eventhough': 3, 'global': 9, 'pandemic': 24, 'spread': 24, 'before': 63, 'already': 51, 'suffering': 12, 'personally': 3, 'appeal': 6, 'play': 45, 'future': 36, 'frontier': 3, 'shitty': 3, 'operationneet': 3, 'upper': 12, 'circuit': 3, 'target': 39, 'warning': 18, 'raising_hands': 135, 'kichocha': 3, 'sharif': 15, 'huzoor': 3, 'shaikhul': 3, 'islam': 57, 'huzur': 6, 'arabi': 3, 'miya': 30, 'fazil': 3, 'baghdad': 3, 'syed': 12, 'hasan': 9, 'askari': 3, 'amn': 3, 'chhaon': 3, 'khidmat': 6, 'subh': 18, 'karen': 21, 'miljul': 3, 'payghame': 3, 'nabi': 18, 'bmission': 3, 'maqsad': 3, 'qaum': 3, 'nabipur': 6, 'jalwa': 30, 'fase': 12, 'train': 138, 'chale': 120, 'hesitantansad': 3, 'bhejne': 6, 'chaabi': 3, 'voters': 6, 'haath': 36, 'bestie': 15, 'parents': 54, 'dada': 24, 'ask': 84, 'talash': 33, 'luggage': 3, 'waha': 87, 'channel': 84, 'walo': 147, 'bola': 252, 'aese': 15, 'besharmi': 3, 'jain': 15, 'proud': 102, 'indorian': 3, 'face_without_mouth': 54, '30pm': 15, '00pm': 9, '10pm': 3, 'apkeliye': 3, 'accha': 78, 'kalyug': 9, 'uncal': 3, 'molvi': 6, 'jakat': 3, 'madarse': 6, 'yatim': 3, 'bachho': 18, 'talim': 3, 'siva': 12, 'uper': 24, 'ungli': 24, 'alava': 15, 'bhagao': 9, 'tp': 9, 'viewers': 12, 'choice': 30, 'pratik': 21, 'done': 99, 'siqander': 3, 'acting': 54, 'mja': 12, 'howsthejosh': 3, 'urithesurgicalstrike': 3, 'artist': 12, 'urdu': 42, 'kitab': 54, 'mela': 3, 'malegaon': 15, 'valentine': 36, 'dayconfusion': 6, 'husbantongue': 21, 'sticking': 159, 'cheeky': 159, 'playful': 159, 'blowing': 162, 'raspberry': 147, 'tamez': 3, 'dungi': 18, 'congres': 3, 'shiv': 24, 'sena': 24, 'aaye': 273, 'waahh': 12, 'gaddar': 27, 'darta': 6, 'fun': 75, 'unlimited': 9, 'reality': 24, 'venerable': 3, 'failed': 12, 'those': 138, 'bycottkarnjohrgangmovie': 3, 'boycottbollywood': 3, 'yourself': 30, 'able': 30, 'normal': 21, 'forget': 30, 'easily': 18, 'advantage': 3, 'painting': 9, 'ladies': 6, 'mummy': 30, 'hamesha': 96, 'khati': 12, 'facts': 15, 'dunga': 42, 'bobby': 3, 'deol': 6, 'dream': 63, 'l0': 3, 'server': 9, 'd0wn': 3, 'allowed': 30, 'jinhe': 21, 'kargil': 3, 'war': 45, 'samay': 66, 'poore': 30, 'danv': 3, 'lagaya': 21, 'aman': 15, 'asha': 15, 'jhelenga': 3, 'nikalo': 27, 'jaichando': 6, 'dalo': 15, 'jail': 54, 'mei': 93, 'akshay': 30, 'upar': 96, 'dene': 93, 'zaroor': 18, 'jaayein': 6, 'suniye': 15, '5': 60, 'bigad': 21, 'jaayen': 3, 'paalna': 3, 'toasters': 3, 'setting': 24, 'burns': 3, 'horrible': 9, 'crisp': 6, 'internationalteaday': 36, 'weddingphotography': 3, 'funmemoriesmade': 3, 'newkurtapajama': 3, 'mykurta': 3, '1': 141, 'chaahe': 6, 'karik': 3, 'baijan': 3, 'padgya': 3, 'bari': 30, 'traffic': 27, 'eyy': 3, 'jay': 192, 'helmet': 9, 'perya': 3, 'vagar': 3, 'jigo': 3, 'jav': 6, 'disappointed_face': 75, 'aale': 3, 'rs': 108, 'leto': 3, 'vacche': 3, 'ubha': 6, 'nasto': 3, 'karto': 3, 'reje': 3, 'suna': 66, 'actors': 21, 'women_holding_hands': 18, 'sapno': 9, 'rani': 12, 'ayegi': 39, 'mastani': 6, 'person_with_veil': 30, 'biti': 3, 'zindgani': 3, 'chli': 3, 'sparkling_heart': 84, 'revolving_hearts': 99, 'rh': 18, 'nh': 51, 'fanswantsaakk': 6, 'warm': 24, 'clothes': 3, 'jis': 129, 'hoodies': 3, 'jacket': 3, 'sweatshirt': 3, 'soch': 174, 'bag': 12, 'pack': 9, 'pagli': 6, 'gold': 48, 'smileyjadavchiraghappy': 3, 'didn': 54, 'mrs': 15, 'deewana': 24, 'mastana': 12, 'favorites': 3, 'especially': 9, 'dm': 24, 'laugh': 72, 'loud': 3, 'yuddha': 3, 'fame': 3, 'seasconfusion': 3, 'sucuk': 3, 'sosis': 3, 'allaha': 6, 'aapk': 12, 'jinko': 9, 'pakistani': 54, 'black': 27, 'panther': 3, 'sec': 12, 'roz': 69, 'gum': 42, 'krna': 210, 'jhutan': 3, 'thand': 15, 'badne': 3, 'mohobbat': 6, 'badhne': 3, 'yoon': 9, 'karje': 3, 'ca': 15, 'congratulations': 45, 'pmhmd': 12, 'naina': 18, 'oe': 6, 'rehan': 3, 'aaegi': 15, 'old': 90, 'monk': 3, 'worth': 12, 'asking': 60, 'guy': 45, 'buy': 36, 'kohli': 51, 'pujara': 6, 'beating': 6, 'pl': 21, 'hamari': 114, 'krti': 33, 'khe': 18, 'hme': 51, 'fark': 72, 'padhta': 24, 'krte': 213, 'karin': 3, 'hatho': 18, 'bhaiii': 15, 'siriyasli': 3, 'sms': 18, 'padh': 63, 'inside': 12, 'dekhni': 9, 'bhopal': 90, 'smalltownproblems': 3, 'wisdomofthecrowd': 3, 'khano': 3, 'mn': 6, 'niceeeeeeee': 3, 'loveeeeee': 3, 'bhaijaaan': 15, 'went': 39, 'golmaal': 9, 'angoor': 6, 'muslmn': 3, 'pix': 3, 'kra': 24, 'vidya': 12, 'gives': 27, 'humility': 3, 'unhe': 93, 'khass': 6, 'banate': 48, 'mission': 24, 'acchha': 3, 'lagu': 12, 'pahela': 3, 'zinda': 81, 'glimpse': 45, 'diwali': 168, 'shauk': 3, 'rakho': 27, 'indvssco': 3, 'bullish': 6, 'nifty': 9, 'sixer': 3, 'kandanee': 3, 'ajya': 3, 'ewu': 3, 'notu': 3, 'nu': 48, 'hilarious': 15, 'princess': 57, 'dhyaan': 27, 'red_question_mark': 6, 'hero': 105, 'idhar': 72, 'photo': 102, 'mojave': 3, 'photography': 45, 'maksad': 3, 'apse': 108, 'zyada': 87, 'ghr': 24, 'address': 15, 'free': 135, 'bhijwa': 3, 'ghumna': 9, 'dekhlo': 6, 'taseeh': 3, 'okhai': 3, 'memon': 3, 'ansari': 12, 'bradari': 3, 'dawat': 12, 'zahrila': 3, 'khanay': 3, 'zaid': 6, 'hogaye': 18, 'jb': 123, 'refresh': 12, 'hin': 6, 'tweets': 102, 'naye': 33, 'lines': 42, 'kahan': 189, 'laati': 3, 'class': 99, 'mausam': 45, 'barish': 30, 'readymade': 3, 'pocket': 9, 'bandi': 9, 'lakhvi': 3, 'terrorism': 9, 'haidrabadi': 9, 'stunt': 6, 'its': 225, 'funny': 54, 'expressions': 6, 'different': 42, 'act': 27, 'muaaahhhh': 3, 'kyun': 168, 'cheet': 3, 'karke': 192, 'nipta': 6, 'face_with_tongue': 96, 'blah': 9, 'rab': 42, 'bjoshdiwalon': 3, 'pahli': 12, 'bar': 327, 'sahnawaz': 3, 'hussain': 21, 'bate': 45, 'rup': 9, 'bakwas': 33, 'senseless': 6, 'superbudget': 3, 'ghantabudget': 3, 'madrc': 3, 'shani': 6, 'dev': 21, 'awesome': 129, 'karmdata': 3, 'bure': 15, 'karmo': 6, 'fal': 9, 'anarth': 3, 'bhaya': 3, 'bhajrangi': 21, 'krnay': 3, 'leye': 9, 'bhar': 186, 'jholi': 24, 'muhammad': 18, 'mujhko': 51, 'milado': 12, 'astonished_face': 45, 'emoji': 18, 'emojis': 3, 'casiangeles': 3, 'memes': 48, 'art': 27, 'ily': 6, 'argentina': 3, 'aesthetic': 3, 'lol': 63, 'atav': 3, 'brunia': 3, 'sacrifice': 9, 'lata': 9, 'chutiyapa': 39, 'babu': 63, 'tax': 36, 'thokoge': 3, 'taal': 9, 'hadyat': 3, 'ameen': 24, 'chamki': 3, 'futi': 3, 'maloom': 33, 'helping': 15, 'mlp': 3, 'sushant': 54, 'dilboard': 3, 'milegi': 54, 'kaal': 12, 'hamare': 249, 'cm': 135, 'kl': 33, 'waisa': 9, 'qq': 9, 'namskar': 3, 'kuchha': 6, 'netaon': 3, 'chhavi': 9, 'unhain': 3, 'pado': 6, 'hataya': 3, 'skta': 30, 'jisase': 6, 'dusra': 36, 'esa': 120, 'hind': 141, 'vandematarm': 3, 'ply': 6, 'diye': 87, 'shayad': 54, 'hm': 126, 'contact': 36, 'tb': 57, 'rhenge': 15, 'chidiya': 6, 'chacha': 21, 'sidhe': 9, 'student': 102, 'mudde': 15, 'partiyon': 6, 'agenda': 21, 'padega': 75, 'mudda': 15, 'hogya': 21, 'ajao': 36, 'lalitgate': 3, 'inti': 6, 'chhati': 3, 'peeti': 3, 'pasliyon': 3, 'viyar': 3, 'shoika': 3, 'zikr': 18, 'uss': 63, 'ajab': 6, 'yaara': 36, 'koy': 42, 'musalmaan': 30, 'dekhe': 75, 'intezaar': 42, 'td': 9, 'rb': 3, 'bethege': 3, 'spring': 3, 'schezwan': 3, 'commitmnt': 3, 'ummmmmmmmmmmmmmmmmmmmmmmmh': 3, 'uar': 3, 'jen': 3, 'imtehaan': 3, 'season': 63, 'plzzzzz': 33, 'nobepannaahnocolorstv': 6, 'aaiye': 6, 'dijye': 6, 'wallo': 6, 'yaadein': 24, 'garv': 27, 'itv': 3, 'audience': 18, 'shows': 21, 'hype': 6, 'sikha': 45, 'rangu': 12, 'bndh': 6, 'chahta': 126, 'bigaadna': 3, 'ue': 6, 'joh': 27, 'delete': 36, 'horahe': 6, 'harkatoh': 3, 'pospone': 6, 'face_with_crossed': 27, 'out_eyes': 27, 'satyagrah': 6, 'againstexamsincovid': 6, 'basioko': 3, 'samjhaiya': 3, 'buddha': 6, 'nepalmain': 3, 'huwa': 60, 'desi': 51, 'gawar': 12, 'jano': 15, 'cities': 9, 'manate': 18, 'mumma': 12, 'lecture': 12, 'mtv': 12, 'batau': 27, 'pheli': 3, 'unwind': 6, 'raval': 9, 'darshanravalunwind': 3, 'sucks': 9, 'badal': 78, 'tomorrow': 81, 'friday': 24, 'saturday': 24, 'khadkhadat': 3, 'fficial': 6, 'comedy': 54, 'humour': 6, 'tvshow': 9, 'hosting': 3, 'arvindvegda': 39, 'dude': 3, 'haggled': 3, 'shopkeeper': 3, 'extra': 36, 'chutney': 12, 'fafda': 15, 'morning': 156, 'saav': 6, 'vadi': 3, 'nikdi': 3, 'dussehra': 6, 'jisne': 81, 'chelange': 3, 'inshallah': 36, 'posts': 18, 'ayenge': 27, 'media': 159, 'pagal': 150, 'yado': 6, 'khona': 9, 'akele': 48, 'tanha': 12, 'rona': 60, 'isiliye': 21, 'ghante': 33, 'rahna': 15, 'pkadne': 3, 'rahne': 9, 'rulayega': 6, 'vyapam': 6, '45': 3, 'paar': 27, 'hattyayen': 3, 'pahuchne': 6, 'jeene': 30, 'andaaz': 15, 'trippy': 6, 'rply': 105, 'sukun': 21, 'khule': 48, 'rasul': 3, 'gustakhi': 3, 'sote': 18, 'rehti': 12, 'khilaf': 57, 'protest': 33, 'arrest': 15, 'lete': 105, 'jummans': 3, 'azad': 6, 'istandwithqamarganiusmani': 3, 'kho': 66, 'photographers': 9, 'cool': 45, 'dudes': 6, 'truethat': 3, 'faces': 3, 'sleeping': 12, 'udhar': 21, 'mangane': 6, 'cmnt': 30, 'yeah': 120, 'fav': 33, 'haaa': 6, 'hoooo': 15, 'salaam': 15, 'joa': 6, 'mazhab': 18, 'ik': 48, 'allha': 9, 'qhuran': 3, 'samjaye': 6, 'gandapa': 3, 'aisi': 87, 'malik': 30, 'temporary': 3, 'bante': 33, 'mandir': 42, 'kejrudeen': 3, 'khilji': 3, 'pooja': 18, 'telecast': 21, 'karwata': 6, 'donate': 18, 'indiancricket': 3, 'baroda': 42, 'tuh': 6, 'mauke': 3, 'hello': 63, 'early': 33, 'peter': 3, 'perspective': 3, 'treat': 18, 'lights': 9, 'marriott': 6, 'literally': 24, 'stumped': 3, 'sallu': 393, 'pasun': 3, 'specially': 24, 'faujbhaiyo': 3, 'bhara': 24, 'namaskar': 15, 'shubkamnaye': 3, 'tikdha': 3, 'yeahhh': 3, 'beti': 69, 'bto': 3, 'shak': 24, 'matt': 18, 'banane': 57, 'mother': 36, 'fucker': 3, 'nawas': 3, 'sarif': 3, 'abt': 12, 'peaceful': 12, 'thn': 12, 'sme': 3, 'pennies': 3, 'fool': 21, 'bahana': 9, 'izahaar': 3, 'toote': 3, 'insane': 6, 'min': 42, 'lets': 15, 'bohat': 45, 'jyda': 12, 'smart': 36, 'responsibility': 15, 'dharam': 21, 'pey': 9, 'girao': 3, 'banaogey': 3, 'vande': 30, 'matram': 15, 'tao': 6, 'yahan': 108, 'rajasthan': 48, 'cg': 3, 'men': 51, 'shivaji': 12, 'rajya': 6, 'bedakhal': 3, 'kardiya': 18, 'rahul': 168, 'teree': 3, 'bold': 6, 'patta': 6, 'vishwash': 3, 'parahen': 3, 'hen': 24, 'shivraj': 18, 'vaccine': 75, 'marja': 3, 'kutte': 114, 'haramke': 3, 'suwwar': 3, 'offence': 3, 'mahapurush': 3, 'slum': 3, 'rehta': 57, 'vaah': 6, 'hardik': 30, 'plan': 57, 'success': 18, 'kamina': 42, 'bandh': 72, 'jit': 27, 'hara': 21, 'jisko': 54, 'pukara': 6, 'toti': 6, 'choro': 6, 'munh': 6, 'zuban': 12, 'bhak': 6, 'modrike': 3, 'usme': 63, 'capture': 6, 'code': 24, 'aadhar': 12, 'otp': 6, 'invalid': 3, 'resolve': 3, 'prb': 3, 'supreme': 60, 'sabke': 24, 'nirbhar': 6, 'rahta': 12, 'yadi': 30, 'aranbji': 3, 'bail': 27, 'aroop': 3, 'lagana': 18, 'poochhta': 6, 'salamat': 42, 'masterpiece': 18, 'boring': 21, 'khushboo': 30, 'tripathi': 6, 'khusboo': 3, 'lga': 36, 'utho': 9, 'hinduo': 30, 'navjot': 3, 'sarm': 15, 'wapas': 48, 'medium_skin_tone': 21, 'rannfestival': 3, 'gujarattourism': 6, 'travel': 42, 'wanderlust': 6, 'bahubali': 15, 'darne': 3, 'justice': 66, 'any': 165, 'cost': 15, 'monthofinjusticeforssr': 3, 'shaved_ice': 9, 'balloon': 9, 'varun': 12, 'khila': 12, '13pm': 3, 'gyaa': 15, 'lgta': 21, 'link': 48, 'kholo': 6, 'jawab': 126, 'livestream': 3, 'com': 15, 'fblive': 3, 'awarapan': 3, 'emmi': 3, 'manjar': 3, 'coronastopkarona': 6, 'coronavirusupdate': 9, 'workingfromhomelife': 3, 'gujaratcorona': 3, 'chloroquine': 3, 'indiafightscorona': 18, 'shivrajsinghchouhan': 6, 'socialdistanacing': 3, 'curfew': 9, 'fridayfeeling': 9, 'wana': 9, 'celebrate': 24, 'jayanti': 3, 'lie': 51, 'tribute': 12, 'hiii': 30, 'mujhse': 57, 'karenge': 204, 'shaadi': 96, 'karane': 21, 'needs': 6, 'tolerate': 6, 'backstabbing': 3, 'wesaluteourarmedforces': 3, 'bhatije': 6, 'wasta': 3, 'write': 30, 'amul': 12, 'macho': 3, 'ladko': 12, 'underwear': 6, 'bra': 12, 'unchi': 9, 'pohonch': 3, 'ferr': 3, 'marrey': 3, 'huye': 36, 'khade': 21, 'pakad': 15, 'khanjar': 6, 'jnu': 30, 'jaisa': 153, 'busts_in_silhouette': 6, 'yaaraana': 3, 'loving': 21, 'ever': 105, 'victory_hand': 159, 'girl': 123, 'vai': 63, 'vaijan': 3, 'khuda': 87, 'rahega': 75, 'dis': 15, 'abhinav': 3, 'wrost': 9, 'moreover': 3, 'rahulvaidya': 9, 'boy': 78, 'ryt': 15, 'direction': 9, 'teaser': 39, 'clips': 6, 'varna': 24, 'mv': 12, 'aayenge': 51, 'unseen': 15, 'sholaoutnow': 72, 'rohitxakasashola': 72, 'sidharthshukla': 33, 'shehnaazgiil': 3, 'sidhearts': 15, 'shehnaazians': 3, 'sidnaaz': 15, 'swttuuuu': 3, 'muuaah': 3, 'muaah': 3, 'muah': 6, 'milneki': 3, 'chahat': 30, 'umid': 21, 'banih': 3, 'jindahoo': 3, 'lye': 21, 'yuva': 9, 'loge': 24, 'paye': 30, 'rock': 39, 'messages': 12, 'company': 33, 'jugaad': 3, 'cmnts': 9, 'frnds': 18, 'salute': 84, 'mam': 36, 'collection': 12, 'effect': 12, 'sooryavanshi': 3, 'ganda': 27, 'rishta': 60, 'bewafayi': 3, 'masti': 45, 'abe': 78, 'tm': 39, 'chapad': 3, 'chapd': 3, 'kroge': 60, 'jyenge': 3, 'sb': 198, 'chap': 15, 'bhaitho': 3, 'ekdm': 3, 'shanti': 42, 'aankh': 30, 'bnd': 15, 'commnt': 3, 'lgao': 3, 'everlasting': 3, 'yarhappy': 3, 'friendly': 12, 'pushkar': 6, 'gucchaa': 3, 'rakhne': 21, 'aurte': 3, 'raj': 57, 'gharane': 3, 'suputra': 3, 'bulaye': 6, 'acchaa': 3, 'biwi': 21, 'kehkar': 3, 'bulati': 3, 'humne': 69, 'aachi': 6, 'suruwat': 3, 'skill': 21, 'program': 12, 'heartly': 6, 'congratulated': 3, 'inko': 102, 'benaqab': 3, 'behn': 6, 'tmne': 3, 'jhut': 27, 'tumhre': 3, 'mdm': 3, 'calendar': 9, 'launching': 15, 'rohiit': 3, 'bhatiya': 3, 'naveen': 3, 'bhati': 3, 'sharma': 36, 'renaissance': 3, 'dr': 42, 'dimpy': 3, 'bhaibandh': 3, 'hmm': 18, 'pappa': 3, 'silvassa': 3, 'chee': 3, 'vicks': 3, 'kafir': 48, 'oor': 3, 'bolray': 3, 'asslam': 6, 'cheeze': 6, 'looks': 21, 'hastag': 9, 'padha': 18, 'yarr': 36, 'hounga': 3, 'houngi': 3, 'marks': 18, 'breath': 9, 'maari': 12, 'entry': 39, 'baji': 12, 'ghanti': 12, 'clt': 9, '7': 18, 'tweeting': 18, 'soye': 21, 'brilliant': 21, 'twist': 3, 'retro': 3, 'track': 18, 'couch': 3, 'son': 24, 'demand': 27, 'money_bag': 18, 'dhaaaansu': 3, 'village': 21, 'third': 24, 'dusri': 21, 'bankofbaroda': 6, 'bankofbarodanabipurbranch': 3, 'behtareen': 9, 'ofcourse': 9, 'direct': 24, 'hoods': 3, 'thandi': 42, 'vadra': 6, 'illegal': 6, 'beneficiary': 3, 'looted': 6, 'bnda': 9, 'jarur': 117, 'ghum': 33, 'lega': 57, 'shocked': 9, 'super': 168, 'saahoteaser': 3, 'augwithsaaho': 3, 'thukara': 12, 'intekaam': 9, 'dekhegi': 27, 'roast': 12, 'inka': 45, 'haal': 87, 'jitne': 45, 'utne': 12, 'dislike': 9, 'banntiktok': 3, 'speaks': 18, 'listens': 6, 'tell': 84, 'insha': 15, 'abki': 33, '300': 24, 'thu': 9, 'kuttey': 3, 'tsphh': 3, 'thb': 3, 'baki': 159, 'emotionally': 3, 'funnier': 3, 'geet': 21, 'gaana': 24, 'singing': 36, 'gaa': 6, 'tongue': 90, 'solution': 39, 'fresh': 15, 'lazy': 12, 'chutiya': 99, 'kehta': 33, 'piyo': 12, 'nind': 30, 'aftr': 6, 'shayri': 33, 'lovelife': 3, 'twitterfamily': 3, 'achhe': 48, 'samjhe': 18, 'nadaan': 6, 'ramjan': 9, 'mubark': 24, 'rokoge': 9, 'rendition': 3, 'amitabh': 15, 'pleasantly': 3, 'surprised': 15, 'poem': 15, 'written': 12, 'none': 6, 'yaarana': 18, 'dedicated': 27, 'everytime': 9, 'kaheytey': 3, 'dekhey': 3, 'totd': 3, 'kat': 27, 'zeher': 15, 'sikhao': 9, 'sundar': 39, 'ladkiyon': 15, 'bananeka': 3, 'cricketer': 6, 'khudke': 3, 'todne': 27, 'himachalpradeshelections': 3, 'kudos': 9, 'sooo': 6, 'fr': 27, 'tommorow': 6, 'kutta': 90, 'bukta': 3, 'positive': 24, 'tansion': 3, 'frk': 9, 'pdta': 18, 'killaf': 3, 'school': 81, 'dosto': 78, 'bin': 72, 'dosi': 3, 'bete': 48, 'kara': 63, 'coronavirusindia': 15, 'borrow': 3, 'inshqiya': 3, 'person_gesturing_no': 12, 'female_sign': 54, 'repeaters': 3, 'parentsconfusion': 3, 'cancelled': 6, 'mentaly': 3, 'tortured': 3, 'favour': 3, 'requesting': 3, 'behalf': 6, 'them': 129, 'leas': 3, 'consider': 12, 'person_tipping_hand': 18, 'sudhirbhai': 3, 'kasoor': 6, 'apks': 3, 'bazrangi': 3, 'movi': 24, 'verey': 3, 'yogi': 75, 'comments': 90, 'bataye': 27, 'kesa': 42, 'high_voltage': 36, 'glowing_star': 15, 'mroppatel': 3, 'mrop': 3, 'handsome': 24, 'attitude': 30, 'heatboy': 3, 'burnolforairasia': 3, 'sambhal': 18, 'survey': 3, 'kyaa': 42, 'earthday': 3, 'khd': 3, 'nhe': 57, 'shayid': 3, 'finish': 18, 'mahi': 27, 'cskvsrh': 6, 'eat': 30, 'ciclotourism': 3, 'dubaimemes': 3, 'ao': 12, 'bajrang': 36, 'bali': 51, 'dushman': 51, 'nali': 6, 'sunday': 63, 'waltz': 3, 'afternoon': 12, 'twitterattis': 3, 'hame': 132, 'crowd': 9, 'paaji': 30, 'junoon': 15, 'speaking': 9, 'muh': 63, 'dahi': 6, 'jama': 30, 'narola': 12, 'nirbhaya': 12, 'nyay': 27, 'accont': 3, 'maajak': 3, 'mamo': 3, 'mano': 24, 'sabe': 3, 'lia': 48, 'sachme': 6, 'vi': 36, 'hazir': 3, 'answer': 69, 'respected': 9, 'position': 18, 'question': 66, 'thumbs_down': 42, 'face_with_steam_from_nose': 39, 'confounded_face': 45, 'sree': 3, 'anusar': 3, 'la': 45, 'illaha': 3, 'smbidhanik': 3, 'vendors': 6, 'gst': 12, 'sd': 6, 'payments': 6, 'salo': 48, 'hadap': 3, 'bathe': 3, 'relise': 3, 'arvindkejriwal': 6, 'munasib': 6, 'might': 18, 'dreams': 12, 'gt': 123, 'kaafi': 39, 'musical_notes': 54, 'subki': 6, 'aan': 21, 'shaan': 15, 'virat': 81, 'pakhi': 6, 'jaap': 3, 'knows': 27, 'bhabhi': 24, 'intention': 3, 'girlfriend': 42, 'roaming': 9, 'around': 21, 'sai': 15, 'behave': 6, 'according': 18, 'gf': 54, 'abused': 3, 'slightly_smiling_face': 84, 'ghumhaikisikeypyaarmeiin': 6, 'firki': 6, 'kehna': 87, 'another': 30, 'voice': 66, 'spbalasubramaniam': 3, 'aaja': 27, 'shaam': 24, 'saathiya': 3, 'tuney': 3, 'tamanna': 24, 'favs': 3, 'rest': 24, 'ripspbalasubramaniam': 3, 'totichor': 6, 'pida': 3, 'natak': 30, 'bottle_with_popping_cork': 15, 'wine_glass': 3, 'raising': 6, 'bliss': 15, 'joy': 24, 'cuddles': 3, 'trust': 81, 'loveliestconfusion': 3, 'anniversary': 3, 'sakshi': 6, 'parsola': 3, 'berang': 9, 'thhe': 15, 'bemaza': 3, 'shaamil': 9, 'jinme': 6, 'bewajah': 6, 'jee': 81, 'pehli': 27, 'saazishein': 6, 'dobara': 12, 'lectures': 3, 'eating': 24, 'habbit': 3, 'makke': 3, 'rotti': 3, 'risk': 42, 'conducting': 18, 'spreading': 18, 'mass': 12, 'lives': 39, 'speakupforstudents': 6, 'sonya': 9, 'hijda': 6, 'isey': 9, 'gender': 9, 'immediately': 9, 'sakti': 48, 'jawaano': 3, 'inke': 66, 'tirange': 3, 'lipti': 3, 'hui': 129, 'lashon': 3, 'rhte': 12, 'vito': 3, 'power': 84, 'dila': 21, 'khayega': 9, 'lomdiwala': 3, 'nikla': 39, 'peacefully': 3, 'random': 21, 'aayeh': 3, 'manishji': 3, 'amrindarji': 3, 'statesman': 3, 'appreciate': 6, 'heartily': 3, 'imran': 30, 'shouldn': 9, 'coward': 6, 'frontfoot': 3, 'masood': 3, 'sportsman': 6, 'dikh': 54, 'rajasthantourism': 3, 'kotatourism': 3, 'kotacity': 3, 'takat': 15, 'tabhi': 39, 'nupur': 3, 'blatant': 3, 'fixing': 6, 'volunteering': 3, 'yaksaan': 3, 'jaisaconfusion': 3, 'parrte': 3, 'auron': 12, 'rulane': 3, 'waale': 33, 'pk': 21, 'pujne': 3, 'chhoti': 36, 'si': 129, 'murti': 12, 'bahanchod': 3, 'hizdo': 3, 'maszid': 3, 'dhile': 6, 'paidaisho': 3, 'jawline': 3, 'wooow': 3, 'patiala': 3, 'promotion': 39, 'preeti': 6, 'lucky': 33, 'iconic': 6, 'teastall': 6, 'ufff': 12, 'thunder': 3, 'stop': 78, 'ruining': 3, 'atmosphere': 6, 'scary': 3, 'waiter': 3, 'anything': 36, 'pointing': 9, 'hot': 72, 'bapuji': 18, 'prano': 6, 'guidelines': 6, 'itani': 6, 'jayada': 21, 'aabadi': 3, 'vikas': 84, 'raste': 15, 'galat': 138, 'tarakki': 6, 'keemat': 3, 'alag': 57, 'silences': 3, 'critics': 6, 'questioning': 3, 'intentions': 9, 'chotey': 3, 'milana': 6, 'yummiii': 3, 'basil': 3, 'leaves': 3, 'mentally': 9, 'march': 21, 'yar': 192, 'ajata': 3, 'truth': 27, 'awkward': 27, 'grapes': 3, 'sajha': 3, 'using': 21, 'wi': 12, 'fi': 9, 'thode': 45, 'jaega': 24, 'new_moon_face': 21, 'x': 45, 'thappad': 30, 'caring': 3, 'randhir': 12, 'backhand_index_pointing_up': 141, 'god': 174, 'american': 18, 'wise': 6, 'changed': 9, 'yojana': 6, 'emotional': 27, 'congressi': 36, 'bollywoodiya': 3, 'mumbai': 93, 'brastachar': 3, 'thats': 36, 'romance': 15, 'dilsediltak': 3, 'takneeq': 3, 'badhao': 12, 'rishtedar': 9, 'hahahahaha': 3, 'sher': 78, 'garjna': 3, 'modisher': 3, 'sbki': 9, 'lagne': 33, 'dho': 15, 'toilet': 15, 'indvban': 6, 'sorrynotsorry': 3, 'ranga': 27, 'billa': 33, 'under': 42, 'salil': 9, 'trp': 30, 'colors': 15, 'chnl': 3, 'kehte': 108, 'dusro': 33, 'barbaadi': 3, 'hasna': 6, 'achhi': 30, 'bewakoofi': 6, 'ego': 12, 'khudh': 6, 'barbaad': 3, 'mazaak': 15, 'banega': 21, 'gee': 3, 'produce': 15, 'huvi': 3, 'achi': 75, 'ehsa': 3, 'riddhiraval': 3, 'meh': 18, 'andlove': 3, 'intjar': 15, 'pile': 9, 'badman': 3, 'kerta': 3, 'actor': 78, 'terrorist': 33, '00': 30, 'bhale': 36, 'reach': 24, 'bhaut': 15, 'zada': 12, 'ayga': 9, 'zarrur': 3, 'kiska': 18, 'hamne': 30, 'shoq': 6, 'awaargi': 3, 'pressure': 15, 'blaming': 9, 'bowler': 3, 'gal': 15, 'isna': 3, 'chalang': 3, 'iska': 87, 'agr': 75, 'ge': 90, 'sikhane': 6, 'niklenge': 3, 'bkl': 12, 'moral': 9, 'policing': 3, 'comment': 153, 'dikhate': 18, 'magar': 66, 'aakhir': 18, 'becharo': 6, 'dosh': 6, 'milo': 30, 'gham': 33, 'gourav': 3, 'badha': 33, 'ayushman': 3, 'bhav': 18, 'zurm': 3, 'dii': 9, 'lal': 33, 'thulu': 3, 'tossed': 3, 'berries': 3, 'lemon': 3, 'juice': 6, 'sugar': 9, 'saucepan': 3, 'slurpy': 3, 'blueberry': 6, 'jam': 12, 'crepe': 3, 'piping': 3, 'syaapa': 3, 'mukaaaao': 3, 'yayy': 6, 'ggmu': 3, 'van': 6, 'persie': 3, 'month': 81, 'thigh': 3, 'injury': 6, 'mufc': 3, 'epl': 3, 'villa': 3, 'negativity': 6, 'dabangg': 24, 'weekendkavaarwithsalman': 3, 'exposeparaschhabra': 3, 'colorstv': 6, 'asim': 36, 'sehnaazgill': 3, 'bhau': 15, 'rashamidesai': 6, 'share': 171, 'few': 42, 'investment': 6, 'idea': 63, 'dust': 3, 'settle': 3, 'calm': 15, 'pherta': 3, 'agai': 3, 'daitai': 3, 'dai': 9, 'daina': 6, 'patriot': 3, 'bn': 12, 'sach': 135, 'samna': 9, 'roza': 45, 'tapri': 27, 'limits': 3, 'cheez': 57, 'outdated': 3, 'bahan': 21, 'lodi': 3, 'pahle': 105, 'sari': 66, 'notes': 6, 'serial': 12, 'send': 30, 'earning': 24, 'lakh': 48, 'tiktok': 84, 'gamer': 6, 'memer': 3, 'kamaya': 6, 'chote': 36, 'salmon': 3, 'boooooohat': 3, 'hn': 54, 'dirty': 24, 'indians': 72, 'dont': 54, 'manage': 12, 'crisis': 9, 'delivering': 6, 'jumla': 21, 'benefit': 15, 'cluelessmodisarkar': 9, 'theek': 57, 'jeetoge': 6, 'frst': 3, 'momnt': 3, 'fall': 9, 'divan': 3, 'fallen': 3, 'demm': 3, 'alia': 15, 'shraddha': 6, 'mallika': 12, 'marti': 6, 'ehi': 3, 'problem': 165, 'solove': 3, 'akh': 9, 'lad': 12, 'intelligent': 6, 'boyss': 3, 'muqabka': 3, 'dino': 54, 'goes': 27, 'armaan': 18, '9747375375': 3, 'fen': 21, 'citizens': 6, 'since': 54, 'graduated': 3, 'mbbs': 9, 'clear': 42, 'mci': 6, 'registration': 3, 'pending': 15, 'clearance': 6, 'file': 18, 'form': 27, 'ministry': 15, 'affairs': 3, 'saying': 66, 'sarafians': 3, 'sallman': 6, 'photos': 6, 'uplod': 3, 'krke': 60, 'khrab': 12, 'mt': 78, 'aacha': 12, 'sama': 9, 'batavu': 3, 'apno': 15, 'badalta': 9, 'asan': 6, 'samara': 3, 'during': 24, 'door': 57, 'kana': 3, 'diziye': 3, 'whatsupp': 3, 'bej': 9, 'yd': 3, 'aksr': 3, 'stane': 3, 'ruth': 12, 'riste': 9, 'nibhana': 12, 'bs': 87, 'dilon': 9, 'nibhane': 12, 'mko': 6, 'farq': 6, 'shooting': 21, 'agra': 9, 'tahirbhai': 3, 'naraj': 15, 'khus': 21, 'mu': 18, 'wasn': 9, 'expected': 15, 'hillu': 3, 'dullu': 3, 'phaad': 3, 'gphaadke': 3, 'thoughts': 36, 'ass': 6, 'finished': 3, 'vocals': 3, 'sung': 12, 'oh': 75, 'mona': 3, 'jamal': 3, 'asa': 12, 'ans': 39, 'bebo': 6, 'krega': 15, 'jadhav': 6, 'tumhara': 132, 'bigada': 12, 'tukdoo': 3, 'lunga': 18, 'mily': 3, 'tujhy': 9, 'phoool': 3, 'mehky': 3, 'kary': 18, 'abad': 9, 'khushiyan': 9, 'tention': 9, 'ghatia': 3, 'harqat': 3, 'faith': 9, 'bhaiiii': 9, 'moron': 6, 'deserve': 33, 'cabinet': 21, 'hii': 51, 'caption': 33, 'editing': 24, 'hibiscus': 30, 'ekdum': 15, 'zakaaas': 3, 'yrrr': 18, '14': 6, 'kisaan': 9, 'hard': 57, 'bachche': 18, 'plane': 6, 'dikkat': 30, 'kisaano': 6, 'ks': 3, 'chouhan': 6, 'bhinmal': 9, 'jalore': 3, 'haar': 66, 'arre': 27, 'haari': 3, 'waham': 3, 'guroor': 6, 'sikasht': 3, 'khani': 21, 'haii': 39, 'lappas': 3, 'thatdaytho': 3, 'kauf': 3, 'billi': 78, 'cahtiha': 3, 'ake': 18, 'sobko': 3, 'jalak': 3, 'lagadea': 3, 'thak': 51, 'gine': 3, 'bawasir': 12, 'newprofilepic': 3, 'karankundrra': 12, 'umarriaz': 24, 'afsana': 12, 'hath': 108, 'points': 9, 'jiske': 42, 'sanchalak': 3, 'task': 45, 'romantic': 33, 'karati': 3, 'platake': 3, 'kahin': 72, 'doob': 24, 'jau': 48, 'tuje': 96, 'chahna': 3, 'subah': 78, 'gao': 3, 'katl': 3, 'uttrayan': 9, 'bisi': 3, 'effective': 6, 'alarm': 9, 'jaayegi': 12, 'afridis': 3, 'teenage': 3, 'baahar': 3, 'shahid': 18, 'naa': 108, 'paaye': 9, 'shaheen': 9, 'paayenge': 3, 'pakvsban': 3, 'pakistancricket': 6, 'banvpak': 3, 'cricketworldcup': 3, 'kren': 9, 'btaye': 9, 'carefully': 3, 'murkh': 18, 'hasi': 24, 'ati': 36, 'gadho': 3, 'gareeb': 39, 'basti': 12, 'bachpana': 3, 'hesitant': 72, 'spineless': 6, 'creatures': 6, 'sucking': 3, 'blood': 12, 'aja': 21, 'ayi': 30, 'mousam': 9, 'angraiiii': 3, 'cho': 24, 'taktae': 3, 'tujhko': 18, 'sanjh': 3, 'savere': 3, 'boss': 96, 'abhe': 6, 'mint': 21, 'lunch': 24, 'balls': 12, 'khelne': 9, 'shami': 3, 'najane': 6, 'tham': 12, 'jaata': 36, 'whom': 30, 'wouldn': 6, 'cups': 9, 'happybirthdaygautamgambhir': 3, 'plastic': 3, 'bottles': 6, 'everywhere': 9, 'diy': 6, 'videos': 6, 'doshi': 6, 'phle': 57, 'bhaukti': 3, 'bhgwan': 3, 'thunderstorms': 6, 'auntykichai': 3, 'aunti': 3, 'kalank': 18, 'patrakarita': 6, 'bikao': 3, 'bhadve': 9, 'sochege': 3, 'chskega': 3, 'chhutega': 3, 'biceps': 3, '17': 9, 'inchi': 3, 'tips': 18, 'mangne': 18, 'bhimte': 3, 'daan': 12, 'bolenge': 21, 'mangke': 3, 'bhikhari': 6, 'kahike': 3, 'udte': 9, 'patango': 3, 'rango': 6, 'jhumenge': 3, 'slightly_frowning_face': 30, 'bodegurd': 3, 'friende': 3, 'priyank': 3, 'accepting': 3, 'clearing': 6, 'tussi': 30, 'cha': 27, 'zeemarathi': 3, 'zma': 3, 'aisay': 3, 'vodafone': 30, 'ped': 12, 'ugte': 3, 'yaari': 30, 'imaan': 18, 'bando': 3, 'sabse': 204, 'bandagi': 3, 'zindag': 3, 'tewatia': 3, 'short': 24, 'sl': 12, 'loss': 21, 'stock': 15, 'ruchi': 3, 'soya': 12, 'multibaggerconfusion': 3, 'jaaye': 84, 'photographer': 15, 'blurred': 3, 'selfie': 39, 'prfl': 3, 'kafi': 51, 'mereko': 27, 'aarha': 9, 'baaaki': 6, 'sidheart': 9, 'aaaj': 9, 'sona': 54, 'chayiye': 12, 'sid': 51, 'honi': 21, 'kingdom': 3, 'rule': 27, 'phirse': 9, 'missingyousidshukla': 12, 'bajne': 3, 'gdpdrop': 3, 'gaali': 48, 'patto': 3, 'jisdin': 3, 'ta': 78, 'grow': 18, 'understantongue': 3, 'weren': 3, 'tough': 9, 'teachers': 6, 'screw': 3, 'fact': 21, 'bhiya': 15, 'chota': 27, 'mota': 15, 'roll': 27, 'dabbang': 9, 'joi': 3, 'flim': 18, 'nana': 3, 'mauva': 3, 'laxminagar': 3, 'bhakti': 30, 'nagar': 24, 'bridge': 15, 'bahaut': 6, 'pareshani': 12, 'veda': 6, 'followed': 9, 'idoms': 3, 'parhaste': 3, 'gatam': 3, 'dhanam': 3, 'daaye': 3, 'fund': 12, 'create': 12, 'legislature': 3, 'non': 36, 'taxable': 3, 'auditable': 3, 'questionable': 3, 'baktta': 3, 'prawakta': 3, 'gune': 3, 'rey': 3, 'bjpmembership': 3, 'prem': 48, 'muslman': 42, 'huwe': 9, 'saram': 6, 'performing_arts': 3, 'sapne': 51, 'aabto': 3, 'hakikat': 15, 'dar': 45, 'lagega': 33, 'top_arrow': 18, 'shaurya': 3, 'anokhi': 6, 'twit': 12, 'confirm': 15, 'vandalise': 3, 'suraj': 48, 'dhalte': 3, 'doordarshan': 15, 'bachpan': 48, 'satellite_antenna': 6, 'laya': 18, 'dekhenge': 27, 'ramanandsagar': 3, 'page': 72, 'dla': 3, 'karadi': 3, 'khurana': 3, 'gaaya': 6, 'chankitthan': 3, 'folk': 3, 'maza': 129, 'soulful': 3, 'beech': 9, 'harkat': 9, 'aaa': 12, 'toooo': 3, 'sooooo': 9, 'mache': 3, 'housefull': 9, 'tarif': 15, 'kahte': 39, 'connection': 15, 'deke': 21, 'fuse': 3, 'thnq': 3, 'yrs': 27, 'gem': 21, 'siraj': 6, 'wicket': 39, 'pavilion': 3, 'rcb': 15, 'xa': 261, 'rcbvsrr': 3, 'badminton': 3, 'olympic': 3, 'teamindia': 12, 'tokysurprisedlympics': 3, 'learn': 30, 'kachra': 12, 'jaddowalon': 3, 'dustbin': 6, 'entire': 15, 'thread': 18, 'efforts': 12, 'presence': 3, 'ras': 36, 'touched': 3, 'blessed': 96, 'purple_heart': 24, 'jawo': 3, 'satna': 12, 'maidem': 3, 'bare': 117, 'bakbas': 3, 'lagane': 24, 'sidha': 9, 'engegment': 6, 'imp': 12, 'goenka': 3, 'suppose': 3, 'akshu': 3, 'arohi': 3, 'yehrishtakyakehlatahai': 3, 'haye': 6, 'gr8': 6, 'admin': 15, 'dhokha': 21, 'sasno': 3, 'panha': 3, 'jadu': 18, 'arrestswarabhaskar': 3, 'aatma': 9, 'mun': 3, 'pavitrata': 3, 'jhalak': 9, 'aawaz': 15, 'mahabharat': 6, 'rk': 6, 'timing': 30, 'ku': 54, 'koyi': 21, 'prf': 3, 'kami': 51, '4pm': 36, 'chutiyap': 3, 'maharashtraassemblypolls': 3, 'krtte': 3, 'kartte': 3, 'aag': 48, 'bujegi': 3, 'khatm': 39, 'dill': 30, 'chik': 3, 'chikh': 3, 'rota': 9, 'dunia': 30, 'bezuba': 3, 'golden': 18, 'vaala': 6, 'bestfriends': 9, 'birthdayboy': 6, 'coloriya': 3, 'university': 21, 'taken': 30, 'deadline': 3, 'scientists': 3, 'firmly': 3, 'stay': 45, 'staying': 6, 'tinder': 6, 'ladkiya': 15, 'bio': 36, 'likhti': 9, 'sapiosexual': 3, 'ladke': 39, 'dimag': 81, 'bichare': 12, 'nalle': 27, 'vaar': 15, 'bo': 24, 'rajeev': 3, 'maut': 33, 'jaati': 45, 'raashi': 3, 'didi': 48, 'khaali': 9, 'cooker': 3, 'gas': 24, 'chadha': 12, 'worstyear': 12, 'rasodemeinkauntha': 3, 'mondaythoughts': 18, 'boliye': 6, 'dilo': 6, 'tamasha': 15, 'bithaya': 9, 'siyasat': 3, 'kurshi': 3, 'ghirtey': 3, 'lagegi': 12, 'kishore': 3, 'click': 33, 'listen': 24, 'baro': 3, 'madhur': 3, 'ajnabi': 18, 'saraspur': 3, 'circle': 12, 'fyada': 3, 'parinda': 3, 'kabira': 3, 'yarrrrrrrrrrrrrrrr': 3, 'sentence': 3, 'leti': 42, 'captain': 21, 'final': 48, 'suitable': 3, 'candidate': 9, 'deedar': 6, 'muuuhhhhhhaaa': 3, 'vaidik': 3, 'sent': 12, 'bheegi': 6, 'yograj': 3, 'condemn': 3, 'maja': 84, 'jhand': 12, 'parsh': 9, 'missing': 36, 'kitni': 111, 'qk': 9, 'hmlog': 6, 'helpramzan': 3, 'majboori': 6, 'ky': 102, 'rhahu': 3, 'uri': 6, 'army': 60, 'camp': 9, 'servalance': 3, 'border': 6, 'lagayenge': 3, 'asar': 30, 'scindia': 15, 'jii': 24, 'madhya': 18, 'pradesh': 42, 'virodh': 27, 'tk': 90, 'qki': 3, 'sbka': 21, 'yey': 3, 'etni': 15, 'baarish': 48, 'sad_but_relieved_face': 45, 'hllo': 3, 'kase': 15, 'advance': 48, 'todegi': 6, 'jiii': 9, 'excite': 3, 'plant': 3, 'candle': 3, 'actual': 15, 'scenario': 3, 'rjhardik': 57, 'radiocity': 18, 'radhenagar': 3, 'tennis': 3, 'club': 24, 'relive': 3, 'cross_mark': 81, 'retweet': 33, 'janata': 6, 'akhe': 6, 'khole': 9, 'uninstalltiktok': 3, 'hallo': 12, 'sachhe': 6, 'marte': 30, 'dam': 39, 'kere': 3, 'gen': 3, 'puch': 27, 'thii': 9, 'tiktoker': 9, 'manager': 15, 'pad': 63, 'fridaythoughts': 6, 'jayga': 9, 'indorefightscorona': 12, 'namsthe': 3, 'gurudhev': 3, 'hal': 57, 'salgira': 3, 'khawb': 3, 'selfieee': 3, 'anokha': 6, 'janaab': 9, 'boredom': 3, 'led': 3, 'terrible': 6, 'surprisingly': 3, 'exactly': 18, 'checked': 9, 'memories': 27, 'haam': 3, 'friendshipday': 18, 'friendship': 84, 'bandhte': 3, 'friendsforever': 12, 'dramebaazkejriwal': 3, 'muge': 3, 'krni': 27, 'padata': 9, 'breathe': 18, 'respire': 12, 'expire': 9, 'sushma': 6, 'sitara': 3, 'hubs': 3, 'viratian': 3, 'tok': 18, 'apps': 24, 'jj': 6, 'chineseapps': 3, 'maire': 3, 'hanuman': 21, 'current': 12, 'generation': 6, 'ganv': 6, 'cycle': 6, 'chalake': 3, 'julwania': 3, 'bta': 60, 'patrekarita': 3, 'sukhi': 3, 'sampan': 3, 'rozgar': 12, 'mtlb': 33, 'mahgayi': 3, 'jhute': 12, 'tuche': 3, 'chunav': 18, 'jeetna': 3, 'chate': 18, 'lkn': 6, 'sampitroda': 3, 'jalsavad': 3, 'karnavati': 3, 'liquorshops': 3, 'open': 48, 'religious': 12, 'closed': 9, 'ahead': 24, 'mane': 27, 'pla': 3, 'udas': 9, 'nazron': 12, 'khwab': 30, 'bajega': 6, 'huva': 66, 'aik': 27, 'bt': 141, 'sake': 93, 'sala': 156, 'kamena': 3, 'amara': 9, 'west': 36, 'tia': 3, 'jhootha': 9, 'vaada': 12, 'bhala': 45, 'jihadi': 6, 'bibi': 3, 'argue': 6, 'multiple': 3, 'choices': 3, 'answers': 15, 'hogyi': 15, 'greetings': 12, 'sahaa': 33, 'vice': 18, 'pray': 24, 'jaree': 3, 'bhen': 21, 'rahulgandhi': 21, 'rahulgandhilies': 3, 'sub': 54, 'rage': 6, 'chhokidar': 3, 'ashok': 12, 'dave': 3, 'subhi': 3, 'mazbut': 9, 'child': 21, 'interviewer': 6, 'kitongue': 9, 'puchha': 9, 'loose': 6, 'bihar': 99, 'vaise': 48, 'ukhad': 24, 'ghanta': 33, 'chadhti': 3, 'bja': 6, 'dohra': 3, 'mrne': 3, 'paying': 3, 'prices': 9, 'paid': 27, 'buying': 3, 'unit': 3, 'scapegoat': 3, 'elect': 9, 'kitny': 3, 'farigh': 3, 'kyn': 12, 'requests': 3, 'ry': 6, 'yummy': 30, 'rasoi': 3, 'snack': 6, 'egg': 12, 'eggs': 3, 'snacks': 15, 'pranam': 9, 'achya': 3, 'vinti': 9, 'tabiyat': 12, 'rakiye': 3, 'jivo': 3, 'hajharo': 3, 'sal': 63, 'yuhi': 30, 'baras': 6, 'kaali': 3, 'ghata': 3, 'barse': 6, 'principal': 6, 'kucch': 9, 'kaho': 18, 'kaa': 51, 'nada': 6, 'puray': 3, 'shrishti': 3, 'afar': 3, 'tyo': 9, 'bhaisachin': 3, 'pujari': 3, 'kissise': 3, 'nzr': 3, 'rkiye': 3, 'dekhiye': 27, 'pyr': 9, 'hideous': 3, 'starring': 3, 'chicken': 9, 'jumping': 3, 'phitte': 3, 'req': 6, 'bhejenga': 3, 'nr': 3, 'promise': 27, 'radiyo': 3, 'konsa': 24, 'chenge': 3, 'rakhnaa': 6, 'muslma': 3, 'dhabaaa': 3, 'haiiiiiiiiiiii': 3, 'hat': 15, 'trap': 6, 'rape': 33, 'wattttt': 3, 'manmeet': 6, 'ending': 12, 'pradeep': 3, 'nationalist': 6, 'nationfirst': 3, 'khi': 18, 'kidnapded': 3, 'toh12july': 3, 'chalega': 93, 'sindh': 21, 'aen': 6, 'zip': 6, 'feku': 15, 'modionzee': 3, 'chiy': 3, 'puchte': 6, 'moji': 3, 'declare': 12, 'off': 84, 'smc': 9, 'maintance': 3, 'option': 27, 'goggle': 3, 'maki': 9, 'gand': 21, 'fad': 21, 'indains': 3, 'nightout': 3, 'drivetastefully': 3, 'fruitbeer': 3, 'friendswithbenefits': 3, 'beer_mug': 18, 'tujhpe': 18, 'daastan': 6, 'amdheer': 3, 'gadhi': 3, 'teko': 3, 'ushki': 3, 'samjegi': 6, 'pick': 9, 'superb': 105, 'srkajol': 3, 'kiy': 3, 'thenb': 3, 'barbat': 3, 'listening': 21, 'namonamo': 3, 'kedarnath': 3, '10': 27, 'bane': 42, 'tasbeer': 3, 'dusari': 3, 'flat': 9, 'lagaunga': 3, 'upcoming': 21, 'salmankhanbirthday': 6, 'sooraj': 12, 'pancholi': 3, 'offical': 3, 'kardey': 3, 'sant': 30, 'rampal': 15, 'maharajyoutubechannel': 3, 'thereformer': 3, 'santrampalji': 3, 'saint': 6, 'maharaj': 30, 'abtaar': 3, 'buraiyo': 3, 'nasa': 12, 'sidhi': 6, 'vinayak': 3, 'ganesh': 27, 'hoooooo': 6, 'tiper': 3, 'strong': 21, 'lakes': 9, 'believe': 51, 'tradition': 3, 'culture': 12, 'explain': 18, 'russian': 3, 'astronauts': 3, 'pee': 27, 'manned': 3, 'gadha': 12, 'tikh': 3, 'stuck': 12, 'janadesh': 3, 'beshumar': 6, 'bharose': 6, 'sabit': 24, 'person_bowing': 24, 'respectful': 3, 'album': 15, 'aditya': 15, 'roy': 6, 'kapur': 9, 'sets': 6, 'dikhhla': 3, 'daawat': 6, 'usako': 3, 'hmne': 9, 'isase': 9, 'skti': 18, 'tharad': 3, 'branch': 6, 'suspend': 21, 'barbad': 27, 'admit': 9, 'cards': 3, 'aajayenge': 6, 'postponejee': 3, 'neetincovid': 3, 'placecommer': 3, 'tired': 21, 'naukri': 12, 'formals': 3, 'mandatory': 6, 'variable': 3, 'component': 3, 'curricular': 3, 'mohalle': 3, 'competition': 6, 'daal': 42, 'yoga': 12, 'telephone': 3, 'lain': 6, 'rpf': 3, 'paty': 3, 'tarafse': 3, 'wada': 33, 'commentment': 3, 'sunte': 24, 'gayab': 36, 'padho': 9, 'krishn': 9, 'kanaiya': 3, 'radha': 18, 'nache': 6, 'bashuri': 3, 'dhun': 9, 'hardikpandya': 3, 'vijay': 39, 'shankar': 9, 'responsible': 27, 'bcci': 15, 'note': 24, 'salmaaaaaaaaaaaaaaaaaaaaaaaaaaaaaaan': 3, 'ajhooo': 3, 'ghanto': 3, 'acche': 57, 'vall': 3, 'dia': 27, 'zariya': 3, 'touch': 24, 'gundu': 3, 'bundu': 3, 'rav': 3, 'bav': 6, 'samjalo': 3, 'bhokta': 12, 'thok': 15, 'bdkr': 3, 'ghatnayen': 3, 'huyi': 18, 'nhhh': 3, 'halo': 6, 'chainal': 3, 'staf': 3, 'pita': 15, 'katilo': 3, 'saja': 18, 'dilane': 6, 'keliye': 15, 'ssun': 3, 'yehi': 57, 'sabka': 63, 'accused': 15, 'mining': 3, 'forest': 6, 'cases': 15, 'addict': 6, 'handle': 18, 'rise': 9, 'tarf': 18, 'pila': 15, 'sirji': 33, 'zameer': 6, 'reh': 60, 'yup': 15, 'billo': 3, 'siree': 3, 'da': 51, 'shikari': 3, 'ankha': 6, 'bann': 18, 'nishaane': 3, 'denda': 3, 'teer': 3, 'smirk': 60, 'maanlo': 3, 'vastrapur': 18, 'stationconfusion': 6, 'soon': 54, 'typhoid': 3, 'speedy': 3, 'recovery': 6, 'noexamugc': 3, 'declared': 18, 'uttarakhand': 6, 'fu': 3, 'facebookdown': 6, 'instagramdown': 12, 'sown': 3, 'heyy': 3, 'sallooo': 3, '20': 9, 'kabir': 21, 'kabirsingh': 9, 'vijaysuvada': 6, 'suvada': 6, 'vijaybhuvaji': 3, 'jaykumaramin': 3, 'mamla': 6, 'staff': 12, 'filled': 6, 'kejriwaal': 3, 'cong': 6, 'talks': 21, 'hammering': 6, 'chain': 33, 'shakhs': 12, 'jahaan': 21, 'jaunelia': 3, 'agree': 21, 'badiya': 24, 'toot': 30, 'bikhar': 12, 'kaanch': 3, 'muqaddar': 3, 'sada': 24, 'aksar': 21, 'unpopular': 12, 'opinion': 21, 'action': 60, 'replayy': 3, 'comic': 3, 'medleys': 3, 'bekhabar': 3, 'peppy': 3, 'zor': 6, 'zatka': 3, 'nakhre': 6, 'tarikh': 39, 'akki': 15, 'films': 27, 'lambe': 3, 'samarth': 3, 'samarthyavan': 3, 'videsho': 3, 'lokpriya': 3, 'puchhe': 3, 'harvard': 3, 'persevering_face': 96, 'vali': 48, 'caught': 6, 'handed': 3, 'kicked': 6, 'satisfaction': 9, 'ppls': 3, 'tara': 15, 'lijiye': 27, 'aarahe': 6, 'thukra': 12, 'bnai': 6, 'bajragi': 6, 'kroga': 3, 'yhe': 24, 'pairo': 9, 'chahte': 147, 'biggest': 45, 'critical': 6, 'patient': 18, 'icu': 12, 'beds': 12, 'ventilator': 3, 'facility': 6, 'yesterday': 57, 'hospitals': 9, 'couldn': 12, 'bed': 18, 'uncle': 72, 'august': 27, 'mahine': 30, 'behen': 39, 'woman_and_man_holding_hands': 42, 'shravan': 3, 'maas': 3, 'nand': 6, 'lala': 9, 'matki': 3, 'paryushan': 3, 'parv': 3, 'shuruwat': 6, 'resign': 15, 'thoko': 6, 'loo': 9, 'bore': 24, 'indvsaus': 21, 'indiajeetega': 3, 'cwc': 27, 'men_holding_hands': 66, 'friendzone': 3, 'rashamians': 3, 'rkvians': 3, 'kinna': 3, 'rkv': 9, 'rashami': 3, 'mints': 9, 'exploited': 3, 'ignored': 9, 'fooled': 6, 'kiskidilli': 3, 'golgappa': 3, 'lajawab': 12, 'secular': 15, 'jamati': 3, 'kind': 51, 'paoge': 12, 'toofani': 3, 'tzh': 45, 'naseeb': 15, '27': 6, 'rat': 60, 'holy': 6, 'shbe': 3, 'kadr': 3, 'ibadat': 21, 'krty': 6, 'beingsalmankhan': 18, 'bbthiseid': 9, 'aajkiparty': 3, 'bajrangibhaijan': 3, 'humari': 54, 'jindgi': 15, 'kush': 15, 'bechara': 18, 'yehjawanihaidiwani': 6, 'music': 57, 'cherry_blossom': 15, 'peele': 6, 'daat': 9, 'dikhaane': 6, 'woowww': 3, 'prarthna': 3, 'duperhit': 3, 'nothing': 57, 'italian': 12, 'food': 156, 'pc': 36, 'mysterious': 3, 'nitin': 9, 'hemant': 12, 'darji': 3, 'cafebasilbistro': 3, 'pizza': 42, 'pasta': 18, 'italianfood': 3, 'coldcoffee': 3, 'nirmauniversity': 3, 'batein': 9, 'hey': 66, 'watched': 60, 'mrx': 3, 'horror': 6, 'pehda': 3, 'lv': 39, 'series': 36, 'shot': 15, 'edited': 6, 'kullad': 3, 'himanshu': 3, 'porwal': 3, 'kettle': 3, 'swad': 6, 'unn': 12, 'pakistanio': 9, 'kadva': 3, 'wng': 3, 'cmd': 3, 'abhinandan': 6, 'machate': 3, 'everyday': 12, 'hear': 48, 'enough': 24, 'turning': 3, 'lockdowns': 6, 'restrictions': 3, 'aawaj': 6, 'sunenge': 3, 'indianidol': 6, 'sonytv': 3, 'gulmira': 3, 'worked': 3, 'gonna': 42, 'air': 42, 'congratulation': 12, 'khudos': 3, 'thaka': 9, 'ashqo': 6, 'pochte': 12, 'haseen': 21, 'palo': 6, 'aasu': 12, 'baha': 9, 'tujiko': 6, 'sochte': 33, 'broken': 24, 'darbar': 12, 'ajj': 15, 'laash': 3, 'haram': 21, 'wear': 30, 'baggage': 3, 'showing': 24, 'khin': 3, 'yhi': 30, 'rahunga': 6, 'malum': 33, 'tikna': 3, 'sidharthshuka': 3, 'taki': 21, 'topic': 24, 'wapis': 27, 'yeeeee': 3, 'aaaa': 12, 'trainer': 3, 'hukka': 6, 'raksha': 9, 'shinde': 6, 'zaror': 15, 'janeman': 3, 'jhola': 6, 'saadgi': 18, 'bna': 51, 'tujse': 27, 'kyamt': 3, 'jayegi': 45, 'cracking': 3, 'deal': 12, 'focus': 24, 'followforfollowback': 12, 'yogs': 3, 'photoshoot': 6, 'photographie': 3, 'canonphotography': 3, 'dmark': 3, 'pariwaro': 3, 'jaano': 9, 'bamroli': 3, 'pankaj': 6, 'mishra': 15, 'chhatr': 3, 'kyon': 63, 'peena': 12, 'rehna': 51, 'milta': 63, 'hei': 213, 'galiyan': 6, 'bonus': 3, 'hein': 99, 'asharamji': 15, 'janamdin': 12, 'via': 69, 'talented': 12, 'pakistantayarhai': 3, 'pkmkb': 9, 'miley': 12, 'pathetic': 12, 'varsaat': 3, 'chuski': 6, 'dhoop': 18, 'khili': 3, 'pramukh': 6, 'saheb': 42, 'aapno': 3, 'pankhio': 3, 'jiv': 3, 'matra': 9, 'mate': 15, 'karuna': 6, 'daya': 6, 'director': 15, 'cinematography': 3, 'item': 9, 'isme': 63, 'aadat': 45, '4baje': 6, 'dhiyan': 18, 'raja': 27, 'ajmeri': 3, 'khwaja': 3, 'gharibnawaz': 3, 'temp': 6, 'aankhein': 12, 'khulti': 6, 'saalo': 24, 'hukumat': 9, 'maj': 3, 'kgn': 3, 'maanlenge': 3, 'yee': 12, 'distence': 3, 'abpnews': 3, '700': 3, 'crore': 42, 'hanged': 3, 'openly': 9, 'vasuli': 3, 'reporter': 9, 'jehadiyon': 3, 'tukde': 48, 'tikhe': 3, 'swaal': 3, 'reporters': 3, 'mushkil': 48, 'waise': 90, 'anpadon': 3, 'inshaheenbagh': 3, 'wc': 24, 'whenever': 39, 'trh': 9, 'mulk': 12, 'smzdar': 3, 'jae': 21, 'dusmni': 3, 'being_human': 3, 'heat': 3, 'jara': 27, 'technician': 6, 'demanding': 3, 'model': 39, 'recruitment': 9, 'completed': 9, 'within': 12, 'maximum': 9, 'period': 6, 'endless': 3, 'delay': 6, 'causes': 3, 'immense': 6, 'mental': 15, 'harassment': 3, 'financial': 12, 'burden': 6, 'unemployed': 12, 'youth': 36, 'intresting': 3, 'milee': 3, 'trha': 3, 'shahrukh': 18, 'milti': 54, 'islaam': 12, 'kaala': 3, 'dhappa': 3, 'judi': 9, 'tumain': 3, 'brotherhood': 6, 'allow': 12, 'leave': 45, 'message': 33, 'international': 30, 'newindia': 12, 'spirit': 15, 'jeete': 30, 'somewhere': 9, 'worldcup': 18, 'upen': 3, 'reet': 9, 'level': 30, 'berojgar': 12, 'february': 9, 'compare': 15, 'lodu': 33, 'lahsun': 3, 'acknowledged': 3, 'treatment': 6, 'davaaiya': 3, 'om': 21, 'semester': 6, 'books': 21, 'gana': 33, 'gaane': 24, 'cancer': 9, 'banai': 21, 'pdhte': 3, 'arae': 3, 'sur': 9, 'pahelae': 3, 'parao': 3, 'firr': 9, 'vedesh': 3, 'su': 27, 'vat': 18, 'swaminarayan': 6, 'himmatnagar': 51, 'nike': 6, 'size': 15, 'running_shoe': 18, 'shipping': 6, 'fashion': 21, 'instagood': 36, 'photooftheday': 9, 'ootd': 3, 'beauty': 30, 'moda': 3, 'fashionblogger': 12, 'terms': 3, 'condition': 9, 'whistle': 3, 'kasam': 57, 'irada': 21, 'urgent': 12, 'oxygen': 15, 'cylinder': 6, 'required': 3, 'leads': 9, 'covidindia': 6, 'oxygencylinders': 3, 'oxygenbeds': 3, 'dadi': 12, 'favouritefood': 3, 'homescenes': 3, 'bhakt': 69, 'chinn': 3, 'hammali': 3, 'maflar': 6, 'dolat': 6, 'shadiya': 6, 'rainbow': 6, 'jinki': 6, 'april': 18, 'fix': 15, 'shona': 18, 'ghera': 3, 'virus': 21, 'quarantinelife': 12, 'quarantineonlineparty': 3, 'mohhbbat': 3, 'beintehaapyar': 3, 'attacks': 3, 'bhilwara': 3, 'appreciation': 9, 'wrong': 57, 'center': 21, 'feel': 99, 'swag': 21, 'swagat': 27, 'masle': 3, 'banke': 18, 'manzil': 24, 'gale': 18, 'pucho': 27, 'bolega': 24, 'ulloo': 3, 'commitment': 33, 'kiye': 72, 'majaak': 3, 'bidhiji': 3, 'dukan': 24, 'shivsenacheatsmaharashtra': 6, 'vade': 12, 'east': 12, 'saari': 75, 'industry': 21, 'khaaf': 3, 'faayda': 3, 'pan': 42, 'industries': 6, 'tume': 18, 'jeetvoge': 3, 'maxii': 3, 'khudki': 6, 'baizati': 3, 'karwane': 9, 'companies': 3, 'banata': 18, 'cristion': 3, 'gaand': 15, 'fadti': 3, 'boycot': 6, 'clicked': 9, 'riverfront': 6, 'place': 48, 'cycling': 6, 'mirror': 9, 'newspaper': 9, 'mobilephotography': 6, 'river': 6, 'loveyou': 12, 'sayari': 6, 'guru': 39, 'sanam': 81, 'alha': 3, 'brkt': 3, 'tme': 6, 'ghrme': 3, 'jurjate': 3, 'khor': 9, 'khandan': 3, 'vt': 3, 'karwaiye': 3, 'lockdown': 111, 'doran': 6, 'khaye': 21, 'piye': 6, 'pretending': 3, 'khane': 78, 'warna': 81, 'kutto': 12, 'dalne': 15, 'heroine': 15, 'iddhar': 3, 'iamvicky': 3, 'shreesanth': 15, 'bigg': 33, 'panchat': 6, 'endemolshineind': 9, 'voot': 9, 'morening': 3, 'salaman': 15, 'whe': 3, 'anushka': 12, 'blame': 21, 'bura': 81, 'sunilgavaskar': 6, 'anushkasharma': 3, 'choti': 36, 'mulaqat': 9, 'tadpaye': 3, 'lamha': 21, 'devotee': 12, 'bisa': 3, 'begini': 3, 'skrg': 3, 'budhape': 3, 'publicized': 3, 'srk': 54, 'dnt': 18, 'underestimate': 3, 'admiconfusion': 3, 'udash': 3, 'sutte': 6, 'bachte': 3, 'kaminey': 3, 'dikhega': 6, 'dum': 51, 'older': 3, 'totka': 3, 'snatched': 6, 'tezgamexpressfire': 3, 'demonetisation': 3, 'yaaaaar': 3, 'june': 18, 'dying': 9, 'ekvillian': 3, 'mesmerized': 3, 'beating_heart': 33, 'tenu': 27, 'karan': 78, 'vich': 9, 'sau': 6, 'jaave': 6, 'mainu': 9, 'chhad': 3, 'sans': 18, 'rukhe': 3, 'bachaa': 3, 'jatey': 3, 'return': 21, 'stall': 9, 'owner': 3, 'reveals': 6, 'kulhad': 12, 'sipped': 3, 'hunar': 12, 'haat': 9, 'namo': 48, 'yaa': 66, 'safe': 39, 'yourquote': 9, 'motivationalquotes': 6, 'mondaymotivation': 12, 'mondayvibes': 3, 'unnecessary': 9, 'products': 6, 'active': 15, 'saa': 6, 'appka': 9, 'kolkata': 24, 'pehla': 21, 'doosra': 6, 'jhooth': 18, 'aandhe': 3, 'fakina': 3, 'bhkt': 6, 'aankhe': 21, 'khol': 45, 'instalike': 9, 'likeforfollow': 3, 'likeforlikes': 3, 'followmeto': 3, 'followback': 6, 'pining': 3, 'past': 21, 'roots': 6, 'anyone': 24, 'surendranagar': 9, 'sabzi': 93, 'stand': 75, 'plate': 6, 'regional': 3, 'adab': 21, 'arz': 9, 'tumjomile': 3, 'rabba': 33, 'jaanega': 6, 'dooriyon': 3, 'aansu': 15, 'khare': 6, 'monthstoarmaansbirthday': 3, 'kehlata': 21, 'alert': 6, 'naira': 6, 'kartik': 9, 'fight': 48, 'continues': 3, 'pinkvilla': 3, 'uppcl': 6, 'mathura': 6, 'dalota': 3, 'chomuha': 3, 'chatta': 3, 'hilliours': 3, 'replace': 9, 'grimacing_face': 90, 'lamooo': 3, 'bhupender': 9, 'panwar': 9, 'bdw': 9, 'wtsap': 3, 'hmare': 12, 'sarkaar': 21, 'mazhasb': 3, 'white_question_mark': 3, 'bhasha': 18, 'bolta': 39, 'laat': 18, 'layak': 24, 'barber': 3, 'geometry': 3, 'baithte': 6, 'iamwithsidshukla': 6, 'keepgoingsidharthshukla': 6, 'paucha': 3, 'members': 12, 'cap': 6, 'abkibarmodisarkar': 3, 'itemgirlkejriwal': 3, 'zomato': 27, 'fariyad': 6, 'wollate': 3, 'bharatratna': 3, 'reformer': 3, 'akhir': 39, 'chezz': 3, 'thaki': 3, 'huee': 3, 'moviee': 3, 'flo': 3, 'hot_springs': 3, 'khtm': 15, 'suru': 21, 'touchscreen': 3, 'typing': 6, 'revolutionized': 3, 'fleksy': 3, 'neccessary': 3, 'hmmmmm': 6, 'bohut': 39, 'notice': 15, 'except': 9, 'upa': 15, 'ruled': 6, 'crying': 63, 'whatever': 9, 'raastaa': 3, 'mrr': 3, 'bullseye': 12, 'find': 48, 'goal': 15, 'doesnt': 6, 'exist': 9, 'konse': 6, 'peeche': 18, 'mirchi': 27, 'samose': 3, 'khilao': 9, 'chilla': 3, 'tujhme': 21, 'soti': 3, 'liyee': 6, 'chupaya': 3, 'claimex': 3, 'madhuri': 3, 'dixit': 3, 'born': 12, 'doctor': 24, 'dedhia': 3, 'baval': 3, 'karein': 27, 'saval': 3, 'kapoor': 30, 'invite': 6, 'drinking': 12, 'vaghbakri': 3, 'uninvited': 3, 'guest': 9, 'skittles': 3, 'tastetherainbow': 3, 'kah': 69, 'likhne': 21, 'kassam': 3, 'arts': 3, 'commerce': 3, 'bass': 30, 'aadhe': 9, 'ladkiyaan': 3, 'charger': 3, 'bichara': 6, 'ohhhlelelele': 3, 'block': 24, 'bhavu': 3, 'aapan': 6, 'bolu': 39, 'mla': 36, 'dark': 6, 'handroid': 3, 'expericed': 3, 'victim': 15, 'writist': 3, 'singist': 3, 'newaz': 3, 'favr8': 3, 'aunga': 6, 'karunga': 42, 'questions': 24, 'puchunga': 3, 'calls': 36, 'remain': 9, 'silent': 30, 'angry': 15, 'young': 33, 'yesteryears': 6, 'mosam': 6, 'anas': 3, 'paneer': 39, 'lahori': 6, 'sevayain': 3, 'laccha': 3, 'paratha': 9, 'bhindi': 12, 'coming': 81, 'kaabil': 18, 'haasil': 3, 'aasan': 24, 'kyunki': 33, 'dhadkan': 12, 'mazah': 3, 'jaane': 81, 'recites': 3, 'hamariadhurikahani': 3, 'title': 30, 'deewangi': 12, 'shayd': 9, 'bachha': 3, 'budha': 12, 'bhavishya': 12, 'tasveer': 24, 'gavahi': 3, 'deti': 72, 'sahega': 3, 'byk': 3, 'gira': 12, 'kissingday': 3, 'kerala': 9, 'master': 6, 'strock': 3, 'triangular_flag': 51, 'whattay': 3, 'jaga': 12, 'compitition': 6, 'submit': 6, 'ig': 21, 'abc': 12, 'bdiya': 6, 'chawal': 3, 'yad': 90, 'lakhon': 6, 'rupaye': 15, 'loot': 24, 'wadda': 3, 'korogi': 6, 'bakwaas': 18, 'pradushan': 3, 'awaits': 6, 'chhe': 3, 'patnio': 3, 'wives': 3, 'woman_dancing': 27, 'person_gesturing_ok': 12, 'person_raising_hand': 30, 'person_getting_massage': 6, 'thursdaythought': 3, 'thursday': 6, 'husbandandwife': 3, 'piyoge': 3, 'damn': 42, 'anytime': 6, 'hadd': 30, 'galatfahmi': 3, 'ska': 3, 'khyalo': 3, 'khoye': 15, 'rhna': 3, 'itefaq': 3, 'pranitparas': 6, 'kardi': 36, 'yellow_heart': 24, 'sune': 33, 'smiling_cat_with_heart': 6, 'jesi': 24, 'miljati': 3, 'durghatna': 3, 'ghatjati': 3, 'wasting': 6, 'cancelling': 3, 'icai': 12, 'actions': 3, 'hazardious': 3, 'studying': 6, 'indeed': 9, 'yeyyyyy': 3, 'kutai': 3, 'ppp': 6, 'chirman': 3, 'rajesthan': 6, 'lalit': 15, 'squishy': 3, 'refreshing': 3, 'nawaz': 9, 'children': 15, 'brutally': 3, 'khatarnak': 3, 'swetar': 3, 'pehnna': 3, 'gunah': 12, 'thinks': 6, 'bandgi': 6, 'garlic': 9, 'vaale': 9, 'incident': 6, 'unfairsalman': 3, 'hinakhan': 18, 'wesupporthinakhan': 3, 'staystronghina': 3, 'stoptargetinghinakhan': 3, 'pile_of_poo': 15, 'duaa': 36, 'appki': 3, 'sooper': 3, 'dooper': 3, 'badla': 21, 'badle': 33, 'chehra': 21, 'badli': 9, 'aana': 84, 'nathi': 18, 'darling': 15, 'asksrk': 6, 'gujratiwedding': 3, 'wondering': 9, 'doobi': 6, 'rahoon': 3, 'yun': 24, 'roading': 3, 'perfectcompanion': 3, 'offroading': 3, 'blackscorpio': 3, 'chaikitapri': 3, 'beast': 3, 'sexyweather': 3, 'liveyounglivefree': 3, 'mayankbhatnagar': 3, 'irritating': 9, 'strand': 3, 'teeth': 3, 'green_heart': 27, 'index_pointing_up': 30, 'ishqealijawad': 3, 'quarantine': 21, 'chaand': 12, 'boredathome': 3, 'covid': 153, 'humourcovid': 3, 'vvv': 3, 'sadi': 39, 'hojaye': 12, 'frensi': 3, 'hoda': 3, 'khusi': 36, 'mehogi': 3, 'jiwon': 3, 'patise': 3, 'harroj': 3, 'sex': 15, 'parmeshwar': 3, 'haseee': 3, 'udtiii': 3, 'uda': 27, 'gayle': 3, 'joins': 3, 'odis': 3, 'cwg': 3, 'indvswi': 15, 'material': 6, 'simmons': 3, 'ind': 18, 'vs': 33, 'wt': 21, 'nxt': 9, 'rip': 12, 'humanity': 12, 'aaaaaaa': 3, 'jaaaaaoooooo': 3, 'bhaiiiiiiiiiiiiiiiiiii': 3, 'knha': 6, 'hooooo': 3, 'yunh': 3, 'sharto': 3, 'rakhkar': 6, 'gaf': 3, 'lat': 3, 'laata': 3, 'wajid': 15, 'shaikh': 18, 'wajidshaikhpoetries': 15, 'rahane': 18, 'khelega': 3, 'banayega': 12, 'wednesdaythoughts': 3, 'wednesdaywisdom': 3, 'wednesdaymotivation': 3, 'wednesdaymorning': 6, 'mango': 30, 'fruit': 3, 'religions': 3, 'fullmoon': 3, 'oye': 24, 'privacy': 9, 'hnu': 3, 'aek': 15, 'riply': 3, 'thele': 3, 'gumthi': 3, 'bakra': 3, 'bazar': 3, 'apnai': 3, 'hand': 33, 'omg': 21, 'assalam': 12, 'alaikum': 12, 'adhuri': 18, 'varunji': 3, 'frustrated': 9, 'easy': 12, 'seeing': 18, 'working': 42, 'deliberatly': 3, 'abut': 3, 'smthng': 3, 'lastly': 3, 'cheap': 18, 'karoonga': 12, 'yearsofkalhonaaho': 9, 'saw': 18, 'bms': 3, 'hf': 3, 'biasedness': 3, 'clip': 9, 'dikhana': 12, 'zarror': 3, 'bagair': 18, 'futage': 3, 'bhookh': 6, 'craving': 3, 'rista': 15, 'kahlata': 9, 'lalu': 18, 'nitish': 6, 'supda': 3, 'saf': 12, 'mae': 9, 'sochon': 3, 'metoo': 3, 'garibi': 18, 'khas': 33, 'hajaro': 12, 'varified': 3, 'account': 48, 'holder': 3, 'airpods': 3, 'professional': 3, 'dikhte': 9, 'vehlo': 3, 'jato': 3, 'rahyo': 3, 'filmi': 3, 'jankibhi': 3, 'mang': 18, 'haste': 30, 'dedege': 3, 'sintak': 3, 'shamita': 27, 'sas': 9, 'sasur': 6, 'mra': 15, 'keybord': 3, 'khrb': 6, 'jyega': 3, 'itx': 6, 'ohk': 3, 'happybrithdaypooja': 3, 'shilpashindeconfusion': 3, 'superherosalman': 3, 'ourjaan': 3, 'festivals': 12, 'z': 42, 'aashiqui': 33, 'tujhse': 54, 'khudaai': 6, 'paa': 12, 'rihaai': 3, 'rooh': 21, 'basi': 3, 'socha': 51, 'amroli': 12, 'behan': 12, 'ber': 12, 'batyan': 6, 'koro': 9, 'sabun': 3, 'arnabgoswami': 9, 'rajpal': 3, 'middle': 39, 'teenager': 3, 'phirherapheri': 3, 'rhne': 6, 'achank': 3, 'ghumne': 21, 'lge': 6, 'samajh': 102, 'dubey': 6, 'encounter': 9, 'gyaan': 18, 'miy': 3, 'vikasdubeyencounter': 3, 'vikasdubeykilled': 3, 'memesdaily': 9, 'ten': 6, 'maanne': 6, 'adhikar': 15, 'netaji': 12, 'janch': 9, 'jawabdari': 3, 'sarkaren': 3, 'hatya': 18, 'karvai': 9, 'tiwari': 18, 'bauua': 3, 'darwaaje': 3, 'weekstozero': 3, 'gifts': 3, 'vaishnav': 6, 'studentoftheyear': 3, 'indianidoljunior': 3, 'prformnc': 3, 'dances': 6, 'megaphone': 15, 'trumpet': 3, 'rthday': 3, 'gain': 18, 'hotey': 15, 'tahir': 21, 'aslam': 9, 'gora': 6, 'programe': 6, 'lajabab': 3, 'bday': 24, 'thackeray': 18, 'dekhein': 6, 'kahu': 27, 'poorvi': 3, 'humara': 30, 'jala': 12, 'jor': 12, 'firstlookofdilkokaraaraaya': 6, 'liar': 3, 'doesn': 27, 'implement': 6, 'combination': 18, 'indiaagainstcaa': 9, 'merapmjhoothahai': 3, 'bado': 6, 'shath': 6, 'nhn': 3, 'ac': 15, 'jzt': 3, '1responce': 3, 'kch': 21, 'br': 18, 'wai': 24, 'yaaar': 15, 'subhah': 6, 'frustrating': 3, 'uv': 6, 'paji': 21, 'lagao': 15, 'bachon': 6, 'akal': 21, 'apme': 3, 'krenge': 42, 'price': 33, 'dame': 3, 'lifeok': 3, 'parth': 9, 'visionary': 6, 'management': 12, 'vestigemarketing': 3, 'networkmarketing': 3, 'economy': 12, 'carrier': 6, 'plateforme': 3, 'car': 18, 'purchase': 6, 'aai': 42, 'gseb': 6, 'bajho': 3, 'std': 9, 'mas': 6, 'namaste': 18, 'maha': 18, 'rupaniji': 6, 'surts': 3, 'cuisines': 6, 'explore': 21, 'santan': 3, 'menu': 21, 'yqbaba': 6, 'yqdidi': 6, 'quote': 30, 'stories': 18, 'qotd': 3, 'quoteoftheday': 3, 'wordporn': 3, 'buddhi': 6, 'abee': 3, 'motabhai': 9, 'bheju': 6, 'semi': 12, 'fanda': 6, 'htao': 3, 'quarter': 6, 'rkho': 12, 'hare': 9, 'tokyo': 3, 'hockeyindia': 3, 'semifinal': 6, 'olympics': 6, 'boycottchina': 3, 'chinacomesmodiruns': 3, 'chinawingsclipped': 3, 'indiachinafaceoff': 6, 'indiawillpunishchina': 3, 'indianarmy': 12, 'krunalpanchal': 3, 'kerigalo': 3, 'mangoseason': 3, 'marrigeseason': 3, 'summervacation': 3, 'vacation': 15, 'suffers': 3, 'tackle': 9, 'worries': 6, 'ideas': 9, 'warriors': 9, 'section': 9, 'nm': 3, 'zabardashti': 3, 'aajkibaat': 3, 'touching': 15, 'hansti': 3, 'nami': 12, 'javed': 3, 'shair': 30, 'bula': 27, 'soooooo': 6, 'bhahut': 6, 'yuvraj': 12, 'arbaaz': 3, 'less': 24, 'puntual': 3, 'camera_with_flash': 27, 'nofilter': 6, 'devarshishah': 3, 'bharuch': 12, 'once': 66, 'hatred': 6, 'names': 6, 'worst': 63, 'spelled': 3, 'marry': 12, 'unlucky': 6, 'subhan': 6, 'heart_decoration': 12, 'isacentury': 3, 'isa': 3, 'smjega': 6, 'gribo': 3, 'pap': 6, 'mhasus': 3, 'grib': 3, 'bdegi': 3, 'unse': 30, 'sbse': 24, 'kyaaa': 18, 'hkyu': 3, 'diyaaa': 3, 'sochne': 9, 'side': 36, 'rkhne': 6, 'walked': 6, 'smiled': 3, 'gave': 33, 'ticket': 30, 'trying': 42, 'helpless': 3, 'bap': 33, 'rahege': 3, 'mve': 9, 'bheed': 12, 'tck': 3, 'dekne': 15, 'shared': 15, 'ipzn': 9, 'reason': 75, 'given': 39, 'bellow': 3, 'member': 18, 'ishkparzornahi': 15, 'fanswantipzn': 15, 'dilseipznian': 15, 'bowling': 27, 'happening': 51, 'ausvind': 9, 'awssmmm': 3, 'sirrrr': 6, 'prutyvi': 3, 'lava': 6, 'oppo': 3, 'leone': 6, 'pkposter': 3, 'arogyasetu': 6, 'ramsetu': 3, 'schedule': 12, 'cowin': 3, 'cowinregistration': 9, 'appointment': 9, 'khansi': 3, 'bab': 3, 'fast': 48, 'okkkk': 3, 'bangladesh': 42, 'chahne': 9, 'bala': 27, 'agde': 3, 'pichhade': 3, 'chalne': 27, 'koshish': 18, 'development': 18, 'banaye': 33, 'masumiyat': 3, 'nikl': 6, 'ti': 36, 'mrei': 3, 'khelata': 6, 'haiiiiiiii': 3, 'lady': 18, 'junglee': 9, 'cat': 18, 'navratri': 12, 'adani': 18, 'shantigram': 3, 'vikashji': 3, 'aapiyo': 6, 'akhri': 9, 'khosies': 3, 'randiko': 3, 'horaha': 12, 'tumhen': 3, 'bataon': 3, 'aasra': 6, 'aasha': 3, 'ladiyan': 3, 'piroti': 3, 'mujhpe': 6, 'hasta': 6, 'roti': 36, 'iike': 3, 'padhte': 9, 'akhilesh': 21, 'tabele': 3, 'fulfill': 6, 'paraschhabra': 3, 'contenders': 3, 'captaincy': 6, 'oversmartness': 3, 'disappointed': 18, 'himanshi': 3, 'jhelna': 3, 'euro': 3, 'scriptwriter': 3, 'sui': 3, 'fra': 3, 'jaw': 3, 'bby': 6, 'tumara': 24, 'chiya': 3, 'piya': 9, 'kaese': 3, 'wwwa': 3, 'shavingstereotypes': 3, 'barbershop': 3, 'girls': 48, 'freedom': 12, 'savings': 3, 'formula': 12, 'resignanildeshmukh': 3, 'establish': 3, 'grt': 15, 'boon': 3, 'samandar': 15, 'butiful': 3, 'evr': 6, 'wiv': 3, 'ayashi': 3, 'izet': 3, 'sekte': 6, 'namard': 9, 'missingmyteaday': 3, 'ankh': 12, 'muft': 24, 'khao': 15, 'lmao': 6, 'dokyungsoo': 3, 'epi': 3, 'daysmyprince': 3, 'padhe': 15, 'likhe': 27, 'yearss': 3, 'sunlo': 6, 'pehlee': 3, 'gadd': 3, 'promotions': 6, 'meter': 6, 'delhikibattigul': 3, 'yatra': 12, 'atom': 3, 'srsly': 9, 'ghulaam': 15, 'tigerzindahai': 27, 'hoye': 6, 'kini': 3, 'ldki': 6, 'meriii': 3, 'drawing': 6, 'activity': 6, 'bcz': 12, 'khelkar': 3, 'bookworms': 3, 'kartavya': 3, 'clean': 30, 'karana': 12, 'musafir': 6, 'padhne': 9, 'shakti': 9, 'ajeeb': 27, 'nah': 36, 'nerves': 6, 'poster': 30, 'koch': 9, 'zarori': 12, 'ilaj': 27, 'yaaro': 27, 'happybirthdayajaydevgn': 9, 'faaltu': 3, 'waraq': 6, 'ibarat': 3, 'fasana': 3, 'hikayat': 3, 'hasti': 21, 'sey': 33, 'kholi': 3, 'baab': 6, 'happiest': 3, 'placed': 3, 'bet': 9, 'kxip': 9, 'mi': 24, 'bhaw': 6, 'money_with_wings': 15, 'bhttt': 3, 'besabri': 12, 'intezr': 3, 'tumhain': 3, 'sajale': 3, 'aakhon': 9, 'kaazal': 3, 'sahero': 3, 'sadko': 6, 'gaav': 15, 'galiyo': 3, 'dhund': 3, 'rahii': 3, 'chitthiyon': 3, 'dhuptte': 3, 'mahek': 3, 'chats': 6, 'prr': 9, 'badan': 9, 'tashweere': 3, 'mangte': 12, 'ibaadat': 3, 'jism': 24, 'zaroorat': 18, 'samhte': 3, 'ekdam': 15, 'radhe': 9, 'majdur': 24, 'fanse': 6, 'jinke': 12, 'faisla': 6, 'dhuan': 6, 'kehne': 30, 'paagal': 6, 'jalne': 9, 'ssp': 3, 'umerkot': 3, 'arsa': 3, 'ektarfa': 6, 'cahta': 3, 'het': 3, 'kaunki': 3, 'musalmano': 48, 'btayaki': 3, 'haitb': 3, 'musalmannd': 3, 'smjhte': 9, 'nhibt': 3, 'wil': 12, 'realize': 9, 'kamal': 108, 'maje': 6, 'earthquake': 9, 'riots': 9, 'vajah': 24, 'mee': 12, 'atalji': 9, 'bahat': 15, 'adarsh': 6, 'ayee': 6, 'bakri': 9, 'shocks': 3, 'jannatein': 3, 'jaaun': 3, 'fanaa': 6, 'ishqbaaaz': 3, 'shivika': 3, 'shivikaredux': 3, 'ishqbaaazredux': 3, 'wee': 3, 'belive': 15, 'raakh': 6, 'rukhi': 3, 'hopelesslover': 3, 'bajrngi': 9, 'namaz': 36, 'bhosdiwalo': 9, 'galt': 30, 'krdunga': 3, 'mc': 48, 'kharidna': 6, 'worldwide': 9, 'cnt': 9, 'moree': 3, 'plzzzz': 45, 'comee': 3, 'kuthe': 3, 'dine': 3, 'haya': 6, 'hudud': 3, 'won': 42, 'munna': 6, 'sunai': 6, 'letter': 15, 'vadodra': 3, 'pahucha': 6, 'statis': 3, 'pauchega': 3, 'sunta': 18, 'bolhata': 3, 'saadi': 12, '2016': 3, 'october': 6, 'karvaega': 3, 'complete': 21, 'mana': 45, 'baug': 6, 'whst': 3, 'conservation': 3, 'varieties': 3, 'samsudin': 3, 'jariya': 3, 'junagadh': 6, 'gaiya': 3, 'avo': 6, 'karvoga': 3, 'wowww': 6, 'ashta': 3, 'mujse': 33, 'aajad': 3, 'poor': 33, 'tatvo': 3, 'twitterworld': 3, 'timeline': 3, 'rishtedaar': 15, 'average': 15, 'below': 9, 'suggest': 3, 'cbseresults': 3, 'dakh': 9, 'rahu': 24, 'hushed_face': 27, 'mahsus': 6, 'devil': 6, 'kartut': 6, 'shauryaauranokhikikahaani': 6, 'extandsaakk': 3, 'qismat': 9, 'rehmat': 12, 'itihas': 9, 'karyekaal': 3, 'halkat': 6, 'gujra': 3, 'esiliye': 3, 'pareshan': 54, 'lawyer': 15, 'tameez': 6, 'sadak': 12, 'chaap': 9, 'arzu': 3, 'andaza': 3, 'lgana': 9, 'pnna': 3, 'canadian': 3, 'sunne': 21, 'gunde': 9, 'bhadas': 3, 'asimforthewin': 6, 'tjeek': 3, 'aanahai': 3, 'kuldeep': 3, 'yuzi': 3, 'bulao': 9, 'drohi': 15, 'suvidha': 9, 'shoib': 9, 'ncp': 9, 'becoming': 9, 'press': 12, 'conferences': 3, 'vhi': 3, 'peete': 9, 'yo': 72, 'happning': 3, 'latest': 12, 'comon': 3, 'raised_hand': 9, 'waitforit': 3, 'khushikikhabar': 3, 'comdey': 3, 'murgi': 6, 'viral': 30, 'tranding': 18, 'foryou': 15, 'soche': 18, 'baaat': 9, 'usa': 15, 'ketna': 3, 'w8': 21, 'karawoge': 3, 'megastarsalmankhan': 6, 'chat': 75, 'andhbhakt': 12, 'weloveyousalmankhanforever': 3, 'haqeeqat': 3, 'pratigya': 3, 'scared': 12, 'mintongue': 3, 'scam': 36, 'background': 18, 'kalavad': 3, 'bosde': 3, 'jaaayyyyyyyy': 3, 'tumlog': 6, 'talwe': 3, 'middle_finger': 60, 'jante': 39, 'sachayi': 3, 'troll': 15, 'okay': 21, 'waaah': 9, 'muskura': 15, 'chupa': 12, 'hotel': 30, 'taste': 42, 'wa': 27, 'garden': 21, 'paya': 30, 'kurbaan': 3, 'roja': 18, 'rahahay': 3, 'haaramka': 3, 'vinod': 21, 'taiyar': 33, 'lagaoge': 3, 'whoa': 3, 'trains': 9, 'ramzaan': 9, 'fuck': 33, 'customer': 15, 'bewakoof': 15, 'laa': 9, 'follower': 27, 'unfollow': 27, 'cal': 33, 'met': 39, '8801719447771': 15, 'shree': 57, 'kariye': 21, 'umeed': 15, 'bigdne': 3, 'chunao': 9, 'natije': 3, 'ane': 45, 'ase': 12, 'chomu': 9, 'inme': 9, 'infected': 3, 'united': 3, 'jawans': 9, 'jnte': 3, 'hate': 72, 'unity': 18, 'sbh': 3, 'contributions': 6, 'stopfakenewsagainstsrk': 3, 'kahegi': 6, 'kala': 21, 'akshar': 3, 'bhais': 3, 'brabar': 6, 'raato': 6, 'tarro': 6, 'bunne': 3, 'bunn': 3, 'fanboy': 3, 'yearsoffan': 3, 'chadakya': 3, 'ibn': 3, 'sarvay': 3, 'punjab': 42, 'gov': 30, 'banned': 15, 'jarahe': 3, 'yaaahi': 3, 'taraaaf': 3, 'aslma': 6, 'alikum': 6, 'charsi': 3, 'gyani': 3, 'advertisement': 6, 'plzzz': 66, 'zrur': 9, 'ay': 12, 'soooooooooooooooooooooooooooooooooooooo': 3, '00000000000': 3, '00000000000000': 3, '000000000000': 3, '000000000': 3, '0000000': 6, '0000': 6, '000': 6, '0': 3, 'mich': 6, 'aanmulle': 3, 'bhijaan': 6, 'musiibaton': 3, 'ubharatii': 3, 'shaksiyat': 9, 'yaron': 3, 'chaaluuu': 3, 'ladkiyan': 30, 'shatir': 3, 'chips': 6, 'chocolate': 9, 'gumne': 3, 'falthi': 3, 'talhar': 15, 'shehr': 3, 'gutka': 3, 'manshiat': 3, 'karbar': 3, 'fori': 3, 'krwaya': 3, 'jy': 3, 'haq': 24, 'lashari': 3, 'qamar': 3, 'junejo': 3, 'rehnuma': 3, 'rr': 6, 'woakes': 3, 'engvind': 6, 'safal': 12, 'videsh': 15, 'badhai': 39, 'athiya': 3, 'ramlal': 3, 'shirt': 21, 'phaadi': 3, 'suddenly': 12, 'traf': 9, 'badh': 18, 'yakeen': 33, 'jaat': 18, 'gurjar': 6, 'rajout': 3, 'braiman': 3, 'dalit': 18, 'kurmee': 3, 'etc': 33, 'tarqi': 3, 'mahaan': 12, 'lekeen': 3, 'aahina': 3, 'juth': 24, 'jemin': 3, 'thai': 30, 'gyu': 3, 'joyelu': 3, 'fari': 3, 'jovu': 3, 'padshe': 3, 'dialog': 3, 'guj': 6, 'tasavvur': 3, 'basta': 3, 'tumhi': 9, 'vafa': 9, 'lute': 6, 'jalta': 12, 'khelna': 15, 'chahate': 12, 'taliban': 12, 'chati': 15, 'ilzam': 3, 'sall': 3, 'brobhai': 3, 'sis': 3, 'sisbhai': 3, 'vabi': 3, 'gather': 3, 'bishwa': 3, 'kee': 12, 'lagan': 6, 'karya': 6, 'shaily': 3, 'poora': 12, 'jdu': 3, 'certificate': 9, 'jarooorat': 3, 'waaste': 12, 'sufiyana': 33, 'dhundhiye': 3, 'amrakhand': 3, 'shreekhand': 6, 'foodaholicajay': 3, 'indianfood': 6, 'indiandessert': 3, 'sweetdish': 3, 'dessert': 6, 'delicious': 33, 'instafam': 3, 'instafood': 6, 'indiafoodbloggers': 3, 'foodi': 3, 'sweetlove': 3, 'foodblogger': 9, 'livingfoodz': 3, 'yum': 12, 'yummie': 3, 'yrr': 57, 'earphones': 9, 'bandar': 15, 'sahe': 18, 'pakda': 15, 'badappan': 3, 'sahansilta': 3, 'ease': 12, 'akhlaq': 3, 'bjakto': 3, 'kahaa': 6, 'saqtey': 3, 'nibhaya': 6, 'dilouge': 3, '6': 30, 'hijdo': 6, 'pichhe': 9, 'indvssl': 9, 'toss': 6, 'jakaass': 3, 'insallha': 3, 'aagaye': 15, 'kachoris': 3, 'ps': 21, 'kachori': 3, 'khaakh': 6, 'fayda': 24, 'indorediaries': 3, 'shameonpti': 3, 'pti': 6, 'mqm': 3, 'bah': 6, 'guruji': 9, 'duniyako': 3, 'hila': 9, 'chhore': 3, 'lve': 3, 'padmashree': 3, 'hlp': 15, 'angdai': 3, 'ajoa': 3, 'meet': 57, 'cororo': 6, 'qurbani': 6, 'jesa': 66, 'customized': 3, 'shirts': 6, 'printing': 3, 'inquiry': 3, 'priyansi': 3, 'sportswear': 3, 'priyansisports': 3, 'customtshirts': 3, 'customizetshirts': 3, 'karwaai': 6, 'yaarrrr': 6, 'kissing_face_with_closed_eyes': 45, 'baes': 3, 'humorist': 6, 'harisinh': 3, 'solanky': 3, 'laughter': 12, 'tvhost': 6, 'tvtalk': 3, 'livetelecast': 3, 'pakar': 3, 'dhanya': 12, 'iron': 6, 'yunhi': 12, 'jiska': 39, 'sidhu': 15, 'arun': 6, 'shoaib': 3, 'khaase': 3, 'inkaa': 3, 'rcbvskxip': 3, 'tari': 6, 'mari': 30, 'etale': 3, 'aapni': 9, 'smileyconfusionconfusion': 3, 'inkinur': 3, 'value': 18, 'khof': 3, 'baaton': 15, 'zikar': 6, 'roze': 15, 'rkh': 15, 'manana': 6, 'md': 18, 'noman': 3, 'wahan': 30, 'sikhaya': 45, 'vari': 15, 'sajana': 18, 'rama': 12, 'bedardi': 15, 'sang': 42, 'prit': 6, 'lagai': 6, 'saara': 3, 'moti': 15, 'mostly': 3, 'makers': 18, 'alg': 9, 'ladai': 21, 'jaae': 9, 'umtejran': 6, 'pvr': 9, 'cinemas': 6, 'salamn': 6, 'pas': 105, 'kisine': 24, 'rushwa': 3, 'sazaa': 3, 'simply': 15, 'gone': 24, 'padmavatea': 3, 'wordplay': 3, 'hojata': 12, 'manna': 9, 'padmavati': 3, 'padmavat': 3, 'wordplaychu': 3, 'laila': 9, 'mitne': 3, 'junoo': 3, 'raina': 24, 'prpoj': 3, 'kamalnath': 9, 'aayein': 6, 'puura': 3, 'kamayenge': 3, 'sources': 6, 'looting': 6, 'savalon': 3, 'javab': 69, 'aaiya': 3, 'dhere': 12, 'challei': 3, 'ahasas': 3, 'subscribe': 39, 'orr': 3, 'chhota': 12, 'rajan': 3, 'avi': 24, 'abvi': 3, 'sunati': 6, 'waw': 3, 'khaas': 18, 'dubara': 6, 'krdi': 9, 'krhe': 3, 'asked': 42, 'frientongue': 9, 'udhari': 3, 'sakar': 3, 'dastoor': 12, 'puraana': 3, 'thehra': 3, 'nakli': 9, 'chehre': 24, 'yahaan': 15, 'chalte': 39, 'aaino': 3, 'roshni': 21, 'dhundta': 6, 'sahil': 6, 'mauz': 3, 'bankar': 6, 'kenny': 3, 'islamist': 3, 'islamic': 12, 'issue': 33, 'woa': 3, 'unha': 3, 'easa': 3, 'hijde': 9, 'kutt': 6, 'dance': 60, 'bestest': 3, 'among': 12, 'veer': 18, 'beinghuman': 15, 'sabar': 6, 'zarurt': 9, 'wht': 12, 'baned': 3, 'enter': 9, 'sachivalay': 6, 'starting': 18, 'kavi': 24, 'adami': 39, 'roka': 18, 'comfortable': 21, 'pehnega': 3, 'bike': 33, 'khaki': 3, 'save': 39, 'goons': 9, 'shamesuratpolice': 3, 'mulakat': 6, 'jaytoo': 3, 'jaygaa': 3, 'gaale': 3, 'milooo': 3, 'amry': 3, 'hamdard': 3, 'sat': 27, 'karway': 3, 'uspar': 6, 'rok': 42, 'lagati': 6, 'atnkwadi': 3, 'bachh': 3, 'kapde': 15, 'utar': 30, 'chaye': 21, 'roj': 42, 'chdwati': 3, 'pakisthan': 3, 'kathi': 3, 'guyssss': 3, 'profile': 30, 'kesi': 42, 'leg': 6, 'dalalmedia': 3, 'godimedia': 6, 'basanti': 6, 'kejriwalvswho': 3, 'harrrrrdik': 15, 'manmauji': 30, 'viswas': 15, 'ena': 6, 'vaatjani': 3, 'confusiontamara': 9, 'smit': 3, 'pa': 63, 'gussa': 42, 'maun': 6, 'rehva': 3, 'yamraj': 15, 'aakhari': 3, 'khwaish': 15, 'kete': 3, 'baate': 39, 'katt': 6, 'kher': 15, 'chhodo': 3, 'chaal': 6, 'duration': 3, 'blessings': 9, 'bhaijann': 9, 'imperialblue': 6, 'ads': 9, 'raah': 27, 'chalna': 36, 'seekh': 12, 'laughing': 66, 'grin': 60, 'glasses': 66, 'menwillbemen': 9, 'awsm': 18, 'teriaankhonmainoutnow': 3, 'mojsai': 3, 'poch': 3, 'rahai': 9, 'tier': 3, 'kadmon': 6, 'achchi': 18, 'lagti': 42, 'relatives': 18, 'advice': 9, 'samsya': 9, 'btao': 48, 'pelo': 6, 'phudina': 6, 'haji': 12, 'ali': 66, 'dargha': 3, 'baijat': 3, 'duwa': 12, 'mangi': 18, 'boleto': 6, 'fadu': 3, 'valu': 3, 'samach': 3, 'ayyena': 3, 'bhahuth': 3, 'problams': 3, 'solve': 15, 'jainge': 6, 'apnea': 6, 'ussme': 3, 'wahiyaad': 3, 'chalissa': 3, 'wajse': 3, 'sarminda': 3, 'padege': 3, 'mehena': 3, 'yani': 12, 'padne': 15, 'sunnege': 3, 'muhobbat': 6, 'millionfanpower': 3, 'care': 45, 'expenditure': 3, 'senior': 6, 'mujh': 42, 'melay': 6, 'whats': 18, 'shola': 12, 'posting': 6, 'reminds': 15, 'lakin': 30, 'intzar': 45, 'iam': 30, 'rainaretired': 3, 'rainaretires': 6, 'kahate': 3, 'rukh': 21, 'modna': 3, 'manvswild': 3, 'christopher': 3, 'nolan': 3, 'tenetonprime': 3, 'double': 30, 'tap': 9, 'sadqoutes': 15, 'loveshayari': 15, 'friendshipquotes': 15, 'abuzar': 15, 'rangrez': 15, 'gaitonde': 3, 'puja': 15, 'kaunsa': 15, 'choose': 21, 'hrs': 6, 'indiannationalcongress': 3, 'worstparty': 3, 'kato': 3, 'complaint': 12, 'lock': 30, 'manwa': 3, 'krr': 12, 'dosen': 3, 'feels': 9, 'lii': 6, 'drama': 24, 'kim': 6, 'poll': 24, 'jrurt': 3, 'bhaibacce': 3, 'bacce': 3, 'ptaa': 3, 'chamchon': 3, 'thankzzz': 3, 'sutr': 3, 'btate': 3, 'frnch': 3, 'prsidnt': 3, 'francois': 3, 'hollande': 3, 'relation': 12, 'isliy': 3, 'khoob': 21, 'nibheygi': 3, 'jhooti': 3, 'thehri': 3, 'jhoote': 3, 'jatt': 6, 'jassie': 3, 'gill': 3, 'edhar': 9, 'haikya': 3, 'jessi': 6, 'rajni': 54, 'kud': 12, 'mer': 9, 'furr': 3, 'gy': 48, 'surpised': 3, 'weekends': 6, 'dabba': 9, 'cricketet': 3, 'puchta': 6, 'apun': 15, 'karnay': 3, 'everything': 33, 'mountain_railway': 3, 'ratan': 12, 'dhan': 30, 'payo': 12, 'unsubscribe': 3, 'ladka': 36, 'pravishtmishra': 9, 'pravswhitefam': 9, 'plssssss': 3, 'hora': 12, 'iyani': 3, '100': 9, 'luke': 3, 'passwords': 3, 'itta': 6, 'pyarconfusion': 3, 'fridaylovequotes': 3, 'selfi': 3, 'doosaron': 3, 'bibion': 3, 'ladhata': 3, 'yesa': 15, 'awogi': 3, 'pleace': 6, 'pulice': 6, 'bholi': 15, 'bhali': 3, 'padhna': 3, 'siddhuquitpolitics': 3, 'technical': 9, 'helper': 3, 'bharti': 27, 'aayegi': 45, 'technicalhelper': 3, 'mazak': 39, 'hosakta': 3, 'victory': 15, 'medtwitter': 6, 'hatke': 6, 'apja': 3, 'kisaka': 3, 'thetre': 3, 'zarur': 24, 'jataa': 3, 'chutz': 3, 'standup': 3, 'comedian': 9, 'bengal': 27, 'organizing': 3, 'sammelan': 3, 'singur': 3, 'osm': 9, 'mubi': 3, 'duper': 42, '5000000': 3, 'jada': 51, 'kamaygi': 3, 'ridhhu': 3, 'told': 24, 'chutta': 3, 'dhannnsu': 3, 'ditta': 6, 'tennu': 3, 'pappukijhappi': 3, 'pappuhugsmodi': 3, 'patni': 15, 'hrithikroshan': 3, 'urvashirautela': 3, 'msdhoni': 6, 'mukeshambani': 3, 'tose': 3, 'view': 27, 'mixtape': 3, 'tseriesmixtape': 3, 'kii': 12, 'index': 3, 'major': 12, 'stocks': 3, 'likey': 3, 'trader': 12, 'trade': 6, 'karao': 15, 'priya': 12, 'narandra': 3, 'apkaisa': 3, 'sandesh': 3, 'jawani': 18, 'anjana': 6, 'dhamodharan': 3, 'suweet': 3, 'hart': 3, 'buhat': 6, 'h0': 9, 'dilao': 9, 'publicity': 3, 'vomit': 6, 'eye': 9, 'gang': 42, 'pawn': 3, 'ohhhh': 3, 'bsss': 3, 'krrrr': 3, 'ghuman': 3, 'sivva': 3, 'horr': 3, 'kmmm': 3, 'hao': 6, 'juz': 6, '5000': 3, '10000': 3, 'itz': 6, 'awsum': 3, 'leaf_fluttering_in_wind': 39, 'ghaltiyon': 3, 'waja': 18, 'taluqaat': 3, 'kejiye': 6, 'festive': 6, 'odisha': 6, 'ayiye': 3, 'bhagy': 6, 'sali': 9, 'arrange': 3, 'permission': 9, 'doodh': 6, 'tummy': 6, 'calling': 21, 'kitnakharap': 3, 'twtr': 3, 'nahe': 12, 'wafadaarii': 3, 'samajhey': 3, 'meko': 36, 'bajrangbali': 21, 'chhupana': 3, 'telent': 3, 'worship': 6, 'aisha': 12, 'darte': 9, 'kehtey': 3, 'chand': 57, 'chahye': 15, 'heartthrob': 3, 'suno': 24, 'dhakka': 12, 'pyara': 27, 'saif': 3, 'karinakapoorkhan': 3, 'jruri': 9, 'ikhtiyar': 3, 'rumor': 3, 'urane': 3, 'shit': 27, 'chindi': 3, 'villagers': 3, 'provide': 12, 'contant': 3, 'puche': 9, 'sathconfusionis': 3, 'ghatwar': 3, 'mongolia': 3, 'map': 6, 'aaap': 6, 'retweets': 3, 'krrhe': 3, 'humble': 18, 'chada': 3, 'ksm': 3, 'selected': 9, 'khat': 3, 'headphone': 21, 'outfits': 3, 'achnk': 3, 'onemillionaudition': 3, 'saaaaaavdhan': 3, 'bulane': 9, 'laaya': 6, '51': 6, 'rupe': 6, 'prasaad': 6, 'wanna': 48, 'totall': 3, 'stuffs': 3, 'woman': 42, 'cracks': 3, 'childlike': 3, 'koshchuns': 3, 'expert': 9, 'parleg': 6, 'dipped': 3, 'breaking': 18, 'diltobachhahaijeelalala': 3, 'plus': 12, 'plays': 6, 'guitar': 18, 'heart_exclamation': 81, 'hia': 9, 'ramu': 3, 'kuma': 3, 'swatantra': 3, 'diwas': 6, 'shubhkamnaye': 9, 'happyindependencedayindia': 3, 'swatantratadiwas': 3, 'mahatmagandhi': 3, 'jawaharlalnehru': 3, 'taboo': 3, 'launde': 12, 'golmaalagaintrailer': 3, 'nzvsind': 6, 'indvnz': 12, 'abbu': 9, 'shopping': 18, 'hogai': 18, 'ammi': 21, 'hardworking': 6, 'shining': 6, 'patidar': 15, 'ketro': 3, 'mainterahero': 6, 'spreadingheroness': 3, 'backhand_index_pointing_left': 45, 'writing_hand': 48, 'bhia': 6, 'vatan': 9, 'pradan': 3, 'sarojkhan': 3, 'atma': 3, 'prabhu': 6, 'aum': 3, 'sita': 6, 'bnegi': 3, 'nasedi': 3, 'ganjedi': 3, 'ink': 6, 'thikana': 6, 'kitn': 3, 'dharm': 42, 'bdlkr': 3, 'krli': 3, 'bnana': 12, 'ganzedi': 3, 'dekhn': 3, 'bullywood': 3, 'boycott': 18, 'forever': 36, 'boycottkareenakhan': 3, 'obviously': 3, 'targeting': 3, 'andekha': 6, 'batti': 9, 'logoki': 9, 'took': 21, 'shamitaistheboss': 3, 'systematic': 3, 'spam': 12, 'wakai': 12, 'andhi': 6, 'zamana': 36, 'achey': 3, 'jantey': 6, 'blossom': 12, 'bahu': 36, 'sasuma': 3, 'saas': 12, 'esi': 27, 'gap': 6, 'usi': 48, 'fill': 9, 'eddi': 3, 'chaiyea': 3, 'rakte': 3, 'minimoni': 6, 'binoculars': 3, 'lai': 18, 'lifelessons': 9, 'nibbe': 3, 'tuze': 15, 'diwana': 21, 'samjha': 21, 'hooka': 6, 'thanku': 12, 'chosen': 3, 'char': 45, 'resto': 3, 'ilawa': 3, 'dhehra': 3, 'shokhin': 3, 'namoagain': 6, 'shareef': 9, 'tter': 3, 'sharafat': 3, 'jamana': 18, 'rashid': 12, 'kari': 24, 'ghuma': 9, 'banvafg': 3, 'naqsh': 3, 'naqqaash': 3, 'uthaana': 3, 'fareha': 15, 'kaash': 18, 'qaanoon': 3, 'zakhm': 6, 'dikhaana': 3, 'iqdaar': 3, 'jalaana': 3, 'zulmat': 3, 'noor': 3, 'taab': 6, 'taabish': 3, 'happened': 27, 'batna': 6, 'chatihu': 3, 'uuuuu': 3, 'zindagani': 3, 'khoobsurat': 12, 'tumera': 3, 'humdard': 3, 'fainat': 9, 'amma': 12, 'piti': 6, 'iz': 9, 'murderer': 3, 'killed': 9, 'subhas': 9, 'ch': 45, 'bose': 6, 'entertaining': 9, 'indianidoljr': 3, 'erchaichaatwala': 3, 'engineerchaichaatwala': 3, 'engineer': 6, 'chaat': 3, 'engineerchaiwala': 3, 'engineerchai': 3, 'thechai': 3, 'ecwjeet': 3, 'ecwvishal': 3, 'bhid': 3, 'pehchanoge': 3, 'aaine': 9, 'champ': 3, 'yuvipaji': 3, 'sure': 42, 'yuvican': 3, 'yuviretirement': 3, 'yuvideservesproperfarewell': 3, 'yuvstrong': 3, 'sunkar': 12, 'irrfankhan': 6, 'aapnea': 3, 'teo': 3, 'deakhatea': 3, 'muchha': 3, 'majaa': 6, 'dekhea': 3, 'mud': 12, 'hatepolitics': 3, 'kesariyaholi': 6, 'injoy': 3, 'holiday': 9, 'navlakha': 3, 'afsanakhan': 6, 'diwane': 6, 'pade': 42, 'jayenge': 54, 'dekhkr': 3, 'sunnya': 3, 'quinj': 3, 'bhuliya': 3, 'saam': 9, 'rakhiya': 3, 'saugatan': 3, 'chaar': 18, 'dinan': 3, 'paasse': 3, 'hon': 45, 'hanera': 3, 'compared': 3, 'ronda': 3, 'maara': 9, 'giraftar': 6, 'standwithfarmers': 3, 'content': 21, 'waali': 24, 'filme': 15, 'banati': 6, 'kapil': 18, 'babaji': 12, 'thullu': 9, 'asif': 3, 'bangla': 6, 'accent': 3, 'uaz': 3, 'dikhna': 15, 'looksatdp': 3, 'affraa': 3, 'taffri': 3, 'releasing': 9, 'affrataffri': 3, 'daman': 18, 'trapped': 3, 'jetty': 3, 'khulega': 12, 'raasta': 3, 'millind': 3, 'gr': 15, 'kash': 39, 'dkh': 9, 'augi': 3, 'kadak': 24, 'wintery': 3, 'mornings': 9, 'productive': 3, 'discussion': 6, 'wintermorning': 3, 'techdevelopers': 3, 'wusaat': 3, 'dili': 6, 'aalam': 6, 'chaha': 36, 'ruk': 18, 'released': 6, 'anandiben': 3, 'chhello': 3, 'divas': 12, 'daav': 6, 'gayo': 9, 'rupani': 15, 'thot': 3, 'wud': 12, 'aatrangi': 3, 'arbi': 6, 'putr': 3, 'visited': 9, 'badin': 3, 'est': 3, 'ppaf': 3, 'penny': 3, 'approved': 3, 'nchd': 3, 'salary': 9, 'taraqee': 3, 'added': 3, 'bnte': 3, 'alpsankhayk': 3, 'konsi': 42, 'taklif': 15, 'bil': 9, 'natao': 3, 'premises': 3, 'unlock': 3, 'dekhato': 3, 'dilwale': 18, 'xmas': 6, 'yukkkk': 3, 'monthstomegastarsalmansbday': 3, 'batana': 30, 'gandi': 33, 'mansikta': 6, 'nikaliye': 6, 'mantri': 30, 'cn': 3, 'dhoni': 48, 'aapme': 3, 'inta': 3, 'inte': 9, 'lof': 3, 'diban': 3, 'advertise': 6, 'chimney': 3, 'chalao': 9, 'head': 30, 'zero': 12, 'chimneys': 3, 'madhurima': 3, 'fokat': 3, 'jhagda': 9, 'krrhi': 3, 'footage': 6, 'sidnaazreunion': 3, 'yakinan': 3, 'suroor': 6, 'coupon': 3, 'tissue': 3, 'cahiye': 12, 'jokoron': 3, 'dekhon': 3, 'bhrose': 3, 'updesh': 3, 'batne': 3, 'alawa': 30, 'poochta': 15, 'ship': 9, 'otherwise': 9, 'pics': 21, 'possible': 15, 'samajhdar': 3, 'modiwinsonrafale': 3, 'somebody': 12, 'die': 36, 'sucide': 3, 'sucideprevention': 3, 'sucideawairness': 3, 'murdermystery': 3, 'pmoindia': 3, 'livingmybestlife': 3, 'livingthedream': 3, 'affaires': 3, 'marriage': 15, 'frustrations': 3, 'loneliness': 6, 'mindfulness': 3, 'quality': 24, 'cstm': 3, 'howrah': 3, 'mail': 12, 'charges': 12, 'serving': 15, 'rail': 15, 'serve': 12, 'dahaad': 3, 'wnt': 12, 'frndship': 3, 'wth': 24, 'hae': 27, 'slices': 9, 'chillie': 3, 'demolished': 3, 'nomorejunk': 3, 'aara': 12, 'aari': 3, 'namaaz': 9, 'vb': 9, 'rosette': 6, 'pranshul': 3, 'nephewlove': 3, 'dilkokaraaraaya': 3, 'saathi': 6, 'kuti': 3, 'olad': 15, 'galfren': 3, 'baahon': 9, 'baahen': 3, 'check_mark': 27, 'connected': 6, 'arat': 3, 'instastory': 3, 'insta': 42, 'myfm': 6, 'radio': 15, 'teasty': 3, 'waywait': 3, 'fitness': 21, 'woke': 18, 'haven': 24, 'dare': 12, 'walk': 12, 'vasarika': 6, 'black_nib': 12, 'closing': 3, 'sudhar': 42, 'eska': 6, 'khulkar': 6, 'batane': 15, 'kast': 3, 'frnd': 36, 'sirsi': 3, 'aaki': 3, 'bauhat': 3, 'lyk': 3, 'pauhache': 3, 'bhagwaan': 15, 'honestly': 12, 'bologe': 12, 'krunga': 12, 'plss': 12, 'sry': 6, 'footballer': 3, 'sap': 3, 'lathi': 12, 'tute': 12, 'logging': 3, 'dinner': 18, 'healthify': 3, 'calorie': 3, 'waru': 3, 'kanpatti': 3, 'wafa': 24, 'mout': 9, 'bhulo': 9, 'nhai': 9, 'shivsena': 12, 'dhule': 6, 'karungi': 15, 'famliy': 9, 'mtalbi': 3, 'areee': 3, 'htoooo': 3, 'lelete': 3, 'suresh': 12, 'ujjain': 21, 'junction': 6, 'plat': 3, 'gandagi': 6, 'janwer': 3, 'insaniyat': 24, 'khelenge': 15, 'xx': 3, 'xy': 3, 'cooking': 15, 'independent': 6, 'khilayegi': 3, 'abke': 3, 'tayar': 9, 'sanu': 3, 'nasha': 54, 'dham': 3, 'society': 30, 'bhooto': 3, 'nachaaya': 3, 'ishaaro': 3, 'mujra': 3, 'muslimonke': 3, 'poonch': 3, 'hilate': 3, 'rahoge': 27, 'buzzy': 3, 'aajaiga': 3, 'kru': 33, 'chora': 9, 'equally': 6, 'guilty': 6, 'having': 27, 'alibaug': 6, 'dusraa': 3, 'naami': 3, 'kayi': 18, 'pit': 6, 'moi': 3, 'conference': 12, 'smje': 6, 'panktiya': 3, 'kisne': 42, 'joe': 3, 'biden': 6, 'taalibaan': 6, 'valmiki': 3, 'daku': 3, 'lutere': 3, 'sandip': 3, 'kumaar': 3, 'joint': 6, 'cd': 9, 'wrote': 9, 'ramayana': 3, 'jodi': 39, 'sansaad': 3, 'karodo': 12, 'sabsidy': 3, 'tyag': 6, 'chula': 3, 'pet': 33, 'pakhand': 6, 'aour': 3, 'dhong': 3, 'garibo': 39, 'looto': 6, 'karodpatiyo': 3, 'nut': 3, 'november': 18, 'vro': 9, 'full_moon_face': 3, 'mash': 9, 'small_blue_diamond': 18, 'chij': 18, 'paap': 15, 'meateaters': 3, 'sinners': 3, 'karoyege': 3, 'boley': 6, 'thq': 6, 'teamtiger': 3, 'ndoctober': 3, 'waiting____': 3, 'tubelight': 6, 'thofa': 3, 'pathar': 9, 'aayengein': 3, 'rocket': 24, 'dabang': 18, 'singham': 18, 'chapri': 3, 'rathor': 3, 'popularity': 6, 'comparison': 6, 'akkian': 6, 'villan': 3, 'maare': 6, 'popular': 6, 'fighting': 15, 'yara': 15, 'sadaqe': 3, 'luta': 3, 'tiktokban': 12, 'difrance': 3, 'jadugar': 3, 'notankibaj': 3, 'chokidar': 15, 'mufat': 3, 'chly': 3, 'chwal': 3, 'dal': 54, 'robotic': 3, 'metal': 6, 'boys': 15, 'cutie': 6, 'tadap': 18, 'nikati': 3, 'saza': 24, 'esha': 3, 'guna': 9, 'mohhabat': 3, 'hddcs': 3, 'bachkani': 6, 'harkate': 3, 'dubayegi': 3, 'comapny': 3, 'harayegi': 3, 'poori': 27, 'chalayegi': 3, 'sikhayegi': 9, 'gore': 6, 'gaalo': 3, 'chipkayegi': 3, 'bhaasa': 3, 'bharatwinsyoutube': 3, 'picking': 6, 'mangoes': 9, 'directly': 12, 'gardenconfusion': 6, 'sarsa': 3, 'kotano': 3, 'standing': 6, 'ovation': 3, 'defend': 12, 'terror': 12, 'feelings': 24, 'luatado': 3, 'mysongformyboss': 3, 'pune': 3, 'swach': 12, 'suspends': 3, 'pakdo': 6, 'interrogate': 3, 'pension': 6, 'baandh': 6, 'confidential': 3, 'aren': 12, 'sevak': 9, 'maalik': 3, 'chhupaana': 3, 'aas': 18, 'shabd': 12, 'jaal': 6, 'park': 12, 'vehicle': 12, 'shadow': 3, 'vivah': 3, 'nazara': 9, 'goth': 9, 'makhan': 9, 'samun': 9, 'zunoon': 6, 'episodesofbhrk': 6, 'meetup': 3, 'expression': 6, 'tammnna': 3, 'madharchod': 9, 'randy': 9, 'askneha': 3, 'dhokebaji': 3, 'gehlotji': 6, 'result': 51, 'personalty': 3, 'tigers': 6, 'takre': 3, 'anker': 6, 'bighi': 3, 'repeat': 30, 'mistake': 18, 'sabak': 18, 'sikhana': 6, 'ees': 6, 'karyavahi': 3, 'hsi': 3, 'sydharne': 3, 'goriye': 15, 'currant': 15, 'veere': 9, 'nailed': 18, 'cutest': 15, 'gul': 9, 'salahkar': 3, 'carpenter': 3, 'yours': 24, 'mungari': 3, 'firstly': 3, 'select': 6, 'capable': 9, 'joker': 12, 'mataram': 15, 'deshphle': 3, 'chuth': 9, 'riles': 3, 'chood': 12, 'kiyu': 12, 'tereko': 24, 'kita': 6, 'stopusingsidfortrp': 3, 'stoptorturingsid': 3, 'chartbustersid': 9, 'lfc': 3, 'transfernews': 3, 'liverpool': 3, 'buddhijivi': 6, 'hak': 12, 'millat': 3, 'des': 42, 'selfish': 9, 'linke': 6, 'goto': 3, 'dhuaan': 6, 'oho': 3, 'tumare': 18, 'nak': 3, 'lips': 6, 'kasm': 9, 'daloga': 3, 'dharna': 9, 'neeche': 18, 'ear': 6, 'waving_hand': 6, 'yaadon': 9, 'ladd': 3, 'barkha': 3, 'peshab': 9, 'duubgaire': 3, 'en': 12, 'khudko': 9, 'impatient': 3, 'chip': 3, 'dhoyaa': 3, 'diggi': 3, 'manjil': 6, 'sathi': 12, 'pada': 12, 'dhunde': 3, 'tejaswi': 3, 'ganga': 12, 'rjd': 3, 'maanakehumyaarnahisong': 3, 'lagwa': 9, 'lagwate': 3, 'karayi': 3, 'haramiyo': 6, 'firse': 6, 'chatni': 3, 'pychology': 3, 'cant': 30, 'anyones': 3, 'behavior': 3, 'karege': 12, 'ajaye': 3, 'gluttony': 3, 'ended': 15, 'restaurant': 15, 'traditional': 21, 'dou': 15, 'saku': 12, 'diamond_with_a_dot': 9, 'unbreakablebond': 9, 'sisterhood': 9, 'sikhate': 3, 'dharmik': 3, 'sabhao': 3, 'happybirthdayrohit': 3, 'sidhharth': 3, 'intrestd': 3, 'prosperous': 9, 'achaar': 3, 'serious': 33, 'kachcha': 3, 'sehmat': 3, 'kendra': 12, 'hati': 12, 'chodne': 6, 'hogeor': 3, 'atamhtya': 3, 'kyoki': 21, 'saran': 3, 'welldone': 3, 'thanking': 3, 'response': 18, 'donating': 3, 'yathashakti': 3, 'chuka': 36, 'ios': 6, 'apple': 39, 'banay': 6, 'research': 15, 'mihir': 3, 'virani': 3, 'bachke': 3, 'vaapas': 3, 'vishaatongue': 3, 'driver': 9, 'banne': 30, 'sanyukta': 3, 'haddiya': 3, 'woww': 6, 'mandana': 9, 'spoke': 6, 'enjoybiggbosswithsalman': 3, 'sidharth': 15, 'ulte': 3, 'tarike': 6, 'alwaysbyyoursidesid': 9, 'biggbos': 3, 'turner': 3, 'kuxh': 3, 'rank': 9, 'push': 3, 'tujhsse': 3, 'kiyya': 3, 'gunaah': 3, 'chuy': 3, 'boli': 36, 'padri': 3, 'church': 6, 'jaay': 12, 'nirdosh': 9, 'accept': 18, 'involved': 3, 'pleyrs': 3, 'thenks': 3, 'jiya': 15, 'suicide': 15, 'majboor': 9, 'ussi': 12, 'bachayega': 3, 'tutiye': 3, 'jiss': 6, 'bhoot': 24, 'khoya': 6, 'hoa': 6, 'mxt': 3, 'kachhe': 3, 'khatti': 3, 'sabudaana': 3, 'vadas': 3, 'steamed': 3, 'rice': 3, 'vada': 21, 'nibha': 12, 'sako': 6, 'paanch': 6, 'btana': 12, 'parti': 15, 'yarrrrrr': 3, 'mah': 24, 'rajab': 3, 'ronaq': 3, 'hayyyyyyy': 3, 'dominos': 6, 'fcuktards': 3, 'paiso': 9, 'biryani': 21, 'nature': 30, 'throw': 12, 'acid': 6, 'aarti': 15, 'jitana': 6, 'paras': 15, 'med': 6, 'dalke': 6, 'dom': 3, 'degey': 3, 'narender': 3, 'nirav': 9, 'mallya': 3, 'areyy': 3, 'kamar': 12, 'doctero': 3, 'araam': 6, 'frendz': 6, 'heading': 3, 'bullshit': 9, 'kidnap': 12, 'rpl': 6, 'baris': 12, 'acho': 6, 'kise': 66, 'zakir': 9, 'naik': 6, 'stage': 15, 'versa': 3, 'maskabun': 6, 'amdavad': 9, 'jocks': 3, 'likhkar': 3, 'jokes': 15, 'swachh': 6, 'prashasan': 3, 'charon': 3, 'ore': 3, 'brashtachar': 3, 'lahren': 3, 'safai': 15, 'kani': 3, 'kutiya': 3, 'muslims': 24, 'percent': 6, 'opium': 3, 'afghanistan': 6, 'alcohol': 3, 'lane': 18, 'gtu': 15, 'apologynotenough': 3, 'milni': 3, 'ashwariya': 3, 'thek': 9, 'headache': 3, 'infosysfailed': 3, 'portal': 3, 'relief': 6, 'melegi': 3, 'tds': 3, 'hmmm': 9, 'muj': 27, 'kbse': 3, 'wati': 6, 'rustom': 6, 'tejatroops': 3, 'tejasswiprakash': 18, 'teja': 51, 'hyping': 3, 'low': 18, 'hogayi': 6, 'individuality': 3, 'ormax': 6, 'tejran': 36, 'jaaga': 6, 'injaar': 3, 'thujhse': 3, 'haiâ': 3, 'ful': 12, 'taught': 12, 'shilpashinde': 6, 'fekna': 6, 'doosro': 12, 'daalna': 9, 'baal': 6, 'kaatna': 6, 'mukhar': 3, 'jagal': 3, 'raaj': 9, 'usay': 3, 'mojood': 3, 'py': 33, 'taray': 3, 'qadmon': 3, 'nishan': 3, 'ny': 21, 'tary': 3, 'guzarny': 3, 'chulbul': 15, 'intazar': 12, 'saadagi': 3, 'kaahe': 12, 'filmfare': 12, 'cover': 27, 'crescent_moon': 15, 'cityscape_at_dusk': 3, 'globe_showing_europe': 27, 'africa': 30, 'people_with_bunny_ears': 15, 'lollipop': 3, 'candy': 3, 'chocolate_bar': 33, 'aarahi': 6, 'tanhaji': 21, 'banen': 3, 'strict': 12, 'yearsofnavya': 3, 'vidhayak': 6, 'banake': 12, 'sunhera': 6, 'loktantra': 15, 'barkadutts': 3, 'area': 12, 'circus': 15, 'operation': 6, 'details': 9, 'deemed': 3, 'necessary': 3, 'kaano': 3, 'dhire': 18, 'love_letter': 6, 'dikan': 3, 'chugali': 3, 'gawana': 3, 'azmana': 3, 'bhulana': 3, 'gd': 6, 'mning': 3, 'ends': 18, 'matters': 18, 'nt': 24, 'lik': 3, 'hny': 6, 'performed': 3, 'iplopeningceremony': 3, 'indirectly': 6, 'generations': 3, 'airtel': 9, 'xstream': 3, 'challenge': 24, 'banegi': 6, 'masi': 3, 'justicsforladypolice': 3, 'bigri': 3, 'khli': 3, 'paane': 3, 'badeachhelagtehain': 3, 'harkaten': 3, 'maturity': 3, 'advani': 6, 'diyaa': 9, 'feelingsoemptiness': 3, 'missingyou': 3, 'disgusting': 9, 'ladder': 3, 'wwetlc': 3, 'laddermatch': 3, 'whahoooo': 3, 'rela': 3, 'cloud_with_rain': 12, 'derelict_house': 3, 'strom': 3, 'tornado': 3, 'face_with_open_mouth': 12, 'worstweather': 3, 'laggaye': 3, 'aries': 3, 'frappuccino': 3, 'taurus': 3, 'vanilla': 3, 'latte': 12, 'gemini': 3, 'iced': 6, 'americano': 3, 'leo': 3, 'mocha': 9, 'virgo': 3, 'pumpkin': 3, 'spice': 3, 'libra': 3, 'caramel': 3, 'macchiato': 3, 'scorpio': 3, 'sagittarius': 3, 'espresso': 3, 'capricorn': 3, 'aquarius': 3, 'cappuccino': 6, 'pisces': 3, 'herbal': 6, 'becha': 3, 'hans': 6, 'dark_skin_tone': 12, 'tars': 6, 'masoom': 6, 'palkon': 9, 'bheeg': 6, 'kehti': 18, 'signal': 9, 'todke': 6, 'cctv': 3, 'footageconfusion': 3, 'salimsulaiman': 6, 'festival': 24, 'salah': 6, 'ksy': 3, 'hmlogo': 3, 'apk': 9, 'bauth': 3, 'intyjar': 3, 'dkhgy': 3, 'aajaye': 6, 'bsdiwale': 3, 'baspan': 6, 'oksorry': 6, 'no1': 9, 'failane': 6, 'budget': 33, 'lolipop': 6, 'uniquejigrra': 12, 'relivesidnaaz': 3, 'marathi': 3, 'jubin': 3, 'nautiyal': 3, 'chilly': 9, 'naturals': 3, 'congrats': 3, 'kiay': 3, 'bgair': 3, 'jany': 6, 'rahay': 9, 'dhekne': 3, 'phr': 12, 'moka': 18, 'dhik': 3, 'dicision': 3, 'phele': 33, 'dhekho': 3, 'close': 9, 'huya': 21, 'situation': 36, 'residing': 3, 'rokne': 6, 'jabki': 9, 'gate': 9, 'bethkar': 3, 'personnel': 3, '8527106761': 3, 'tamilsarenothindus': 3, 'humein': 15, 'justasking': 6, 'keyboard': 6, 'stomach': 24, 'suit': 6, 'bhuladungawithdarshan': 3, 'aqirat': 3, 'fiqar': 3, 'wanha': 3, 'bachega': 3, 'tobakarle': 3, 'galoch': 9, 'jiye': 9, 'envi': 3, 'syappa': 3, 'fullform': 3, 'baklol': 6, 'locket': 6, 'hmesha': 24, 'turn': 15, 'kagaz': 24, 'legal': 9, 'nagariko': 6, 'dikhaiye': 6, 'dijhayenge': 3, 'bangaya': 6, 'mukul': 3, 'pichey': 3, 'lagtahai': 3, 'hata': 6, 'muslaman': 6, 'kagta': 6, 'zarurat': 33, 'mafi': 9, 'maglo': 6, 'karuga': 9, 'frns': 3, 'krishnakumar': 6, 'badnaam': 18, 'ekshaam': 3, 'bhavna': 9, 'kheloge': 6, 'khoon': 36, 'aansoo': 12, 'rulayege': 3, 'lege': 9, 'leaving': 6, 'small': 21, 'ted': 6, 'uvaa': 3, 'banbodyodour': 3, 'rajkot': 30, 'aajkaal': 3, 'kisey': 3, 'fahara': 3, 'jrurat': 3, 'swarglok': 3, 'narka': 3, 'sadhna': 3, 'angreji': 6, 'kahete': 9, 'sriji': 3, 'jantar': 3, 'mantra': 6, 'padhare': 9, 'nyota': 3, 'haga': 3, 'arnab': 33, 'goswami': 9, 'arrested': 12, 'maharashtra': 33, 'foundation': 6, 'kholke': 3, 'dikhaoge': 3, 'uncubate': 6, 'coworking': 3, 'funtimes': 3, 'chaitime': 15, 'workingcouncubate': 3, 'course': 12, 'suiye': 3, 'poha': 24, 'ride': 15, 'cheontheroad': 3, 'aagayamazaa': 3, 'firefox': 3, 'ghotaale': 3, 'kamati': 6, 'dadagiri': 9, 'patan': 6, 'rupiya': 3, 'kama': 21, 'bhrashtach': 3, 'karney': 3, 'phd': 9, 'qum': 3, 'haslam': 3, 'ramjaan': 15, 'payalji': 3, 'layi': 6, 'jaada': 6, 'barisho': 3, 'shilpa': 18, 'beleive': 3, 'rant': 6, 'roommate': 3, 'partner': 3, 'jiiii': 3, 'jiiiii': 3, 'sawaab': 3, 'nawaab': 9, 'laajawaab': 3, 'jise': 54, 'vahvaha': 3, 'sharm': 27, 'socho': 60, 'medical': 12, 'cancalfinalyearexam': 3, 'wb': 3, 'rap': 9, 'malwi': 3, 'awareness': 9, 'stopthespread': 3, 'sitting': 21, 'cocktail_glass': 9, 'lungi': 6, 'shivi': 9, 'pighal': 15, 'jaungi': 12, 'rider': 6, 'pgl': 3, 'cut': 12, 'marke': 21, 'upl': 3, 'intraday': 3, 'tgt': 6, 'advisory': 3, 'yaas': 6, 'sonny': 3, 'sun_behind_cloud': 3, 'northern': 3, 'hemisphere': 3, 'tumhaare': 3, 'til': 6, 'laddu': 6, 'fusion': 3, 'kayastho': 3, 'undhiyo': 3, 'dhindora': 6, 'bhuvanbam': 3, 'scott': 3, 'pilgrim': 3, 'kuchhbhi': 3, 'citizen': 6, 'baraat': 3, 'coldplay': 3, 'globalcitizenfestival': 3, 'meets': 12, 'colour': 9, 'proficient': 3, 'ordered': 3, 'adajan': 3, 'khajana': 6, 'sulane': 3, 'ghoshanapatrawithmodi': 3, 'mza': 6, 'cskvssrh': 3, 'thisistruth': 3, 'bff': 9, 'friendsforlife': 3, 'thanksguys': 3, 'dostaar': 3, 'avadh': 3, 'aajaao': 3, 'enry': 3, 'ktm': 3, 'jitni': 33, 'sunna': 12, 'daru': 27, 'bottol': 3, 'kule': 3, 'perfume': 3, 'nisbat': 3, '200': 12, 'asani': 3, 'legi': 12, 'dc': 9, 'jaisi': 42, 'teams': 3, 'hag': 6, 'hhaha': 3, 'mjak': 6, 'rainy': 6, 'chaipakodanilaari': 3, 'sizzling': 3, 'pakodas': 3, 'madhubhanresortandspa': 3, 'chaibar': 3, 'sye': 3, 'vishva': 9, 'paryavaran': 3, 'manch': 6, 'teen': 33, 'badhaen': 3, 'dog': 12, 'nagpur': 12, 'jar': 3, 'len': 9, 'aahe': 3, 'asketongue': 3, 'dhoke': 6, 'sabudana': 9, 'khichdi': 24, 'homemade': 6, 'drool': 3, 'idar': 9, 'bye': 51, 'mindblowing': 3, 'mishti': 6, 'kisses': 6, 'maheswari': 3, 'room': 24, 'dry': 3, 'rewindwithshaheer': 3, 'pyaare': 9, 'partnerincrime': 3, 'hostelfriends': 3, 'thaa': 12, 'vaishali': 6, 'kooooo': 3, 'rupee': 12, 'leonardo': 3, 'dicaprio': 3, 'visits': 3, 'haryana': 15, 'catastrophic': 3, 'impact': 3, 'climate': 3, 'vyast': 6, 'gautamkothari': 6, 'gautam': 15, 'myquote': 3, 'gkshayri': 3, 'sanatni': 3, 'fantabulousfantrailer': 3, 'sarkare': 3, 'tauba': 6, 'samjhana': 3, 'beqarar': 9, 'chaho': 12, 'tmse': 3, 'bachalo': 6, 'tukdo': 3, 'kyahi': 3, 'yaato': 3, 'adhikariyon': 3, 'ahat': 3, 'westandbysalmankhan': 6, 'deserves': 24, 'alive': 6, 'actresses': 6, 'bcoz': 12, 'exchange': 6, 'bl': 3, 'salmankhanisbully': 3, 'hurry': 6, 'outscore': 3, 'hitman': 6, 'indveng': 27, 'lauda': 3, 'cheej': 9, 'shiddat': 6, 'hats': 21, 'hisaab': 15, 'chitragupt': 6, 'karam': 18, 'swarg': 3, 'bhejdo': 6, 'narak': 6, 'jeevan': 9, 'natheg': 3, 'dekhu': 15, 'chen': 6, 'sivay': 9, 'bhata': 6, 'kahhi': 3, 'tharki': 15, 'pab': 3, 'tharak': 6, 'bajii': 3, 'bakwass': 3, 'realwords': 12, 'tiktokpoetry': 12, 'rashidmiftahi': 12, 'whatsappstatus': 15, 'sadwhatsappstatus': 9, 'anshpandit': 9, 'poetry': 42, 'hindipoetry': 12, 'rahatindori': 9, 'tiktoktrending': 6, 'tiktoktrend': 3, 'sabi': 6, 'bhartiyo': 6, 'appke': 3, 'wese': 27, 'majhe': 3, 'aabhi': 12, 'thakur': 18, 'ajo': 3, 'lakshman': 6, 'jansankhya': 3, 'badhakar': 3, 'bukhar': 3, 'chad': 6, 'chin': 6, 'ladne': 15, 'malikkum': 3, 'ayatha': 3, 'ikrar': 6, 'heart_with_arrow': 27, 'murkhbaadmi': 3, 'opposition': 27, 'curse': 3, 'lead': 15, 'cheating': 12, 'engvsnz': 3, 'jaakar': 3, 'hatwao': 3, 'jhande': 3, 'hazaar': 3, 'lagaenge': 3, 'gin': 9, 'paaoge': 6, 'maaro': 12, 'dande': 9, 'awaaz': 21, 'cheen': 9, 'fa': 15, 'jamshedpurpolice': 3, 'hyderabadpolice': 3, 'fana': 12, 'mager': 3, 'tabinda': 3, 'kaie': 3, 'danishmand': 3, 'destination': 3, 'enjoyed': 6, 'jaegi': 3, 'kashi': 3, 'marana': 3, 'khanekeliye': 3, 'kashime': 3, 'marne': 36, 'tarshte': 3, 'kejrwalji': 3, 'saanso': 3, 'gayakoi': 3, 'yojna': 12, 'trah': 12, 'upyog': 6, 'psl': 3, 'bumbai': 3, 'cannot': 24, 'honewali': 3, 'taqlifo': 3, 'ujjwal': 6, 'roop': 18, 'workshop': 3, 'yashraj': 6, 'parineeti': 3, 'chopra': 6, 'suddha': 3, 'amitbhai': 3, 'despite': 3, 'scheme': 15, 'mobarak': 27, 'ied': 9, 'congratulationsindia': 3, 'afgvind': 3, 'indvsafg': 3, 'indiavsafghanistan': 3, 'tun': 9, 'samnay': 3, 'gea': 6, 'apny': 12, 'smjhta': 3, 'asaalam': 6, 'aalay': 3, 'kumm': 3, 'axelent': 3, 'put': 18, 'sindoor': 3, 'harshad': 15, 'jennifer': 6, 'particular': 6, 'asks': 18, 'kitana': 12, 'tajmahal': 12, 'inner': 9, 'dafna': 3, 'turkey': 15, 'ghumrela': 3, 'doon': 12, 'khambe': 3, 'tesla': 6, 'teslaindia': 3, 'teslainindia': 3, 'teslastock': 3, 'teslaenergy': 3, 'disha': 9, 'jaara': 3, 'chhora': 3, 'nic': 6, 'bholo': 3, 'lita': 3, 'bholti': 3, 'yaaarrr': 3, 'puchu': 9, 'fridayswitharmaan': 3, 'menar': 3, 'personal': 39, 'galla': 9, 'bhaisahab': 9, 'dukaan': 9, 'tasty': 15, 'tamaatar': 3, 'sabji': 15, 'grand': 18, 'ct': 6, 'fathersday': 3, 'hisab': 24, 'atithiyo': 3, 'makkar': 6, 'board': 36, 'absence': 3, 'directors': 3, 'reveled': 3, 'present': 15, 'conditions': 6, 'expansion': 3, 'aakhri': 9, 'hours': 33, 'rangoli': 9, 'garoo': 3, 'tega': 3, 'fakre': 3, 'koye': 9, '50': 3, 'dektha': 3, 'samjunga': 3, 'cruel': 9, 'valsad': 15, 'valsadblast': 3, 've': 54, 'gantantra': 3, 'vasi': 3, 'subhkamna': 3, 'kabbaddi': 3, 'kurto': 3, 'clg': 6, 'add': 54, 'dungaa': 3, 'ajooba': 3, 'susila': 6, 'naman': 33, 'folded': 3, 'hands': 9, 'goddess': 3, 'ips': 9, 'officer': 9, 'misuse': 3, 'mentality': 3, 'fatwa': 3, 'behead': 3, 'thanx': 9, 'rukegi': 3, 'gujaratgovernment': 3, 'mahanubhav': 3, 'pernana': 3, 'rekod': 6, 'tutega': 6, 'aesi': 12, 'bolliwood': 3, 'shan': 18, 'banchuka': 3, 'redy': 3, 'bodyguard': 6, 'dabbang2': 3, 'bahizan': 3, 'jayagi': 3, 'thuje': 6, 'hasata': 3, 'jokar': 12, 'smj': 3, 'hongey': 6, 'kye': 18, 'apky': 6, 'chryti': 3, 'allho': 3, 'pyyr': 3, 'apmuslim': 3, 'hokr': 3, 'rhy': 9, 'hafij': 3, 'chiye': 12, 'tadpooo': 3, 'samzla': 3, 'innkai': 3, 'vatere': 3, 'zindigi': 3, 'kuntal': 3, 'anmulle': 3, 'jm': 3, 'infotech': 3, 'seva': 30, 'maaki': 42, 'qasam': 39, 'doplease': 33, 'banna': 21, 'kanjos': 3, 'saktea': 3, 'kanjosssssss': 3, 'plzzzzzzzzzzzzzzzzzzzzzzzzzzzzzz': 3, 'plzzzzzzzz': 9, 'maiden': 3, 'speech': 12, 'lok': 15, 'sabha': 12, 'aagar': 6, 'martaba': 6, 'bolde': 6, 'simpal': 6, 'sort': 3, 'kesey': 3, 'gey': 9, 'blees': 3, 'zaada': 3, 'musical_note': 30, 'khash': 9, 'mjy': 9, 'dancer': 3, 'naap': 3, 'nameshabana': 3, 'taapseepannu': 3, 'unglian': 3, 'gaen': 3, 'pather': 3, 'tarashte': 12, 'haiiiii': 6, 'vip': 21, 'surprises': 3, 'salmankhanonyoutube': 3, 'miyabhai': 3, 'hindumuslimbhaibhai': 3, 'tmkoc': 21, 'parivar': 42, 'criminal': 3, 'yeha': 9, 'jawaani': 6, 'deewani': 18, 'mani': 6, 'hega': 3, 'jaipur': 3, 'pink': 6, 'panthers': 3, 'replay': 12, 'kuy': 6, 'dayrahay': 3, 'thikha': 3, 'bd': 9, 'yu': 27, 'phew': 6, 'enjoying': 9, 'haleem': 3, 'antisocial': 3, 'frank': 3, 'aapn': 3, 'sikhayi': 3, 'kaarwan': 3, 'aray': 6, 'ooo': 3, 'kicad': 3, 'uthayega': 3, 'kuchl': 3, 'deege': 3, 'prison': 3, 'laagi': 3, 'ree': 3, 'tuin': 3, 'kareegaa': 3, 'wohi': 24, 'daaleega': 3, 'ghatna': 6, 'kalpanik': 3, 'molanao': 3, 'tiket': 3, 'ajenda': 3, 'chalate': 12, 'atankwadi': 6, 'gharmain': 3, 'jamai': 3, 'madarsa': 6, 'yess': 12, 'saraf': 9, 'karr': 9, 'kuwara': 6, 'marr': 15, 'mante': 15, 'jetha': 12, 'babita': 3, 'tumahrs': 3, 'tumahari': 3, 'smjh': 18, 'cheated': 6, 'definition': 9, 'commodities': 3, 'himmatwala': 3, 'apt': 3, 'palti': 6, 'blended': 3, 'spices': 6, 'milk': 21, 'hint': 9, 'ginger': 3, 'bhaiyaa': 6, 'pana': 12, 'seen': 48, 'curruption': 3, 'ssc': 15, 'rojar': 3, 'hubby': 9, 'campain': 3, 'bussy': 3, 'bolane': 3, 'huk': 6, 'ilove': 15, 'ajan': 3, 'aavaze': 3, 'kaya': 24, 'speakers': 3, 'karvao': 6, 'tl': 36, 'fantabulous': 3, 'tasvir': 15, 'sudharti': 3, 'sablogon': 3, 'badlao': 6, 'zamini': 3, 'samsyaye': 3, 'unme': 9, 'wahhhh': 6, 'indiawide': 3, 'trends': 9, 'padman': 3, 'abuser': 3, 'pregnant': 9, 'piles': 3, 'salgay': 3, 'retweeting': 3, 'akkians': 6, 'lime': 3, 'sabbash': 3, 'earns': 3, 'zampa': 6, 'pandya': 3, 'midnight': 18, 'jagna': 3, 'bangbang': 9, 'khushbo': 3, 'tarha': 15, 'scientist': 12, 'worltongue': 3, 'kartha': 9, 'committment': 3, 'deha': 3, 'aapna': 12, 'sakhte': 3, 'khuch': 21, 'madad': 36, 'pliz': 9, 'happen': 21, 'bang': 12, 'yors': 3, 'uniform': 3, 'dinn': 6, 'tan': 6, 'mann': 27, 'wheeee': 3, 'elder': 12, 'nindh': 3, 'janaa': 3, 'idi': 3, 'sleeeeppppp': 3, 'nitty': 3, 'gritty': 3, 'fdi': 6, 'bearded': 6, 'prize': 9, 'laureate': 3, 'finding': 3, 'pretentious': 3, 'offering': 9, 'hostage': 3, 'baijaan': 9, 'rashtra': 9, 'nagaur': 3, 'khacchar': 3, 'tamil': 15, 'language': 36, 'father': 27, 'baton': 3, 'sahmat': 3, 'samvidhan': 6, 'thekedaar': 3, 'samvidhanik': 3, 'sansathon': 3, 'samse': 3, 'aapmaan': 3, 'ser': 6, 'anaaaj': 3, 'soso': 9, 'amazon': 12, 'mangvaya': 3, 'pahelibar': 3, 'banakar': 18, 'bhejna': 3, 'samj': 27, 'rahen': 6, 'entertain': 6, 'khwaishat': 3, 'duaen': 3, 'saaath': 3, 'vrryy': 3, 'vrrrry': 3, 'nicee': 3, 'shikhna': 3, 'dedication': 3, 'stokes': 6, 'happybirthdayviratkohli': 3, 'inshaalllah': 3, 'milon': 3, 'galay': 3, 'sunega': 3, 'msm': 3, 'debates': 6, 'achievements': 3, 'goi': 6, 'crpplgaveuplpgsubsidy': 3, 'rukwado': 3, 'akshi': 3, 'mundi': 6, 'dikhake': 3, 'ghnte': 6, 'ahmadabad': 3, 'kalupur': 3, 'adarniya': 3, 'kahena': 9, 'chatahu': 6, 'doo': 15, 'rly': 3, 'piiche': 3, 'jaake': 9, 'hud': 12, 'jst': 12, 'mahilao': 6, 'baatate': 3, 'sura': 3, 'aayat': 6, 'girgit': 3, 'sarma': 6, 'shitindianssay': 3, 'irshad': 9, 'turkmenistan': 6, 'nzvafg': 6, 'nz': 12, 'afgvsnz': 15, 'afg': 3, 'nzvsafg': 3, 'sih': 3, 'rally': 24, 'nya': 9, 'indonesia': 3, 'goo': 3, 'kite': 3, 'sathme': 3, 'bhuladungaftsidnaaz': 3, 'bhag': 18, 'ishme': 6, 'wasio': 3, 'currupt': 3, 'demowins': 6, 'kaifi': 3, 'eve': 9, 'stuff': 15, 'ignore': 33, 'dikhti': 18, 'maal': 15, 'kyse': 3, 'serkhan': 3, 'aega': 9, 'vaijaan': 6, 'rahtahu': 6, 'zalak': 9, 'intajer': 3, 'salamaat': 3, 'kartahu': 9, 'spotted': 9, 'bikelove': 3, 'bicycle': 3, 'chailove': 12, 'cyclelove': 3, 'uuuu': 9, 'ncb': 3, 'manala': 3, 'seh': 15, 'ichha': 6, 'daante': 3, 'dulaarte': 3, 'autograph': 6, 'qustn': 6, 'kbubsirti': 3, 'badhti': 6, 'wakt': 9, 'botad': 3, 'dalali': 9, 'khaoge': 3, 'madrachod': 9, 'bhgg': 3, 'maple_leaf': 21, 'waqat': 6, 'badaly': 3, 'foruyou': 3, 'foryoupage': 3, 'afzalarainofficial': 3, 'jhuddopakistan': 3, 'pakistanistreetstyle': 3, 'jhudo': 3, 'sarara': 6, 'tunki': 3, 'lots': 48, 'mukra': 3, 'related': 15, 'ngo': 3, 'salmanverdict': 6, 'sense': 18, 'topics': 9, 'silence': 9, 'voted': 6, 'mit': 24, 'vaud': 3, 'zehen': 6, 'aasuo': 3, 'tumhaari': 12, 'kahaani': 12, 'ant': 9, 'amrili': 3, 'chawlarajendra': 3, 'mum': 6, 'maaukaa': 3, 'chaahtaa': 3, 'mech': 3, 'midbaji': 3, 'waldcap': 3, 'utthna': 3, 'mhenat': 6, 'pakvuae': 3, 'trf': 3, 'lazeez': 3, 'omlete': 3, 'centreconfusion': 3, 'badkismati': 3, 'suvver': 6, 'chhi': 3, 'rvcj': 3, 'praising': 3, 'loveonquarantine': 3, 'writer': 21, 'gnte': 3, 'dhayan': 9, 'majbur': 6, 'independenceday': 6, 'attendance': 3, 'compulsory': 6, 'baccha': 15, 'fine': 15, 'guess': 18, 'threadconfusion': 3, 'independencedayindia': 3, 'vaat': 9, 'gambhir': 3, 'exal': 3, 'coral': 3, 'kissing_face': 21, 'kissing_face_with_smiling_eyes': 12, 'sunrise_over_mountains': 6, 'adjsamad': 3, 'lovelysong': 3, 'mainaurtum': 3, 'umarbhar': 3, 'justsaying': 6, 'ishqbaazi': 3, 'dekhti': 9, 'taqdir': 6, 'ehsaan': 12, 'lelungi': 3, 'kisko': 15, 'attention': 12, 'ignoring': 3, 'hobby': 6, 'saktahu': 3, 'nasta': 15, 'dumas': 3, 'chopati': 3, 'dkhunga': 3, 'jake': 24, 'raakhi': 3, 'bandhana': 3, 'gazzab': 3, 'paasa': 3, 'palate': 3, 'lehron': 3, 'shor': 9, 'behel': 3, 'jal': 24, 'happybirthdaysalmankhan': 12, 'salmankhanfans': 3, 'skfans': 3, 'megastar': 6, 'salmankhanbday': 3, 'skf': 3, 'prasoon': 3, 'aisey': 3, 'sawaal': 6, 'puuchho': 3, 'rafaa': 3, 'dafaa': 3, 'chodkr': 6, 'aajao': 21, 'wrna': 9, 'bhoomitrivediofficial': 3, 'sslive': 3, 'mje': 18, 'gif': 6, 'excavation': 3, 'akash': 3, 'chuta': 3, 'violent': 3, 'buses': 3, 'jalate': 3, 'dukane': 3, 'todte': 3, 'dochu': 3, 'pos': 3, 'running': 9, 'retail': 9, 'stores': 3, 'westbengal': 3, 'masoomhindu': 3, 'mamata': 3, 'palau': 3, 'tumari': 18, 'okat': 12, 'carod': 3, 'offer': 6, 'savi': 6, 'cares': 9, 'bjpconfusion': 3, 'capt': 6, 'amarinder': 3, 'yehe': 3, 'utre': 3, 'flak': 3, 'inbox': 24, 'justiceforrhea': 3, 'rheaarrested': 3, 'faminist': 3, 'drugs': 15, 'fakefaminism': 3, 'richa': 3, 'chaddha': 6, 'huma': 9, 'quraishi': 3, 'bhaskar': 9, 'taapsee': 3, 'pannu': 3, 'balan': 3, 'sonam': 3, 'farhan': 3, 'akhtar': 3, 'milap': 3, 'anurag': 3, 'kashyap': 3, 'sexyqueen': 3, 'upload': 33, 'exctment': 3, 'badgai': 3, 'dekhege': 6, 'mamaji': 18, 'actress': 24, 'joru': 3, 'ghulam': 6, 'baadshaah': 3, 'khiladi': 9, 'tajamahal': 3, 'favroute': 6, 'hij': 6, 'kotta': 6, 'ajay': 15, 'devgn': 3, 'rahte': 15, 'bhabha': 3, 'praveen': 6, 'semalian': 3, 'bhatija': 3, 'semal': 3, 'siwara': 3, '1000': 12, 'butterflies': 3, 'hug': 12, 'distracting': 3, 'gujaratconfusion': 3, 'varunsays': 3, 'khete': 6, 'propose': 12, 'butterfly': 3, 'jankari': 15, 'sapra': 3, 'vashnik': 3, 'cpi': 3, 'cpm': 3, 'tmc': 9, 'shoeb': 9, 'jamui': 9, 'jaison': 9, 'bach': 27, 'knw': 21, 'apupie': 9, 'mrng': 3, 'ithne': 3, 'phirna': 3, 'hoygi': 3, 'shehar': 6, 'ton': 15, 'kade': 3, 'vapaar': 3, 'lagat': 6, 'serf': 3, 'qeemty': 3, 'bewafasanam': 3, 'bewafashayari': 3, 'harrrrrrrrrrrrrrrdik': 15, 'cred': 3, 'ii': 6, 'lui': 3, 'gadhene': 3, 'samajhe': 6, 'notebandhi': 6, 'piz': 12, 'goosebumps': 6, 'fanapril': 6, 'jayda': 3, 'margdarshan': 3, 'abhilasha': 3, 'rakhte': 9, 'heal': 3, 'alwaysthereinmyheart': 3, 'burnina': 3, 'perpetualdawnoflonging': 3, 'yep': 3, 'rishi': 12, 'staysafe': 9, 'majdoorkyonmajboor': 3, 'majdoor': 12, 'haddi': 3, 'dialogues': 6, 'taiyaar': 12, 'afsos': 6, 'galib': 3, 'fati': 6, 'winningsid': 3, 'bnne': 3, 'jaddu': 12, 'chhutte': 3, 'paytm': 6, 'transfer': 3, 'dekhana': 12, 'bhule': 6, 'sbke': 3, 'hiccupsandhookupsteaser': 3, 'jhuth': 18, 'humlogo': 12, 'jageh': 3, 'aani': 3, 'chhaiye': 3, 'indiaunitedtopostponejee': 3, 'pmopostponeneet': 3, 'goverment': 3, 'bik': 18, 'coaching': 9, 'maffiyas': 3, 'vjh': 3, 'aae': 15, 'khabr': 9, 'sahibganj': 3, 'kamlapati': 3, 'devi': 6, 'bajrange': 6, 'internationl': 3, 'rockstar': 6, 'mouka': 6, 'kartey': 12, 'abibi': 3, 'lykin': 3, 'hamey': 3, 'naraaz': 3, 'kanvarlal': 3, 'vekariya': 3, 'studio': 12, 'lg': 27, 'rhaa': 9, 'sabase': 6, 'rhaconfusion': 3, 'ptet': 3, 'bhartiya': 6, 'samarthak': 6, 'communist': 3, 'birodh': 3, 'abhitak': 6, 'vakai': 6, 'ine': 9, 'samagh': 3, 'pre': 9, 'jaichand': 3, 'aaulado': 3, 'ilaz': 3, 'jaroori': 18, 'doses': 3, 'kejriwalexposed': 6, 'kejriwalfailsdelhi': 3, 'kejriwalresign': 3, 'seculardelhi': 3, 'naaaa': 6, 'rajput': 9, 'evm': 39, 'dukhad': 3, 'ghari': 6, 'pariear': 3, 'sankat': 6, 'niklne': 9, 'namah': 6, 'shiwahe': 3, 'nalla': 9, 'gdrrrrr': 3, 'kiiii': 3, 'nii': 9, 'fas': 3, 'tehseen': 6, 'poonawala': 6, 'speechless': 6, 'yuh': 6, 'jagte': 6, 'bichad': 6, 'nee': 3, 'milkha': 3, 'abbs': 3, 'tbhi': 12, 'fens': 3, 'glt': 3, 'happydiwali': 9, 'shayaranaandaaz': 6, 'torture': 6, 'idiots': 9, 'sunegi': 6, 'spine': 3, 'mujay': 3, 'fakhar': 3, 'surjewala': 21, 'badmer': 3, 'hathras': 3, 'khul': 18, 'shrimam': 3, 'lab': 12, 'gulami': 3, 'dahej': 3, 'port': 12, 'twt': 9, 'undo': 3, 'sza': 3, 'lgane': 6, 'mgr': 9, 'tamnna': 6, 'muskrane': 6, 'drd': 6, 'dikhau': 3, 'usine': 3, 'vectus': 9, 'indiakiwaterline': 3, 'saifeena': 3, 'saifalikhan': 3, 'kareenakapoor': 6, 'enterprise': 6, 'tanki': 9, 'christmas': 12, 'santa_claus': 3, 'fanforlife': 6, 'kamalu': 3, 'pahocha': 3, 'chahaiye': 3, 'rich': 6, 'afford': 12, 'uddhav': 12, 'pathakhe': 3, 'jalaye': 3, 'samjhoge': 3, 'grat': 3, 'caller': 12, 'hataao': 3, 'samajhna': 9, 'indiafightscovid': 3, 'aatlu': 3, 'badhu': 3, 'undhi': 3, 'shu': 6, 'mic': 3, 'watchin': 3, 'effects': 3, 'flick': 3, 'poojan': 3, 'appartmentsconfusion': 3, 'tikka': 3, 'nikalta': 9, 'ceasefire': 3, 'violation': 9, 'aiims': 12, 'pahuch': 9, 'karogi': 6, 'emergency': 6, 'jiao': 3, 'thhey': 6, 'karab': 6, 'ryhana': 6, 'cricketers': 6, 'farmers': 30, 'players': 24, 'chaipeelo': 15, 'tufan': 6, 'badalata': 3, 'irritates': 6, 'kid': 18, 'sound': 21, 'evry': 3, 'choosing': 3, 'shehnaazgill': 12, 'ran': 6, 'arti': 3, 'manaofy': 3, 'sana': 15, 'antihindu': 3, 'ghoshna': 3, 'mahashay': 3, 'jatee': 3, 'khelte': 18, 'typ': 3, 'instameme': 3, 'mcdonalds': 3, 'bhopali': 12, 'maikhud': 3, 'graduation': 3, 'ed': 24, 'subject': 6, 'appear': 3, 'tet': 6, 'tat': 6, 'htat': 3, 'further': 6, 'phil': 3, 'khareedo': 3, 'schoolfriends': 6, 'lifegoeson': 3, 'grateful': 12, 'icc': 9, 'building': 3, 'muskurahat': 6, 'gusse': 9, 'piche': 66, 'eagerly': 18, 'dreamgirl': 6, 'dreamgirltrailer': 3, 'earlier': 6, 'liquor': 9, 'veg': 15, 'policy': 15, 'maker': 3, 'pravs': 3, 'vichar': 24, 'ehsaas': 15, 'buddhimani': 3, 'blem': 6, 'nange': 3, 'nacho': 3, 'bajar': 3, 'kisiko': 33, 'hindusena': 3, 'rss': 21, 'shd': 3, 'terrorists': 9, 'ghume': 3, 'bhes': 3, 'deshmein': 3, 'jnuterrorattack': 3, 'gullygang': 3, 'bhout': 9, 'aache': 6, 'lagkte': 3, 'dekti': 3, 'rai': 12, 'dekungi': 3, '4rm': 3, 'maana': 6, 'spend': 9, 'cashless': 3, 'wattt': 3, 'lagate': 3, 'dub': 18, 'qqq': 3, 'arey': 24, 'balak': 9, 'asusual': 3, 'jihadeon': 3, 'seekho': 3, 'saheri': 3, 'azaan': 6, 'bachaane': 3, 'constitution': 6, 'equality': 12, 'bivi': 3, 'bltkar': 3, 'depressed': 9, 'aulade': 3, 'bhadwa': 12, 'betha': 42, 'couple': 18, 'keenly': 3, 'talked': 6, 'bcho': 3, 'dukhta': 6, 'bakar': 12, 'aila': 3, 'bahas': 6, 'poorcouples': 3, 'digitial': 3, 'samghta': 3, 'kifirst': 3, 'priority': 15, 'hmre': 6, 'force': 9, 'becaymuse': 3, 'subhkamnaye': 6, 'amittadipar': 3, 'promised': 6, 'cameras': 3, 'roads': 12, 'reha': 3, '17th': 6, 'july': 9, 'lambi': 24, 'daraa': 3, 'lions': 3, 'thelionsjersey': 3, 'raita': 3, 'yugpurush': 6, 'failarahi': 3, 'behtab': 3, 'pia': 3, 'roosevelt': 3, 'nyc': 9, 'grabs': 3, 'yaroon': 3, 'dollar_banknote': 6, 'pakistantoday': 3, 'article': 12, 'conclude': 3, 'bijli': 18, 'windows': 6, 'beach': 9, 'bolea': 3, 'khushiconfusion': 3, 'shameonmanojtiwari': 3, 'inape': 3, 'kanoon': 21, 'laagu': 6, 'harkisiko': 3, 'tiktokindia': 21, 'realizes': 3, 'strength': 12, 'aligarh': 3, 'babysharma': 3, 'patchup': 3, 'karwado': 3, 'babiess': 3, 'jukna': 3, 'uthata': 6, 'bhed': 6, 'vnde': 3, 'bhad': 6, 'dege': 18, 'chuliya': 3, 'dhekta': 3, 'dhoom': 18, 'duga': 9, 'uttarayan': 9, 'frd': 3, 'ru': 6, 'icial': 3, 'dancing': 15, 'mamtasoni': 3, 'tabah': 6, 'arah': 3, 'lgata': 6, 'tq': 3, 'mjhe': 27, 'portrait': 6, 'sketch': 6, 'nerpagare': 3, 'sabah': 3, 'nata': 6, 'shart': 9, 'duriyan': 3, 'darmiyan': 3, 'parwah': 9, 'harpal': 3, 'basaya': 3, 'sunneka': 3, 'hakk': 6, 'satya': 9, 'ushdin': 3, 'tirashkar': 3, 'diyr': 3, 'ladayi': 6, 'wooman': 3, 'samza': 6, 'proposals': 3, 'invisible': 6, 'milibhagat': 3, 'hmari': 6, 'loyality': 3, 'ly': 15, 'langot': 3, 'langotiya': 3, 'punjabi': 18, 'nightphotography': 3, 'bhuj': 18, 'lift': 9, 'larki': 9, 'asimriaztheglobalicon': 3, 'asimriazforthewin': 9, 'asimriaz': 15, 'ones': 15, 'celebrating': 6, 'happybirthday': 3, 'girishjee': 3, 'keepsmiling': 3, 'keepwinning': 3, 'orissa': 6, 'gazab': 12, 'hoto': 6, 'aaenge': 6, 'jaayenge': 12, 'gaee': 3, 'kharcha': 15, 'pean': 3, 'dee': 6, 'phudhe': 3, 'kece': 3, 'beachy': 3, 'antonio': 9, 'putla': 6, 'nachta': 3, 'rook': 3, 'dikhai': 18, 'energy': 12, 'buddhhe': 3, 'nach': 3, 'uthe': 15, 'jawan': 12, 'nachte': 3, 'blue': 21, 'yoyohoneysingh': 12, 'properly': 6, 'weeks': 6, 'puchhooo': 3, 'served': 6, 'editors': 3, 'shehnaaz': 6, 'naahi': 9, 'naasamjhi': 3, 'bhola': 6, 'stretagy': 3, 'dcp': 6, 'northwest': 3, 'rana': 6, 'ayyub': 3, 'uthao': 12, 'kuto': 6, 'hekdi': 3, 'swift': 3, 'hurmale': 6, 'poems': 3, 'poet': 12, 'blv': 6, 'kp': 6, 'tz': 3, 'luvs': 3, 'kehate': 3, 'bakvash': 3, 'kyou': 12, 'batado': 15, 'smy': 3, 'kafhi': 3, 'ysh': 3, 'walaikum': 6, 'prii': 3, 'ishi': 3, 'jaroorat': 15, 'breaks': 9, 'kyuu': 3, 'anupamaa': 6, 'gamanbhai': 3, 'bhuvaji': 3, 'adrak': 18, 'indulge': 6, 'healthy': 27, 'scrumptious': 3, 'seasonal': 3, 'fruits': 9, 'laziness': 3, 'bay': 3, 'mouthwateringmonsoon': 3, 'nutrition': 6, 'binod': 12, 'saloon': 3, 'bomboclaat': 3, 'whtasup': 3, 'uspe': 6, 'karengai': 3, 'spider': 3, 'kareena': 21, 'sojaa': 3, 'boor': 3, 'mtkr': 3, 'thhak': 6, 'ungaliya': 3, 'duk': 3, 'shailly': 3, 'dkhte': 3, 'krenhe': 3, 'mujhy': 9, 'sallluuuuuuuuuuu': 3, 'mahatma': 6, 'swami': 21, 'vivekanand': 6, 'dikhtee': 3, 'bagh': 9, 'indicate': 3, 'sizuka': 3, 'nobita': 6, 'sultantraileronsony': 3, 'sultanerabeginstomorrow': 3, 'sachche': 6, 'chalisa': 6, 'qawali': 3, 'teewtr': 3, 'heritage': 3, 'property': 9, 'known': 24, 'divans': 3, 'bungalow': 6, 'goodluck': 3, 'sultanbhai': 9, 'ghayal': 6, 'maajra': 3, 'faujiyo': 3, 'kashmiri': 15, 'hatega': 3, 'khushahal': 3, 'atankbad': 3, 'vajha': 3, 'ghunj': 3, 'pubg': 15, 'ahmedabadconfusion': 15, 'sanitizer': 3, 'sanitizerbabygirl': 3, 'banners': 3, 'propagandas': 3, 'bhavay': 3, 'surendnagar': 3, 'desert_island': 3, 'rajbhagadhvi': 3, 'savaj': 3, 'ramdasgondaliya': 3, 'bhajan': 9, 'rajbha': 3, 'gujaratilokdayro': 6, 'surendrnger': 3, 'jaanwar': 6, 'h0w': 3, 'y0u': 3, 'freind': 9, 'vibe': 15, 'fhw': 3, 'mphw': 3, 'gp': 3, 'nuksaan': 3, 'starbucks': 9, 'cames': 3, 'taqalloof': 3, 'ikhlaas': 3, 'samjhte': 12, 'faraz': 6, 'tbh': 21, 'stayed': 3, 'twooo': 3, 'guyz': 12, 'im': 36, 'became': 6, 'strangers': 6, 'closest': 3, 'chudap': 3, 'shadiyan': 3, 'voting': 21, 'booth': 3, 'authentic': 3, 'rajasthani': 3, 'upgrade': 6, 'experience': 18, 'teaox': 9, 'vending': 3, 'machine': 6, 'instant': 6, 'premixes': 3, 'morningtea': 3, 'energizing': 3, 'healthydrink': 3, 'teaforrelax': 3, 'vocalforlocal': 3, 'vendingmachine': 3, 'premix': 3, 'hygine': 3, 'safetea': 3, 'yuun': 3, 'teraa': 3, 'khafaa': 3, 'jaanaa': 6, 'phuul': 3, 'khushbuu': 3, 'judaa': 6, 'nadeem': 3, 'dayslockdown': 6, 'stayathomesavelives': 3, 'stayhomeindia': 3, 'coronaviruslockdown': 6, 'logoo': 3, 'chahtai': 3, 'nukshan': 3, 'padhke': 3, 'prmatma': 3, 'smjana': 3, 'bablu': 6, 'sandwichconfusion': 3, 'uuuuuuuuuuuuuuuuuuuuuuuuuuuu': 3, 'fek': 21, 'daysforsultanteaser': 3, 'fedda': 3, 'jaiga': 6, 'strange': 12, 'realy': 21, 'veeran': 3, 'baitho': 6, 'mohabaat': 6, 'rozy': 3, 'rakhty': 3, 'yaan': 3, 'bechari': 6, 'baksh': 3, 'cahe': 3, 'definesance': 3, 'myself': 15, 'suprb': 3, 'gudluck': 3, 'govern': 3, 'largest': 6, 'democracy': 9, 'proved': 6, 'modiatwembley': 3, 'heartnt': 3, 'cmpairjo': 3, 'nichi': 3, 'gheenn': 3, 'rahat': 12, 'indori': 24, 'ba': 15, 'shekhar': 6, 'jaijaishivshankar': 3, 'qurantinelife': 6, 'whoever': 3, 'judgementconfusion': 3, 'deed': 6, 'thereof': 3, 'creditconfusion': 3, 'haveza': 3, 'gret': 9, 'bhaltugiri': 3, 'mallom': 3, 'tihar': 6, 'baatye': 3, 'madrso': 3, 'ayat': 3, 'virodhabhasi': 3, 'fallen_leaf': 33, 'herb': 30, 'tumhaara': 9, 'bardasht': 6, 'saabit': 9, 'kadam': 33, 'ungliyan': 3, 'patthar': 6, 'kharidaar': 6, 'catch': 24, 'kkrvpbks': 3, 'konpdnaa': 3, 'btaaoo': 3, 'multi': 3, 'tasking': 3, 'skills': 9, 'score': 6, 'multiply': 9, 'vrna': 6, 'abey': 18, 'attempt': 3, 'sundayfunday': 12, 'shubhamdoharebhopal': 3, 'created': 6, 'jodha': 9, 'akbar': 12, 'kisse': 21, 'aayege': 6, 'begum': 12, 'adhoori': 3, 'takhaza': 3, 'doori': 3, 'aaghazedosti': 3, 'helphamid': 3, 'humahra': 3, 'saanson': 6, 'panaah': 6, 'maiya': 9, 'thukwa': 3, 'paad': 3, 'lade': 3, 'vohi': 6, 'surgical': 12, 'agli': 9, 'sojao': 9, 'maukamauka': 6, 'tf': 3, 'spamming': 9, 'yt': 6, 'discharged': 3, '26': 3, 'bettry': 6, 'saksham': 6, 'subsiti': 3, 'sahamat': 3, 'juta': 3, 'arakshan': 9, 'taro': 12, 'sitaro': 6, 'lagaye': 15, 'hazaro': 18, 'zadardast': 3, 'guzry': 3, 'sch': 21, 'wrk': 12, 'schoolo': 6, 'vandana': 3, 'anivarya': 3, 'chaheye': 6, 'embarrassing': 6, 'kpdo': 6, 'niklo': 6, 'gracy': 3, 'chahata': 15, 'topi': 18, 'pehnata': 3, 'sounds': 3, 'zid': 3, 'dastan': 6, 'hass': 3, 'kahunga': 3, 'lagoge': 3, 'mariz': 6, 'dec': 12, 'partax': 3, 'igam': 3, 'leta': 45, 'sewa': 9, 'cunning': 3, 'clever': 6, 'leap': 3, 'unique': 6, 'charm': 3, 'yearsofkrpkab': 6, 'riyel': 3, 'salmankan': 3, 'msalman': 3, 'akhirat': 6, 'fika': 3, 'hoja': 9, 'hahaha': 15, 'importent': 3, 'sucsess': 3, 'bur': 3, 'mather': 3, 'placement': 3, 'ssrians': 3, 'mahadev': 15, 'trident_emblem': 6, 'ladkia': 3, 'khudka': 3, 'fanpage': 3, 'retweeet': 3, 'khafa': 6, 'duriya': 3, 'rahulravi': 3, 'shayariquotes': 9, 'sonare': 3, 'vichaar': 6, 'bashak': 3, 'khareedii': 3, 'patae': 3, 'banga': 3, 'pilz': 3, 'aengi': 3, 'masculine': 12, 'urge': 24, 'wished': 3, 'ballot': 3, 'videshi': 24, 'comapany': 3, 'ticktok': 6, 'chah': 27, 'vaste': 9, 'tumhri': 3, 'raamu': 3, 'kaka': 15, 'tukara': 3, 'intakaam': 3, 'shaadimainzarooraaana': 3, 'mates': 3, 'waiconfusion': 3, 'khulna': 6, 'hooo': 24, 'karain': 3, 'maharbani': 3, 'bhtt': 6, 'jhuti': 3, 'shi': 42, 'batta': 3, 'kub': 6, 'milege': 9, 'hasen': 3, 'bharosa': 21, 'orwaqt': 3, 'aitbar': 6, 'avocado': 3, 'overhyped': 3, 'tre': 6, 'ssale': 3, 'trealir': 3, 'tooo': 12, 'harbaar': 3, 'casualty': 3, 'intern': 9, 'zaroori': 66, 'mememarketing': 6, 'krk': 21, 'ghochu': 6, 'khans': 6, 'tikega': 3, 'lamba': 6, 'hutiyagiri': 3, 'jaanti': 3, 'zarurart': 3, 'importants': 3, 'deri': 9, 'nafrat': 54, 'madina': 15, 'aaene': 3, 'ghardan': 3, 'jokali': 3, 'dekhli': 3, 'degree': 15, 'nikalte': 3, 'jaayega': 12, 'bukha': 3, 'hook': 3, 'crook': 3, 'sudharna': 3, 'gunda': 18, 'gardi': 9, 'gol': 3, 'gappe': 3, 'atm': 15, 'investor': 3, 'banaskantha': 3, 'cosmic': 6, 'thali': 36, 'teaday': 21, 'kanganaranaut': 9, 'loveforlove': 3, 'lovequotes': 15, 'loveyourself': 6, 'jindabad': 15, 'gandmatakattothaiekario': 3, 'functions': 6, 'constantly': 3, 'adjusts': 3, 'light': 24, 'object': 3, 'ishare': 6, 'nigah': 3, 'nibba': 6, 'aulaad': 9, 'utto': 6, 'rehnda': 3, 'hasda': 3, 'andaro': 3, 'tah': 3, 'swaah': 3, 'thought_balloon': 3, 'afwah': 9, 'unhen': 9, 'sikhata': 3, 'completely': 3, 'obsessed': 3, 'jaygi': 6, 'barsat': 6, 'hoslaa': 3, 'chotee': 3, 'chkaar': 3, 'shaksh': 3, 'khota': 6, 'bj': 30, '4ab': 3, 'rajnath': 6, 'statment': 3, 'parliament': 18, 'bhahar': 3, 'nika': 6, 'bhadva': 3, 'mujko': 15, 'salmam': 9, 'krtee': 3, 'hmneeee': 3, 'hike': 3, 'tickets': 18, 'saale': 48, 'jinhone': 12, 'aasmaan': 9, 'drones': 3, 'camps': 3, 'bomb': 12, 'maarkar': 3, 'udhaate': 3, 'samsung': 6, 'likhun': 3, 'alfaz': 9, 'anek': 3, 'khushya': 3, 'khabhi': 6, 'shivam': 3, 'avinash': 3, 'kiseko': 3, 'hamesa': 21, 'zubin': 3, 'garg': 3, 'paakiza': 3, 'amazngggggg': 3, 'uuuuh': 3, 'parsarit': 3, 'uuugghhhhh': 3, 'apparently': 6, 'fell': 18, 'asleep': 3, 'salllu': 9, 'pathani': 3, 'kurte': 6, 'jabardast': 12, 'ummmmaaahhhh': 3, 'professor': 6, 'explaining': 9, 'hematology': 3, 'practicals': 3, 'rtheir': 3, 'homework': 9, 'rgaye': 3, 'rbhooltay': 3, 'babies': 3, 'shrey': 6, 'awwww': 3, 'ekbhramsarvagunsampanna': 3, 'snd': 9, 'hov': 3, 'pohnch': 3, 'constant': 6, 'bae': 6, 'nicedp': 3, 'noh': 3, 'karwa': 30, 'dna': 15, 'dekhakar': 3, 'bhagvan': 21, 'savsth': 3, 'nadu': 6, 'contempt': 12, 'surya': 9, 'shkte': 9, 'kisise': 6, 'naraz': 12, 'kisiki': 24, 'zururi': 3, 'xavier': 3, 'chaddi': 12, 'narangi': 3, 'khatmal': 3, 'tweetfromarose': 3, 'saxena': 3, 'krdia': 3, 'loding': 3, 'houn': 6, 'larky': 3, 'fst': 6, 'dy': 18, 'bhaiiiiiii': 3, 'foolo': 3, 'imtihan': 3, 'creep': 3, 'aree': 6, 'kadar': 18, 'until': 12, 'ibb': 3, 'journalists': 3, 'stilepe': 3, 'ledki': 3, 'tumpe': 9, 'banalo': 6, 'mhm': 3, 'sg': 9, 'jazbaa': 3, 'faking': 3, 'eske': 3, 'pyarki': 3, 'chingari': 3, 'troller': 6, 'mtm': 3, 'jalaram': 3, 'satha': 15, 'raised_fist': 18, 'bhimrao': 3, 'ambedkar': 3, 'bhim': 6, 'bhimsquad': 3, 'bot': 9, 'jhatke': 6, 'beats': 6, 'ahemdabad': 12, 'khaa': 9, 'mitron': 3, 'chaiislove': 3, 'agay': 3, 'yahooooooooooooooooooooooooooooooooooooooooooooooooooooooooooooo': 3, 'smiling_face_with_horns': 105, 'jyge': 3, 'aanewala': 3, 'karrhi': 3, 'tumhra': 3, 'peeke': 3, 'sundaythoughts': 6, 'ghur': 3, 'tabhleegijamaat': 3, 'felaya': 6, 'lyf': 6, 'ezy': 3, 'cz': 9, 'alwys': 6, 'stupid': 12, 'reminiscing': 3, 'sharad': 9, 'sachin': 6, 'retire': 6, 'banthequestion': 3, 'playlist': 3, 'bhailog': 12, 'issey': 6, 'autotune': 6, 'shameonyou': 3, 'bahr': 9, 'ugh': 6, 'scolding': 3, 'godfather': 3, 'bachchu': 3, 'nk': 3, 'vajahse': 3, 'baarishleteaana': 15, 'ukhada': 6, 'faraq': 3, 'bheege': 3, 'gobar': 15, 'tapak': 6, 'rehata': 3, 'apr': 9, 'insaaniyat': 3, 'endearing': 3, 'pg': 9, 'muhhhh': 3, 'standard': 9, '15': 12, 'kahmosh': 3, 'aadatan': 3, 'dhadakta': 3, 'pogo': 3, 'dekte': 9, 'dalalgandhiparivar': 3, 'naak': 9, 'kata': 15, 'livtot': 3, 'cskvrr': 6, 'dekhonga': 3, 'khaulega': 9, 'mukesh': 6, 'ambaniconfusion': 3, 'chodte': 3, 'beaten': 3, 'molesting': 3, 'rohtak': 3, 'coverage': 6, 'drive': 15, 'swaraj': 12, 'badhkar': 15, 'banado': 9, 'confusiondost': 3, 'digvijaydinamd': 3, 'kehla': 3, 'tajhotelbhopal': 3, 'kordun': 3, 'duya': 6, 'sulltan': 3, 'jaaigi': 3, 'aehsan': 3, 'framosh': 3, 'vje': 3, 'gau': 12, 'marvane': 3, 'tyohar': 18, 'uma': 9, 'vivi': 3, 'mrg': 15, 'jndsd': 6, 'vithtav': 3, 'ishtemal': 3, 'desperation': 3, 'uddhavji': 3, 'kursi': 18, 'karayega': 6, 'adityathackeray': 6, 'uddhavthackeray': 3, 'paav': 3, 'khada': 21, 'nahane': 3, 'pahane': 3, 'bosdiwali': 3, 'mardo': 9, 'krliye': 3, 'hadh': 9, 'ajnabee': 6, 'anjan': 9, 'gumnaam': 3, 'savraj': 3, 'duryodhan': 6, 'scindiabrigad': 3, 'sambidhandhorahi': 3, 'khrid': 9, 'kry': 3, 'nadim_shaikh': 3, 'deewane': 12, 'begane': 3, 'pukar': 6, 'piyaar': 3, 'zamane': 15, 'delhiconfusion': 3, 'pain': 24, 'accreditation': 3, 'rcgp': 3, 'above': 9, 'mcdonald': 6, 'near': 9, 'bhawar': 3, 'painrelief': 3, 'rehabilitation': 3, 'physiatryvipul': 3, 'apollo': 3, 'anteraatma': 3, 'honable': 3, 'muja': 3, 'tanduri': 3, 'khudaya': 3, 'issi': 3, 'safar': 45, 'karbala': 6, 'bonding': 3, 'yaariyan': 3, 'doost': 3, 'loosers': 3, 'waited': 6, 'rangeela': 12, 'chaudharybrothers': 3, 'recharge': 9, 'abcd': 9, 'acdefghiklmnpqrstuvwxyz': 3, 'thagaye': 3, 'hoghaey': 3, 'dekkar': 3, 'lagva': 3, 'jaatey': 3, 'latey': 3, 'maat': 6, 'becous': 3, 'baa': 3, 'gunaa': 6, 'shirk': 9, 'kahn': 9, 'kuran': 3, 'farman': 3, 'haain': 3, 'santi': 9, 'bhaichara': 12, 'priy': 3, 'played': 24, 'aagya': 33, 'hast': 3, 'methun': 3, 'karvaye': 3, 'dabeliconfusion': 6, 'fesla': 3, 'repist': 3, 'alien': 3, 'joshiji': 3, 'sehen': 3, 'iima': 3, 'iimahmedabad': 3, 'texting': 3, 'taame': 3, 'loko': 9, 'atane': 3, 'aavu': 3, 'tamne': 6, 'bts': 15, 'poemtrail': 3, '28th': 3, 'kaardo': 3, 'steal': 3, 'hoodie': 6, 'vaggde': 3, 'hanjuyan': 3, 'sunvaayi': 3, 'hundi': 6, 'kashti': 18, 'lehro': 9, 'wewillbringitback': 3, 'kiski': 9, 'badtameez': 9, 'potato': 6, 'hamka': 3, 'maaf': 30, 'exciting': 6, 'queensland': 3, 'western': 12, 'australia': 21, 'sheffield': 3, 'shield': 3, 'league': 12, 'kamane': 12, 'mauka': 12, 'royal': 3, 'fantasycricket': 3, 'domesticcricket': 3, 'laughs': 9, 'asak': 3, 'bhaiyon': 6, 'kerte': 21, 'insult': 9, 'jhashi': 3, 'uthi': 3, 'chintu': 3, 'english': 45, 'whatsoever': 6, 'shaahi': 3, 'rolls': 3, 'royce': 3, 'kan': 6, 'tt': 3, 'immunity': 3, 'badhane': 6, 'healthunbox': 3, 'krege': 9, 'jajbe': 3, 'koti': 12, 'fasal': 6, 'talway': 3, 'lehjey': 3, 'huzuri': 3, 'iskey': 3, 'maniye': 3, 'ameer': 6, 'fightcovid': 3, 'facing': 12, 'fees': 18, 'contains': 3, 'gujaratnews': 3, 'shameongtu': 3, 'wewantalyback': 3, 'taarif': 9, 'karun': 9, 'ullu': 24, 'september': 15, 'burst': 6, 'karvata': 3, 'jakar': 15, 'majduri': 6, 'divrun': 3, 'zyda': 3, 'adherent': 3, 'urs': 6, 'ts': 3, 'beautyful': 3, 'vedio': 6, 'tcs': 3, 'tcsitwiz': 3, 'havas': 6, 'santo': 6, 'kudu': 3, 'duba': 12, 'nisana': 3, 'vyaar': 3, 'foreveralone': 6, 'mehaman': 3, 'hahahahahah': 3, 'football': 15, 'khelta': 12, 'ronaldo': 3, 'srkar': 21, 'girany': 6, 'mryga': 3, 'phly': 6, 'dath': 3, 'teacup_without_handle': 18, 'invent': 3, 'toaster': 12, 'toasted': 3, 'toasting': 3, 'rjmeeit': 3, 'radiojockey': 3, 'host': 15, 'anchor': 6, 'moc': 3, 'municipal': 6, 'corporation': 12, 'revenue': 3, 'muncipal': 3, 'duayein': 3, 'jinda': 12, 'rahkar': 6, 'zaib': 3, 'daylog': 3, 'sit': 15, 'liae': 9, 'rahaho': 3, 'design': 24, 'nid': 3, 'confusionconfusion': 3, 'seekha': 9, 'bois': 3, 'confess': 6, 'kish': 6, 'dalito': 12, 'angrejo': 3, 'manaye': 9, 'bhatke': 6, 'bhimakoregaonviolence': 3, 'theherja': 9, 'jabardasti': 3, 'bhj': 9, 'disappoint': 6, 'ghamand': 15, 'rakhenge': 9, 'harne': 3, 'contconfusion': 12, 'sabr': 6, 'biriyani': 6, 'vegetarian': 9, 'alaikom': 3, 'suuuuuupppppppeeeeeeerrrrrrrrrr': 3, 'bhajiya': 15, 'vishalbhai': 3, 'foodie': 30, 'avitak': 3, 'mahila': 18, 'dogalapan': 3, 'sachi': 24, 'jumma': 27, 'wpm': 3, 'approx': 6, 'chandan': 3, 'bhaktjano': 3, 'sallumeya': 3, 'bandhan': 36, 'withsalmankhan': 3, 'cuts': 3, 'ansu': 6, 'manmani': 3, 'toofano': 6, 'aashiyane': 3, 'udd': 9, 'kachche': 3, 'baniyan': 3, 'sukhate': 3, 'praying': 3, 'lookstough': 3, 'courtesy': 3, 'huos': 3, 'razi': 9, 'anho': 6, 'marwi': 6, 'rasool': 6, 'alaihi': 6, 'wasallam': 6, 'hajj': 6, 'alvidah': 3, 'mauqa': 3, 'farmaya': 12, 'khabardaar': 3, 'zulm': 18, 'boleh': 3, 'bilangin': 3, 'lucu': 3, 'hahahahhaha': 3, 'samarthan': 3, 'balatkar': 3, 'notanki': 6, 'presh': 3, 'ajent': 3, 'dys': 15, 'vidhak': 3, 'biky': 3, 'maharani': 9, 'laxmi': 6, 'tatya': 3, 'tope': 3, 'chandra': 6, 'bos': 3, 'ajad': 3, 'bhagat': 9, 'corrupt': 12, 'rahenge': 57, 'cbistartarrestinssrcase': 3, 'fit': 18, 'yrend': 3, 'batyenga': 3, 'modikimkb': 3, 'tattoo': 6, 'wooo': 3, 'extremely': 9, 'hitting': 3, 'overs': 12, 'runs': 27, 'rcbvsmi': 3, 'dedicate': 12, 'crpf': 15, 'martyred': 12, 'pulwamaattacks': 6, 'madhar': 12, 'chud': 9, 'rod': 6, 'lakar': 3, 'duge': 3, 'zanat': 3, 'miljayegi': 3, 'chid': 3, '600': 3, 'kabutar': 6, 'valimai': 3, 'milliontagtarget': 3, 'kamleshtiwarilynched': 3, 'galaxynote': 3, 'bigilborampagein': 3, 'kamlesh': 3, 'saturdaymorning': 6, 'trump': 9, 'landslidevictory': 3, 'vipaksh': 15, 'dusara': 12, 'games': 3, 'arjun': 21, 'krishna': 18, 'geeta': 9, 'importance': 12, 'kriye': 6, 'nitiya': 3, 'bnane': 3, 'hl': 6, 'chng': 6, 'godisgreat': 3, 'prayer_beads': 3, 'nocomments': 3, 'whatsyourchoice': 3, 'thoughtoftheday': 6, 'sawan': 3, 'karib': 15, 'namalom': 3, 'mulzman': 3, 'rajo': 3, 'khanani': 3, 'wasi': 3, 'manzoor': 6, 'samo': 3, 'farar': 3, 'rkhe': 15, 'hdfc': 6, 'moje': 3, 'boldo': 15, 'babar': 9, 'balke': 3, 'inning': 9, 'leading': 9, 'waow': 3, 'writing': 6, 'viting': 3, 'kamate': 3, 'ulaj': 3, 'mins': 12, 'hoist': 3, 'isis': 3, 'flag': 3, 'chants': 3, 'bharatmatakijai': 3, 'pirty': 3, 'varsad': 15, 'dalvada': 3, 'yog': 15, 'bleed': 3, 'straight': 15, '02': 6, 'medamji': 3, 'sister': 30, 'yogendra': 15, 'aide': 3, 'paglon': 6, 'jamat': 6, 'bachaye': 9, 'dilli': 21, 'vasion': 3, 'aoki': 3, 'kamaaal': 6, 'bnta': 3, 'dhundoo': 6, 'sitam': 15, 'brand': 15, 'fauiji': 3, 'vardi': 3, 'olive': 3, 'soldier': 6, 'restored': 3, 'accounts': 6, 'abdul': 21, 'bhuttavi': 3, 'ashraf': 3, 'yahya': 3, 'mujahid': 3, 'zafar': 3, 'iqbal': 6, 'saeed': 3, 'chief': 18, 'outlawed': 3, 'imandariki': 3, 'kamai': 18, 'four_leaf_clover': 9, 'dusaroki': 3, 'bhalai': 3, 'bachcho': 6, 'nearing': 3, 'karade': 6, 'dher': 6, '17ko': 3, 'screen': 36, 'tar': 12, '200corore': 3, 'messi': 3, 'balondor': 3, 'tay': 9, 'challani': 3, 'idia': 6, 'surili': 33, 'dube': 6, 'incounter': 3, 'samane': 12, 'padk': 3, 'aryan': 9, 'cake': 27, 'bachcha': 9, 'mohalla': 3, 'clinics': 3, 'fitnessmotivation': 3, 'bodybuilding': 3, 'training': 15, 'fitfam': 3, 'lifestyle': 6, 'sport': 3, 'distribute': 6, 'oo': 21, 'choddo': 3, 'sajhdhaj': 3, 'zaleel': 3, 'tiya': 6, 'mada': 3, 'kiyo': 6, 'kadiyani': 3, 'philm': 3, 'jaror': 6, 'dekunga': 3, 'kvspmhoshangabad': 6, 'kendriyavidyalaya': 3, 'kvspm': 3, 'kvspmnarmadapuram': 3, 'kvs': 3, 'mazza': 6, 'phn': 18, 'earned': 6, 'inspirationasim': 3, 'onvoot': 15, 'green': 18, 'mojito': 3, 'malayi': 3, 'mangayi': 3, 'back_arrow': 12, 'noticeable': 3, 'fikarable': 3, 'kehalta': 3, 'hraday': 3, 'samratko': 3, 'itana': 9, 'zookaneki': 3, 'fer': 6, 'jhoot': 18, 'harna': 6, 'remembering': 6, 'ausvpak': 9, 'pakvsaus': 15, 'byebyepakistan': 3, 'tassalli': 3, 'paayega': 6, 'feki': 6, 'jaanma': 3, 'twits': 3, 'prathana': 3, 'bakshi': 3, 'wing': 15, 'decorated': 6, 'equallence': 3, 'honor': 3, 'liberal': 3, 'kajal': 3, 'matej': 3, 'sparkler': 9, 'crossed_flags': 3, 'gandhy': 3, 'pehchan': 15, 'whovever': 3, 'wins': 6, 'drowning': 3, 'awara': 6, 'deewano': 12, 'imr': 3, 'hugshot': 3, 'huve': 21, 'mahidarpura': 3, 'hadme': 3, 'biyar': 3, 'kudarat': 3, 'goodisgreat': 3, 'pyarr': 6, 'darar': 3, 'john': 9, 'abraham': 6, 'weight': 18, 'etongue': 9, 'raspberryerience': 3, 'raspberryerienced': 3, 'favoriting': 3, 'sue': 3, 'unsend': 6, 'screenshots': 3, 'gaandu': 3, 'geya': 3, 'anyway': 3, 'hmto': 3, 'chdnge': 3, 'describe': 6, 'bolaye': 3, 'aiye': 6, 'manuvaad': 3, 'aazadi': 3, 'nrcprotests': 3, 'tuti': 12, 'tej': 12, 'dhara': 12, 'kinara': 12, 'nadi': 9, 'jagi': 3, 'andhero': 9, 'saral': 3, 'images': 6, 'badia': 3, 'allu': 6, 'chahre': 6, 'dilate': 3, 'pilate': 3, 'happyfathersday': 9, 'cheat': 6, 'tuhi': 6, 'dhamal': 6, 'tabadle': 3, 'pyaaz': 3, 'mix': 15, 'kichdi': 3, 'beermuscledbiker': 3, 'foodstagram': 9, 'feastagram': 3, 'foodbeast': 3, 'communal': 15, 'violence': 12, 'joinaapmp': 3, 'bhandari': 3, 'tajlakepalace': 3, 'udaipurvlogz': 6, 'indiapictures': 3, 'soi': 3, 'incredibleindia': 15, 'beautifulindia': 3, 'beautifulplaces': 3, 'jindegi': 3, 'spicy': 6, 'veggie': 3, 'foodpics': 6, 'foodporn': 12, 'likeforlike': 6, 'taazgi': 3, 'mannkibaat': 3, 'chaibuddy': 3, 'kashmiritea': 3, 'darjilingtea': 3, 'chaihigh': 3, 'teabuddy': 3, 'biscuits': 6, 'teabreak': 3, 'chaay': 6, 'shukriya': 12, 'fns': 3, 'afwa': 3, 'niklecurrant': 15, 'jassiegill': 18, 'addictive': 3, 'wapsi': 6, 'manayi': 3, 'solving': 6, 'kedengeran': 3, 'suara': 3, 'adzan': 3, 'magrib': 3, 'ayoo': 6, 'sholat': 3, 'duluu': 3, 'ajy': 3, 'copyrights': 3, 'dalna': 15, 'mangalugi': 3, 'bombay': 15, 'vikings': 3, 'falguni': 3, 'pathak': 3, 'lostmusic': 3, 'hayat': 6, 'residency': 6, 'kena': 3, 'sunaaun': 3, 'dilruba': 3, 'saamane': 3, 'nigaah': 3, 'hokar': 21, 'neech': 3, 'daro': 12, 'yaho': 6, 'bewafa': 9, 'yarooo': 3, 'jammu': 6, 'kaaran': 3, 'milaa': 3, 'sansad': 6, 'kartaa': 3, 'maanajayegaa': 3, 'udar': 3, 'faoj': 3, 'goliyo': 3, 'navaj': 3, 'teray': 9, 'hasil': 12, 'bikhharna': 3, 'khuwahishain': 3, 'ekarat': 3, 'meray': 6, 'khawab': 6, 'reza': 6, 'modijii': 3, 'ustad': 3, 'raag': 3, 'hameer': 3, 'mainde': 3, 'aavin': 3, 'rare': 6, 'idol': 9, '36': 3, '4bje': 6, 'surf': 6, 'bagvan': 3, 'juadaa': 3, 'raheem': 3, 'aayga': 6, 'bhat': 3, 'maners': 3, 'samjhan': 3, 'khde': 3, 'bajana': 9, 'thatta': 15, 'purani': 21, 'cemp': 3, 'tasli': 3, 'bukash': 3, 'faqt': 3, 'thata': 6, 'ibrahim': 6, 'dungachalo': 3, 'draw': 6, 'pant': 9, 'pyrelal': 3, 'jiyo': 15, 'crushing': 3, 'netflix': 12, 'neeta': 6, 'amaaliansfest': 6, 'lovee': 6, 'tumharee': 3, 'liyeee': 3, 'bvi': 3, 'dengeee': 3, 'myamdavadshot': 15, 'teampixel': 3, 'baare': 39, 'sood': 9, 'climax': 9, 'udtapunjab': 3, 'oldest': 3, 'inkwell': 3, 'mediterra': 3, 'sayaji': 3, 'loveeeeeee': 3, 'uuuuuuu': 6, 'ina': 3, 'tolabaazoon': 3, 'bajani': 3, 'padti': 21, 'nehru': 12, 'khandaan': 3, 'loterey': 3, 'rahein': 12, 'muskuradoo': 3, 'dates': 6, 'feb': 18, 'modh': 3, 'sera': 3, 'bodygurd': 6, 'rhunga': 3, 'banger': 3, 'bataayein': 3, 'raai': 3, 'fhir': 24, 'chalegi': 42, 'maji': 3, 'pastconfusion': 3, 'jamane': 9, 'sperms': 3, 'safed': 3, 'kimti': 6, 'pahchan': 6, 'nhii': 6, 'mna': 6, 'dtee': 3, 'bttry': 3, 'gyee': 6, 'ismail': 6, 'jaegii': 3, 'cror': 12, 'dialogue': 39, 'brings': 12, 'dreaming': 6, 'larger': 6, 'truly': 12, 'definitely': 12, 'yearsofomshantiom': 3, 'toddler': 3, 'maulana': 12, 'jack': 3, 'sakunga': 6, 'prof': 9, 'beijaty': 3, 'hovy': 3, 'rhongy': 3, 'haalat': 12, 'banaa': 6, 'lee': 3, 'bhukh': 9, 'bhrat': 3, 'samy': 3, 'bhagya': 6, 'rftar': 3, 'bdane': 3, 'chodege': 3, 'likhai': 12, 'ias': 12, 'wias': 3, 'bano': 12, 'rulling': 3, 'mizaaj': 3, 'aieb': 3, 'samjhey': 3, 'bakavas': 3, 'araha': 9, 'filim': 9, 'bjrngi': 6, 'balcony': 6, 'exercise': 3, 'jumped': 3, 'neighbor': 3, 'watsapp': 3, 'chennai': 15, 'express': 15, 'kehappy': 3, 'goa': 24, 'thyaan': 3, 'saki': 6, 'kehsake': 3, 'resident': 3, 'sends': 3, 'wearing': 6, 'appron': 3, 'holding': 12, 'packets': 3, 'remembers': 3, 'riwalji': 3, 'smbhalk': 3, 'superman': 9, 'lovelovelove': 3, 'frever': 3, 'beingsalman': 3, 'repeater': 6, 'kelaf': 3, 'invited': 6, 'wave': 9, 'hitarth': 3, 'sheth': 3, 'aslee': 6, 'avtaar': 6, 'ahmed': 9, 'ary': 6, 'padosio': 3, 'dhlayai': 3, 'pehley': 3, 'teampakistan': 3, 'aajkal': 30, 'pidhi': 3, 'five': 15, 'waaaaaah': 3, 'buff': 3, 'urmilamatondkar': 3, 'shakuntala': 3, 'sunti': 3, 'yudkbh': 9, 'realise': 12, 'lyrics': 18, 'slap': 6, 'chammiya': 3, 'kushal': 3, 'currency': 6, 'auspicious': 3, 'bhaidooj': 3, 'continued': 3, 'tidbits': 3, 'bhaidoojspecial': 3, 'rakhi': 15, 'bhaibehen': 3, 'rakshabandhan': 12, 'brothersisterlove': 3, 'bhaidoojgifts': 3, 'farewell': 6, 'mushalmano': 3, 'kahonge': 3, 'manungi': 3, 'dhawan': 3, 'second': 33, 'flor': 3, 'fenk': 6, 'cat_with_tears_of_joy': 36, 'rakesh': 3, 'tikeet': 3, 'kakaji': 3, 'banana': 33, 'jua': 3, 'emerjancy': 3, 'babbu': 9, 'accche': 3, 'ccccc': 3, 'purana': 15, 'invitation': 6, 'petrol': 30, 'extreme': 6, 'raise': 9, 'parties': 9, 'become': 24, 'diluting': 3, 'weightage': 3, 'lado': 9, 'etna': 15, 'krana': 3, 'thk': 6, 'ishwar': 6, 'urrf': 3, 'deepawali': 3, 'deshwasiyo': 3, 'bataiye': 12, 'pareshaani': 3, 'disturb': 9, 'telegram': 12, 'confidence': 6, 'personality': 9, 'attract': 3, 'confession': 6, 'shayarana': 12, 'teapost': 6, 'sabne': 6, 'mehrama': 3, 'bhua': 6, 'clubconfusion': 3, 'unhi': 18, 'bu': 3, 'mayyae': 3, 'samn': 3, 'chaman': 6, 'gulshan': 3, 'mhak': 3, 'unhiki': 3, 'rangat': 3, 'gulab': 9, 'panah': 3, 'manega': 6, 'kiyamt': 3, 'gustakh': 3, 'toba': 6, 'kiyamat': 3, 'nikalen': 3, 'apointment': 6, 'taak': 3, 'skirt': 3, 'amirsiddiqui': 3, 'bantiktokinindia': 12, 'carriminati': 3, 'yarana': 6, 'inkaar': 3, 'ktmm': 3, 'lovewalifeeling': 3, 'handy': 9, 'chhattisgarh': 9, 'introduced': 3, 'tuhar': 3, 'dwar': 3, 'waivefeepromotestudents': 3, 'kok': 6, 'vakhat': 9, 'saaro': 3, 'pn': 12, 'hoi': 9, 'khraab': 3, 'baddha': 6, 'maate': 6, 'khushiyo': 6, 'laine': 3, 'aave': 18, 'amuk': 6, 'etlo': 3, 'badho': 9, 'akrai': 3, 'lawara': 3, 'seher': 3, 'taklu': 3, 'shashtri': 3, 'naisha': 3, 'likhenge': 3, 'awksome': 3, 'turbanboy': 3, 'nirra': 3, 'iftar': 12, 'bhatia': 3, 'tulsi': 9, 'khareed': 3, 'makaan': 3, 'plot': 6, 'ghargharbabychakra': 3, 'kapda': 18, 'aal': 9, 'padva': 3, 'haaru': 3, 'lkin': 6, 'sunke': 15, 'chakkar': 21, 'bdi': 15, 'reaallyy': 3, 'natur': 3, 'dukho': 6, 'sota': 9, 'jari': 12, 'rakhun': 3, 'yaband': 3, 'dawai': 9, 'distribution': 6, 'maiyat': 6, 'managers': 6, 'jude': 6, 'chulha': 6, 'raga': 12, 'mansarovar': 3, 'sicular': 3, 'pu': 6, 'fatti': 6, 'tabligijamaat': 3, 'visa': 12, 'toneconfusion': 3, 'blocked': 9, 'vineet': 3, 'kulkarni': 3, 'indvsa': 6, 'sunsan': 3, 'pawry': 3, 'horiyee': 3, 'uturn': 3, 'progress': 9, 'beer': 15, 'ajnu': 3, 'muhn': 6, 'zeep': 3, 'hindustani': 9, 'aavaj': 3, 'samjlo': 3, 'premi': 3, 'catlover': 3, 'lovedones': 3, 'smell': 9, 'trish': 9, 'haiiiiiii': 6, 'ittana': 6, 'routine': 6, 'ck': 3, 'wnts': 3, 'burnole': 3, 'kanganaranuat': 6, 'sandeep': 3, 'bill': 54, 'gates': 3, 'function': 12, 'sasu': 6, 'bharai': 3, 'rajneeti': 3, 'bhavishay': 6, 'limboj': 6, 'rating': 9, 'download': 27, 'maibhibhakt': 3, 'tiktokexposed': 15, 'tiktokbanindia': 9, 'googleplay': 3, 'naked': 6, 'saamne': 21, 'clubs': 3, 'bars': 6, 'saathe': 3, 'kyan': 3, 'utari': 3, 'nopropogandaholi': 6, 'milao': 3, 'nigahe': 3, 'unche': 3, 'uncho': 3, 'saro': 3, 'qadam': 3, 'fridaymorning': 12, 'moula': 6, 'gaddarkamalnath': 3, 'tamij': 6, 'srinivas': 3, 'aantakwad': 3, 'likhu': 6, 'krpkab': 6, 'susasan': 3, 'bechana': 3, 'deshbhagat': 3, 'patrkar': 3, 'chalaye': 3, 'mppsc': 15, 'vacancy': 6, 'hamre': 24, 'bagwan': 6, 'nakare': 3, 'karibi': 6, 'mot': 3, 'karonge': 12, 'remindes': 3, 'crack': 9, 'tame': 18, 'ketli': 6, 'thae': 9, 'aava': 3, 'kae': 6, 'puchata': 3, 'hoy': 9, 'amish': 6, 'rubika': 3, 'anjnaom': 3, 'fatati': 6, 'tragic': 6, 'cry': 6, 'phantom': 6, 'bewakuf': 9, 'tarh': 6, 'karao2': 3, 'chye': 3, 'usey': 9, 'aysi': 3, 'raye': 3, 'gandhiji': 6, 'gandhigiri': 3, 'gundagiri': 3, 'sarka': 3, 'cancelbinsachivalayaexam': 3, 'savegujratstudents': 6, 'jayhind': 3, 'riparticle': 3, 'ripbjp': 3, 'utiye': 3, 'taali': 6, 'peet': 3, 'poetrylover': 3, 'dilkibatvinayakkesath': 3, 'thahre': 3, 'nibhaoge': 3, 'lounge': 3, 'ala': 12, 'carte': 3, 'kitchen': 12, 'banva': 3, 'kaaafi': 3, 'dope': 3, 'chutia': 3, 'steven': 3, 'dekoga': 3, 'jabtak': 15, 'batnahi': 3, 'pith': 3, 'siddhartshukla': 3, 'staystrongsidharth': 3, 'namashkarsorry': 3, 'aaapka': 3, 'whatsaap': 3, '03101419966': 3, 'palz': 3, 'birth': 6, 'chronicles': 3, 'berth': 3, 'tvf': 3, 'keya': 15, 'thumare': 3, 'jtata': 3, 'fulfilled': 6, 'advanc': 3, '450cr': 3, 'grate': 3, 'hiiii': 21, 'bati': 3, 'saras': 6, 'bencher': 6, 'aeh': 3, 'jumme': 9, 'chatting': 9, 'pages': 6, 'longlivepalestine': 3, 'minuts': 6, 'lucknowconfusion': 3, 'eiffel': 3, 'tower': 6, 'terrace': 6, 'simplylucknow': 3, 'awadh': 3, 'bother': 3, 'livemusic': 3, 'source': 12, 'tabahi': 3, 'khadi': 18, 'regret': 3, 'lakhs': 9, 'dilse': 6, 'labz': 3, 'najrose': 3, 'failure': 3, 'developing': 3, 'genuine': 6, 'taxpayers': 6, 'speeches': 3, 'answered': 3, 'yammy': 3, 'sadhi': 3, 'aaygi': 3, 'cold': 21, 'wars': 6, 'shameless': 3, 'creature': 6, 'baddi': 6, 'krate': 3, 'nafartt': 3, 'raajneeti': 6, 'krtae': 3, 'bekaar': 6, 'bnayaa': 3, 'tumlogo': 3, 'esaa': 6, 'chukaa': 3, 'sony': 9, 'saan': 15, 'virval': 3, 'mode': 18, 'khuwab': 6, 'itnay': 3, 'bary': 3, 'hmsy': 3, 'barkrar': 3, 'rkhna': 9, 'ishaisme': 3, 'rakhle': 6, 'asuntosh': 3, 'censor': 3, 'waalo': 12, 'censorship': 3, 'dedicates': 6, 'crpfjawans': 9, 'pulwamaattack': 9, 'mny': 3, 'thr': 12, 'ukhar': 3, 'taufe': 3, 'kc': 3, 'prefer': 3, 'kider': 12, 'karake': 6, 'apani': 3, 'asi': 6, 'tesi': 6, 'karwayegi': 3, 'milney': 3, 'slaman': 3, 'onlin': 6, 'badhan': 3, 'wewantkaranarjun': 3, 'intajar': 6, 'inox': 6, 'multiplex': 3, 'astane': 3, 'nikay': 3, 'walekum': 12, 'hrt': 6, 'bachae': 3, 'najar': 24, 'barat': 3, 'zayada': 6, 'hiiiiiiiiiiii': 3, 'massage': 30, 'plzzzzzz': 15, 'machaye': 3, 'mahan': 33, 'gaddaron': 3, 'karayein': 3, 'asaan': 12, 'mazedar': 3, 'desires': 3, 'chord': 9, 'fielding': 9, 'batting': 18, 'maarne': 3, 'phasa': 3, 'likhta': 9, 'sacchai': 6, 'chhipai': 3, 'rishto': 3, 'buniyad': 3, 'biggggest': 3, 'bataege': 3, 'skool': 3, 'sikhi': 6, 'plsss': 6, 'tweete': 3, 'nhin': 3, 'afwahe': 3, 'modiexposesmodi': 3, 'whit': 3, 'sawaad': 6, 'govermentbus': 3, 'traveler': 3, 'adaa': 15, 'hoker': 3, 'iman': 12, 'gaddari': 3, 'karnewala': 9, 'kuffar': 3, 'koyee': 3, 'pahale': 6, 'unku': 3, 'dawath': 3, 'darinda': 3, 'commet': 3, 'indorekagaurav': 6, 'rjgaurrav': 3, 'kargilvijaydiwas': 3, 'thursdaythoughts': 3, 'kun': 15, 'rote': 6, 'aurapne': 3, 'nibhyai': 3, 'axe': 3, 'wesupportsidharthshukla': 3, 'madarch': 3, 'aatanki': 12, 'panday': 6, 'mis': 6, 'aatankiyo': 6, 'aatank': 9, 'choda': 3, 'sanskriti': 6, 'bimari': 15, 'kayeh': 3, 'khawabo': 3, 'valid': 12, 'que': 12, 'veerji': 9, 'fekubaba': 3, 'viky': 3, 'donor': 3, 'ccd': 6, 'sasthi': 3, 'mhengi': 3, 'allready': 3, '06': 6, 'laatey': 6, 'kunal': 9, 'nandini': 3, 'piece': 6, 'contract': 3, 'silsilabadalterishtonka': 3, 'minority': 15, 'committee': 18, 'wakf': 3, 'humme': 3, 'fixed': 9, 'kbye': 3, 'thriller': 3, 'meee': 6, 'modimustresign': 3, 'jitega': 3, 'lakho': 21, 'rupees': 6, 'gotale': 3, 'hub': 6, 'khasa': 3, 'jyogi': 3, 'shamil': 12, 'bhrk': 9, 'sajni': 6, 'devta': 3, 'shayaan': 3, 'mayaan': 3, 'rajniloded': 3, 'waadey': 3, 'terey': 3, 'huun': 3, 'chaley': 6, 'aanaa': 3, 'sees': 3, 'dharma': 9, 'productions': 3, 'karanjohar': 6, 'muchh': 3, 'bhaii': 36, 'nikhil': 12, 'vlog': 12, 'baseless': 3, 'theories': 3, 'urjent': 3, 'krle': 6, 'insaallah': 3, 'yuvi': 15, 'marine': 3, 'jitwaye': 3, 'lanka': 9, 'jitwa': 3, 'swagatam': 3, 'jr': 3, 'palte': 3, 'hidustan': 3, 'nari': 12, 'shaki': 3, 'tohafa': 3, 'hanan': 3, 'barsi': 6, 'katil': 9, 'rehayi': 3, 'pervi': 3, 'karoooo': 3, 'mirch': 6, 'akhabar': 3, 'combo': 15, 'okhi': 3, 'kehdi': 3, 'kijye': 3, 'bantiktoklnlndia': 3, 'tiktokdown': 12, 'supportcarryminati': 3, 'khna': 6, 'tadipar': 3, 'yadipura': 3, 'nale': 3, 'dubodiya': 3, 'awards': 12, 'switch': 12, 'chandrayaan': 3, 'missionmangal': 6, 'isro': 3, 'funding': 6, 'lasts': 3, 'harirram': 3, 'namkeen': 6, 'harirramnamkeen': 3, 'namkeenproduct': 3, 'timepasssnacks': 3, 'manufacturer': 3, 'isski': 3, 'bnayega': 3, 'taseer': 3, 'haters': 27, 'akib': 3, 'jawad': 6, 'powerhouse': 3, 'biased': 6, 'term': 3, 'schoolconfusion': 3, 'khunnn': 3, 'kholega': 6, 'gabbar': 12, 'barf': 3, 'gola': 3, 'thanda': 3, 'coca': 6, 'cola': 6, 'prakat': 3, 'eng': 9, 'bunny': 3, 'endvind': 3, 'avatar': 3, 'kehdo': 6, 'pela': 6, 'pravin': 3, 'bk': 9, 'pair': 21, 'haiiiiiiiiiiiiiiii': 3, 'bhaad': 3, 'ladaayein': 3, 'phrase': 3, 'ladaaiyaan': 3, 'complementary': 3, 'rjravi': 3, 'redfm': 6, 'zinc': 6, 'ors': 6, 'stayhydrated': 3, 'bhopalsamachar': 3, 'happinessansh': 3, 'everylifematters': 3, 'savechildren': 3, 'aasuda': 3, 'bunyad': 3, 'muslimlivesmatter': 3, 'delhidefeatingcorona': 3, 'accho': 3, 'jaychandon': 3, 'kamao': 6, 'sunny': 9, 'bhaijn': 3, '22': 3, 'zuckerberg': 6, 'modiskeptical': 3, 'hesitantir': 3, 'didnt': 12, 'insisted': 3, 'rename': 3, 'surrrr': 6, 'piyooo': 3, 'oss': 3, 'badhta': 6, 'mulliya': 3, 'chalane': 6, 'unboxing': 3, 'raam': 6, 'bhijan': 3, '9933742434': 3, 'recommend': 3, 'greentea': 9, 'cuppa': 6, 'nazarnahinnazariya': 3, 'darane': 9, 'thingspeoplesaywhiledrinking': 3, 'flm': 3, 'wts': 9, 'vdo': 9, 'tadpi': 3, 'path': 18, 'dynasty': 3, 'secretary': 9, 'kalakarr': 3, 'tezz': 3, 'raftaar': 3, 'puraane': 6, 'dip': 6, 'krva': 6, 'caexams': 12, 'aaka': 12, 'supper': 15, 'dupper': 3, 'nek': 3, 'niklta': 3, 'bachchi': 3, 'kaynat': 3, 'sth': 3, 'obc': 15, 'netao': 6, 'janiye': 3, 'bichar': 9, 'cograss': 3, 'katrinakaif': 9, 'microphone': 12, 'violin': 9, 'musical_score': 6, 'saxophone': 3, 'coment': 9, 'jhot': 3, 'maps': 3, 'kardu': 6, 'lockdownquestions': 3, 'jamnagar': 9, 'beloved': 12, 'syednamufaddalsaifuddintus': 3, 'ranmal': 3, 'lake': 21, 'along': 9, 'aamilsaheb': 3, 'mustali': 3, 'bhaisaheb': 3, 'mumeenin': 3, 'include': 3, 'architect': 6, 'lowyer': 3, 'umoorshehat': 3, 'walking': 6, 'vansikaji': 3, 'pina': 9, 'relies': 3, 'anitha': 3, 'parmar': 3, 'rumors': 6, 'phailri': 3, 'karaonga': 3, 'sun_behind_rain_cloud': 9, 'kja': 3, 'taiyaari': 3, 'itd': 3, 'inv': 3, 'delightconfusion': 3, 'oncc': 3, 'hathi': 18, 'chinti': 3, 'hyd': 6, 'ziyada': 15, 'dekhngeeee': 3, 'repair': 9, 'hafte': 6, 'bardast': 6, 'saiyara': 3, 'unknown': 9, 'bhashan': 9, 'karanese': 3, 'skate': 3, 'zaver': 3, 'rangholiya': 3, 'gpcc': 3, 'bichde': 3, 'dheere': 12, 'fislate': 3, 'maaine': 3, 'gay': 15, 'aki': 3, 'hatyaye': 3, 'roko': 3, 'outright': 3, 'apsa': 6, 'cahti': 3, 'mach': 9, 'badane': 3, 'bachoge': 9, 'picha': 6, 'chorne': 3, 'todle': 3, 'ghunhegar': 3, 'krde': 15, 'thekapilsharmashow': 6, 'script': 9, 'totallypaisavasool': 3, 'strongest': 3, 'qadar': 12, 'margya': 3, 'nhm': 3, 'nishakashita': 3, 'waps': 6, 'cows': 3, 'cow': 18, 'moooo': 3, 'mooh': 6, 'deephouse': 3, 'remix': 9, 'nowout': 3, 'freedownload': 3, 'linkinbio': 3, 'djbhavi': 3, 'hearthis': 3, 'pritam': 9, 'shahidkapoor': 3, 'shreyagoshal': 3, 'alishachinai': 3, 'ranbirkapoor': 12, 'chunane': 3, 'aadhikr': 3, 'chuna': 6, '5yr': 3, 'tanasahi': 3, 'reject': 6, 'pirti': 3, 'jimmadare': 3, 'devanshi': 3, 'husain': 6, 'suluk': 3, 'harte': 3, 'jmse': 3, 'takkar': 6, 'harao': 6, 'uhhh': 6, 'toger': 3, 'rhegaaa': 3, 'shadiii': 3, 'ami': 12, 'tomake': 3, 'valobasi': 6, 'thursdaymotivation': 3, 'aesia': 3, 'giveaway': 6, 'tgfamily': 3, 'takiya': 6, 'saans': 18, 'kiaap': 3, 'bodyguardwe': 3, 'ghire': 3, 'kokaise': 3, 'hissa': 12, 'hali': 3, 'takleef': 18, 'sunaye': 3, 'indvssa': 9, 'firstbencher': 3, 'backbenchers': 3, 'bhosadi': 3, 'backbancher': 3, 'backtoschool': 3, 'schoollife': 9, 'chutti': 3, 'kyaaaa': 3, 'chaiwala': 21, 'immured': 3, 'define': 3, 'ayaga': 3, 'dhaba': 6, 'rakhega': 9, 'jayege': 12, 'quick': 9, 'imo': 6, 'learning': 9, 'limit': 6, 'lgti': 3, 'progres': 3, 'sabki': 42, 'knocks': 3, 'doors': 3, 'owaisi': 15, 'dogle': 6, 'failata': 3, 'supporters': 3, 'hamle': 6, 'deni': 6, 'mamuli': 6, 'samjenge': 9, 'marenge': 12, 'bahdur': 3, 'sipahi': 3, 'jeetey': 3, 'peetey': 3, 'asaduddin': 6, 'tmhri': 3, 'tmko': 6, 'karanpatel': 3, 'bigbosshouse': 3, 'arshikhan': 12, 'bhains': 3, 'tareef': 6, 'bnaya': 9, 'tasting': 3, 'heard': 24, 'taskingconfusion': 3, 'centre': 9, 'rajubhai': 3, 'chaiconfusion': 3, 'lafz': 12, 'hasne': 3, 'merit': 3, 'maya': 6, 'oppreation': 3, 'madaat': 3, 'melaga': 3, 'jaheel': 3, 'shirf': 6, 'akda': 3, 'bhejti': 3, 'bumrah': 6, 'nehra': 15, 'sukam': 3, 'kariyu': 3, 'sudo': 3, 'rights': 18, 'valon': 6, 'khatma': 6, 'gundon': 3, 'dudh': 6, 'pilayenge': 3, 'policemen': 3, 'bachhon': 3, 'mouth': 6, 'alex': 3, 'reaching': 6, 'panchi': 6, 'goood': 3, 'concoction': 3, 'cumberbatch': 3, 'sherlocktheme': 3, 'indianised': 3, 'ruh': 9, 'kurban': 3, 'asalamwalaikum': 3, 'nakko': 3, 'liyo': 3, 'chahay': 3, 'handsof': 3, 'fraud': 15, 'bnata': 3, 'inspirational': 6, 'muskaan': 3, 'hail': 3, 'traitor': 3, 'asadness': 3, 'ittafak': 3, 'villager': 3, 'street': 27, 'sinor': 3, 'savera': 3, 'attiude': 3, 'mali': 6, 'creations': 6, '60': 3, 'pi6e': 3, 'nachu': 6, 'ruby': 3, 'aaptards': 3, 'shamelessnetagiri': 3, 'samshya': 6, 'tabse': 3, 'roshan': 15, 'politcs': 3, 'bp': 6, 'bash': 6, 'colorblind': 3, 'bepannah': 3, 'thousands': 6, 'billionaires': 3, 'contribute': 3, 'funds': 6, 'surely': 9, 'billionaire': 3, 'forward': 9, 'beatsconfusion': 3, 'batman': 6, 'aaynge': 3, 'surviving': 6, 'irani': 9, 'cafes': 6, 'maska': 9, 'bun': 9, 'miljao': 3, 'laag': 6, 'nivedan': 9, 'pahuchwa': 3, 'dhanywad': 9, 'annu': 3, 'bulleya': 3, 'tuk': 18, 'banayga': 3, 'aurangzeb': 9, 'dhobikakuttenagharkanaghatke': 3, 'cabir': 6, 'navya': 3, 'khelo': 6, 'labon': 15, 'khamoshiyon': 3, 'lafzo': 6, '6000screen': 3, 'chhath': 6, 'jawaab': 6, 'kings': 6, 'mob': 9, '9999999999': 3, 'bacchi': 9, 'general': 15, 'category': 9, 'bhugatate': 3, 'destiny': 9, 'chootiya': 9, 'jaru': 3, 'tejo': 9, 'fateh': 21, 'imandari': 3, 'imandar': 12, 'koshis': 3, 'fatejo': 6, 'udaariyaan': 6, 'desnikal': 3, 'samjta': 6, 'aapjo': 3, 'nasmjhi': 3, 'computer': 3, 'kahaavat': 3, 'upelections': 6, 'abmb': 3, 'upfight': 3, 'biryan': 3, 'bhopl': 3, 'slab': 3, 'badlav': 3, 'jetleyji': 3, 'themodibudget': 3, 'seeng': 3, 'goat': 6, 'region': 6, 'locked': 6, 'objects': 3, 'bewkoof': 12, 'seena': 3, 'hmko': 6, 'milanga': 6, 'piyray': 3, 'salmanic': 3, 'payi': 6, 'naaz': 6, 'godi': 18, 'sakate': 9, 'parde': 3, 'fayada': 9, 'charche': 3, 'sanjayprajapat': 3, 'alsooo': 3, 'watcing': 3, 'thiz': 3, 'fabulouss': 3, 'barujgar': 3, 'rhaye': 3, 'mahnat': 3, 'babjud': 3, 'gajanand': 3, 'grievance': 3, 'sim': 9, 'docomo': 3, 'samagari': 3, 'pohcha': 3, 'samagri': 3, 'darsana': 3, 'bejha': 3, 'ann': 3, 'ahesan': 6, 'chaturvaidi': 3, 'batati': 9, 'hina': 24, 'rabbani': 3, 'khar': 9, 'charge': 24, 'relations': 3, 'jaenge': 18, 'putra': 3, 'gateway': 3, 'sum': 9, 'dat': 15, 'nothng': 3, 'complicated': 3, 'muhh': 6, 'calculus': 3, 'kachot': 3, 'therathoresaabdog': 3, 'therathoresaab': 3, 'nimbahera': 3, 'rhega': 12, 'rigid': 3, 'uncomfortable': 6, 'ambiguous': 6, 'styled': 3, 'kotharimegha': 3, 'outfit': 9, 'nahardimple': 3, 'divine': 15, 'dimplenahar': 3, 'jewels': 3, 'redhot': 3, 'redismycolor': 3, 'jewelry': 3, 'weddingshenanigans': 3, 'campaign': 15, 'ogilvy': 3, 'glittering': 3, 'stunning': 6, 'somabhai': 3, 'bohemia': 3, 'baadshaho': 15, 'welcomebackdeepaksharma': 3, 'eak': 9, 'salg': 3, 'apharan': 3, 'qameebi': 3, 'saad': 6, 'karachi': 6, 'chool': 3, 'prithviraj': 3, 'aayas': 3, 'midle': 3, 'finger': 3, 'blockbaster': 3, 'radhika': 3, 'medan': 3, 'krnge': 3, 'tmhe': 3, 'staniley': 3, 'shop': 21, 'vikasconfusion': 3, 'forgot': 12, 'mushalman': 6, 'challange': 3, 'kavali': 3, 'aad': 3, 'poetryofaghori': 3, 'chiggitext': 3, 'chiragvankar': 3, 'chiragsali': 3, 'brokenheart': 9, 'mard': 9, 'peeta': 9, 'searching': 3, 'legend': 12, 'wealth': 9, 'hungry': 12, 'millios': 3, 'diet': 6, 'adequate': 3, 'celebrity': 18, 'kronge': 3, 'ekbar': 9, 'kolkatame': 3, 'mutmain': 3, 'aitraaz': 6, 'goondh': 3, 'sharab': 18, 'hainkare': 3, 'chode': 9, 'oppose': 12, 'fdipolicyfornewindia': 3, 'viva': 6, 'mrw': 6, 'ppt': 3, 'banaao': 3, 'soie': 3, 'uye': 3, 'abba': 9, 'aaey': 3, 'surtis': 3, 'rickshaw': 3, 'teach': 3, 'perf': 3, 'likeee': 3, 'howww': 3, 'tuitions': 3, 'treating': 3, 'chaiwalas': 3, 'misconceptions': 3, 'consume': 3, 'airplane': 9, 'globe_showing_americas': 9, 'niceeeeeeeeeeeeeeeeeeeeeeeeeeeeeeeeeeeeeeeeeeeeeeeeeee': 3, 'loveeeeeeeeeeeeeeeeeeeeeeeeee': 3, 'uuuuuuuuuuuuuuuuuuuuuu': 3, 'toa': 12, 'ehsas': 3, 'jismein': 3, 'â': 90, 'sitm': 3, 'jldi': 24, 'jaaao': 3, 'maherbani': 6, 'chaata': 3, 'javan': 6, 'vakt': 15, 'mediawalo': 3, 'kiraksah': 3, 'larkia': 3, 'pichhy': 3, 'murh': 3, 'kaat': 18, 'nayasastamehangapetrol': 3, 'petrolprice': 3, 'highprice': 3, 'baalon': 6, 'daale': 3, 'sanju': 3, 'panipattrailer': 3, 'tusi': 9, 'bast': 3, 'sade': 9, 'panjabi': 3, 'silsila': 3, 'bechain': 6, 'hhahah': 3, 'intjarr': 3, 'jagmandir': 3, 'island': 3, 'palace': 9, 'jisey': 3, 'jayshivsen': 3, 'jaishivsen': 3, 'chandrashekharsen': 3, 'tuto': 3, 'jaungleraj': 3, 'bramhin': 3, 'central': 9, 'pniya': 9, 'gappu': 9, 'taktwar': 3, 'pathankot': 3, 'pulbama': 3, 'nia': 6, 'bipach': 3, 'dysdhorahi': 6, 'bnwany': 3, 'gad': 3, 'fukreyyy': 3, 'chuchaaa': 3, 'nayab': 3, 'mohtarm': 3, 'ventilater': 3, 'sehat': 6, 'btaya': 9, 'jaeyega': 3, 'jtaya': 3, 'ummido': 3, 'khra': 3, 'utrna': 3, 'dkhna': 3, 'hamai': 3, 'samag': 3, 'arahi': 3, 'bhakto': 15, 'novel': 3, 'apman': 9, 'sochegi': 3, 'amartyasen': 3, 'rssquestionsteresa': 3, 'udyog': 3, 'rewa': 3, 'saher': 3, 'yen_banknote': 3, 'gvt': 3, 'ukhednmein': 3, 'haon': 3, 'noukari': 3, 'oulad': 3, 'yuo': 3, 'yielded': 3, 'majority': 6, 'trytowbus': 3, 'luxury': 3, 'servies': 3, 'basic': 9, 'amenities': 3, 'towbus': 6, 'sahihai': 3, 'safest': 3, 'esiest': 3, 'chhote': 9, 'awantipur': 3, 'badodia': 3, 'zindabad': 6, 'slogans': 3, 'security': 24, 'chumma': 6, 'affection': 9, 'clp': 3, 'colleges': 3, 'badbola': 3, 'sinha': 15, 'samajdaar': 3, 'kholta': 9, 'sikhle': 3, 'oos': 3, 'buycottmadeinchina': 3, 'generalpromotiontompstudent': 6, 'padty': 3, 'yogiadityanath': 9, 'manayegi': 3, 'dumm': 3, 'hatake': 3, 'batat': 3, 'arakshanjaruri': 3, 'household': 3, 'ghiya': 3, 'lauki': 3, 'gaajar': 3, 'hatalo': 3, 'telecom': 3, 'sector': 21, 'hine': 3, 'walae': 3, 'modimemes': 3, 'beardo': 3, 'indianmeme': 3, 'indianmemesdaily': 3, 'memestagram': 3, 'comedymemes': 6, 'funnymemes': 9, 'memepage': 3, 'modijimemes': 3, 'indianmemer': 3, 'bereeligious': 3, 'memeaccount': 3, 'pushton': 3, 'kosen': 3, 'logonko': 3, 'sanskari': 6, 'mainbhichowkidar': 3, 'kale': 9, 'kuraban': 3, 'jsk': 9, 'hoh': 12, 'continuesly': 6, 'wwwwwwww': 3, 'mjdoor': 3, 'vha': 6, 'playan': 6, 'lounde': 3, 'dhundh': 6, 'nikale': 3, 'hashtag': 27, 'illbethereforyou': 3, 'bsnl': 9, 'tankha': 3, 'dilwa': 6, 'aghaaze': 3, 'yudh': 6, 'chata': 21, 'hindishayari': 3, 'urdupoetry': 12, 'loveqoutes': 3, 'qoutes': 3, 'khali': 33, 'sabba': 3, 'khair': 3, 'lafda': 6, 'deshbhakt': 12, 'bhadvagiri': 3, 'jameer': 3, 'gaddhar': 3, 'talvachatu': 3, 'mst': 6, 'greatttt': 3, 'amazinggg': 3, 'wonderfullll': 3, 'expectations': 6, 'vides': 6, 'nare': 12, 'kaliyug': 3, 'assassination': 6, 'degrade': 3, 'rashamiansloverashami': 3, 'zaakat': 3, 'fitra': 6, 'lov': 15, 'banayegi': 3, 'rabari': 9, 'qurban': 3, 'gandhidham': 3, 'mero': 3, 'hopayega': 3, 'lar': 6, 'replied': 12, 'ypur': 3, 'happend': 3, 'supernatural': 3, 'paranormal': 3, 'generally': 3, 'distinctive': 3, 'theory': 3, 'ultimate': 12, 'miraculous': 3, 'kinda': 6, 'freaked': 3, 'gocoronago': 6, 'traas': 3, 'yoyogujarati': 3, 'jamaat': 3, 'islami': 3, 'qafla': 3, 'ijtma': 3, 'lahore': 6, 'shirkat': 3, 'rawana': 3, 'talula': 3, 'hameed': 3, 'shoro': 3, 'ruksat': 6, 'ghs': 3, 'waheguru': 6, 'sohni': 3, 'surattt': 3, 'veh': 3, 'dhillon': 3, 'awaiee': 3, 'nain': 6, 'laadaa': 3, 'bethaaa': 3, 'ourselves': 12, 'humans': 6, 'samjhenge': 6, 'livelihood': 3, 'theirs': 3, 'sanman': 3, 'itnato': 3, 'bahenchod': 3, 'tmhare': 3, 'kuttne': 3, 'educated': 12, 'upliftment': 3, 'teju': 9, 'avoid': 9, 'proof': 6, 'damm': 3, 'banti': 12, 'mian': 3, 'mssg': 3, 'partners': 3, 'sikshit': 3, 'nowjawano': 3, 'janib': 3, 'karkardagi': 3, 'dekhany': 3, 'boom': 9, 'afridi': 3, 'unplugged': 9, 'judai': 6, 'emraa': 3, 'rolo': 3, 'bezubaan': 3, 'lit': 3, 'nehakakkar': 6, 'illuminating': 3, 'economist': 9, 'bhayankar': 6, 'mandi': 3, 'aids': 3, 'failta': 3, 'callertune': 3, 'yrrrr': 9, 'howega': 3, 'kaiseeeeee': 3, 'rajitha': 3, 'laaye': 6, 'quli': 3, 'mirza': 12, 'najeem': 3, 'lalkitabharivadanchoksi': 9, 'wifi': 15, 'lgwaye': 3, 'sahar': 12, 'dariya': 24, 'dikhava': 3, 'hesitantxa': 3, 'rahim': 6, 'khanaconfusion': 3, 'zndagi': 3, 'ausvspak': 9, 'bangle': 3, 'surksha': 9, 'umidd': 3, 'leki': 3, 'hq': 9, 'keshod': 6, 'large': 3, 'elders': 9, 'ahir': 3, 'joined': 6, 'jausbay': 3, 'koo': 9, 'bustaa': 3, 'huai': 3, 'manmohan': 12, 'chuhe': 3, 'janpath': 3, 'arab': 6, 'europe': 6, 'hukum': 9, 'chsl': 3, 'website': 12, 'alfazmere': 3, 'dilkibaat': 3, 'agarwal': 3, 'secularism': 12, 'chhappak': 3, 'miniute': 3, 'ago': 18, 'indias': 3, 'kaiko': 6, 'bible': 3, 'ushme': 3, 'ghuser': 3, 'aandhi': 3, 'dekhate': 6, 'bachat': 3, 'marwaati': 3, 'phire': 3, 'vijayrupani': 3, 'confusionmaang': 3, 'tumahe': 3, 'payar': 6, 'pujje': 3, 'sampti': 3, 'nuksan': 6, 'pahuchaoge': 3, 'vasulna': 3, 'tex': 3, 'auto': 15, 'vasulo': 3, 'hajir': 3, 'bhulne': 9, 'sigh': 3, 'texts': 3, 'fiirse': 3, 'sirrr': 6, 'akkal': 6, 'fuk': 3, 'ani': 6, 'services': 12, 'report': 24, 'jhuta': 6, 'natikta': 3, 'morbi': 12, 'aspects': 3, 'chouhanphotography': 3, 'nikon': 3, 'streetphotography': 6, 'secularindia': 3, 'maibhisadakchap': 3, 'wakkai': 3, 'lockdownwalekhayal': 3, 'visaal': 6, 'ordinary': 3, 'fayeda': 6, 'varshon': 3, 'russia': 3, 'kripya': 9, 'batayen': 3, 'passs': 6, 'bodakdev': 3, 'bhu': 3, 'mrme': 12, 'meetprajapati': 6, 'zehar': 6, 'vekh': 3, 'debate': 24, 'spokesperson': 3, 'former': 6, 'union': 6, 'indiatv': 3, 'asalam': 6, 'alekom': 3, 'chhotu': 6, 'jhansi': 3, 'vyavstha': 3, 'krane': 6, 'kripa': 6, 'dhnyevad': 3, 'huwaa': 3, 'assam': 24, 'megalaya': 3, 'ter': 3, 'usha': 3, 'bond': 6, 'kijea': 3, 'painful': 6, 'ssti': 3, 'mahakal': 6, 'bholenath': 3, 'foodphotography': 12, 'foodlover': 6, 'foodgasm': 6, 'foodies': 12, 'foodblog': 3, 'healthyfood': 3, 'khulla': 3, 'topper': 9, 'hide': 3, 'preparationswink': 3, 'pvt': 3, 'ltd': 3, 'distributors': 3, 'bukhaar': 3, 'odo': 6, 'jute': 6, 'dacoit': 3, 'rubbish': 9, 'plze': 3, 'cmon': 3, 'adalat': 9, 'bajpayeeji': 3, 'hamaari': 3, 'nazre': 6, 'jiwi': 3, 'duryog': 3, 'gun': 6, 'darp': 3, 'avgun': 3, 'beautifully': 6, 'budhha': 3, 'hawas': 6, 'kundan': 3, 'raanjhanaa': 6, 'aavo': 9, 'muku': 3, 'anjumane': 6, 'kamjoor': 3, 'waloka': 3, 'laxman': 3, 'emerged': 3, 'ashes': 3, 'aapsweep': 3, 'blockbustersonbookmyshow': 3, 'baiya': 3, 'foreign': 12, 'politician': 18, 'rajnitik': 3, 'rishte': 15, 'hour': 33, 'satayega': 3, 'joo': 3, 'manhos': 3, 'pradhan': 21, 'gehrai': 3, 'likhte': 15, 'apart': 6, 'politicsconfusion': 3, 'kumarvishwas': 6, 'bigfan': 3, 'dhundho': 3, 'cricketpakistan': 3, 'tarsaoo': 3, 'ayu': 6, 'matoshree': 18, 'ashirwad': 6, 'shivsainik': 6, 'balasaheb': 9, 'countries': 3, 'mitra': 3, 'aadami': 24, 'pagala': 3, 'messaging': 3, 'continuously': 6, 'sanjay': 18, 'gupta': 12, 'waking': 9, 'kolte': 3, 'pawas': 3, 'maheswar': 3, 'pleaseeee': 3, 'cevap': 3, 'tributes': 3, 'gopinath': 3, 'munde': 3, 'punya': 3, 'tithi': 3, 'fond': 3, 'spent': 18, 'bhajiyas': 3, 'bhuttas': 3, 'gossip': 3, 'ahmedabadrain': 6, 'diwani': 6, 'enshan': 3, 'madhurionakshow': 6, 'guzre': 12, 'zindegi': 9, 'ghuzar': 3, 'jaaunga': 3, 'kunto': 3, 'maula': 15, 'fahaza': 3, 'meney': 3, 'kiynup': 3, 'hohay': 3, 'ansr': 3, 'tarafdaari': 3, 'andha': 9, 'feelthewords': 3, 'digest': 9, 'mad': 15, 'wifelife': 3, 'notification': 21, 'chulhe': 6, 'exposing': 6, 'dhandha': 12, 'farmersprotests': 3, 'indiatogether': 3, 'kavita': 9, 'dikhth': 3, 'jispe': 3, 'naz': 3, 'shraiger': 6, 'tigerrrrr': 6, 'ronnie': 6, 'ronniesia': 6, 'baaghi': 6, 'tigershroff': 6, 'tigeraarohi': 6, 'shaluyash': 6, 'ene': 6, 'vapre': 3, 'hathiyaar': 3, 'mafak': 3, 'chutiyagiri': 6, 'kevay': 3, 'zuth': 6, 'dikhane': 15, 'roturam': 3, 'dikhati': 3, 'issy': 3, 'vaidya': 6, 'dhaniya': 3, 'begam': 9, 'jassians': 3, 'jalaane': 3, 'amaro': 3, 'kadiya': 3, 'smaaj': 3, 'ls': 12, 'baari': 12, 'mill': 9, 'leve': 6, 'bhean': 3, 'decoder': 3, 'tejasswi': 3, 'easvariya': 3, 'utra': 3, 'transforming': 3, 'soniya': 6, 'gulam': 6, 'charas': 3, 'filmo': 12, 'kaunsi': 15, 'shittiest': 3, 'saddahaq': 9, 'bulandi': 6, 'comparisons': 3, 'sanitization': 3, 'chidkav': 3, 'punarwas': 3, 'punarjanm': 3, 'harry': 6, 'styles': 3, 'meat': 6, 'shares': 3, 'thereader': 3, 'awaited': 6, 'dilwaletrailerday': 6, 'wowwwww': 3, 'jacqueline': 6, 'fernandez': 3, 'anamika': 3, 'finale': 6, 'lakme': 3, 'bahuth': 3, 'dinonke': 3, 'badu': 3, 'deku': 3, 'rahahu': 3, 'tution': 6, 'nervous': 3, 'sehatyaab': 3, 'hur': 9, 'mahfuz': 3, 'sarakki': 3, 'farmaye': 3, 'asslamu': 6, 'alyekum': 3, 'nfak': 6, 'kasrat': 3, 'chaalu': 3, 'died': 3, 'yellow': 9, 'khafi': 6, 'chodega': 3, 'needed': 6, 'annoying': 6, 'suspense': 6, 'aaur': 3, 'manmphan': 3, 'laakh': 3, 'nojawaano': 3, 'kripyaa': 3, 'mbachaiwala': 21, 'mba': 9, 'uffffff': 3, 'embeddedsystems': 3, 'phoonkte': 3, 'malaal': 9, 'shivaay': 9, 'varsh': 9, 'annapurna': 3, 'wide': 6, 'blogger': 9, 'foodbloggerassociation': 3, 'featured': 6, 'kailash': 3, 'vijaywargiya': 3, 'nikaal': 3, 'haamare': 3, 'bharoshe': 3, 'phirwaiyega': 3, 'narendar': 6, 'mira': 3, 'bhart': 6, 'kijie': 3, 'khakistan': 3, 'sadkon': 3, 'uttar': 12, 'jammen': 3, 'phasale': 3, 'tijori': 3, 'dhamki': 9, 'deshdrohi': 9, 'aanaj': 3, 'rds': 3, 'bijare': 3, 'regards': 6, 'harshil': 9, 'afraid': 6, 'irritated': 3, 'agencies': 3, 'romilla': 3, 'standards': 6, 'guzrane': 3, 'sangh': 3, 'universal': 6, 'badwa': 3, 'dije': 3, 'kute': 6, 'begherat': 3, 'khabees': 3, 'benamos': 3, 'himat': 6, 'latkayenge': 3, 'isupportsudhirchaudhary': 27, 'gkmkb': 3, 'pkmb': 3, '2015': 6, 'chhodega': 3, 'beingnilay': 6, 'lookschallenge': 3, 'manti': 6, 'ht': 24, 'sandwich': 6, 'makhkhan': 3, 'daughter': 12, 'fastest': 6, 'growing': 3, 'downloads': 3, 'trell': 3, 'stayhomestaysafe': 9, 'hav': 12, 'youh': 3, 'intellectual': 3, 'baatien': 3, 'kiddo': 3, 'sayno': 3, 'seeno': 3, 'hearno': 3, 'bangal': 12, 'childrensday': 3, 'kraya': 3, 'happychildrensday': 3, 'salei': 3, 'suwar': 12, 'pilla': 3, 'aishwarya': 3, 'moot': 3, 'cheeh': 3, 'kinni': 3, 'goatforsure': 3, 'diljitdosanjh': 6, 'farmersprotestdelhi': 3, 'azm': 3, 'umr': 6, 'daraz': 3, 'garba': 6, 'ramvano': 3, 'kantalo': 3, 'fatima': 3, 'aconfusion': 3, 'murtaza': 3, 'sconfusion': 9, 'bhagodi': 3, 'castiest': 3, 'kangna': 3, 'intjaar': 6, 'gem_stone': 9, 'juban': 12, 'badlu': 3, 'poetryporn': 3, 'yesssss': 3, 'kaand': 6, 'virtual': 3, 'married': 12, 'ikko': 3, 'ghoot': 3, 'pitti': 3, 'talli': 6, 'jhalli': 3, 'nazarnazar': 6, 'crossed': 6, 'hindisong': 3, 'latestsingle': 3, 'soco': 3, 'jaiega': 3, 'nicklegi': 3, 'lowest': 3, 'democratic': 9, 'gundaraaj': 3, 'theft': 9, 'electioncommission': 3, 'nadda': 15, 'alphabet': 3, 'emotions': 12, 'rpy': 6, 'cme': 6, 'gwar': 3, 'visheshyogyajanaconfusion': 3, 'dekar': 30, 'inkeko': 3, 'lubhao': 3, 'check_box_with_check': 9, 'mohalley': 3, 'ghumte': 21, 'bhik': 9, 'rajyapal': 6, 'kareyga': 3, 'karogey': 6, 'hawa': 24, 'randeep': 6, 'hpybdaysonia': 3, 'frmdemtoo': 3, 'hapte': 6, 'nomination': 9, 'madhu': 3, 'powerofsid': 6, 'breakup': 12, 'alonetime': 3, 'sochke': 3, 'waat': 3, 'depression': 3, 'relationships': 6, 'hibernation': 3, 'kanhaiya': 6, 'hmara': 9, 'para': 6, 'jale': 9, 'namak': 18, 'chidakta': 3, 'blushing': 3, 'manglo': 6, 'dead': 6, 'surreal': 3, 'mod': 15, 'marji': 12, 'jabrdasti': 3, 'gb': 9, 'data': 15, 'qualitys': 3, 'ankhen': 3, 'parmbrahma': 3, 'param': 18, 'vishnu': 3, 'parampitahumee': 3, 'sein': 3, 'mukti': 3, 'saaza': 3, 'uh': 18, 'mostconfusion': 3, 'pathan': 15, 'yunki': 3, 'kyonki': 9, 'behno': 9, 'sarey': 6, 'humsafar': 3, 'zamaney': 6, 'mukhalfat': 3, 'qissa': 9, 'mahineme': 3, 'behano': 3, 'sallubhai': 3, 'batameezi': 3, 'tauda': 3, 'motherfucker': 3, 'sadda': 3, 'thalapathyvijay': 3, 'chamcha': 9, 'dhoya': 3, 'cabin': 3, 'yaadgaar': 3, 'jersy': 3, 'vindhya': 3, 'halke': 3, 'leliya': 9, 'naan': 6, 'maroge': 6, 'maante': 12, 'khilwaad': 3, 'navsari': 3, 'vatthivote': 3, 'vototsav': 3, 'gujaratelections': 3, 'southgujarat': 3, 'ekdujeykevaaste': 3, 'beginning': 6, 'lyricists': 3, 'differentiating': 3, 'waala': 21, 'hotstar': 3, 'awake': 3, 'sharp': 3, 'edition': 3, 'yrhpk': 3, 'samved': 3, 'hospitalconfusion': 3, 'chokidaro': 3, 'kuo': 18, 'bolty': 3, 'steats': 6, 'yk': 3, 'rupya': 3, 'kywl': 3, 'kit': 6, 'locktantra': 3, 'moments': 6, 'vani': 6, 'salok': 3, 'deketa': 3, 'tanhajitheunsungwarrior': 6, 'wig': 3, 'lagata': 18, 'gosla': 3, 'shehbaz': 3, 'pampu': 3, 'lukhha': 3, 'elonmusk': 3, 'notbandhi': 3, 'pero': 3, 'vahi': 18, 'galiya': 9, 'bhan': 6, 'loda': 3, 'tare': 15, 'maru': 18, 'bhoxda': 3, 'cutta': 3, 'adame': 3, 'jalde': 6, 'rahhte': 3, 'adityachopra': 3, 'puchne': 3, '58': 3, 'ohhh': 6, 'tipu': 3, 'salim': 3, 'manai': 6, 'bsp': 9, 'chunaav': 6, 'ladna': 3, 'uttarpradesh': 9, 'gathbandhan': 9, 'seats': 9, 'candidates': 3, 'deposit': 6, 'wrx': 3, 'pump': 3, 'sam': 15, 'australian': 6, 'walli': 3, 'businesswoman': 6, 'rukjane': 3, 'besharam': 9, 'jrroori': 3, 'jimmedar': 12, 'parnam': 3, 'co': 9, 'bhugatrahi': 3, 'pikar': 3, 'bimario': 3, 'mul': 3, 'pratinidhi': 3, 'chilli': 9, 'searockvilla': 3, 'bloggers': 6, 'pro': 6, 'salllluuuu': 3, 'adorable': 9, 'phhir': 3, 'bg': 6, 'chutya': 3, 'strikes': 6, 'smih': 3, 'breakthrough': 6, 'indvaus': 12, 'maukmauka': 3, 'shava': 6, 'jabtakhaijaan': 3, 'jthj': 3, 'thora': 9, 'behisab': 3, 'paysa': 3, 'lagarahe': 3, 'girvi': 3, 'rakhana': 3, 'talab': 21, 'mita': 3, 'dale': 3, 'person_frowning': 9, 'vishwa': 9, 'badhega': 6, 'kyare': 3, 'lavano': 3, 'fikular': 3, 'liberandus': 3, 'commie': 3, 'vid': 3, 'zia': 3, 'hold': 21, 'sell': 12, 'superbbbbbbbbbb': 3, 'skull': 9, 'fekta': 3, 'neerajchopra': 3, 'vicky': 12, 'fere': 3, 'rate': 33, 'badlne': 3, 'giraane': 3, 'mukt': 3, 'sp': 12, 'fauj': 3, 'rhia': 3, 'purei': 3, 'takt': 3, 'bharrt': 3, 'venseyo': 3, 'duaey': 3, 'janaze': 3, 'srkuniverse': 3, 'bechate': 6, 'likho': 6, 'bigara': 3, 'jamega': 6, 'amrish': 6, 'bahuhamarirajnikant': 3, 'nav': 3, 'nirmaan': 3, 'shaktishaali': 3, 'rastra': 3, 'banaaven': 3, 'samjane': 3, 'neak': 3, 'pitamah': 12, 'rkhta': 6, 'khun': 9, 'vse': 3, 'bhao': 6, 'utnihi': 3, 'sureeli': 3, 'totle': 3, 'pok': 15, 'toda': 3, 'aadatose': 3, 'typs': 3, 'tympass': 3, 'c0mment': 3, 'scroll': 3, 'hairan': 3, 'hihihi': 3, '8lez': 3, 'htiya': 3, 'bhakton': 3, 'baten': 9, 'whr': 6, 'akkad': 3, 'lageraho': 3, 'tnx': 3, 'mehta': 9, 'leni': 15, 'jornalist': 3, 'chola': 3, 'utaar': 3, 'karoron': 3, 'letay': 3, 'mashallah': 21, 'subhanallah': 3, 'wathching': 3, 'banshi': 3, 'theater': 12, 'shajapur': 3, 'niti': 6, 'widesh': 3, 'upon': 3, 'jaaannn': 3, 'understood': 3, 'uriattack': 3, 'numbers': 12, 'bolun': 3, 'wewantphantomposter': 3, 'doston': 18, 'indiawitharnab': 3, 'amitshah': 3, 'paresan': 3, 'rakkha': 3, 'frame': 6, 'bato': 12, 'gile': 3, 'sikve': 3, 'delivery': 21, 'chitna': 3, 'vishay': 3, 'kisa': 3, 'blue_circle': 6, 'herkate': 3, 'bhatt': 9, 'deliver': 9, 'oils': 3, 'hiro': 12, 'reforms': 15, 'recruiting': 3, 'bodies': 3, 'jaalna': 3, 'congresiyo': 3, 'yattra': 3, 'kitaab': 9, 'panne': 9, 'bharne': 12, 'bachiyo': 3, 'taar': 3, 'angdaai': 3, 'whre': 3, 'sayed': 3, 'kohi': 3, 'ashirwaad': 3, 'mannnivat': 3, 'dostisrael': 3, 'modiinisrael': 3, 'furthest': 3, 'north': 3, 'siachen': 3, 'basecamp': 3, 'borderconfusion': 6, 'raipur': 6, 'narayan': 3, 'sarovar': 3, 'kanyakumari': 3, 'mainland': 3, 'southern': 3, 'tip': 12, 'andamans': 3, 'thod': 6, 'mehangai': 3, 'chakegi': 3, 'kamleshtiwarimurder': 3, 'right_arrow': 3, 'friendships': 3, 'leker': 3, 'jaker': 3, 'bathroom': 12, 'patak': 6, 'tomato': 6, 'mushroom': 3, 'sweetness': 3, 'mushrooms': 3, 'marinated': 3, 'secret': 9, 'unforgettable': 3, 'melodies': 3, 'chlana': 6, 'dalal': 30, 'khaneke': 3, 'vandhe': 3, 'honewale': 3, 'waaaaaaaaaah': 3, 'potty': 6, 'banarrjee': 3, 'launched': 6, 'named': 9, 'based': 6, 'headquarters': 3, 'deewan': 3, 'nagarik': 6, 'yuba': 3, 'hurting': 3, 'consecutive': 6, 'kxipvcsk': 3, 'modig': 6, 'sainiko': 3, 'solutation': 3, 'jantr': 3, 'mantr': 3, 'pat': 9, '29': 3, 'hardtal': 3, 'oar': 6, 'ashityans': 3, 'worry': 33, 'cousins': 6, 'syaahi': 3, 'akhbaar': 3, 'stops': 3, 'kalapipal': 3, 'sbs': 6, 'jenshad': 3, 'aanewale': 3, 'kabse': 12, 'modichinibhaibhai': 3, 'aallaahh': 3, 'jivan': 18, 'nyyay': 3, 'madar': 15, 'hojay': 3, 'jel': 6, 'mardeta': 3, 'bhenchowwww': 3, 'addicts': 3, 'figuring': 3, 'manga': 6, 'wooooooooo': 3, 'teeka': 3, 'chere': 6, 'muskan': 6, 'bhaiyya': 9, 'vaaste': 6, 'sufiyaana': 3, 'nowplaying': 6, 'inmymind': 3, 'subscribers': 3, 'kdr': 6, 'aarhe': 3, 'pehnu': 6, 'suprab': 3, 'bharatvasiyon': 3, 'chuso': 3, 'distancing': 6, 'attend': 9, 'amaalmalliklive': 3, 'kauntujhe': 6, 'amal': 9, 'documents': 3, 'passports': 6, 'seized': 3, 'pen': 12, 'regularly': 3, 'dose': 6, 'hji': 3, 'gourd': 3, 'aaptak': 3, 'pahuchaya': 3, 'vishvesh': 3, 'bhee': 3, 'whatsap': 3, 'mullon': 3, 'bataoge': 6, 'bsd': 3, 'paunga': 9, 'cyclonetauktae': 3, 'likhi': 9, 'poetries': 3, 'rd': 30, 'removing': 3, 'malai': 3, 'umpiring': 3, 'field': 18, 'tapte': 6, 'sehra': 3, 'aabshaar': 3, 'yoonhi': 3, 'madhav': 9, 'mohsin': 6, 'kaajudraksh': 3, 'bhoknese': 3, 'bhokake': 3, 'bhokata': 3, 'suvar': 9, 'dekhge': 3, 'smsan': 3, 'kabarstan': 3, 'slipe': 3, 'bhartmataki': 3, 'core': 9, 'citzense': 3, 'rastopati': 3, 'governor': 9, 'desko': 3, 'jorurat': 3, 'behti': 3, 'hawaon': 6, 'tamam': 9, 'pravaktao': 3, 'viruddh': 3, 'herran': 3, 'mahanta': 3, 'dieing': 3, 'tlc': 3, 'toofaan': 3, 'zubaan': 21, 'alfaaz': 12, 'planing': 3, 'saasw': 3, 'bahus': 3, 'pallavi': 3, 'rrvcsk': 3, 'completion': 3, 'gujaraticinema': 3, 'ustaad': 3, 'nira': 6, 'elsueno': 3, 'jeda': 3, 'bhangra': 3, 'batan': 3, 'odiya': 3, 'soft': 9, 'sr': 18, 'banswara': 9, 'opening': 15, 'opposite': 3, 'mart': 3, 'gurugovind': 3, 'collage': 3, 'pin': 6, 'priori': 3, 'hygiene': 6, 'measures': 3, 'chaskachaida': 3, 'grandopening': 3, 'behindtheface': 3, 'jokerlife': 3, 'soil': 3, 'layers': 3, 'scientific': 3, 'roadsafety': 6, 'karvachauth': 12, 'cheezain': 3, 'lolhni': 3, 'cofounder': 3, 'husn': 9, 'katrina': 21, 'kamli': 3, 'wasiyon': 3, 'namashkar': 3, 'nose': 3, 'december': 3, 'tatha': 6, 'turbo': 3, 'salmannnnn': 3, 'kamwali': 3, 'uncles': 3, 'grandpas': 3, 'evil': 9, 'wantin': 3, 'serisly': 3, 'wewantvivianback': 3, 'sardaar': 9, 'talaash': 6, 'bewafaa': 9, 'tashan': 6, 'kambakht': 3, 'hasn': 6, 'ronit': 3, 'lasooni': 3, 'pudina': 9, 'chef': 6, 'karnation': 3, 'suratconfusion': 3, 'taaki': 6, 'jaun': 15, 'ainge': 6, 'bhosrdi': 6, 'nich': 15, 'shayarilover': 9, 'captainship': 3, 'hop': 9, 'todroge': 3, 'sahare': 6, 'zanaze': 3, 'nirmala': 3, 'tai': 6, 'anand': 12, 'stayathome': 6, 'smoke': 3, 'biology': 3, 'puchho': 3, 'streetfood': 6, 'usalpoha': 3, 'mountain': 3, 'dew': 3, 'po': 3, 'kejri': 9, 'giroge': 6, 'niche': 27, 'starts': 6, 'iifaawards': 3, 'bath': 6, 'apmere': 3, 'whilst': 3, 'aatapi': 3, 'wonderland': 3, 'umeshji': 3, 'sochta': 12, 'aisehi': 3, 'kumawat': 6, 'balram': 3, 'plans': 6, 'semifinals': 3, 'pakvaus': 3, 'chtiya': 3, 'mri': 9, 'mjhse': 15, 'islie': 6, 'andhbhakts': 6, 'ranbir': 6, 'saitongue': 3, 'aasaan': 9, 'onesided': 3, 'rohitsharmaout': 3, 'indvafg': 6, 'priorities': 3, 'tkss': 12, 'lamho': 6, 'dobi': 3, 'lakeer': 3, 'reyet': 3, 'gawon': 3, 'shahro': 6, 'jinmedaari': 3, 'nigam': 3, 'parishd': 3, 'uttardaitav': 3, 'kudraat': 3, 'sameer': 9, 'baloch': 3, 'balochistan': 3, 'biggggg': 6, 'nath': 12, 'mohit': 6, 'petty': 3, 'reasons': 9, 'jhappi': 3, 'baniye': 9, 'schi': 3, 'uuuuuuuuuuu': 3, 'sooooooooooo': 3, 'mch': 3, 'prarthana': 3, 'visual': 3, 'recognizing': 3, 'baarishbanjaana': 3, 'zaalim': 3, 'aqida': 3, 'revealing': 3, 'joking': 3, 'alwz': 9, 'ganeh': 3, 'vaeguruji': 3, 'shatrachaya': 3, 'badhte': 9, 'gods': 3, 'jh': 3, 'vakhariya': 3, 'glass': 12, 'adsadnesschita': 3, 'chowk': 9, 'kaji': 3, 'rajivadatia': 3, 'pratiksehajpal': 15, 'saccha': 21, 'maliik': 3, 'faux': 3, 'pike': 9, 'ph': 3, 'ess': 9, 'okk': 9, 'amber': 3, 'breakdown': 3, 'binness': 3, 'jhumla': 3, 'sambhla': 3, 'shaeenbaugh': 3, 'deemak': 3, 'farig': 3, 'jaroor': 18, 'krdega': 3, 'terko': 3, 'dusron': 6, 'kimat': 15, 'mazzak': 6, 'muse': 3, 'rashidkhan': 3, 'relatable': 9, 'quotes': 18, 'ayushmannkhurrana': 6, 'irrespective': 3, 'desiurge': 6, 'twittertrends': 3, 'doobmaro': 3, 'cmmnt': 3, 'bhaai': 15, 'comentss': 3, 'lut': 3, 'enkauntar': 3, 'payro': 3, 'hindutwa': 3, 'uniformcivilcode': 3, 'translation': 9, 'mhatma': 3, 'nerndr': 3, 'arrestamishdevgan': 3, 'toons': 3, 'adtongue': 3, 'sapphire': 3, 'heights': 3, 'discuss': 6, 'ahem': 9, 'wohooooo': 3, 'similarity': 3, 'bikes': 9, 'dealers': 3, 'bohati': 3, 'separ': 3, 'mite': 3, 'manota': 3, 'ahmedaba': 3, 'graund': 3, 'floor': 6, 'titanium': 3, 'thaltaj': 3, 'crooss': 3, 'parson': 3, 'survat': 6, 'sudroge': 3, 'jyadatar': 3, 'akela': 18, 'inkar': 3, 'sujuka': 6, 'dhadakno': 3, 'nay': 12, 'buchey': 3, 'qaid': 12, 'geetabenrabari': 6, 'geetarabari': 3, 'santvani': 3, 'jayramdevpir': 3, 'ramapir': 3, 'toraniyadham': 3, 'kutchkoyal': 9, 'kutcchi': 3, 'intejaar': 6, 'daffer': 3, 'tarika': 15, 'waza': 3, 'layege': 3, 'arman': 6, 'majak': 27, 'faisu': 3, 'karli': 3, 'mohobaat': 3, 'kasamse': 3, 'shameonmumbaipolice': 6, 'arrestrheachakraborty': 3, 'arrestmostwantedrhea': 3, 'kejariwal': 9, 'rajy': 6, 'gundo': 3, 'incredible': 12, 'swa': 9, 'kahene': 3, 'jhuut': 3, 'device': 3, 'overthinking': 3, 'hatao': 6, 'massege': 3, 'bolatha': 3, 'karene': 3, 'dukhu': 3, 'highlight': 3, 'soanpapdi': 3, 'milli': 6, 'bchay': 3, 'gliyon': 3, 'akeli': 9, 'phiren': 3, 'mahol': 12, 'doubts': 6, 'readingatcrossword': 3, 'listeninggulamali': 3, 'chupke': 21, 'bahaana': 3, 'attende': 3, 'currently': 6, 'resource': 6, 'sene': 3, 'chipkalu': 3, 'saya': 6, 'fevicol': 3, 'female': 21, 'bosses': 3, 'axnvoiceday': 3, 'adajafri': 3, 'mahiii': 3, 'pocha': 3, 'badaltey': 3, 'jaty': 3, 'hassanali': 3, 'dogs': 6, 'badly': 15, 'crucio': 3, 'taalluq': 3, 'lka': 3, 'pays': 9, 'homage': 3, 'jinnah': 6, 'yuvao': 3, 'vachan': 6, 'patra': 9, 'nibhayege': 3, 'smarter': 6, 'rulaaya': 3, 'shaykh': 3, 'muftiasjadrazakhan': 3, 'qazi': 3, 'ul': 21, 'quzzat': 3, 'fil': 3, 'nishano': 3, 'nishaan': 6, 'mansab': 3, 'chhina': 3, 'axxa': 3, 'fckin': 3, 'garaj': 3, 'bigaade': 3, 'blacktea': 6, 'autismo': 6, 'coffeeshop': 3, 'teaaddict': 9, 'organic': 9, 'matcha': 3, 'coffeetime': 3, 'banyak': 3, 'saingan': 3, 'nih': 3, 'atheist': 3, 'sky': 9, 'ncr': 3, 'welcomed': 3, 'earthen': 3, 'lamps': 3, 'crackers': 9, 'foodondoor': 3, 'eatlocal': 3, 'bhopalsmartcity': 3, 'fastfoodies': 3, 'baarishon': 3, 'goodmorning': 18, 'moringtea': 3, 'parho': 3, 'loop': 3, 'productis': 3, 'nota': 3, 'respirator': 3, 'prode': 3, 'protectionagainst': 3, 'coronavirusconfusion': 3, 'sther': 3, 'virusea': 3, 'contaminants': 3, 'grateman': 3, 'ceremony': 6, 'roadside': 6, 'cannughtplace': 3, 'swacchata': 3, 'sawasth': 3, 'subbu': 3, 'swamy': 6, 'secy': 3, 'maino': 6, 'girane': 6, 'thani': 3, 'jya': 6, 'vaith': 3, 'avaith': 3, 'buchadkhane': 3, 'export': 3, 'dukano': 3, 'mutan': 3, 'kharidte': 3, 'tale': 6, 'photograph': 3, 'khubsurti': 15, 'picche': 6, 'akhiyan': 3, 'karaar': 3, 'evolution': 3, 'homo': 3, 'sapiens': 3, 'aadimanav': 3, 'pichwade': 3, 'blast': 3, 'jagenge': 3, 'bahiya': 3, 'ghapla': 6, 'hiteshwedsheena': 3, 'shaadiseasonbegins': 3, 'surattrip': 3, 'tanhaaiyaan': 6, 'dalte': 9, 'duara': 3, 'analysis': 3, 'cuties': 3, 'janhvi': 3, 'janhvikapoor': 3, 'khushikapoor': 3, 'nykaa': 3, 'sassy': 3, 'sistersontrack': 3, 'kapoorfamily': 3, 'maayanews': 3, 'irrfan': 3, 'lagbhag': 6, 'yaado': 3, 'mananiy': 6, 'sammananiy': 3, 'yug': 6, 'lauh': 3, 'purush': 3, 'nw': 6, 'rabg': 3, 'ganna': 3, 'suune': 3, 'tuz': 3, 'wahhwo': 3, 'slvind': 3, 'ouvesi': 3, '40': 6, 'viru': 3, 'pataka': 3, 'kiu': 9, 'luvvv': 9, 'pariyon': 3, 'pari': 6, 'happywomensday': 3, 'aarop': 3, 'ni8': 3, 'lgi': 18, 'chutzpah': 3, 'dhoond': 6, 'srhvcsk': 3, 'akshara': 3, 'moose': 6, 'akasa': 3, 'bbkingpratik': 9, 'goodness': 6, 'glat': 3, 'point': 39, 'modernity': 3, 'illusions': 3, 'disillusioned': 3, 'gramsci': 3, 'blackmail': 3, 'meetings': 3, 'affecting': 3, 'representatives': 3, 'underdog': 3, 'dussheri': 3, 'yearsofhths': 3, 'dress': 9, 'pehna': 9, 'dakho': 6, 'sif': 3, 'haseena': 6, 'rangrop': 3, 'nadani': 3, 'ret': 6, 'samjhaa': 3, 'kisliye': 3, 'varraja': 6, 'mayur': 6, 'nadiya': 3, 'raju': 6, 'lable': 3, 'soor': 3, 'soormandir': 3, 'surmandir': 3, 'smaanand': 3, 'socialmediaagencyanand': 3, 'organise': 3, 'investors': 6, 'ipo': 18, 'listings': 3, 'nykaalisting': 3, 'swachhbharatabhiyan': 3, 'orders': 6, 'bulldozer': 3, 'crop': 3, 'unchu': 3, 'mlaygi': 3, 'zorawargillshukla': 6, 'shoraab': 3, 'daakaar': 3, 'ice': 12, 'cream': 6, 'phod': 3, 'awardwinningexcuses': 3, 'yearsofjpkhh': 3, 'deyde': 3, 'livechatwithsalmankhan': 3, 'laudo': 3, 'bangladash': 3, 'hendu': 6, 'chaleya': 12, 'eha': 3, 'vume': 3, 'dakal': 3, 'karlata': 3, 'aneti': 3, 'zaahir': 6, 'chhupa': 9, 'zruri': 3, 'ranu': 3, 'mandal': 3, 'nehansh': 3, 'atoot': 3, 'dicission': 3, 'lav': 6, 'bebasi': 6, 'chandni': 18, 'insaaf': 6, 'dagger': 3, 'betibachaobetipadhao': 3, 'bachakar': 3, 'riphumanity': 3, 'saazish': 6, 'naata': 3, 'sannata': 3, 'supparbb': 3, 'max': 6, 'sooryavansham': 3, 'panwati': 6, 'waly': 9, 'aatankwadi': 6, 'cronologi': 3, 'kuki': 3, 'blackmel': 3, 'geetaben': 6, 'mojemoje': 6, 'khwabo': 6, 'bps': 3, 'zina': 3, 'falls': 6, 'yai': 24, 'brockenbutbeautiful': 3, 'altbalajiorignal': 3, 'rahena': 3, 'rava': 3, 'suji': 3, 'ravatoast': 3, 'chefmom': 3, 'chlega': 3, 'dhakad': 3, 'shiva': 9, 'facku': 3, 'inspiration': 12, 'tourism': 3, 'keepingfaith': 3, 'exited': 12, 'anymore': 6, 'wahhh': 9, 'honewala': 3, 'becomes': 9, 'riding': 6, 'siblings': 3, 'bethte': 3, 'filling': 6, 'fridayfun': 3, 'foam': 3, 'nahii': 6, 'delhipollution': 3, 'problm': 3, 'shari': 3, 'commentforcomment': 6, 'sadaudios': 3, 'tukdetukdegang': 3, 'kebehalf': 3, 'chanda': 6, 'ikkattha': 3, 'sahayta': 3, 'mombatti': 3, 'bujahi': 3, 'milnii': 3, 'riya': 12, 'couples': 3, 'dikane': 3, 'fellow': 15, 'allotted': 3, 'mehsana': 3, 'insist': 3, 'sudharega': 3, 'momos': 12, 'chappan': 3, 'dukanconfusion': 3, 'nashili': 3, 'duet': 3, 'tiktokduet': 3, 'throwback': 6, 'boyattitude': 3, 'boysattitude': 3, 'throwbackthursday': 3, 'sherkhan': 3, 'comedyvideo': 3, 'tiktokcomedy': 3, 'funnyvideo': 3, 'dabanggstar': 3, 'akurfsk': 3, 'lionforce': 3, 'chaya': 3, 'waade': 12, 'agarr': 3, 'hiya': 3, 'spot': 6, 'crunched': 3, 'obama': 3, 'golf': 3, 'bavasir': 6, 'bns': 3, 'lagaaye': 3, 'gauravkibaat': 3, 'ghoda': 9, 'chatur': 6, 'chalayenge': 3, 'boot': 3, 'jhopadpatti': 3, 'theme': 3, 'designer': 3, 'voitng': 3, 'sidhart': 3, 'shukla': 15, 'biasness': 3, 'pakaoge': 3, 'pakate': 3, 'khanar': 3, 'congressiyon': 6, 'recharged': 3, 'awsome': 9, 'luch': 3, 'wcbaroda': 6, 'fizaye': 3, 'jadugari': 3, 'samajiye': 3, 'shandaar': 3, 'jhakaaas': 6, 'singles': 9, 'poonawalla': 3, 'rti': 15, 'parinam': 3, 'chalgaya': 3, 'logical': 3, 'shastri': 9, 'hva': 3, 'mutthi': 3, 'raheti': 3, 'meetprjapati': 6, 'mohammedshami': 6, 'yahaa': 6, 'gulaab': 3, 'jatate': 3, 'karzdaar': 3, 'pulwama': 9, 'pulwamaterrorattack': 9, 'khake': 3, 'dhare': 3, 'sakhsh': 3, 'saalkejriwal': 3, 'huaaa': 3, 'toofan': 3, 'soooooooo': 3, 'bijali': 3, 'paiyer': 3, 'helog': 3, 'sikhenge': 6, 'khushiyoan': 3, 'bjenge': 6, 'rattled': 6, 'mataji': 3, 'mcd': 3, 'burger': 6, 'hardship': 6, '94': 3, 'assala': 3, 'muwalekum': 3, 'vhai': 6, 'zahan': 3, 'ill': 9, 'peshani': 3, 'tehreer': 3, 'payam': 3, 'aysh': 3, 'tamheed': 3, 'adha': 12, 'ratlam': 12, 'boyfriend': 12, 'doughnut': 3, 'steaming_bowl': 3, 'cooked_rice': 3, 'bento_box': 3, 'green_apple': 3, 'jiminday': 3, 'withjimintilltheend': 3, 'bighitentertainment': 3, 'btsarmy': 3, 'korea': 3, 'yash': 30, 'jhel': 3, 'sleepy_face': 69, 'fauji': 3, 'launga': 6, 'girega': 3, 'dhingra': 3, 'feat': 3, 'vatsal': 6, 'viradia': 3, 'sonu': 27, 'titu': 6, 'sweety': 15, 'penguin': 6, 'hamary': 3, 'shikayat': 3, 'dain': 6, 'samje': 18, 'bhagavan': 3, 'extremist': 3, 'prick': 3, 'hateful': 3, 'ideologies': 3, 'hostile': 3, 'towards': 18, 'neighbors': 6, 'dueschbag': 3, 'tirpal': 6, 'odh': 6, 'bheegenge': 3, 'pehan': 3, 'sel': 3, 'hoor': 3, 'bnayi': 6, 'android': 6, 'jaaoge': 6, 'lele': 3, 'chukar': 3, 'ishara': 3, 'counterclockwise_arrows_button': 6, 'ws': 3, 'forming': 3, 'verified': 6, 'kode': 3, 'arrestmaulanabarkati': 3, 'putna': 3, 'cyanide': 3, 'male': 30, 'concentratorconfusion': 3, 'santane': 3, 'ish': 9, 'das': 6, 'injured': 3, 'indvsaustest': 3, 'khiane': 3, 'bhkto': 3, 'kuda': 3, 'kane': 3, 'kachre': 3, 'chodiya': 3, 'pelwan': 3, 'notifications': 15, 'repeat_single_button': 6, 'repost': 21, 'owsm': 3, 'bri': 3, 'error': 9, 'airteltv': 3, 'mombati': 3, 'jalye': 3, 'maxwell': 6, 'morningshow': 3, 'salaambhopal': 3, 'vaccination': 9, 'jaora': 3, 'jaoraroad': 3, 'rollback': 3, 'iphone': 18, 'feyn': 3, 'taranam': 3, 'stail': 3, 'dakhna': 3, 'rush': 6, 'crime': 9, 'sunanda': 3, 'death': 21, 'suo': 9, 'motto': 3, 'enquiry': 6, 'challenges': 3, 'higher': 9, 'majura': 3, 'vidhansabha': 6, 'yagya': 3, 'sahiba': 3, 'mini': 9, 'preparation': 6, 'marnasa': 3, 'pahla': 6, '1bar': 3, 'milongga': 3, 'haem': 3, 'classrooms': 3, 'empowering': 3, 'edu': 3, 'pwd': 3, 'aram': 12, 'kamla': 3, 'bulbuli': 3, 'inspect': 3, 'ongoing': 3, 'construction': 9, 'subscription': 9, 'thehinduexposed': 3, 'detail': 3, 'kaudi': 3, 'batiya': 3, 'sukan': 3, 'lelo': 9, 'hoshiyar': 3, '23sir': 3, 'dash': 3, 'kahenhe': 3, 'sbheka': 3, 'diloke': 3, 'tasrif': 3, 'shots': 3, 'fired': 3, 'mark': 9, 'imrpovement': 3, 'sooryavanashi': 3, 'jann': 9, 'angry_face_with_horns': 6, 'zameen': 18, 'qarz': 3, 'daar': 9, 'mamur': 3, 'sina': 6, 'labpe': 3, 'dun': 15, 'idoit': 3, 'faission': 3, 'karwaya': 6, 'likkar': 3, 'kardugi': 3, 'tabi': 3, 'sudarega': 3, 'hamse': 15, 'cuz': 3, 'achievement': 6, 'ghusana': 3, 'er': 12, 'tujme': 9, 'velle': 3, 'vibecheck': 3, 'swachhta': 3, 'khinchwane': 3, 'employees': 6, 'el': 12, 'store': 3, 'tuta': 3, 'thikane': 6, 'maafi': 15, 'electionresults': 6, 'verdict': 6, 'rhta': 3, 'beintaha': 3, 'rocky': 3, 'overreact': 3, 'conversation': 6, 'muskurati': 3, 'illustrator': 3, 'chandkheda': 3, 'bolegi': 15, 'bachpaney': 3, 'chhap': 3, 'lukhas': 3, 'cheaters': 3, 'disguise': 3, 'thrown': 6, 'agent': 15, 'panauti': 3, 'vikash': 15, 'khich': 6, 'uppar': 3, 'modihaitomumkinhai': 6, 'lionofgujrat': 3, 'jalaya': 6, 'hundustani': 3, 'tantrums': 3, 'sarabhai': 3, 'bhasad': 6, 'forcing': 3, 'comnt': 12, 'plzzzzzzzzz': 3, 'chante': 3, 'thokar': 6, 'aliya': 6, 'zain': 3, 'expressing': 3, 'sherni': 3, 'ms': 6, 'rubikaji': 3, 'outer': 3, 'mubbark': 3, '8863960135': 3, 'shayam': 3, 'aade': 3, 'tede': 3, 'chun': 9, 'wkt': 6, 'congreshi': 3, 'murdabad': 3, 'bharatbandh': 6, 'congressiyo': 3, 'krayenge': 3, 'bechare': 12, 'payjama': 6, 'pehen': 9, 'manik': 3, 'dekhpaenge': 3, 'aege': 3, 'werna': 3, 'unjan': 3, 'kersekte': 3, 'ribbon': 9, 'annova': 3, 'morphy': 3, 'richards': 3, 'pop': 3, 'kickstart': 6, 'evenly': 3, 'crunchy': 3, 'popuptoaster': 3, 'bajaj': 9, 'philips': 3, 'morphyrichards': 3, 'notify': 3, 'unfollowing': 3, 'utmost': 3, 'phoolo': 3, 'patharo': 3, 'rato': 9, 'uth': 12, 'tree': 3, 'passion': 3, 'unbelievable': 6, 'chit': 9, 'chutme': 3, 'lawda': 3, 'janwaad': 3, 'naaliya': 3, 'kholia': 3, 'paidaas': 3, 'chinaal': 3, 'maadarchod': 3, 'lovesong': 3, 'likeeindia': 3, 'hellolikee': 3, 'sadsong': 3, 'matlabiduniya': 9, 'kanome': 3, 'hafta': 3, 'gentlest': 3, 'coolest': 3, 'bravest': 3, 'sportsmen': 3, 'across': 6, 'shdi': 3, 'loooo': 3, 'zabardasti': 15, 'barein': 9, 'sochohappy': 3, 'fada': 3, 'bulaya': 9, 'isilie': 3, 'gutkha': 3, 'kesar': 3, 'icon': 9, 'millions': 3, 'dalgona': 3, 'chapter': 3, 'tnhaiyon': 3, 'muskurana': 6, 'chupana': 6, 'nend': 6, 'jgna': 3, 'jgte': 6, 'jodhpur': 15, 'kruga': 6, 'pajama': 6, 'tharkimaheshbhatt': 3, 'khushiya': 3, 'felaye': 3, 'diwalidecorations': 3, 'diwalidecor': 3, 'ganapati': 3, 'bajarangibhai': 3, 'bowled': 3, 'csk': 12, 'filam': 3, 'schha': 3, 'khilauga': 3, 'pothead': 3, 'pakk': 3, 'awargi': 3, 'khamakha': 3, 'lazmi': 3, 'raza': 6, 'firaq': 3, 'silsilo': 3, 'hotho': 6, 'izhar': 9, 'behad': 9, 'dangaiyo': 3, 'sathiya': 6, 'sok': 6, 'amethi': 9, 'akar': 6, 'besaram': 6, 'kayse': 6, 'jaraha': 3, 'dunya': 15, 'khamosh': 6, 'uthna': 6, 'zalimo': 3, 'qanun': 3, 'rehkar': 3, 'muqabla': 3, 'sahib': 6, 'nikha': 3, 'nama': 6, 'batange': 3, 'abu': 3, 'talib': 6, 'mute': 6, 'bride': 3, 'middel': 3, 'iteni': 3, 'postion': 3, 'driect': 3, 'gante': 6, 'kbps': 3, 'bhadaoge': 3, 'bored': 9, 'pradarshankaari': 3, 'roye': 21, 'usk': 6, 'farid': 3, 'usku': 6, 'ahsas': 6, 'mumbar': 3, 'uttam': 9, 'division': 3, 'uday': 6, 'nargis': 9, 'fakri': 3, 'bogg': 3, 'bosss': 3, 'siad': 3, 'rightly': 3, 'khanhum': 3, 'chaahte': 3, 'haj': 6, 'umra': 3, 'inshaa': 3, 'mushkile': 3, 'hojaaye': 3, 'aameen': 6, 'passes': 6, 'marnese': 3, 'pehale': 9, 'echha': 3, 'pako': 3, 'samnese': 3, 'dakhahe': 3, 'ajatak': 6, 'reall': 3, 'mubarakbad': 3, 'bhla': 3, 'samman': 24, 'nachbaliye': 3, 'bel': 3, 'rewarding': 3, 'performers': 3, 'dakhie': 3, 'plllzzzzzz': 3, 'naaa': 3, 'udyogpatiyo': 3, 'bajay': 9, 'kahiye': 15, 'shriman': 3, 'annadata': 6, 'rusht': 3, 'khaiyega': 3, 'svp': 3, 'empty': 9, 'hosptial': 3, 'samajne': 9, 'triatment': 3, 'paglii': 3, 'hye': 15, 'ithu': 3, 'paaka': 6, 'pei': 3, 'maathriye': 3, 'iruku': 3, 'broke': 3, 'vahre': 3, 'bhasan': 6, 'majduro': 6, 'aayeena': 3, 'havaee': 3, 'jahaj': 3, 'paidal': 6, 'receive': 3, 'sika': 3, 'inna': 6, 'salmanu': 3, 'hamsome': 3, 'ithna': 3, 'ghabra': 3, 'raz': 3, 'showoff': 3, 'convert': 6, 'hindus': 9, 'humlog': 6, 'bewkufo': 3, 'aaao': 3, 'sewainya': 3, 'forum': 3, 'canada': 3, 'khalistaniyo': 3, 'pakistaniyo': 9, 'boards': 6, 'lagayega': 3, 'bbking': 3, 'contest': 12, 'wattpad': 3, 'shayed': 3, 'vaisa': 3, 'tottaly': 3, 'chaaiiiiiiiii': 3, 'query': 3, 'checking': 6, 'hmein': 6, 'ranvir': 6, 'priyanka': 12, 'asthma': 3, 'aanewali': 3, 'maasi': 3, 'phoon': 3, 'gayee': 6, 'laali': 3, 'eliminacaoafazenda': 3, 'gm': 12, 'hv': 24, 'fabulous': 9, 'mika': 9, 'momskeptical': 3, 'hesitantawan': 3, 'aaaaaaaa': 3, 'puts': 9, 'sochi': 3, 'isara': 3, 'disobeying': 3, 'ohh': 12, 'chakar': 12, 'chhor': 3, 'samghe': 3, 'thissss': 3, 'coronalockdown': 3, 'machane': 3, 'ganjetubawligandhaikya': 3, 'twitt': 6, 'likhoge': 3, 'paramshanti': 3, 'alerts': 3, 'uchhit': 3, 'maanyaata': 3, 'roothe': 3, 'hansega': 3, 'chhoote': 3, 'kahega': 9, 'travelling': 15, 'pahenna': 3, 'shoes': 3, 'polish': 3, 'bhulna': 12, 'tie': 3, 'pahna': 3, 'blind': 9, 'liked': 6, 'bcos': 6, 'pollution': 6, 'kurbani': 3, 'affect': 6, 'rejuvenates': 3, 'nights': 3, 'jhumar': 3, 'confused': 18, 'emojiconfusion': 6, 'pae': 3, 'chivda': 3, 'hummus': 3, 'cachumber': 3, 'formal': 3, 'informal': 6, 'plain': 6, 'downs': 3, 'akho': 3, 'abd': 9, 'panch': 6, 'padiye': 3, 'bbencho': 3, 'information': 15, 'vehicles': 3, 'automatic': 6, 'aishi': 6, 'paresani': 3, 'waghad': 3, 'shouts': 6, 'zaban': 3, 'ayege': 3, 'pagalo': 6, 'ghus': 6, 'theropy': 3, 'expensive': 3, 'digit': 6, 'insurance': 15, 'premium': 15, 'bharega': 6, 'baadme': 3, 'bulaunga': 3, 'tomando': 3, 'aut': 3, 'ntico': 3, 'puncture': 6, 'gina': 3, 'jitupatwari': 3, 'mpcongrees': 3, 'priyankagandhi': 6, 'trendingtonight': 3, 'mpbale': 3, 'jooma': 3, 'angdaiyee': 3, 'diwanna': 3, 'nowlistening': 3, 'krvana': 3, 'andy': 3, 'pungiii': 3, 'bhavani': 3, 'sep': 15, 'bolke': 21, 'aukhad': 3, 'anjam': 3, 'ohhhhhhhhhhhhhhhhhhhhhhhhhhhhh': 3, 'zad': 3, 'teez': 3, 'urtey': 3, 'huey': 3, 'awraq': 3, 'eisee': 6, 'sarfire': 3, 'hiteshbachani': 3, 'bills': 3, 'licences': 3, 'dhoondh': 6, 'idealism': 3, 'leadership': 9, 'sakhti': 3, 'dabana': 3, 'jaanta': 9, 'jaankari': 3, 'pleze': 12, 'camm': 3, 'amaroc': 3, 'camme': 3, 'cbse': 3, 'ncert': 3, 'postponegujaratexam': 3, 'postponegujaratboard': 3, 'studentslivesmatter': 3, 'gujaratmasspromotion': 3, 'valentineweek': 3, 'koapna': 3, 'chodh': 6, 'beshram': 3, 'wooden': 6, 'flame': 3, 'wanderingresearcher': 3, 'sanchari': 3, 'myexplorations': 3, 'followme': 9, 'exploreratheart': 3, 'saru': 9, 'samjo': 9, 'chho': 6, 'lagyu': 3, 'aetle': 6, 'kryu': 3, 'aekey': 3, 'kadhi': 6, 'levani': 3, 'nhoti': 3, 'piza': 3, 'swaget': 3, 'sevete': 3, 'melte': 3, 'vepaksh': 3, 'neteo': 3, 'perwakta': 3, 'lay': 6, 'speaker_low_volume': 3, 'kyabathai': 3, 'nicesongs': 3, 'yoo': 12, 'maket': 3, 'ryply': 3, 'khta': 3, 'jataate': 3, 'vul': 6, 'musk': 3, 'channal': 3, 'giraye': 3, 'aabhe': 3, 'lagaao': 3, 'manme': 3, 'abbajaan': 3, 'ajmer': 3, 'roohafza': 6, 'sonia': 18, 'muafza': 3, 'kewal': 21, 'dinar': 3, 'pahali': 3, 'gumshada': 3, 'search': 27, 'asudin': 3, 'owaise': 3, 'dubane': 3, 'paryas': 3, 'rahan': 3, 'milena': 3, 'karra': 6, 'sadke': 9, 'jug': 3, 'sochana': 3, 'kas': 6, 'aipka': 6, 'rahata': 3, 'aip': 3, 'kareb': 6, 'aipko': 3, 'udaeyga': 3, 'kunalkamrabharwahai': 3, 'khinch': 9, 'bajarng': 3, 'savekerala': 3, 'savechennai': 3, 'northeast': 3, 'aakhen': 3, 'baand': 6, 'thala': 6, 'guniya': 3, 'khet': 12, 'supportive': 3, 'ijaat': 3, 'chodi': 3, 'mukabala': 3, 'faasle': 3, 'raabto': 3, 'thay': 15, 'mohabbato': 3, 'kor': 3, 'sushantunseenvideo': 6, 'gooo': 3, 'achaa': 6, 'atak': 3, 'iia': 6, 'karanveersharma': 6, 'version': 21, 'banege': 6, 'ankleshwar': 3, 'chaa': 3, 'jang': 6, 'baimano': 3, 'imandaro': 3, 'aamaadmiparty': 12, 'aapsweepingdelhi': 3, 'halka': 6, 'baraabar': 3, 'lagtey': 6, 'lgra': 3, 'ppr': 3, 'comming': 6, 'grew': 3, 'insano': 3, 'sabya': 3, 'dostconfusionko': 3, 'nobody': 6, 'toone': 3, 'doosre': 12, 'unpe': 6, 'thonk': 3, 'nasi': 3, 'jinggo': 3, 'dhamka': 3, 'aatankwad': 6, 'hoskta': 3, '_': 6, 'padhtey': 3, 'appse': 6, 'dophar': 6, 'uthte': 12, 'dhal': 6, 'oa': 3, 'bikaou': 3, 'newspapers': 3, 'bikau': 9, 'tvchannelsarnav': 3, 'compete': 3, 'neechata': 3, 'uter': 6, 'lutiyan': 3, 'dubai': 6, 'underworld': 3, 'takers': 3, 'bahishkar': 3, 'janna': 6, 'nepotism': 9, 'kj': 3, 'iplauctions': 3, 'arjuntendulkar': 3, 'sachinbaby': 3, 'mipaltan': 3, 'khatiya': 3, 'selfness': 3, 'ntija': 3, 'viyapam': 3, 'ghotale': 9, 'apsos': 3, 'chla': 6, 'dukhdayi': 3, 'prntu': 3, 'jimedar': 3, 'thechaibar': 3, 'latepost': 3, 'taleem': 6, 'announcement': 15, 'boardexams': 3, 'toppers': 3, 'honoured': 3, 'laptops': 3, 'medals': 3, 'asifskrasheed': 3, 'chahiya': 3, 'facebbok': 3, 'zindaa': 3, 'kalakari': 3, 'salame': 3, 'likeanecho': 3, 'readyforecho': 3, 'motors': 15, 'successful': 9, 'prediction': 3, 'motor': 3, 'aug': 3, 'vibration': 3, 'pluto': 3, 'deg': 3, 'dengi': 15, 'telented': 3, 'feviquick': 3, 'bdha': 3, 'trafficsucks': 3, 'hamain': 6, 'ehbaab': 3, 'qataaron': 3, 'indorifever': 3, 'kuu': 3, 'favirat': 3, 'ubla': 3, 'anda': 6, 'bheet': 3, 'bidesoon': 3, 'ghoomo': 3, 'naitaoo': 3, 'saansdon': 3, 'belagaam': 3, 'tahe': 6, 'gareeboun': 3, 'policiyon': 3, 'aasamiyoun': 3, 'gareboun': 3, 'duwre': 3, 'treding': 3, 'lana': 9, 'hasin': 6, 'teary': 3, 'eyesss': 3, 'thedazzlingdozenofshaheer': 3, 'myshaheeramyedit': 3, 'shazzies': 9, 'sajish': 3, 'pease': 3, 'rewadi': 3, 'relli': 3, 'akdam': 3, 'bizy': 3, 'razan': 3, 'smg': 3, 'pars': 3, 'reaping': 3, 'karwaa': 3, 'milkar': 12, 'dedungi': 3, 'toe': 3, 'sochenge': 9, 'dabe': 6, 'daba': 9, 'piyare': 3, 'mearaku': 3, 'krdejia': 3, '0096555218960': 3, 'kbka': 3, 'bapa': 6, 'bhuke': 3, 'mur': 3, 'sikhna': 6, 'roshani': 3, 'nhee': 3, 'mahmudullah': 3, 'bangbros': 3, 'naagin': 3, 'pakvban': 3, 'nikamma': 3, 'n3w': 3, 'samir': 3, 'dubona': 3, 'thuuuu': 3, 'unghli': 3, 'aakh': 3, 'nauthte': 3, 'nhidete': 3, 'taaron': 3, 'jagmagata': 6, 'mushquilo': 3, 'dagmagata': 3, 'ghabrana': 3, 'sankeshwar': 3, 'bhaktho': 3, 'deepak': 3, 'tuffano': 3, 'nominate': 6, 'pandy': 6, 'vett': 3, 'sarhad': 6, 'con': 3, 'bharatma': 3, 'sahid': 6, 'sikho': 6, 'spna': 6, 'dulara': 3, 'laver': 3, 'cluster': 3, 'beans': 6, 'phali': 3, 'couple_with_heart': 15, 'person_running': 6, 'khulne': 6, 'bale': 9, 'bhrosa': 6, 'sehwag': 3, 'khela': 12, 'hoe': 3, 'prince': 9, 'ouatima': 3, 'judawa': 3, 'bachoo': 3, 'apn': 6, 'swamyji': 3, 'helpjeeneet': 3, 'movieeee': 3, 'kahape': 3, 'milu': 9, 'laane': 6, 'bajrangi_bhaijaan': 6, 'motu': 3, 'patlu': 3, 'fm': 15, '30p': 3, 'aooooo': 3, 'bhikari': 6, 'agia': 3, 'kasa': 3, 'desktop': 3, 'zucky': 3, 'shadowed': 3, 'prolonged': 3, 'stars': 6, 'bitao': 3, 'goodnight': 6, 'nibhagi': 3, 'guarantee': 6, 'adao': 3, 'samja': 9, 'superhero': 3, 'wearmask': 3, 'coivd': 3, 'ghusse': 3, 'bhago': 6, 'maths': 9, 'honhar': 3, 'hardwork': 3, 'pir': 12, 'behja': 9, 'snds': 3, 'adress': 6, 'tek': 15, 'sakhe': 3, 'hamra': 6, 'chhar': 3, 'rki': 6, 'shayadi': 3, 'shyadi': 3, 'kaware': 3, 'tanson': 3, 'hovi': 3, 'joiye': 6, 'dekhata': 6, 'compt': 3, 'basis': 6, 'abvp': 6, 'naqab': 15, 'posh': 6, 'arban': 3, 'naxal': 6, 'dalla': 9, 'baadua': 3, 'tried': 21, 'vocal': 9, 'opt': 3, 'interim': 3, 'invented': 9, 'bahenw': 3, 'boxoffice': 6, 'review': 21, 'thiseid': 6, 'salmankhanfan': 3, 'salmanfan': 3, 'eidi': 12, 'fanna': 6, 'jhutha': 6, 'freshness': 6, 'delivered': 9, 'unquestionable': 6, 'ataa': 6, 'aayin': 3, 'bajjar': 3, 'mucchadbrothers': 3, 'movember': 3, 'stache': 3, 'caexam': 3, 'icaiexam': 6, 'bhopadike': 3, 'betiyon': 3, 'fareebi': 3, 'raqeeb': 3, 'jani': 9, 'weapons': 3, 'oit': 3, 'zimmadari': 3, 'xplain': 3, 'gundaraj': 3, 'suparhit': 6, '700cr': 3, 'pts': 3, 'increse': 3, 'akbarudin': 3, 'ovasi': 3, 'saqal': 6, 'madhyapradesh': 12, 'katna': 3, 'jabab': 9, 'jnukechichha': 3, 'leftkillingjnu': 3, 'tuesdaythoughts': 9, 'sharda': 3, 'uni': 6, 'bhaisaab': 6, 'keeping': 9, 'degrees': 6, 'gumrah': 9, 'docter': 6, 'vaai': 3, 'wikipedia': 3, 'naiyo': 6, 'susanat': 3, 'shign': 3, 'ava': 3, 'chanel': 6, 'berojgari': 3, 'bikav': 3, 'midia': 9, 'chiin': 3, 'gauti': 3, 'yaaraa': 3, 'continue': 12, 'coach': 12, 'lagav': 3, 'moody': 6, 'dubo': 3, 'aapians': 3, 'sihat': 3, 'yab': 3, 'suma': 3, 'indorichai': 3, 'chaibaar': 3, 'indorechai': 3, 'indoresarafa': 3, 'indorifood': 3, 'tags': 3, 'realllllly': 3, 'loooovvv': 3, 'waris': 9, 'likal': 3, 'achchha': 18, 'owesi': 3, 'pakke': 3, 'hamri': 3, 'magate': 3, 'shock': 12, 'sridevi': 6, 'condolences': 3, 'boney': 3, 'bolkar': 3, 'khairnarji': 3, 'dekhoge': 3, 'baarein': 3, 'khoj': 3, 'assalamualaikum': 6, 'milri': 3, 'tel': 6, 'bhaiyou': 3, 'garvali': 3, 'bahela': 3, 'fuslakar': 3, 'bccho': 6, 'khatir': 6, 'vapis': 3, 'fee': 3, 'lenge': 33, 'rgpv': 9, 'takdeer': 6, 'kitane': 3, 'ajibhe': 3, 'anjane': 6, 'kerib': 3, 'milata': 3, 'naseb': 3, 'dhasoo': 3, '4grt': 3, 'sakhat': 3, 'walu': 3, 'maharathi': 3, 'dijia': 3, 'lalten': 3, 'boriyat': 3, 'andhera': 3, 'inshaallah': 6, 'jobi': 3, 'musibatein': 3, 'dikhne': 6, 'education': 6, 'educationmatters': 3, 'bethy': 3, 'agaar': 3, 'chir': 9, 'modigovtfailedlockdown': 3, 'biography': 6, 'bringjasminbhasinback': 3, 'dikhaenge': 3, 'sbstelebrations': 3, 'antim': 3, 'sasankar': 3, 'paisha': 3, 'kendr': 9, 'diu': 3, 'panchal': 3, 'kostal': 3, 'pachal': 3, 'gaddhe': 3, 'punch': 9, 'dhasuuuu': 3, 'fights': 6, 'randomly': 3, 'apan': 3, 'savli': 3, '27min': 3, '1622': 3, 'plezzzz': 3, 'rainyday': 6, 'comedypremiumleague': 3, 'bathare': 3, 'yyhsofficial': 6, 'akathearya': 3, 'yoyoisback': 3, 'yyhs': 3, 'yoyooxide': 3, 'musicproducer': 3, 'punjabisong': 3, 'hiphopmusic': 3, 'sweg': 3, 'musiclife': 3, 'jaanoge': 3, 'anjaan': 9, 'samjhta': 6, 'andhere': 6, 'first_quarter_moon': 3, 'shamshaan': 3, 'quarantinetime': 3, 'majjak': 6, 'noexcuses': 3, 'beyhadh': 3, 'zahid': 3, 'akhter': 3, 'diwan': 6, 'ejaz': 3, 'beg': 9, 'chairman': 9, 'corporater': 3, 'mlg': 3, 'hougi': 3, 'wright': 3, 'aagaya': 21, 'underground': 3, 'aryankhanbail': 3, 'mulla': 6, 'keeda': 3, 'sridhar': 3, 'karyein': 3, 'relish': 6, 'netvelocity': 3, 'chhaya': 3, 'paraya': 3, 'karoon': 3, 'bindassbanda': 3, 'gujaris': 6, 'sangsthan': 3, 'chahati': 3, 'nij': 6, 'elakaomain': 3, 'lokoko': 3, 'proyjon': 3, 'khilte': 3, 'girte': 3, 'seekhte': 3, 'sawarte': 3, 'kasy': 15, 'ney': 9, 'dak': 3, 'insa': 3, 'torogi': 3, 'kispar': 3, 'bunty': 6, 'idher': 3, 'rehla': 3, 'akhileshyadav': 3, 'chhu': 12, 'bhabhiji': 6, 'luk': 3, 'bachaaye': 3, 'mardana': 3, 'danger': 6, 'overrated': 3, 'tastebuds': 3, 'lak': 3, 'azaz': 3, 'ovaisi': 6, 'suar': 6, 'avlad': 3, 'transgender': 3, 'bhaijaaaaan': 6, 'deka': 9, 'relpy': 3, 'saddam': 3, 'hossain': 3, 'newly': 3, 'mjh': 9, 'sweeeto': 3, 'bethne': 3, 'beadbi': 3, 'jamanat': 6, 'ladenge': 3, 'mafia': 9, 'cbiforshushant': 3, 'guidance': 6, 'tsunami': 3, 'felega': 3, 'gharbaithozindaraho': 3, 'haiii': 3, 'umararmy': 6, 'daleha': 3, '7535964415': 3, 'bahutt': 3, 'tagda': 3, 'fenss': 3, 'yy': 3, 'tight': 9, 'pidi': 3, 'happens': 9, 'rahulgandhiquotes': 3, 'countinuosly': 3, 'void': 3, 'adhuraalvidabepannaah': 12, 'hmri': 3, 'corna': 3, 'failega': 3, 'nahaaya': 3, 'mazoori': 3, 'highest': 18, 'unemployment': 6, 'railways': 3, 'tejaswiprakash': 6, 'wwk': 3, 'hogy': 3, 'strongerforever': 3, 'yaaden': 6, 'rpyar': 3, 'nibhate': 3, 'plzzzzzzzzzzz': 6, 'thy': 24, 'raton': 3, 'sasti': 3, 'kutti': 6, 'dearicaiplschange': 3, 'dearicaiamend': 3, 'icaipresidentmissing': 3, 'failing': 3, 'warner': 9, 'xi': 3, 'chatukarita': 6, 'srh': 3, 'ndtv': 12, 'ravish': 3, 'jorror': 3, 'rahil': 3, 'durast': 3, 'aabhar': 3, 'vyakt': 3, 'dk': 6, 'kitani': 9, 'kosish': 3, 'chuha': 6, 'istmal': 3, 'bibio': 3, 'majburi': 3, 'faida': 9, 'uthate': 3, 'jk': 3, 'khilawo': 3, 'shadhi': 3, 'decent': 3, 'brahman': 3, 'brahmanism': 3, 'nominated': 3, 'betraying': 3, 'mandate': 3, 'inpe': 3, 'registere': 3, 'pakdi': 3, 'shameontimesnow': 3, 'fhase': 3, 'intriguing': 6, 'couplechallenge': 6, 'rayta': 3, 'failaya': 3, 'chutiyape': 6, 'felao': 3, 'interest': 6, 'napak': 3, 'uljhe': 3, 'detangle': 6, 'api': 3, 'intent': 3, 'stoinis': 3, 'farji': 6, 'dalenge': 3, 'deshdrohion': 6, 'shawn': 3, 'kumkum': 6, 'flowers': 3, 'girana': 3, 'ghode': 3, 'sogaye': 6, 'banare': 3, 'fareb': 3, 'dt': 3, 'gharwalo': 6, 'pleasehelp': 3, 'lahu': 3, 'aghosit': 3, 'dusaro': 3, 'bluelagoon': 3, 'tourismawardsgujarat': 3, 'lgre': 3, 'jyotiraditya': 3, 'viscosity': 3, 'bhaga': 9, 'mujrim': 3, 'intolerance': 6, 'roars': 9, 'original': 21, 'uploader': 3, 'sahih': 6, 'bukhari': 3, 'jild': 6, 'munfrid': 3, 'phool': 18, 'shabnam': 3, 'fida': 3, 'jaon': 3, 'khaari': 3, 'papdiconfusion': 3, 'experimentwithchai': 3, 'stayhome': 12, 'thinkpositive': 3, 'disorder': 3, 'therapist': 9, 'pret': 3, 'saaya': 6, 'tantrik': 3, 'ghoom': 6, 'haiachhe': 3, 'dalega': 3, 'ohir': 3, 'churakelayahu': 3, 'anna': 9, 'supports': 12, 'newsx': 3, 'mumbaikars': 3, 'pseudo': 3, 'liberals': 3, 'jkdi': 3, 'spikes': 3, 'pigeons': 3, 'sooch': 3, 'flirting': 6, 'dukhare': 3, 'suzuki': 6, 'hayate': 6, 'likhna': 9, 'khandala': 3, 'kamra': 6, 'akhiyo': 3, 'bajen': 3, 'mitro': 9, 'dikhawa': 6, 'balki': 15, 'basically': 6, 'aaegiiiiiiiii': 3, 'boredddd': 3, 'bareme': 3, 'jaante': 15, 'abto': 3, 'bss': 9, 'jashn': 6, 'woow': 3, '1988': 3, '2011': 3, 'dildar': 6, 'nanak': 3, 'mahal': 21, 'destruction': 3, 'abhinandanvarthaman': 3, 'heena': 3, 'aaogye': 3, 'nda': 3, 'completing': 3, 'acters': 3, 'acount': 6, 'banae': 6, 'usaka': 3, 'lagae': 3, 'motabhaichotabhai': 3, 'career': 9, 'commentator': 3, 'bhaihum': 3, 'hyper': 3, 'energetic': 6, 'tanhai': 12, 'pot': 3, 'pota': 3, 'joie': 3, 'vry': 18, 'remaining': 3, 'haha': 15, 'mzaaa': 3, 'umahhhhh': 3, 'luvv': 3, 'rahulji': 6, 'nikita': 6, 'sukha': 3, 'sajde': 3, 'jhukta': 3, 'hbdshaheersheikh': 3, 'solo': 3, 'yas': 9, 'math': 9, 'bhajrang': 3, 'buddy': 15, 'bout': 12, 'worse': 6, 'rho': 9, 'aase': 3, 'site': 12, 'rhamai': 3, 'sunu': 3, 'sng': 3, 'amaziiinggg': 3, 'barna': 3, 'jange': 3, 'sending': 6, 'laanat': 3, 'honourable': 3, 'surendermodi': 3, 'speakupforourjawans': 3, 'pangti': 3, 'backbencher': 9, 'madarxxod': 3, 'uttryan': 3, 'celebration': 9, 'galaxy': 6, '14000': 3, '18000': 3, 'idr': 3, 'behte': 3, 'poetrycommunity': 6, 'mahfooz': 3, 'nadan': 12, 'bora': 3, 'mtmano': 3, 'sujao': 3, 'khoda': 3, 'adat': 3, 'samajjao': 3, 'byyyyyy': 3, 'pitey': 3, 'weer': 6, 'geen': 3, 'altijd': 3, 'tijd': 3, 'voor': 3, 'warish': 3, 'arrestterroristkapilmishra': 3, 'tarfse': 3, 'mmubarak': 3, 'hlooo': 3, 'shalu': 3, 'sikhaye': 6, 'hollywood': 3, 'subko': 3, 'appko': 9, 'lejayega': 3, 'kerenge': 3, 'unnke': 3, 'sameerrrrrr': 3, 'krodh': 3, 'tyago': 3, 'ajib': 9, 'bhakts': 6, 'prnam': 3, 'khubshurat': 3, 'darshanraval': 3, 'darshanravaldz': 3, 'performer': 3, 'spreadlove': 3, 'aaku': 3, 'keera': 3, 'intekam': 9, 'drunk': 3, 'sonle': 3, 'todhta': 3, 'isbaar': 3, 'tone': 6, 'todhdiya': 3, 'sallo': 9, 'steps': 6, 'blackmoney': 3, 'troubles': 3, 'ajaw': 3, 'bachaoge': 3, 'studentlaughing': 3, 'glassesoob': 3, 'salon': 3, 'rahungi': 6, 'kem': 3, 'avu': 3, 'navu': 3, 'apo': 3, 'yuppie': 6, 'programs': 3, 'jaadu': 6, 'jhan': 6, 'bachao': 6, 'padau': 3, 'fekuji': 3, 'loha': 12, 'rto': 3, 'garvi': 6, 'dilvao': 3, 'supposed': 9, 'comfort': 6, 'arshi': 9, 'akshaykumar': 6, 'admpfc': 3, 'kamayab': 3, 'doonga': 6, 'virupanti': 3, 'mukabla': 3, 'lankan': 3, 'kalaa': 3, 'bhagavo': 3, 'supporter': 9, 'rahene': 3, 'tejal': 3, 'half': 24, 'explanation': 3, 'brain': 18, 'screams': 3, 'heiiiiinn': 3, 'parking': 3, 'magajmaari': 3, 'aakde': 3, 'paifas': 3, 'lafzon': 3, 'piroya': 3, 'nikam': 3, 'kijiyega': 6, 'vakil': 6, 'kanooni': 3, 'dav': 6, 'pench': 3, 'sangyan': 9, 'chill': 12, 'arrives': 3, 'bagatai': 3, 'teezi': 3, 'pilnai': 3, 'sacch': 3, 'goodthoughts': 3, 'dekni': 3, 'ahankari': 3, 'ravan': 12, 'vichardhara': 6, 'monster': 3, 'protect': 6, 'bastard': 9, 'shidhu': 3, 'isako': 3, 'deah': 6, 'chipane': 3, 'kagah': 3, 'chare': 3, 'maqsood': 3, 'rhea': 9, 'panding': 3, 'pote': 3, 'sunaya': 3, 'delayed': 3, 'denied': 6, 'vakilon': 3, 'asssalamalaikum': 3, 'duniyaki': 3, 'anapadh': 3, 'nakara': 3, 'nishfal': 3, 'pragatishil': 3, 'deshko': 12, 'bechkar': 3, 'firalha': 3, 'tadpa': 6, 'yaaaaaaar': 3, 'ahmedabadgarmiiskeeeeling': 3, 'trick': 9, 'shikha': 3, 'sunnypaji': 3, 'chichore': 3, 'ripsushant': 3, 'yaarr': 3, 'despatch': 3, 'nightmare': 3, 'overnight': 6, 'coup': 3, 'memento': 3, 'kgs': 3, 'mutabiq': 3, 'jangion': 3, 'naqal': 3, 'makani': 3, 'tadad': 3, 'lac': 3, 'rcss': 3, 'auditions': 3, 'jordar': 12, 'bunk': 3, 'ahmedabadrains': 9, 'mojh': 3, 'ehsman': 3, 'bajaya': 3, 'besuro': 3, 'justin': 3, 'bieber': 3, 'gopu': 6, 'kishanon': 3, 'karz': 3, 'sbi': 9, 'chair': 9, 'arundhati': 3, 'bhattacharya': 3, 'aapatti': 3, 'malya': 3, 'sehad': 3, 'sm': 6, 'fariyaad': 3, 'wheting': 3, 'chukha': 3, 'thaam': 3, 'xad': 6, 'raahon': 3, 'phrr': 3, 'xadly': 3, 'splendid': 3, 'kyacharacterhai': 6, 'struggle': 12, 'butterscotch': 3, 'tweetar': 3, 'interesting': 15, 'amaalarmaanforever': 3, 'hoty': 9, 'gairo': 6, 'physical': 6, 'chest': 3, 'fictional': 3, 'characters': 3, 'youths': 3, 'increasing': 6, 'skilled': 3, 'railwayapprenticeberozgaar': 3, 'overpowered': 3, 'decesion': 3, 'wivsind': 3, 'accessories': 3, 'krvao': 3, 'samples': 3, 'whhh': 3, 'aachse': 3, 'palta': 3, 'mastermind': 6, 'options': 3, 'fatke': 3, 'ajayegi': 3, 'youtubeindiachorhai': 3, 'rukta': 3, 'chot': 12, 'urdushairi': 6, 'pda': 3, 'bekaraar': 3, 'sainik': 3, 'panna': 3, 'reached': 6, 'parsnalti': 3, 'somehow': 3, 'muted': 3, 'punchline': 3, 'haggde': 3, 'comicstaankejokes': 3, 'nhu': 6, 'civilians': 3, 'poonam': 3, 'patil': 6, 'tahes': 3, 'nahes': 3, 'jorj': 3, 'tums': 3, 'battalion': 3, 'fojiyon': 3, 'chega': 3, 'mrzonty': 3, 'onlife': 3, 'yearchallenge': 3, 'modeling': 9, 'weit': 3, 'karwate': 3, 'musamano': 3, 'samga': 3, 'chahega': 3, 'radh': 3, 'mieera': 3, 'kirtidangadhvi': 3, 'janmashtami': 3, 'jaydwarkadish': 3, 'jayshreekrishna': 6, 'kirtidan': 3, 'gujjurocks': 3, 'gujjustar': 3, 'meera': 3, 'mulli': 3, 'aimim': 12, 'bharatiyon': 3, 'varot': 3, 'walikum': 3, 'dita': 3, 'verna': 12, 'dhundne': 3, 'jobs': 12, 'lalkitab': 9, 'harivdanchokshi': 3, 'followus': 3, 'youtubevideos': 3, 'howtodiseasecontrolinlalkitab': 3, 'lalkitabremediesforcancerdisease': 3, 'uparvala': 3, 'lovequote': 3, 'dhabkarbolechhemahi': 3, 'dhadkankehrahimahi': 3, 'morningmotivation': 3, 'mammy': 3, 'uthti': 3, '12': 6, 'changer': 6, 'aspect': 3, 'dabban': 3, 'firde': 3, 'dabbda': 3, 'kithe': 3, 'pharaliya': 3, 'speared': 3, 'shahrukhkhan': 6, 'khaatey': 3, 'mexican': 3, 'sandwiches': 3, 'kissan': 3, 'kissano': 3, 'jamin': 3, 'kabja': 3, 'ush': 3, 'papi': 3, 'gtpl': 3, 'broadband': 3, 'repeated': 3, 'complaints': 3, 'dhamadham': 3, 'sheer': 6, 'dikhtay': 3, 'kahugi': 3, 'aeisa': 3, 'zindabaad': 6, 'badlega': 15, 'doondh': 3, 'meine': 6, 'karlena': 3, 'kanwardhillon': 3, 'pandyastore': 6, 'reee': 6, 'fastfoodpolitics': 3, 'congressforpeaceandharmony': 3, 'rajghat': 3, 'wahaa': 6, 'rgpvbhopal': 3, 'spreding': 3, 'corrona': 3, 'generalpramotiontompstudents': 3, 'studentlivesmatter': 3, 'golmal': 6, 'retunes': 3, 'prm': 3, 'rtn': 3, 'dn': 6, 'pyo': 3, 'negdiya': 3, 'ghan': 3, 'nik': 3, 'chig': 3, 'syllabus': 3, 'tick': 9, 'tells': 6, 'fucked': 9, 'studyhard': 3, 'examsucks': 3, 'buddies': 6, 'petanda': 3, 'ini': 3, 'ultra': 6, 'lite': 6, 'white': 9, 'mesh': 3, 'sneaker': 3, 'however': 3, 'livefeed': 3, 'dowa': 3, 'comehometocelebrations': 3, 'bchchi': 3, 'milate': 6, 'pori': 12, 'dekhy': 3, 'bulawa': 6, 'yayege': 3, 'entjar': 3, 'miltae': 3, 'kaapi': 3, 'kitney': 3, 'pataakhhe': 3, 'phodogey': 3, 'opportunity': 3, 'build': 6, 'creepy': 3, 'surti': 6, 'doubt': 18, 'afasana': 6, 'pegam': 6, 'mukmmal': 6, 'dardwali': 3, 'qya': 9, 'musku': 3, 'bharosha': 12, 'opera': 3, 'install': 3, 'nasik': 3, 'twotwotwo': 3, 'rendukadhal': 3, 'gauhar': 3, 'achchhi': 3, 'surname': 6, 'blog': 9, 'aabki': 3, '800cr': 3, 'cityoflakes': 9, 'denim': 3, 'classic': 9, 'streetstyle': 3, 'streetwear': 3, 'instapic': 6, 'shotononeplus': 3, 'instadaily': 12, 'enjoythelittlethings': 3, 'karty': 12, 'bapasitaram': 3, 'jakhm': 6, 'mujako': 3, 'doobane': 3, 'harshadmehta': 6, 'bigbull': 3, 'mindgames': 3, 'sharebazzar': 3, 'bestf': 3, 'btaynge': 3, 'happily': 3, 'committed': 6, 'jagega': 6, 'batt': 3, 'kosh': 3, 'int': 6, 'baza': 3, 'inhone': 9, 'kashmirion': 3, 'loota': 3, 'kasmiri': 3, 'pandit': 18, 'ghinona': 6, 'ukhaad': 12, 'fenkiye': 3, 'businesses': 6, 'afghanistanwomen': 3, 'talibans': 3, 'dryfruit': 3, 'pricehike': 3, 'afghanistancrisis': 3, 'almst': 3, 'kavvi': 3, 'aoo': 3, 'fanzzzz': 3, 'banjarangi': 3, 'mega': 3, 'imagination': 6, 'rahee': 3, 'mehgahi': 3, 'badhani': 6, 'hamee': 3, 'mehngahi': 3, 'zimmedari': 3, 'havan': 3, 'mukadar': 3, 'minutes': 9, 'serials': 9, 'rojgaar': 3, 'worlddayagainstchildlabour': 3, 'rahulgandhistandswithpeople': 3, 'anjanaomkashyap': 6, 'renee': 3, 'laparvaah': 3, 'woah': 6, 'abroad': 3, 'studies': 9, 'natural': 6, 'tras': 3, 'khwaab': 6, 'shairikidunya': 3, 'alhamdulillah': 3, 'kheryat': 3, 'aashu': 3, 'sympathy': 12, 'obsession': 12, 'samjhna': 3, 'muntashir': 3, 'latestconfusion': 3, 'login': 6, 'clinical': 3, 'cerebral': 3, 'palsy': 3, 'neurologists': 3, 'cerebralpalsy': 3, 'imlalit': 3, 'tri': 3, 'choot': 6, 'bharty': 3, 'kahti': 3, 'balatkalio': 3, 'khal': 3, 'ramleela': 6, 'jhalk': 3, 'tarap': 3, 'resignpm': 3, 'lagvo': 3, 'lije': 3, 'zamaane': 3, 'rivaayat': 3, 'dilaana': 3, 'awaj': 12, 'lass': 3, 'realfact': 3, 'lau': 3, 'khata': 9, 'wire': 6, 'surma': 3, 'rkha': 15, 'hypocrisy': 9, 'wen': 3, 'ibid': 3, 'loading': 3, 'chizo': 3, 'dhundo': 3, 'rajveer': 3, 'banayenge': 3, 'khatarnaak': 3, 'eidmubarak': 9, 'sidhumoosewala': 3, 'chamche': 12, 'sunni': 3, 'leaks': 3, 'xhr': 3, 'aatey': 3, 'chchat': 3, 'kullu': 3, 'babbalrai': 3, 'indiavspakistan': 9, 'chachagiri': 3, 'itli': 3, 'arapanthi': 3, 'ghotala': 9, 'jaanch': 3, 'rbi': 6, 'finance': 6, 'commission': 9, 'gujjuon': 3, 'lootli': 3, 'becharey': 3, 'sardaron': 3, 'harijano': 3, 'whether': 12, 'jehad': 3, 'ittehad': 3, 'qatle': 3, 'indirane': 3, 'kehvanu': 3, 'jadeja': 18, 'truck': 6, '1min': 3, 'pav': 9, 'papadi': 3, 'svnit': 3, 'stallconfusion': 6, 'nazuk': 3, 'releasajazkhan': 6, 'iftaari': 3, 'tayyari': 3, 'oonche': 3, 'nigahein': 3, 'milake': 3, 'fuddu': 3, 'begabru': 3, 'sweeter': 3, 'brownies': 3, 'awogay': 3, 'lstn': 3, 'siyappa': 3, 'saids': 3, 'coro': 3, 'brosa': 3, 'doodhwale': 3, 'abp': 9, 'counter': 6, 'friendsheep': 3, 'bhiyaa': 3, 'theurge': 3, 'cigarette': 15, 'karachii': 3, 'fone': 6, 'filing': 6, 'balo': 3, '9861674485': 3, 'ijat': 3, 'sabal': 3, 'jaaaaaaaaaaaaaaaaaaaaaaaaaaaaaaaan': 3, 'ungh': 3, 'yaade': 3, 'indiancricketteam': 6, 'indvsl': 12, 'farmer': 6, 'ravi': 9, 'shrivastav': 3, 'baas': 3, 'bornfightersana': 3, 'angur': 3, 'khatte': 3, 'lgte': 6, 'closely': 3, 'stats': 3, 'satuts': 3, '00am': 3, 'pmmodi': 3, 'overcome': 3, 'pandu': 3, 'doodo': 3, 'positivit': 3, 'allseasonlove': 3, 'hammer': 3, 'load': 3, 'constructed': 3, 'baithey': 3, 'haaye': 12, 'tuesday': 6, 'ekdujekevaaste': 3, 'palm': 3, 'gori': 3, 'hiiiii': 3, 'claps': 18, 'users': 9, 'morons': 3, 'kissa': 9, 'mohbhatt': 3, 'seeta': 3, 'chalyenge': 3, 'gaddaronko': 3, 'hatayega': 3, 'siso': 3, 'gotta': 3, 'lessons': 3, 'hangover': 15, 'internal': 6, 'ziin': 3, 'rahoo': 3, 'shatak': 3, 'vyakti': 6, 'mahaghotala': 3, 'compny': 9, 'havells': 6, 'cooler': 3, 'kharida': 3, 'amazone': 3, 'supply': 9, 'electronic': 3, 'spark': 3, 'faaaaaadd': 3, 'shusayad': 3, 'mohar': 3, 'esmain': 3, 'murder': 6, 'shusant': 3, 'bhaiiiiiiiiii': 3, 'logge': 3, 'chicha': 3, 'modiresign': 3, 'modiresignorrepeal': 3, 'baithi': 3, 'vaalon': 3, 'offended': 3, 'abuses': 6, 'chatrapati': 3, 'dumb': 12, 'emulating': 3, 'abrahamic': 3, 'howz': 6, 'offensive': 6, 'pagalpan': 3, 'nhiho': 3, 'tiyapa': 3, 'jacquelinefernandez': 3, 'joshappsucks': 3, 'kuchbhi': 9, 'indianapp': 3, 'recod': 3, 'tut': 12, 'dwara': 9, 'puchee': 3, 'dengee': 3, 'niyay': 3, 'wishwas': 3, 'jystice': 3, 'dhamakedaar': 6, 'ayesa': 3, 'pyasa': 3, 'attempted': 3, 'ssrmurdercase': 3, 'pankti': 3, 'dusru': 6, 'muskoraht': 6, 'niyam': 6, 'choron': 9, 'rcongrats': 3, 'shat': 6, 'universe': 6, 'parcham': 3, 'laharaya': 3, 'yelo': 3, 'hellooooo': 3, 'gayyyyyy': 3, 'suwwr': 3, 'chdhri': 3, 'bdhawa': 3, 'sust': 3, 'zehniyat': 6, 'hittlar': 3, 'hydroxychloroquine': 3, 'dilwaleonbiggboss': 3, 'chahenge': 3, 'vaade': 3, 'nibhayenge': 6, 'ikraar': 3, 'ritu': 3, 'kartikaaryan': 3, 'terayaarhoonmain': 3, 'terayaarhumeinsong': 3, 'songwriter': 3, 'bollywoodsongs': 3, 'neki': 3, 'hena': 9, 'prayash': 3, 'jaaan': 9, 'suraz': 3, 'lagatar': 3, 'khilaoge': 3, 'various': 6, 'flavors': 3, 'tez': 6, 'wich': 3, 'augest': 3, 'mujy': 6, 'thori': 6, 'azib': 3, 'hea': 3, 'garb': 3, 'hotahe': 3, 'kiuki': 3, 'matrubhumi': 3, 'birpurus': 3, 'diyahe': 3, 'yaaa': 6, 'router': 3, 'restart': 3, 'sovereignty': 3, 'haqdar': 3, 'twiter': 3, 'zahidoon': 3, 'sadgi': 3, 'bajayi': 3, 'fitting': 3, 'finishing': 3, 'loveline': 3, 'dariyo': 6, 'mh': 3, 'ranveer': 9, 'brar': 3, 'pyaara': 6, 'padriyo': 3, 'muslimo': 6, 'gardish': 6, 'jilani': 3, 'police_officer': 3, 'cozy': 3, 'giu': 3, 'blanket': 3, 'upset': 6, 'krwane': 6, 'bakya': 3, 'jod': 6, 'emitra': 3, 'aphran': 3, 'khai': 9, 'juka': 3, 'ulfat': 9, 'vivian': 6, 'viviandsena': 6, 'baaho': 3, 'appropriate': 3, 'kohre': 3, 'nazaraa': 3, 'tuition': 12, 'sandhir': 3, 'recent': 3, 'reminded': 3, 'atithi': 3, 'commenting': 3, 'twinkie': 3, 'mangti': 3, 'sikhar': 3, 'bangladeshi': 6, 'frowning_face_with_open_mouth': 3, 'khaandaan': 3, 'gaadiyo': 3, 'chage': 3, 'shyad': 6, 'tbi': 3, 'rehe': 6, 'krungi': 6, 'zidd': 6, 'batade': 3, 'mauni': 3, 'bhram': 6, 'bahaar': 9, 'chart_increasing': 3, 'kea': 3, 'virasat': 6, 'naino': 3, 'ude': 12, 'nagrik': 15, 'azadikaamritmahotsav': 6, 'od': 9, 'samelan': 6, 'thugbandhis': 3, 'inderjeetsingh': 3, 'reqwest': 3, 'h0jaegi': 3, 'bhosda': 6, 'kw': 3, 'wtc': 6, 'excuse': 3, 'sweetdreams': 3, 'pare': 6, 'mamta': 9, 'papu': 3, 'argued': 3, 'meraconfusion': 3, 'parked': 3, 'correctly': 3, 'furiously': 3, 'seperate': 3, 'claim': 6, 'families': 3, 'vulturesconfusion': 3, 'malicious': 3, 'practice': 6, 'local': 30, 'administrations': 3, 'vastvik': 3, 'samapt': 3, 'dabaoge': 3, 'sawarkar': 6, 'yogdan': 3, 'aitbaar': 6, 'jataya': 3, 'pehni': 3, 'badtamiji': 3, 'pandemics': 3, 'coronavirus': 21, 'emi': 9, 'humri': 6, 'extend': 6, 'karvado': 3, 'ast': 3, 'samjte': 3, 'samjege': 3, 'aware': 3, 'television': 9, 'meljol': 3, 'tanaav': 3, 'kurta': 9, 'pazama': 3, 'lagakar': 6, 'packet': 6, 'fatt': 12, 'baut': 3, 'taptak': 3, 'kamalnathji': 3, 'priyankagandhivadra': 3, 'gyaaaaa': 3, 'shera': 3, 'dargaah': 3, 'kedar': 3, 'figure': 6, 'shirley': 3, 'bhumbro': 3, 'diwalipic': 3, 'diwalikedost': 3, 'dostwalidiwali': 3, 'sadri': 3, 'cinta': 3, 'suryapratha': 6, 'kardungi': 3, 'chorr': 6, 'urmy': 3, 'supr': 3, 'pixel': 3, 'stands': 15, 'dout': 3, 'lovly': 3, 'khubsurati': 3, 'rafiji': 3, 'aftari': 3, 'melinge': 3, 'shagufa': 3, 'chhodha': 3, 'bichari': 3, 'shehanshah': 3, 'samajhne': 6, 'adhyaksh': 3, 'payegi': 3, 'flipflop': 6, 'manufacturing': 12, 'boxx': 3, 'package': 6, 'packaging': 3, 'cash': 6, 'pravisht': 3, 'anirudh': 3, 'hamaare': 6, 'chullu': 6, 'bhokate': 3, 'mazboor': 3, 'insaano': 3, 'nakhi': 3, 'mangoconfusion': 3, 'maharaja': 6, 'thelittleboxbakery': 3, 'therjsbakers': 3, 'danyavad': 3, 'shubharatri': 3, 'commentary': 6, 'jeeta': 27, 'rohitadwani': 3, 'dob': 6, 'golli': 6, 'kijiya': 3, 'cauliflower': 3, 'tastes': 3, 'slapped': 6, 'sourcelaughing': 3, 'glassesesh': 3, 'rajnetao': 3, 'vorodh': 3, 'danav': 3, 'journal': 3, 'bookconfusion': 3, 'kyai': 3, 'hamarai': 3, 'vott': 3, 'millai': 3, 'vull': 3, 'gyai': 3, 'taraki': 3, 'kijeeyai': 3, 'jaai': 3, 'gujart': 3, 'tarrki': 3, 'kyahai': 3, 'jatte': 3, 'khetla': 6, 'appa': 3, 'automatically': 6, 'tevar': 9, 'kate': 6, 'diana': 3, 'psnd': 3, 'interested': 6, 'jaihind': 15, 'badalte': 6, 'phoonkta': 3, 'bhigna': 3, 'chahu': 9, 'baraste': 3, 'bhigu': 3, 'nasib': 3, 'jasprit': 3, 'engvsindia': 3, 'engvsind': 3, 'bemisal': 3, '1hr': 3, 'decisive': 3, 'surgicalselfgoal': 3, 'padena': 3, 'weldon': 3, 'dava': 3, 'baithak': 3, 'wohaa': 3, 'announcing': 3, 'web': 6, 'gujrati': 6, 'webseries': 9, 'gaj': 3, 'rhene': 6, 'vaja': 6, 'champions': 6, 'sayajirao': 3, 'interfaculty': 3, 'soccer_ball': 3, 'tournament': 6, 'defeated': 6, 'padra': 3, 'eneded': 3, 'golas': 3, 'papads': 3, 'rabdi': 3, '25': 9, 'col': 12, '09818463635': 3, 'hp': 3, 'ndy': 3, 'savegujaratstudent': 3, 'cancelbinsachivalayexam': 3, 'aiesa': 3, 'sharminda': 3, 'kxipvsrr': 6, 'dikhayege': 3, 'becouse': 3, 'swal': 12, 'gulabi': 6, 'bhuki': 3, 'chocobar': 3, 'ohmygod': 3, 'alicekaushik': 3, 'delhirape': 3, 'shud': 6, 'rapes': 3, 'devastating': 3, 'metally': 3, 'harassing': 3, 'eaisi': 3, 'chaahiye': 9, 'abtk': 3, 'waqai': 3, 'dhbba': 3, 'tommy': 3, 'kardie': 3, 'fekuing': 3, 'figures': 3, 'wiswa': 3, 'gauranwit': 3, 'bleedblue': 3, 'shixchamitr': 3, 'asthaiy': 3, 'urf': 6, 'bagga': 3, 'ey': 3, 'paris': 6, 'bwahahah': 3, 'savage': 12, 'shamitastribe': 3, 'sarmo': 3, 'kmane': 3, 'chhode': 3, 'tawajjoh': 3, 'dukkar': 3, 'khumbkaran': 3, 'nindra': 3, 'yalgar': 3, 'nizamuddin': 3, 'chhipe': 3, 'thnx': 12, 'wonderfull': 3, 'haqiqat': 6, 'az': 3, 'ajaya': 3, 'dynamic': 3, 'drashyam': 3, 'depyarde': 3, 'ajaydevgn': 3, 'muhhhhhhhhhhhhh': 3, 'rlfr': 3, 'hott': 3, 'souloguekidunia': 3, 'soulogue': 3, 'fraands': 3, 'hospitalized': 3, 'doctors': 9, 'themself': 3, 'doctorsday': 3, 'proving': 6, 'flushmedesai': 6, 'seekhe': 3, 'vadapav': 6, 'rohitshettyboltfastest': 3, 'tire': 6, 'intih': 3, 'huu': 39, 'mir': 3, 'dg': 3, 'zm': 3, 'mub': 3, 'hido': 3, 'sllam': 3, 'eidmubarakh': 3, 'jatane': 3, 'gunehgar': 3, 'bachne': 3, 'victimki': 3, 'bhagavataji': 3, 'bigar': 3, 'foll': 3, 'asharam': 3, 'sareeswag': 3, 'telugu': 3, 'commentery': 3, 'insomniac': 3, 'karona': 6, 'wata': 3, 'ajate': 6, 'bheek': 6, 'mohammed': 3, 'sachmooch': 3, 'dikhayen': 3, 'filmbajrangi': 3, 'estyle': 3, 'karing': 6, 'bhayio': 6, 'bheno': 3, 'labelled': 3, 'divider': 3, 'criticizing': 3, 'unite': 6, 'diyas': 6, 'modivideomessage': 3, 'aakash': 3, 'khaana': 6, 'bandagikalra': 3, 'weekendwithbb': 3, 'weekendkavaar': 3, 'seasons': 3, 'saanp': 6, 'asal': 3, 'cobra': 9, 'kamm': 3, 'savior': 3, 'baout': 3, 'inshirt': 3, 'raki': 3, 'nagga': 3, 'tapka': 3, 'khajur': 3, 'latka': 9, 'krt': 3, 'ghused': 3, 'dhiye': 3, 'palanhare': 3, 'riyaz': 3, 'ghumane': 3, 'roal': 3, 'nayak': 3, 'bahoot': 12, 'disterb': 3, 'salluuuuuuu': 3, 'ismerete': 3, 'ishay': 3, 'kahtay': 3, 'hehehehe': 3, 'bitana': 3, 'lalla': 3, 'uljhoge': 3, 'pdega': 9, 'asr': 6, 'aashan': 3, 'adhvaysinghraizada': 3, 'cyv': 3, 'chandanivashisth': 3, 'movis': 3, 'gharwalw': 3, 'rula': 18, 'hazam': 3, 'kmine': 3, 'stoptargetingmandana': 3, 'kabhii': 3, 'noii': 3, 'lawde': 3, 'ghosts': 3, 'bhangarh': 6, 'longdrive': 3, 'haunted': 3, 'fullonmasti': 3, 'zalim': 3, 'truthoflife': 3, 'sk': 6, 'wkw': 6, 'disastrous': 3, 'traveling': 6, 'nirdhos': 3, 'auko': 3, 'follows': 6, 'damaged': 3, 'bench': 12, 'wade': 18, 'hasanali': 3, 'asusrog': 3, 'intel': 3, 'republicofgamers': 3, 'streamer': 3, 'youtuber': 9, 'ramanchopra': 3, 'banipl': 3, 'mentor': 3, 'sudden': 6, 'january': 9, 'yuvahunkar': 3, 'begging': 6, 'travelled': 3, 'newyork': 3, 'alumni': 3, 'itihaas': 3, 'bv': 3, 'asca': 3, 'ah': 6, 'philanthropist': 6, 'jungli': 6, 'billiconfusion': 3, 'sehna': 3, 'attracts': 6, 'anger': 3, 'rajdeep': 6, 'sj': 3, 'soriful': 3, 'teku': 3, 'swgat': 3, 'badalavaye': 3, 'isleye': 3, 'izaat': 3, 'helpful': 6, 'justiceforchutki': 3, 'sob': 3, 'dikho': 3, 'appne': 3, 'majhab': 6, 'chsch': 3, 'usool': 3, 'wafadaar': 6, 'maunmohan': 3, 'topa': 3, 'sweta': 9, 'swetamemes': 3, 'dreamer': 3, 'wordsplayer': 6, 'hiteshkikahani': 6, 'hiteshmotwani': 6, 'brokendreams': 3, 'dreamworld': 3, 'bigdreams': 3, 'dreamcatchers': 3, 'dreamchasing': 3, 'devoleena': 3, 'mahira': 3, 'baddie': 3, 'shefali': 3, 'discount': 3, 'saddlers': 3, 'rulaa': 3, 'haaaan': 3, 'duggal': 3, 'karavo': 3, 'modiunstoppable': 3, 'fizayein': 3, 'badlengi': 3, 'bajrangbli': 6, 'kaafir': 3, 'longlife': 3, 'sprit': 3, 'bangaloreriots': 3, 'bangalore': 9, 'ishqtera': 3, 'ishqshayari': 3, 'drags': 3, 'weddings': 3, 'woo': 6, 'gayjoo': 3, 'bhulnaa': 3, 'bithaa': 3, 'denaa': 3, 'phark': 9, 'offered': 3, 'dngai': 3, 'betey': 3, 'potey': 3, 'waley': 3, 'siwa': 12, 'wafadar': 6, 'bolywood': 3, 'ager': 6, 'kamyab': 3, 'viklaang': 3, 'jub': 6, 'corontine': 3, 'jasleen': 3, 'discussed': 9, 'tasted': 6, 'whisky': 3, 'brandy': 3, 'vodka': 3, 'tequila': 3, 'feni': 3, 'rum': 3, 'toddy': 3, 'rashmeet': 3, 'scenes': 21, 'jalan': 3, 'kero': 3, 'uperse': 3, 'padosi': 6, 'wh': 3, 'chhotisi': 3, 'gudiya': 6, 'khangressi': 3, 'rajaon': 3, 'pishab': 3, 'hardy': 3, 'sandhu': 3, 'aje': 6, 'mileya': 3, 'jide': 3, 'ankhaan': 3, 'shakla': 3, 'customersconfusionwho': 3, 'behaving': 3, 'chahete': 3, 'kalakar': 3, 'didar': 3, 'saiba': 3, 'worldteaday': 3, 'hogae': 3, 'remember': 24, 'mytwitteranniversary': 3, 'qawwali': 3, 'connecting': 3, 'confusionadding': 3, 'confusiondirecting': 3, 'telcos': 3, 'mapping': 3, 'gyo': 6, 'ramnagar': 3, 'gulzar': 6, 'jayengi': 3, 'ogre': 3, 'supprrrrr': 3, 'starrr': 3, 'korengi': 3, 'venue': 3, 'vaishalivaishnav': 3, 'tensed': 6, 'destroyed': 9, 'prachundi': 3, 'neha': 9, 'bwahahahahaha': 3, 'umarrrr': 3, 'jaaaan': 3, 'nahhhh': 3, 'pca': 3, 'boywithluv': 3, 'themusicvideo': 3, 'yesab': 3, 'khene': 3, 'batain': 3, 'hamehsa': 3, 'realityoflife': 3, 'creat': 6, 'phela': 9, 'besides': 3, 'calmly': 3, 'fokle': 3, 'bussnes': 3, 'pesa': 18, 'kamana': 6, 'volunteers': 6, 'detained': 3, 'rising': 6, 'inflation': 3, 'fear': 3, 'indiaagainstfuelpricehike': 3, 'karvama': 3, 'sudhi': 6, 'karso': 3, 'marva': 3, 'akhi': 6, 'olkhej': 3, 'tatkalik': 3, 'rokvama': 3, 'ave': 9, 'dedia': 3, 'yeto': 9, 'nainsafi': 3, 'upelection': 3, 'timetogrow': 3, 'chta': 6, 'khoish': 3, 'uthayi': 6, 'aranb': 6, 'dhokar': 3, 'sureshbhai': 3, 'aptly': 3, 'majnu': 6, 'bazaar': 6, 'kism': 3, 'paataha': 3, 'pouche': 3, 'r8': 3, 'kartaha': 3, 'hotaha': 3, 'alvi': 3, 'surakshit': 6, 'smartphone': 3, 'awxom': 3, 'soorat': 6, 'chaahane': 3, 'gosh': 6, 'knew': 6, 'babes': 6, 'bnti': 3, 'khelogi': 3, 'tumpar': 3, 'gujregi': 6, 'jhelogi': 3, 'shiksha': 6, 'isolating': 3, 'wipes': 3, 'distinction': 3, 'btwn': 3, 'thus': 9, 'hurts': 6, 'antagonises': 3, 'pawar': 6, 'angle': 3, 'shameful': 9, 'honour': 3, 'clarification': 3, 'supported': 3, 'cment': 3, 'knowing': 9, 'biasedbiggboss': 3, 'ritika': 3, 'lesbian': 3, 'jaau': 12, 'kaatilaana': 3, 'bilqul': 3, 'ilzaam': 3, 'gaur': 6, 'soocha': 3, 'jhuthe': 3, 'jhuggiyo': 3, 'lopa': 3, 'zone': 6, 'ptivate': 3, 'milunga': 6, 'satate': 3, 'newiv': 3, 'pakode': 3, 'neemuch': 6, 'jeh': 6, 'mashala': 6, 'enna': 3, 'raab': 3, 'banayaa': 6, 'shaheb': 3, 'fully': 9, 'hariyana': 3, 'shortage': 3, 'worried': 6, 'hardi': 3, 'strategy': 12, 'indefinite': 3, 'accepts': 3, 'andheron': 3, 'sulaah': 3, 'parveenshakir': 6, 'tariqsblog': 3, 'recevie': 3, 'ple': 6, 'maharashtrapolitics': 3, 'elements': 3, 'nonutnovemeber': 3, 'walaikumussalam': 3, 'kahein': 3, 'shaheerasdev': 3, 'krpab': 3, 'kuchrangpyarkeaisebhi': 3, 'hmanoids': 3, 'destroy': 3, 'beyond': 9, 'clues': 3, 'expose': 6, 'newer': 6, 'ways': 3, 'camouflage': 3, 'atrocities': 3, 'ramji': 9, 'fireworks': 6, 'thingscricketfanssay': 3, 'scream': 3, 'rakhaa': 3, 'excreta': 3, 'pradhanmantriji': 3, 'sapath': 3, 'subsidy': 6, 'hisse': 3, 'landacquisitionact': 3, 'niki': 3, 'varma': 3, 'bangya': 3, 'bhayoo': 3, 'dhkhne': 3, 'naali': 3, 'kide': 3, 'malaria': 3, 'macchar': 3, 'bimar': 9, 'l0ve': 3, 'hmse': 6, 'thekedar': 6, 'osai': 3, 'balika': 6, 'donde': 3, 'bhadwe': 6, 'achche': 12, 'pustack': 3, 'jethalal': 3, 'fevo': 3, 'jalebi': 9, 'vilas': 3, 'muvi': 3, 'san': 9, 'yees': 3, 'tumilatohaina': 3, 'hack': 6, 'browser': 3, 'dall': 3, 'bhoshriwala': 3, 'iq': 6, 'patrakars': 3, 'bithao': 3, 'variant': 6, 'svatantra': 3, 'pradhanmantri': 6, 'sastriji': 3, 'nidar': 3, 'smileyconfusion': 12, 'thedramacompany': 3, 'robo': 6, 'achho': 3, 'hansi': 9, 'muskurane': 3, 'aapana': 3, 'deemagi': 3, 'santulan': 6, 'actuly': 3, 'desrve': 3, 'thnks': 6, 'travelwithvickzee': 3, 'picoftheday': 12, 'fashiongram': 3, 'fashionstyle': 3, 'mumbaikar': 3, 'rajasthandiaries': 3, 'alla': 3, 'nirakaar': 3, 'palko': 3, 'sazayenge': 3, 'magne': 3, 'fedup': 3, 'charity': 3, 'khood': 6, 'nark': 3, 'boycottsalmankhan': 3, 'sushantsingrajput': 3, 'punishment': 3, 'reserved': 6, 'speaker_high_volume': 3, 'crunch': 3, 'kv': 6, 'shauryaauranokhikikahani': 9, 'shakhi': 15, 'devir': 3, 'yakin': 9, 'bhow': 6, 'shayarsoul': 3, 'yasmeen': 3, 'disst': 3, 'ferozpur': 3, 'mushibat': 3, 'gahdi': 3, 'olx': 15, 'covering': 6, 'thebetterindia': 3, 'hustle': 3, 'amu': 6, 'bajgaye': 3, 'reaally': 3, 'hosaktha': 3, 'catching': 3, 'terminal': 6, 'dinon': 6, 'obvious': 6, 'dedijiye': 3, 'libir': 6, 'fuelpricehike': 3, 'pite': 12, 'irrigating': 3, 'consideration': 3, 'decisions': 3, 'careerguidance': 3, 'careerawareness': 3, 'counselling': 6, 'indianeducationsystem': 3, 'manane': 6, 'choduhotum': 3, '919501037881': 3, 'tantra': 12, 'darpokjantaparty': 3, 'mehman': 3, 'navazi': 3, 'prevails': 3, 'amongst': 3, 'drad': 3, 'roohon': 3, 'naalon': 3, 'shikast': 3, 'tarannum': 3, 'ghazni': 3, 'mgar': 3, 'rallies': 9, 'tarrakki': 3, 'ei': 3, 'actres': 3, 'cl': 9, 'nmbr': 3, '919593871431': 3, 'hep': 3, 'gurupurnima': 3, 'dearest': 3, 'guruoooconfusion': 3, 'bhada': 3, 'togadiya': 3, 'instigated': 3, 'sakht': 6, 'laundo': 3, 'pigalna': 3, 'pigale': 3, 'nikalti': 6, 'bataiga': 3, 'twiitter': 3, 'ligon': 3, 'betul': 9, 'longweekend': 3, 'weekendvibes': 9, 'travelphotography': 3, 'palmtrees': 3, 'sunset': 6, 'magi': 3, 'pationt': 3, 'fata': 3, 'janabh': 3, 'gujjuboytitanium': 3, 'nagma': 6, 'teacherskeptical': 3, 'hesitantrsab': 3, 'rstudentskeptical': 6, 'hesitantrtaleem': 3, 'rteacher': 3, 'kaisay': 3, 'hesitantrq': 3, 'kitaben': 3, 'kholtay': 3, 'ajati': 3, 'khubsurt': 3, 'taara': 3, 'sikulfi': 3, 'ssg': 3, 'myra': 3, 'kulfi': 3, 'kulfikumarbajewala': 3, 'aakritisharma': 3, 'mohitmalik': 3, 'myrasingh': 3, 'aee': 3, 'memmories': 3, 'rajakvishal': 3, 'choudhary': 3, 'gansa': 3, 'jat': 3, 'lakecitysalvi': 3, 'chitorgarh': 3, 'bengali': 3, 'kardena': 3, 'rafal': 3, 'udne': 6, 'tank': 3, 'milliles': 3, 'tumarey': 3, 'charno': 3, 'maihi': 3, 'jagat': 6, 'tumi': 3, 'janamdata': 3, 'shukhi': 3, 'tumri': 3, 'paheychan': 3, 'janey': 9, 'tumbin': 3, 'baggaji': 6, 'dildomodiko': 3, 'bjne': 6, 'gpsc': 3, 'psi': 3, 'hirendave': 3, 'uthegi': 3, 'taqdeer': 6, 'nye': 3, 'humain': 6, 'sikhya': 3, 'unlockone': 3, 'ochlo': 3, 'harai': 3, 'tumhai': 3, 'pehlai': 3, 'krtiti': 3, 'salfish': 3, 'stopped': 6, 'bajenge': 3, 'miloge': 3, 'raeesbyrail': 3, 'bangerrr': 3, 'blcne': 3, 'numbr': 3, '2_': 3, 'blance': 3, 'aayeg': 3, 'samjho': 12, 'prdp': 3, 'rul': 3, 'plzzzzzzzzzzzzzzzzzzzz': 3, 'acoustic': 6, 'dharmo': 6, 'uparwale': 3, 'taxauditdate': 3, 'heavyrain': 3, 'rajputboy': 3, 'dadaji': 6, 'bhudhhe': 3, 'laptop': 9, 'coty': 3, 'administration': 6, 'covaxin': 3, 'covishield': 3, 'memos': 3, 'andher': 3, 'nagari': 3, 'yhm': 3, 'bulava': 3, 'kriyansh': 6, 'magic': 6, 'pehleninse': 3, 'kahen': 3, 'smarthakon': 3, 'unblock': 3, 'aarohi': 6, 'cnfused': 3, 'au': 6, 'bhavya': 3, 'jaylimboj': 3, 'hamojha': 3, 'mojemoj': 3, 'array': 3, 'memers': 6, 'suzav': 3, 'ankit': 6, 'akhlak': 6, 'udhav': 3, 'thakre': 6, 'goonda': 6, 'bahubalis': 3, 'mantriyo': 3, 'capital': 9, 'batlah': 3, 'rif': 3, 'boldiye': 3, 'baant': 3, 'dooriyan': 3, 'khuddar': 3, 'horns': 3, 'sharaabi': 3, 'bkz': 3, 'learned': 6, 'lundconfusion': 3, '19': 6, 'saloo': 6, 'appreciates': 3, 'vishwas': 12, 'ankhiyo': 6, 'nazro': 6, 'display': 9, 'rath': 9, 'itarsi': 3, 'yanha': 9, 'tarsata': 3, '8': 9, 'lub': 3, 'khyalon': 3, 'dooba': 6, 'alam': 6, 'hardam': 3, 'humdam': 3, 'mayusiyaan': 3, 'jigood': 3, 'preiminister': 3, 'mitte': 3, 'chulah': 3, 'kachchi': 3, 'tapre': 3, 'pene': 3, 'urek': 3, 'waqet': 3, 'shochaleynh': 3, 'labharteon': 3, 'kremchareon': 3, 'chokidaron': 3, 'udaya': 3, 'pidha': 3, 'dekrkya': 3, 'hykabi': 3, 'grebi': 3, 'chhodh': 3, 'bhagna': 3, 'kethal': 3, 'pdh': 3, 'funeral': 6, 'method': 3, 'khaneor': 3, 'criticis': 3, 'methodactors': 3, 'fakepeoples': 3, 'peyar': 6, 'justicefornarendragiri': 3, 'bhusaconfusion': 3, 'raspberryosed': 3, 'bharet': 3, 'badel': 3, 'samerthak': 3, 'hindurastr': 3, 'murteyatorenge': 3, 'akranta': 3, 'jha': 9, 'apnavote': 3, 'bajrangibhai': 9, 'jaynge': 3, 'dkhne': 3, 'lockdownextended': 12, 'persons': 3, 'tries': 3, 'anay': 3, 'tumahara': 9, 'nudes': 3, 'mange': 12, 'backchodi': 3, 'ooyee': 3, 'stressetongue': 3, 'stressed': 6, 'branded': 6, 'top_hat': 3, 'amberi': 3, 'bhatje': 3, 'zhandu': 3, 'balm': 6, 'nikalega': 3, 'utpatti': 3, 'trio': 9, 'fairies': 3, 'vamps': 6, 'messy': 6, 'silly': 3, 'salimkhan': 3, 'baycottsalmankhanmovies': 3, 'justiceforsushantsinghrajput': 6, 'resolved': 3, 'happyinternationalteaday': 9, 'chaipoint': 3, 'chaisuttabar': 3, 'saaye': 3, 'ahmiyat': 3, 'smjhe': 12, 'anshu': 9, 'chudasma': 3, 'tujhsay': 6, 'mahobbat': 3, 'baam': 3, 'maalish': 3, 'kapada': 3, 'nanamk': 3, 'tave': 3, 'halkaa': 3, 'kark': 3, 'seikh': 3, 'thick': 3, 'hojaeyga': 3, 'cantonese': 3, 'british': 3, 'popularised': 3, 'brought': 9, 'arabs': 3, 'hindutva': 12, 'folks': 3, 'nationals': 6, 'devdutt': 3, 'pattanaik': 3, 'akdha': 3, 'indiavsscotland': 3, 'yw': 3, 'thee': 3, 'haune': 3, 'radhv': 3, 'aakhr': 3, 'nagin': 3, 'ritik': 3, 'mid': 9, 'intrrval': 3, 'swachhbharat': 6, 'zagrook': 3, 'maiin': 3, 'rishtaidaar': 3, 'aatai': 3, 'aataai': 3, 'relationshipgoals': 3, 'hardysandhu': 3, 'mennu': 3, 'jidete': 3, 'ankhkha': 3, 'hutiyapa': 3, 'mewar': 9, 'pause': 3, 'maharana': 6, 'pratap': 6, 'chetak': 3, 'cometment': 3, 'muskuraht': 3, 'pehchaan': 6, 'bhonkte': 6, 'bhonkne': 3, 'trofy': 3, 'layega': 3, 'showstopperasim': 9, 'asimneedsyousalman': 6, 'asimriazwinninghearts': 3, 'sabra': 6, 'dildaar': 6, 'phikr': 6, 'zindadi': 6, 'haule': 30, 'jayaga': 6, 'rumours': 3, 'dikhave': 3, '44': 3, 'duss': 3, 'jasmin': 6, 'jasmindeservescomeback': 3, 'pichatesath': 3, 'ajayabi': 3, 'bavare': 3, 'piddibhakto': 3, 'shaayad': 3, 'rog': 3, 'lagaana': 3, 'sail': 3, 'campus': 3, 'pakde': 6, 'hostelmemories': 3, 'takar': 3, 'indvsuae': 6, 'punchnama': 6, 'cinemaconfusion': 3, 'tau': 3, 'alll': 3, 'msgs': 9, 'mayne': 3, 'daka': 6, 'serif': 3, 'vidio': 6, 'gaanjaa': 3, 'longo': 3, 'adjust': 3, 'pohch': 6, 'hand_with_fingers_splayed': 9, 'yaali': 3, 'wdf': 3, 'solved': 6, 'chammachi': 3, 'victorious': 3, 'hereafter': 3, 'daag': 6, 'maarna': 3, 'khalistani': 3, 'huuuuuuu': 3, 'hobi': 3, 'huhhhhhh': 3, 'poetrylovers': 3, 'sharan': 3, 'prareshan': 3, 'caaprotest': 3, 'amplifying': 3, 'saving': 3, 'weapon': 3, 'istandwithtwitterindia': 3, 'twitterindia': 3, 'karooooo': 6, 'salmannnnnn': 3, 'daey': 3, '70': 3, 'bahijaan': 9, 'maka': 3, 'begins': 6, 'arahe': 3, 'ratio': 6, 'page_facing_up': 3, 'nikalne': 12, 'flying': 9, 'duster': 3, 'received': 6, 'zakham': 3, 'bangbangtitletrack': 3, 'hnsakar': 3, 'jiwanbhar': 3, 'chnda': 3, 'dilaega': 3, 'jagaega': 3, 'jid': 3, 'table': 12, 'ravivaar': 3, 'poorane': 3, 'person_walking': 9, 'jayalalitha': 3, 'ramlingraju': 3, 'satyam': 3, 'walaconfusion': 3, 'confuse': 12, 'hlw': 9, 'bewkuf': 9, '18': 3, 'mnt': 9, 'doublecollab': 3, 'hindiquotes': 3, 'keeper': 3, 'howar': 3, 'loveeeeeeeeeeeeeeeeeeeeeeee': 3, 'uuuuuuuuuu': 3, 'salmaannnnnnnnmnmm': 3, 'delet': 3, 'demotivate': 3, 'justiceforcarry': 3, 'atmanirbharbharatabhiyaan': 3, 'mahesh': 9, 'ishqconfusion': 3, 'atcha': 3, 'qusor': 3, 'challage': 3, 'mushlman': 3, 'wwooww': 3, 'atal': 3, 'thaab': 3, 'parega': 3, 'angrej': 3, 'bhagegi': 3, 'samrthak': 3, 'juda': 12, 'kamino': 9, 'altogether': 6, 'tumsa': 6, 'masum': 12, 'chinta': 12, 'angel': 3, 'facebookban': 3, 'fayan': 3, 'maahi': 6, 'beete': 3, 'lamhein': 6, 'dhadak': 3, 'dilko': 6, 'mohabat': 3, 'haale': 3, 'bhangdu': 3, 'lassi': 3, 'soghu': 3, 'ff': 6, 'insanely': 3, 'rambhakt': 3, 'luhngi': 3, 'muhme': 3, 'kasiy': 3, 'khusy': 3, 'wel': 3, 'shakta': 9, 'melt': 3, 'pissful': 3, 'proudtobeamuslim': 3, 'sapourt': 3, 'hole': 3, 'nac': 3, 'bhabi': 6, 'bakhath': 3, 'samalkhe': 3, 'rakhogejara': 3, 'veri': 3, '09627010944': 3, 'toolkit': 3, 'darlo': 3, 'sttocross': 3, 'crinayear': 3, 'sharmila': 6, 'khuchdi': 3, 'paka': 3, 'rehli': 3, 'usy': 6, 'hijr': 3, 'drummer': 3, 'bdhpan': 3, 'bangdu': 3, 'acts': 3, '9818463635': 3, 'pka': 3, 'kaisy': 9, 'sakty': 3, 'zzzzzzz': 3, 'zz': 3, 'staymanmauji': 9, 'bemanmauji': 9, 'registered': 9, 'shahpur': 3, 'brutality': 3, 'kehana': 6, 'yatriyo': 3, 'hamla': 9, 'chele': 3, 'sanskruti': 3, 'bhulte': 3, 'zalil': 6, 'ssly': 3, 'puchegi': 3, 'shakal': 6, 'dostokadostsid': 3, 'surati': 3, 'vidyarthiyo': 3, 'jaher': 3, 'amrut': 3, 'rupi': 3, 'mol': 3, 'countdown': 6, 'parentsworshipday': 6, 'apologise': 12, 'shakshiyat': 6, 'sadhvi': 3, 'purohit': 9, 'tyaaun': 3, 'tyaun': 3, 'pachtaega': 3, 'laut': 6, 'satisfy': 3, 'edi': 3, 'shilpians': 3, 'shilpiansstrongertogether': 3, 'titan': 6, 'rolex': 3, 'batata': 6, 'tklif': 3, 'schme': 3, 'saha': 6, 'rawat': 3, 'phata': 3, 'pj': 6, 'cus': 3, 'organised': 3, 'poolparty': 3, 'yay': 3, 'joyful': 9, 'qatal': 3, 'usmam': 3, 'dharkan': 9, 'dugdugee': 3, 'mehv': 3, 'raqs': 3, 'tamaasha': 3, 'apfav': 3, 'ldke': 6, 'jobless': 3, 'pdhe': 3, 'pakoda': 12, 'ginti': 3, 'lennge': 3, 'tutna': 3, 'pehele': 3, 'crores': 12, 'terian': 3, 'eh': 3, 'lagde': 3, 'congressforprogress': 3, 'gadi': 12, 'nambar': 9, 'ilm': 3, 'hogay': 3, 'pahlae': 3, 'rajsthan': 3, 'sampurn': 3, 'karja': 3, 'maphi': 3, 'chamachagiri': 3, 'pariwar': 12, 'difficult': 12, 'selection': 6, 'anguished_face': 3, 'gehra': 12, 'fahmi': 3, 'baised': 3, 'proove': 6, 'galathu': 3, 'showand': 3, 'stoptargetingasim': 3, 'stopviolencagnstasm': 3, 'modije': 3, 'kalakaar': 3, 'elaj': 3, 'karbane': 3, 'rahbaasi': 3, 'haramipan': 3, 'koakh': 3, 'hyeeee': 3, 'sensible': 6, 'karrha': 3, 'tamat': 3, 'barengan': 3, 'jazirah': 3, 'ladkiyo': 12, 'psand': 3, 'gujaratifood': 3, 'kothewale': 3, 'swipe': 9, 'sundaywibes': 3, 'energydrink': 3, 'healthylifestyle': 3, 'healthforall': 3, 'gulp': 3, 'drinks': 6, 'kkhhday': 3, 'casual': 6, 'experiment': 3, 'mattered': 3, 'phones': 3, 'bkwass': 3, 'lekr': 3, 'chlejaana': 3, 'stubborn': 3, 'apneaap': 3, 'chidh': 3, 'patrkaron': 3, 'milaye': 3, 'sonbhadramassacre': 3, 'anuyai': 3, 'bhosdi': 3, 'ekela': 6, 'insafi': 6, 'paison': 6, 'bidesh': 6, 'narharitea': 3, 'sanchore': 3, 'suvichar': 3, 'lagna': 6, 'badme': 3, 'royenge': 3, 'pakvsind': 3, 'saada': 3, 'ucha': 6, 'wâ': 3, 'theke': 3, 'madi': 3, 'var': 6, 'pilayega': 3, 'extendlockdown': 3, 'sabny': 3, 'kalyani': 6, 'weloveyoushaheer': 6, 'shadessalutetoshaheer': 3, 'singingstarshaheer': 3, 'patrekar': 3, 'peelo': 3, 'naachne': 3, 'legye': 3, 'unclekathoomka': 3, 'sharing': 9, 'urdushayari': 6, 'shayeri': 3, 'shayer': 3, 'shayaris': 6, 'shayaries': 3, 'lootera': 6, 'meaning': 21, 'bhay': 3, 'chaired': 3, 'honorable': 3, 'aada': 3, 'lstconfusion': 3, 'pahl': 3, 'baadat': 3, 'mithi': 3, 'sahna': 3, 'youngest': 3, 'samosa': 18, 'bechna': 3, 'lukhkhe': 3, 'bangbangon': 6, 'um': 3, 'silently': 3, 'srkian': 3, 'srkfanmania': 3, 'srkain': 9, 'precap': 3, 'saviour': 3, 'hopefuly': 3, 'insight': 3, 'hooda': 3, 'dhang': 18, 'marein': 3, 'sons': 6, 'amrishkant': 3, 'mehulnisar': 3, 'wagle': 3, 'aayeye': 3, 'gwa': 3, 'apnate': 3, 'idhr': 3, 'loadshafing': 3, 'hojaegi': 3, 'jalana': 6, 'beyhad': 3, 'tezi': 9, 'guzarta': 12, 'corn': 3, 'flakes': 3, 'flake': 6, 'lakshmi': 3, 'aankhen': 12, 'kta': 3, 'tanna': 3, 'karishmadeservetowin': 3, 'kidar': 3, 'viaha': 3, 'chankya': 3, 'badhna': 3, 'martey': 3, 'jush': 3, 'pkra': 3, 'dalwada': 3, 'nthng': 3, 'agricultural': 9, 'workers': 6, 'muqabala': 3, 'irctc': 3, 'swamiji': 3, 'yogabhyas': 3, 'samauy': 3, 'ubseparable': 3, 'mithai': 3, 'dibba': 6, 'meherbaan': 3, 'apkay': 3, 'muntazir': 3, 'torri': 3, 'role': 12, 'bhulaao': 3, 'pllzzz': 3, 'bow': 3, 'effort': 3, 'mahindra': 3, 'adding': 3, 'garage': 3, 'makkhi': 3, 'btaoo': 6, 'arrey': 9, 'likeamaallikeamaalians': 3, 'dhabba': 6, 'saitan': 6, 'kirdar': 9, 'gurukul': 3, 'adraklehsan': 3, '3nun': 3, 'frnz': 3, 'hunn': 3, 'frenz': 3, 'shq': 3, 'gaam': 3, 'whiskey': 9, 'bear': 9, 'todo': 3, 'bhos': 3, 'moscow': 3, 'jhant': 3, 'jhingur': 3, 'bechunga': 3, 'justiceforcarryminati': 6, 'carryvideoback': 3, 'pappi': 3, 'paeyga': 3, 'boxwithnaps': 3, 'udaipurboxing': 3, 'friendcircle': 3, 'boxer': 3, 'boxers': 3, 'boxinglifestyle': 3, 'boxingchamp': 3, 'boxinggroup': 3, 'boxingteam': 3, 'husky': 3, 'sole': 3, 'taxes': 3, 'mke': 3, 'trips': 3, 'subsidise': 3, 'cars': 9, 'fhemli': 3, 'hyderabadi': 3, 'biryaniconfusion': 3, 'swarabhaskerrocks': 3, 'kunalkamradoublerocks': 3, 'toota': 15, 'saaz': 6, 'naaraz': 6, 'seene': 6, 'dabi': 6, 'aawaaz': 9, 'khaamoshi': 6, 'zindagieksafarhaisuhana': 9, 'guzrega': 3, 'parchayi': 6, 'bdhne': 3, 'teetar': 12, 'fikar': 12, 'chooooooooth': 3, 'booooooooooolaaaaaaaaaaaaaaa': 3, 'offices': 3, 'pangey': 3, 'humsey': 3, 'yese': 9, 'vesa': 3, 'contractor': 3, 'regime': 3, 'viveka': 3, 'sarswati': 3, 'jaynti': 3, 'vandan': 3, 'swimming': 6, 'popat': 3, 'kafirs': 3, 'kurf': 3, 'aajaatah': 3, 'iiiiiiii': 3, 'yehhh': 9, 'thx': 6, 'xtra': 3, 'pdegi': 3, 'heye': 3, 'shahinbag': 3, 'jamiyaislamiya': 3, 'saap': 3, 'soong': 3, 'protesters': 3, 'aajadi': 3, 'banayege': 6, 'liarkejriwal': 3, 'eski': 6, 'vajase': 3, 'dhesh': 3, 'bitane': 9, 'fursat': 9, 'jantacurfewmarch': 6, 'aavmilkarlade': 3, 'tarki': 3, 'karleta': 3, 'bul': 3, 'aisy': 3, 'kuban': 3, 'peeeche': 3, 'paaega': 3, 'ishko': 3, 'jeher': 3, 'ishpe': 3, 'kamraisback': 3, 'kunalkamraroast': 3, 'carryloose': 3, 'bestcomedian': 3, 'harek': 3, 'ankhe': 6, 'menl': 3, 'jindagani': 3, 'duja': 6, 'bao': 3, 'wok': 3, 'belongs': 3, 'gandhinagar': 3, 'nominating': 3, 'kunwar': 3, 'kasto': 3, 'ramrailo': 3, 'sunil': 9, 'brahmand': 3, 'hamarein': 3, 'thakan': 6, 'goud': 3, 'unjaani': 3, 'hawao': 6, 'gunati': 3, 'pedon': 3, 'pattiyaan': 3, 'teher': 3, 'hisar': 3, 'gujjus': 12, 'pappus': 3, 'ths': 6, 'fking': 3, 'roadies': 3, 'chutiyas': 3, 'raghu': 3, 'ranvijay': 3, 'samshte': 3, 'anjoy': 3, 'gaaliya': 9, 'lavde': 3, 'tunenstrst': 3, 'madt': 3, 'entrst': 6, 'magr': 9, 'tuna': 3, 'sonanimurat': 3, 'studios': 3, 'reputation': 6, 'maintain': 3, 'haifyaha': 3, 'dhar': 6, 'hita': 3, 'pretend': 3, 'classroom': 3, 'department': 3, 'pohoch': 3, 'patna': 6, 'tedi': 3, 'issse': 3, 'sharmaji': 3, 'complited': 3, 'geting': 3, 'bharna': 9, 'complite': 3, 'somthing': 3, 'bst': 6, 'persanaly': 3, 'kariyo': 3, 'aloo': 12, 'adhi': 3, 'hunger': 3, 'tadka': 3, 'nityam': 3, 'telephone_receiver': 6, 'looteron': 3, 'ddvkkr': 3, 'orignal': 3, 'beijjati': 6, 'boycottnetflix': 3, 'bhijwau': 3, 'dhokhebaj': 3, 'alphabets': 3, 'aaspas': 3, 'subanallah': 3, 'dancewithmadhuri': 3, 'growth': 12, 'amith': 3, 'jayshah': 3, 'chowkidarhichorhai': 3, 'taraha': 3, 'dukhniya': 3, 'repent': 3, 'congbolbachchan': 3, 'trendingfrown': 3, 'wewantrohitdhawanontwitter': 3, 'paisewale': 3, 'takatwar': 3, 'marane': 6, 'pane': 12, 'chahia': 3, 'mujha': 6, 'fac': 6, 'aslaam': 3, 'elekum': 3, 'krengy': 3, 'patidev': 6, 'rephrase': 3, 'umpires': 3, 'ovaltest': 3, 'malan': 3, 'indiya': 3, 'kasmir': 6, 'shid': 6, 'adikar': 3, '67': 3, 'kangres': 3, 'bevkuf': 6, 'jitaya': 6, 'visvas': 6, 'todana': 3, 'piliz': 3, 'yowa': 3, 'chalahi': 3, 'palat': 6, 'fitrat': 6, 'kharaab': 6, 'oooyy': 3, 'newtrend': 3, 'viralvideo': 9, 'avseresaurabh': 6, 'fanny': 3, 'bookmark': 3, 'wildwolfi': 3, 'officialwildwolfi': 3, 'inspiredbydevilinyou': 3, 'loveforwildwolfi': 3, 'peaceofmind': 3, 'venom': 6, 'eternals': 3, 'notimetodie': 3, 'jamesbond': 3, 'sanak': 3, 'vidyutjamwal': 3, 'automobile': 6, 'cs': 6, 'vernacular': 3, 'netag': 3, 'vidayakg': 3, 'hattyaconfusionur': 3, 'suraksha': 3, 'gard': 3, 'btakr': 3, 'vidhayek': 3, 'shaded': 3, 'aantakion': 3, 'haton': 3, 'denewale': 3, 'hattya': 3, 'dharem': 3, 'btadetey': 3, 'tonhi': 3, 'tehsocho': 3, 'yarro': 9, 'rightchoicesid': 3, 'often': 9, 'bhuk': 12, 'hamaredesh': 3, 'akshita': 6, 'equal': 6, 'parakshita': 9, 'slays': 3, 'hearts': 9, 'jad': 3, 'shazar': 3, 'naadan': 3, 'firoz': 3, 'satvik': 3, 'tamsi': 3, 'diniya': 3, 'satyendra': 3, 'aapconfusion': 6, 'raver': 3, 'istandwitharvind': 3, 'supremesid': 3, 'abadi': 3, 'badhneke': 3, 'ispe': 6, 'mehsus': 6, 'sooooon': 3, 'dinto': 3, 'gujaro': 3, 'skip': 6, 'pao': 3, 'panelist': 6, 'ob': 3, 'shatranj': 3, 'ludo': 3, 'ubderstand': 3, 'pdho': 3, 'khushiyon': 3, 'treachery': 3, 'sakuni': 3, 'coronawarrior': 3, 'muslimsspreadingcorona': 3, 'alot': 6, 'ummaahhh': 3, 'vaynad': 3, 'pinjab': 3, 'hukomat': 3, 'ifghane': 3, 'pathano': 6, 'maswar': 3, 'gharo': 6, 'khaty': 3, 'kardia': 3, 'rpt': 6, 'dasrat': 3, 'suhana': 12, 'fashionable': 6, 'dslrlover': 6, 'modal': 6, 'instafashion': 6, 'hava': 3, 'mosum': 3, 'peng': 3, 'tanisq': 3, 'samjna': 3, 'beet': 6, 'piyar': 6, 'keliy': 3, 'sidnazz': 6, 'dusare': 3, 'karate': 6, 'jisako': 3, 'jahar': 3, 'khatem': 3, 'lijiae': 3, 'kudh': 6, 'ds': 3, 'marrao': 3, 'overconfident': 3, 'jeetne': 6, 'cskians': 3, 'judo': 3, 'shahe': 3, 'batoha': 3, 'narendramodijindabad': 3, 'harivadanchoksi': 6, 'sahaare': 3, 'guzaare': 3, 'mausami': 3, 'repeatedly': 3, 'humming': 3, 'rid': 3, 'enke': 3, 'abbujaan': 3, 'pokaran': 3, 'shrinathji': 3, 'temple': 9, 'jaghda': 3, 'bone': 3, 'bhagambhag': 3, 'nayay': 3, 'kampani': 6, 'rasan': 3, 'rilyanc': 3, 'annamulle': 3, 'yek': 3, 'distressed': 3, 'lein': 3, 'binsachivalay': 9, 'clerk': 6, 'insaf': 12, 'ugly': 3, 'gre': 3, 'gmat': 3, 'engineers': 3, 'ara': 6, 'kheel': 3, 'bachchon': 9, 'fenko': 3, 'shahi': 3, 'aaditya': 3, 'thakrey': 3, 'satta': 15, 'mo': 3, 'purn': 6, 'collector': 3, 'sansa': 3, 'maregi': 3, 'foje': 3, 'brazil': 3, 'amaaliansnahisudhrenge': 3, 'gong': 3, 'oppa': 3, 'bachio': 6, 'kartay': 6, 'chubhinav': 3, 'insecure': 3, 'brk': 3, 'salutes': 3, 'hazzaro': 3, 'vodaphone': 3, 'hd': 6, 'aau': 3, 'matlabi': 12, 'ayy': 3, 'beh': 6, 'nch': 3, 'rishteydaar': 3, 'batiyata': 3, 'being_human_bajrangi_bhaijaan_6_days_to_go': 3, 'salaa': 3, 'aanssoo': 3, 'goingwiththetrend': 3, 'unexpected': 6, 'fain': 3, 'vl': 9, 'parta': 3, 'gadbd': 3, 'antinationalnarendramodi': 3, 'ertugrulurduptv': 3, 'trt': 3, 'geniusbaekhyunday': 3, 'lockdownextension': 6, 'sharjahfire': 3, 'tecramuigai': 3, 'umndeni': 3, 'huaaaa': 3, 'ashusarcastic': 3, 'indorenagari': 3, 'indoriartist': 3, 'tiktokbanned': 6, 'indorecity': 3, 'indorelove': 3, 'salman_khan': 6, 'ain': 6, 'concern': 6, 'cattle': 3, 'myphotography': 3, 'teacattle': 3, 'assets': 3, 'indiawithmodi': 3, 'abkibaarmodisarkar': 3, 'forcefully': 3, 'forcefullyconfusion': 3, 'mediation': 3, 'sahaara': 3, 'fitoor': 6, 'mohitchauhan': 3, 'latenightlonelymusic': 3, 'guilt': 3, 'commt': 3, 'morn': 3, 'intact': 3, 'chiiiii': 3, 'av': 3, 'watery': 3, 'newzealand': 3, 'campaing': 3, 'mujeh': 3, 'alvida': 6, 'jagne': 3, 'uthne': 3, 'xamzz': 3, 'chaos': 6, 'tujko': 12, 'worthwhile': 6, 'chaii': 3, 'indianidolseason': 3, 'tulapahatere': 3, 'subodhbhave': 3, 'saka': 12, 'samjega': 3, 'kotecha': 3, 'humen': 6, 'anuj': 6, 'anu': 3, 'reaction': 12, 'react': 6, 'nahati': 3, 'nangi': 3, 'hahahaha': 12, 'wakes': 3, 'bloody': 12, 'stucked': 3, 'loans': 3, 'vasoologe': 3, 'intazaar': 3, 'parhtay': 3, 'shorts': 6, 'chose': 3, 'bookgiveaway': 6, 'pollconfusion': 3, 'author': 3, 'importantly': 3, 'garnish': 3, 'sauce': 6, 'participate': 9, 'previous': 6, 'tweetconfusion': 3, 'atyachaar': 6, 'dikhaijara': 3, 'dhul': 3, 'jhokra': 3, 'lovefortea': 3, 'deasisercasm': 3, 'judayi': 3, 'gharz': 3, 'duaon': 6, 'dabanggsalmanindelhithisdec': 3, 'kashmira': 3, 'nirdhosh': 3, 'maag': 3, 'udarwadi': 3, 'purus': 3, 'kanha': 6, 'produced': 3, 'bal': 3, 'newerashortfilmsbybsk': 3, 'rishton': 6, 'nazh': 3, 'zoom': 6, 'moon': 6, 'dhoondhna': 3, '4g': 3, 'dalwaya': 3, 'towns': 3, 'releasemunawarfaruqui': 3, 'shitting': 3, 'pants': 3, 'dowload': 3, 'tapu': 3, 'nashe': 6, 'enthusiastic': 6, 'peeni': 3, 'padegi': 3, 'wednesdaythought': 3, 'ragging': 3, 'constable': 3, 'julam': 3, 'token': 3, 'reopened': 3, 'watt': 3, 'eek': 3, 'chaan': 6, 'anidrkashinathghanekar': 3, 'zantu': 3, 'zut': 6, 'bolata': 3, 'blta': 3, 'nabud': 3, 'karyi': 3, 'parivaar': 6, 'visitor': 6, 'contd': 3, 'ungliyaan': 3, 'taraashte': 6, 'legacy': 3, 'chaloge': 6, 'jaugi': 3, 'approaching': 3, 'namastey': 6, 'peoples': 12, 'restrict': 3, 'buildings': 3, 'movable': 3, 'entity': 3, 'trike': 6, 'toasties': 3, 'mrpuff': 3, 'tricycle': 3, 'productdesign': 3, 'ourvadodara': 3, 'blackandyellow': 3, 'hertz': 3, 'vm': 3, 'transportation': 3, 'earn': 3, 'kyaan': 3, 'fed': 3, 'roul': 3, 'rahuji': 3, 'keshe': 6, 'wanted': 21, 'sequence': 9, 'separate': 3, 'fanbas': 3, 'included': 3, 'khase': 3, 'faad': 18, 'kardiye': 3, 'yua': 6, 'rajniti': 24, 'piss': 3, 'dhamaka': 3, 'pichli': 3, 'mehi': 3, 'kehke': 3, 'sikhe': 3, 'suggestion': 6, 'spell': 3, 'qaafila': 3, 'thahraa': 3, 'pasandidaa': 3, 'pleasure': 3, 'taka': 3, 'khbar': 3, 'acchebite': 3, 'saallagerahokejrewal': 3, 'ku6': 6, 'dreamt': 3, 'stopping': 3, 'hudustan': 3, 'ullo': 3, 'khilaona': 3, 'siksha': 3, 'judge': 15, 'jabse': 3, 'ladi': 3, 'puchlu': 3, 'associated': 3, 'lord': 6, 'simplify': 3, 'viz': 3, 'smey': 3, 'bangladesi': 3, 'naukile': 3, 'volvo': 3, 'tenure': 3, 'delhiriots': 6, 'relate': 12, 'ansar': 3, 'journalist': 6, 'protecting': 3, 'mereya': 3, 'pulwamaterroristattack': 3, 'indiaunited': 3, 'bhoshdike': 3, 'chuuka': 3, 'loog': 9, 'aayva': 3, 'biofuel': 3, 'oil': 3, 'bhatiaji': 3, 'kasan': 3, 'motive': 3, 'carrying': 6, 'ford': 3, 'dubious': 3, 'foundations': 3, 'vivansh': 6, 'chalbazz': 3, 'surtilalo': 3, 'citylights': 3, 'enjoylockdown': 3, 'behappy': 3, 'positiveenergy': 3, 'positivevibes': 3, 'contestalert': 3, 'wcw': 3, 'bolre': 3, 'wii': 3, 'chart': 3, 'masaaledaar': 3, 'yesss': 3, 'dabeli': 6, 'nikta': 3, 'poochte': 9, 'copying': 3, 'entangled': 3, 'grah': 9, 'pravesh': 3, 'paw_prints': 18, 'bloodconfusion': 3, 'izahar': 3, 'angrezz': 3, 'samjhdhari': 3, 'vibhajit': 3, 'samjhdar': 6, 'niaaraha': 3, 'cabprotest': 3, 'cab': 9, 'rajyasabha': 6, 'nor': 9, 'vox': 3, 'hotels': 3, 'cartooon': 3, 'vaiya': 6, 'ahana': 3, 'thm': 9, 'gaaliyan': 6, 'kardenge': 3, 'sikaate': 3, 'lays': 3, 'chaturthi': 3, 'prosperity': 3, 'chukaani': 3, 'antonia': 3, 'padhega': 9, 'parso': 3, 'pravi': 3, 'anchal': 3, 'baghair': 3, 'yearsofgunday': 3, 'brown': 6, 'bhosidke': 3, 'parent': 3, 'zulfo': 3, 'jheel': 3, 'neeli': 3, 'jorrfood': 3, 'taarak': 3, 'glycerine': 3, 'jayegahappy': 9, 'icecream': 6, 'joro': 6, 'paltu': 6, 'congwithkejriwal': 3, 'bulayenge': 3, 'smriti': 3, 'vary': 6, 'sadapproach': 3, 'kasab': 9, 'panguine': 3, 'senna': 6, 'chavi': 3, 'doglapan': 3, 'aisee': 6, 'dikhayenge': 6, 'myshortfilm': 3, 'sanjivkumarauditorium': 3, 'waaliyo': 3, 'aukad': 3, 'achieved': 3, 'saaali': 3, 'asliyat': 6, 'elephant': 9, 'nonveg': 3, 'uspr': 3, 'narra': 3, 'saanse': 3, 'humanityisdead': 3, 'belt': 3, 'em': 6, 'tya': 9, 'rehvani': 3, 'seatbelt': 3, 'accidents': 3, 'measurements': 3, 'joine': 3, 'akhiyon': 6, 'waar': 3, 'shikar': 3, 'dhueydaar': 3, 'jaltaa': 3, 'cigar': 3, 'aar': 6, 'dharne': 3, 'salone': 3, 'hojayenge': 3, 'manayega': 3, 'travels': 3, 'biza': 3, 'pablic': 6, 'dyti': 3, 'navtanki': 3, 'broder': 3, 'sill': 3, 'arilaince': 3, 'saspend': 3, 'aany': 3, 'jagir': 3, 'ider': 3, 'nursery': 3, 'laana': 6, 'wagaire': 3, 'tika': 6, 'iove': 3, 'sulman': 3, 'corporate': 3, 'chil': 3, 'parr': 3, 'lhr': 3, 'nehara': 3, 'pehenta': 6, 'sha': 3, 'pakru': 3, 'chinal': 3, 'pooch': 9, 'gurudwara': 3, 'kichad': 3, 'uchala': 3, 'dropped': 3, 'magaj': 6, 'pathari': 3, 'ferwo': 3, 'footfalls': 3, 'hosla': 3, 'barta': 3, 'chase': 3, 'thum': 3, 'tripletalaq': 3, 'gullaam': 3, 'zahilhai': 3, 'valedictory': 3, 'iyttc': 3, 'kaivalyam': 3, 'academy': 3, 'bhijane': 15, '786': 6, 'folp': 3, 'uf': 3, 'ravani': 3, 'jasdan': 3, 'saleem': 3, 'occupation': 3, 'knjr': 3, 'marwasy': 3, 'btty': 3, 'singersongwriter': 3, 'tealeaves': 3, 'tealeaf': 3, 'morningvibes': 3, 'sundayvibes': 3, 'instatea': 6, 'mistakes': 3, 'vk': 6, 'absadness': 3, 'dressing': 3, 'nakki': 3, 'farm': 3, 'rajneta': 3, 'sochate': 3, 'pitaji': 6, 'janwaro': 3, 'chhin': 3, 'humongous': 3, 'battleison': 3, 'vahiyaathl': 3, 'aamirkhan': 6, 'qsqt': 3, 'sarfarosh': 3, 'mangal': 12, 'charmed': 3, 'lip': 3, 'synced': 3, 'maanta': 6, 'rebel': 3, 'rdb': 3, 'taare': 3, 'perfectly': 3, 'imperfect': 3, 'satyamevjayte': 3, 'ginious': 3, 'raji': 6, 'agya': 3, 'debat': 3, 'bajpai': 6, 'disko': 3, 'dandiya': 3, 'bihario': 3, 'pysa': 3, 'gorment': 3, 'retarn': 3, 'palon': 3, 'showed': 9, 'mazay': 3, 'komal': 6, 'fon': 6, 'crs': 9, 'weloveyousalmankhan': 3, 'liceanse': 3, 'vender': 6, 'sarahi': 3, 'rohila': 3, 'atte': 3, 'window': 9, 'munavvar': 3, 'aagey': 3, 'javaa': 3, 'deviliciousyearsofkick': 3, 'barunga': 3, 'jaab': 3, 'lon': 3, 'chakkr': 3, 'etane': 3, 'baga': 3, 'solutions': 3, 'sankhesvrar': 3, 'khilaya': 6, 'bands': 3, 'shwetayourmicison': 3, 'shwetamicon': 3, 'shweta': 3, 'kain': 3, 'pake': 3, 'yaum': 3, 'shahadat': 3, 'zauj': 3, 'batool': 3, 'abul': 3, 'hasnain': 3, 'amirul': 3, 'mominin': 3, 'syedna': 3, 'mawla': 3, 'ibne': 6, 'karramallaho': 3, 'waj': 3, 'hul': 3, 'karim': 3, 'khayalo': 6, 'ulaja': 3, 'dhaga': 3, 'madhir': 3, 'pyari': 21, 'shubhkamna': 3, 'zaat': 6, 'truptimishra': 3, 'jaayiye': 3, 'raate': 6, 'guzarti': 6, 'council': 3, 'membership': 3, 'panchsheel': 3, 'slogan': 3, 'chini': 6, 'knowyourlegacy': 3, 'dhanyawad': 6, 'bhuuuuuut': 3, 'bapp': 6, 'ghusne': 3, 'shrinagar': 3, 'jn': 3, 'padenge': 3, 'bjpwinningdelhi': 6, 'delhiwithmodi': 3, 'delhiwithbjp': 3, 'kejriwalhataodillibachao': 3, 'kejriwalcheateddelhi': 3, 'pool': 6, 'ist': 3, 'bulayen': 3, 'bhaiyjan': 3, 'meritbasedmasspromotiongtu': 3, 'fls': 3, 'soaps': 3, 'bajaing': 3, 'zhagda': 3, 'af': 6, 'savitridevi': 3, 'escape': 3, 'pur': 3, 'tremendous': 6, 'supperb': 3, 'rockss': 3, 'celebrated': 3, 'bhoonk': 3, 'rested': 3, 'zealand': 3, 'rehege': 3, 'khayege': 3, 'vyavasta': 3, 'uthaye': 3, 'paey': 3, 'charan': 6, 'bringbackgauravpradhan': 3, 'vns': 3, 'hangoutwithfriends': 3, 'sudrega': 3, 'tabtak': 6, 'mirrored': 3, 'plenty': 3, 'wasted': 6, 'hoha': 3, 'carrymianti': 3, 'lhs': 3, 'rhs': 3, 'wal': 6, 'mareda': 3, 'halle': 3, 'ovisey': 3, 'khayaal': 3, 'viku': 3, 'yearsofkhoobsurat': 3, 'khabbis': 3, 'krengeconfusion': 3, 'fml': 3, 'taiyari': 3, 'viruschines': 3, 'goodfriday': 6, 'chinamustexplain': 3, 'bhuladungahits': 3, 'magerwithdcode': 3, 'coronavirusupdates': 3, 'bummprrr': 3, 'hittt': 3, 'saahallah': 3, 'trophies': 3, 'womanconfusion': 3, 'gullyboy': 3, 'nanga': 9, 'hindusthan': 3, 'ldkiya': 6, 'sahruk': 3, 'soldout': 3, 'maahol': 3, 'masterpiecebajrangibhaijaan': 6, 'ghand': 3, 'ukhaada': 3, 'chellicha': 3, 'chellichawebseries': 3, 'thsenseconcepts': 3, 'productionhouse': 3, 'haritrushipurohit': 3, 'filmdirector': 3, 'filmmaker': 3, 'awardwinner': 3, 'virajvijaypatadiya': 3, 'manalijoshi': 3, 'akila': 3, 'batalaya': 3, 'gorgeous': 15, 'jasmine': 6, 'wadra': 3, 'saahab': 3, 'kapilkishaadi': 3, 'kahase': 6, 'suchi': 3, 'khairnah': 3, 'waisabi': 3, 'tenshan': 3, 'movei': 6, 'rhey': 9, 'dekey': 3, 'adath': 3, 'suleymani': 3, 'kida': 6, 'ghusa': 3, 'floop': 3, 'zakat': 3, 'pakistanelections': 3, 'pakistanelection': 6, 'auruss': 3, 'kitno': 6, 'jharkhand': 3, 'chalayen': 3, 'ismein': 3, 'bassi': 3, 'adhikary': 3, 'bhagata': 3, 'mercedes': 3, 'outperforming': 3, 'economycrisis': 3, 'autosectorslowdown': 3, 'cakkr': 3, 'fukreyboys': 3, 'sheet': 3, 'tally': 3, 'apen': 3, 'disrespect': 3, 'matches': 15, 'khilaye': 3, 'experienced': 3, 'warnaa': 3, 'shokh': 3, 'suppport': 3, 'kiji': 3, 'karwana': 6, 'chhahta': 3, 'cena': 3, 'mughe': 3, 'kanpur': 9, 'allahkebandehasde': 3, 'registering': 3, 'covishieldvaccine': 3, 'covidvaccine': 3, 'aarogyasetu': 3, 'intellectuals': 3, 'nopoliticians': 3, 'sincere': 3, 'ghaznicongbjp': 3, 'gazale': 3, 'shahido': 3, 'kehlaoge': 3, 'haare': 3, 'swikar': 3, 'mehrbaan': 3, 'raham': 6, 'mukerji': 3, 'narsi': 3, 'daylockdown': 3, 'tyre': 6, 'showroom': 9, 'gummoning': 3, 'mitayega': 3, 'bhagve': 3, 'elaan': 3, 'asman': 9, 'ugne': 3, 'ssb': 3, 'hasmat': 3, 'sheikh': 3, 'musical': 9, 'tanhajitheunsungwarriror': 3, 'saj': 6, 'sawar': 3, 'gaanje': 3, 'hconfusion': 3, 'panchayatmeme': 3, 'jauga': 6, 'dedi': 3, 'mujhme': 6, 'person_in_suit_levitating': 3, 'payr': 3, 'qubool': 3, 'bewfa': 3, 'charlie': 3, 'pichh': 3, 'adbhut': 9, 'staytuned': 3, 'shashank': 3, 'wacky': 3, 'taraqqi': 6, 'flight': 3, 'kich': 3, 'eno': 3, 'cried': 6, 'meconfusion': 3, 'stronger': 3, 'sakhtlaunda': 3, 'bastards': 3, 'smelled': 3, 'conspiracy': 6, 'corruption': 3, 'plum': 3, 'postings': 3, 'squinted': 3, '24': 3, 'software': 3, 'aato': 6, 'vicharo': 3, 'badlai': 3, 'bringbackvijaynehra': 6, 'sofa': 3, 'hatt': 6, 'ashishnehra': 3, 'caroro': 3, 'caror': 9, 'bangladeshiag': 3, 'nggak': 3, 'waras': 3, 'lah': 3, 'anzerrr': 3, 'aakkkkkk': 3, 'gunaho': 6, 'aankhirat': 3, 'aisslam': 3, 'allaiquem': 3, 'meghastar': 3, 'records': 6, 'salman_bhai': 6, 'bzy': 9, 'paegi': 3, 'cntct': 3, 'mov': 3, 'dekna': 6, 'ahhhhhh': 3, 'conflicted': 3, 'lim': 3, 'daretofail': 3, 'readingcommunity': 3, 'ristedar': 3, 'chahke': 9, 'bhatakta': 6, 'phira': 3, 'lehja': 6, 'hoovi': 3, 'mahegai': 3, 'nafrato': 3, 'adhoora': 9, 'dikhe': 9, 'jgh': 6, 'udhaar': 3, 'relaxed': 3, 'suite': 6, 'karda': 3, 'astonishing': 3, 'abitna': 3, 'sharmana': 3, 'taik': 3, 'iloveu': 3, 'masages': 3, 'akhil': 3, 'bolay': 3, 'mele': 3, 'juaa': 3, 'harkisine': 3, 'kelahe': 3, 'jita': 3, 'vobhi': 9, 'roya': 6, 'johara': 3, 'ledger': 3, 'jlaa': 3, 'sabkuch': 6, 'corono': 6, 'dek': 3, 'jeeti': 6, 'dears': 3, 'prayed': 6, 'sucss': 3, 'nalayako': 3, 'harder': 6, 'humesa': 3, 'essaaa': 3, 'urja': 3, 'hajoro': 3, 'biswa': 3, 'bijai': 3, 'banara': 3, 'bhaizan': 3, 'hoonconfusion': 3, 'bhailove': 3, 'visitied': 3, 'kalbhairav': 3, 'chadhayi': 3, 'suggestions': 9, 'kevi': 3, 'rite': 9, 'jaish': 3, 'abhishekjain': 3, 'gujaratifilm': 3, 'weareahmedabad': 3, 'jagey': 3, 'larney': 3, 'khuwabon': 3, 'aaney': 3, 'uljhi': 6, 'chahthi': 3, 'flap': 6, 'pukka': 3, 'farmaiye': 3, 'bahaaane': 3, 'aaaja': 3, 'vishwasevadiwas': 6, 'teaching': 3, 'darega': 3, 'patloong': 3, 'gili': 3, 'jordaaaarr': 3, 'cops': 6, 'hamy': 3, 'sarokaar': 3, 'mvz': 3, 'dekty': 3, 'baqe': 3, 'ju': 6, 'hajare': 3, 'lokpal': 3, 'hinsa': 3, 'jayaj': 3, 'thera': 3, 'va': 6, 'deshvasi': 3, 'mahamilavati': 3, 'logoko': 3, 'karm': 3, 'kand': 3, 'ruling': 3, 'threat': 3, 'khulegi': 3, 'davai': 3, 'ocsijan': 3, 'aishe': 9, 'count': 6, 'overflow': 6, 'destinations': 6, 'lakepichola': 6, 'heaven': 6, 'monsoonseason': 9, 'monsoondiaries': 6, 'udaipurmonsoon': 6, 'zore': 3, 'zapppad': 3, 'iodex': 3, 'yesi': 3, 'kulhadi': 3, 'qayaam': 6, 'zoaq': 3, 'kaante': 3, 'chubhe': 3, 'iraade': 3, 'badl': 6, 'intizar': 6, 'leli': 3, 'diesel': 6, 'actio': 3, 'flicks': 3, 'modiconfusion': 3, 'rendering': 3, 'stalls': 3, 'comprehensive': 6, 'employment': 6, 'rfta': 6, 'kadi': 6, 'jisa': 3, 'khda': 3, 'lyricses': 3, 'kamna': 3, 'shampoo': 3, 'ghantaa': 6, 'padtaa': 3, 'achee': 3, 'mangta': 6, 'pakistanis': 3, 'ytpak': 3, 'flipkart': 3, 'flavored': 3, 'hc': 3, 'jhanvi': 6, 'lagerahomunnabhai': 3, 'yahin': 3, 'morningthought': 3, 'happymorning': 3, 'achieve': 9, 'greatest': 9, 'goldeheart': 3, 'beingbhaijaan': 3, 'yearsofmainterahero': 3, 'teleghu': 3, 'koh': 6, 'farista': 3, 'kahatai': 3, 'qa': 6, 'maz': 3, 'indicator': 3, 'badlaw': 3, 'sampark': 3, '9451551081': 3, 'sujhaw': 3, 'teachero': 3, 'vetan': 3, 'bdhate': 3, 'threaten': 3, 'vinay': 3, 'ijhaar': 3, 'derna': 6, 'dangai': 6, 'faring': 3, 'jeb': 9, 'nabalig': 3, 'godse': 9, 'utterly': 3, 'tempting': 6, 'kullhad': 3, 'capil': 3, 'mamko': 3, 'sahb': 9, 'circlye': 3, 'discover': 3, 'sea': 9, 'freshly': 3, 'brewed': 3, 'kebab': 3, 'nishtea': 3, 'dayswhynocbi': 12, 'hehehhe': 3, 'brithday': 3, 'randhawa': 3, 'happybirthdaygururandhawa': 3, 'dubi': 3, 'yashwant': 6, 'khisani': 3, 'khamaba': 3, 'noocha': 3, 'bajna': 3, 'handsom': 3, 'raajmaata': 3, 'phul': 6, 'bichha': 3, 'librandu': 3, 'dekiye': 3, 'daang': 3, 'batere': 3, 'jaam': 3, 'chalakta': 3, 'uthta': 3, 'modhiji': 3, 'umide': 3, 'taha': 3, 'anewale': 3, 'kiyki': 3, 'bhaija': 6, 'veeraldesai': 3, 'greenmanconfusion': 3, 'garuda': 3, 'udhna': 3, 'salamsurat': 3, 'greenindiachallenge': 3, 'environmentallyfriendly': 3, 'batkarne': 3, 'bajege': 3, 'imbecile': 3, 'mazaaa': 3, 'gayaa': 3, 'cskvkkr': 3, 'usual': 12, 'rocks': 12, 'celebrateeidwithkick': 3, 'guftgu': 3, 'takh': 3, 'karata': 6, 'gener0us': 3, 'p0stv': 3, 'prsn': 6, 'belev': 3, 'tht': 30, 'c0z': 3, 'obsrvd': 3, 'chize': 9, 'rakhnewale': 3, 'hatani': 3, 'yari': 3, 'dhaka': 3, 'gajakhedi': 3, 'badhey': 3, 'chowkidar': 6, 'soami': 3, 'procedure': 3, 'medicines': 3, 'facilities': 6, 'nishant': 3, 'covidcarecentre': 3, 'fansh': 3, 'bidai': 3, 'nibbas': 3, 'trolling': 3, 'ausvindtest': 3, 'ausvsind': 3, 'barrister': 9, 'arif': 12, 'studied': 6, 'wowo': 3, 'kpda': 6, 'phna': 3, 'istrt': 3, 'colr': 3, 'sikahne': 3, 'kholenge': 3, 'doklepan': 3, 'pilot': 6, 'menifesto': 3, 'doklapan': 3, 'chanryangutta': 3, 'constancy': 3, 'akbaruddinowaisi': 3, 'apaki': 3, 'nitiyo': 3, 'resignmodi': 6, 'votefortmc': 3, 'bengalelection': 3, 'aanahi': 3, 'drove': 3, 'recently': 3, 'sirr': 6, 'cyclon': 3, 'amphan': 3, 'basa': 12, 'anshula': 3, 'adhure': 3, 'mukammal': 3, 'vivek': 6, 'meda': 3, 'adhurimohobbat': 3, 'coronavaccine': 3, 'hawayein': 6, 'barasti': 3, 'mantriji': 6, 'jimedari': 3, 'antrik': 3, 'gayb': 3, 'exposed': 6, 'autoricksas': 3, 'fixer': 3, 'vasool': 3, 'dogla': 3, 'bazi': 3, 'qtl': 3, 'moblinching': 3, 'vqt': 3, 'jivraj': 9, 'bnielite': 3, 'juntacurfew': 3, 'masiha': 6, 'malaika': 3, 'chatukar': 3, 'bhojpuri': 3, 'buta': 3, 'dj': 6, 'shano': 3, 'sohagpur': 3, 'suchii': 3, 'boliii': 3, 'fokatiye': 3, 'fokatiya': 3, 'pataana': 3, 'chaapna': 3, 'cbiarrestsandip': 3, 'awwwwwww': 3, 'kanganavsuddhav': 3, 'cadre': 6, 'mndypharmacists': 3, 'chore': 6, 'cgl': 6, 'medicens': 3, 'furkht': 3, 'khmosh': 3, 'heth': 3, 'minster': 3, 'slipping': 3, 'indvsban': 3, 'musalmaano': 9, 'kokilaben': 3, 'founder': 3, 'lack': 3, 'creativity': 12, 'cloth': 6, 'rilli': 6, 'dawndotcom': 3, 'etribune': 3, 'paki': 3, 'color': 3, 'vscopk': 3, 'creativepakistan': 3, 'igpakistan': 3, 'dilade': 3, 'cultural': 3, 'nautanki': 9, 'jivansathi': 3, 'sapane': 3, 'naghma': 3, 'mangeshkar': 3, 'h0a': 3, 'sal00': 3, 'hojati': 3, 'chodhke': 3, 'woot': 3, 'ghusgaya': 3, 'ayye': 6, 'pwer': 3, 'barkarar': 3, 'losers': 6, 'zodiac': 3, 'rather': 6, 'karma': 3, 'soooo': 6, 'muchhhhhhhhhhh': 3, 'jannatttttttttt': 3, 'masudji': 3, 'bulata': 6, 'jijaji': 3, 'kandhhar': 3, 'ajit': 3, 'davol': 3, 'farzi': 6, 'rashtrawadiyo': 3, 'healer': 3, 'ee': 3, 'sufiaana': 6, 'ishqq': 3, 'sufiaaanaa': 3, 'newera': 3, 'mgnrega': 3, 'garamin': 3, 'chhetro': 3, 'esse': 3, 'ruka': 6, 'esme': 3, 'gram': 3, 'sewk': 3, 'vawisy': 3, 'priwar': 3, 'laln': 3, 'paln': 3, 'including': 6, 'bethenge': 6, 'lakir': 3, 'trailr': 3, 'shammo': 6, 'bajayee': 3, 'faulaad': 3, 'subhkamnayen': 3, 'wowwwwww': 6, 'enjoys': 3, 'mughal': 3, 'mughaleazam': 3, 'tamaam': 3, 'maangti': 3, 'sharmsar': 3, 'dayaar': 3, 'musicforsoul': 3, 'protester': 3, 'neat': 6, 'transperant': 3, 'compititive': 3, 'itt': 3, 'financing': 3, 'hsbc': 3, 'stating': 3, 'jini': 3, 'dosa': 15, 'ankita': 6, 'hirali': 3, 'sista': 3, 'khazana': 9, 'streetfoodsurat': 3, 'sistas': 3, 'nikunjjaviya': 3, 'kjrrival': 3, 'kovada': 3, 'kiyatha': 3, 'badam': 3, 'suhdroge': 3, 'saalon': 3, 'himym': 3, 'realese': 3, 'turant': 3, 'corrector': 3, 'jehadan': 3, 'palle': 3, 'stress': 6, 'dardnak': 3, 'khaii': 3, 'freshhh': 3, 'mehfoz': 6, 'samjhti': 6, 'likhke': 3, 'ofc': 6, 'peesha': 3, 'msv': 3, 'celebrities': 3, 'usage': 3, 'jaubga': 3, 'rift': 3, 'strategic': 3, 'akali': 3, 'droplet': 3, 'saturdys': 3, 'louki': 3, 'tullu': 3, 'saturdaydreams': 3, 'pradarshan': 6, 'tinde': 6, 'bollywod': 3, 'alwyzz': 3, 'salmania': 9, 'rockd': 3, 'shockd': 3, 'hrami': 6, 'kabrustan': 3, 'aamaal': 3, 'fulle': 3, 'pef': 3, 'suraksa': 3, 'namper': 3, 'kamer': 3, 'durdasa': 3, 'riswat': 3, 'khoro': 3, 'undekha': 3, 'ishqaan': 3, 'paramsingh': 6, 'akshitamudgal': 6, 'illegally': 3, 'occupied': 3, 'needful': 6, 'sorrysheru': 3, 'andheri': 3, 'kuttiyo': 3, 'bichariyo': 3, 'nb': 3, 'divek': 3, 'divyankatripathidahiya': 3, 'vivekdahiya': 3, 'bewde': 3, 'muhe': 3, 'behtha': 3, 'turns': 3, 'exact': 3, 'savar': 3, 'tc': 3, 'dostome': 3, 'nce': 3, 'changes': 3, 'loads': 6, 'heist': 3, 'gaaali': 3, 'taswir': 6, 'pol': 6, 'dawa': 3, 'usnki': 3, 'ravana': 3, 'thane': 6, 'prayagraj': 6, 'shramik': 3, 'spl': 3, 'pahuchegi': 3, 'samajao': 3, 'protocol': 3, 'bilateral': 3, 'helpkotastudents': 6, 'ihoik': 6, 'bhansali': 3, 'orang': 3, 'sandila': 3, 'rajputo': 6, 'pujay': 3, 'hasrahi': 3, 'pras': 3, 'canfrans': 3, 'husna': 3, 'rajpoot': 3, 'hasane': 3, 'bansalikabirodhkarenge': 3, 'iftaar': 6, 'farty': 3, 'bz': 6, 'juma': 9, 'sequel': 9, 'hinduism': 3, 'japt': 9, 'abdulla': 3, 'inserting': 3, 'metter': 3, 'anthem': 6, 'gorib': 3, 'investigation': 3, 'kisike': 3, 'dabav': 3, 'shameonmaharashtragovernment': 3, 'cbiforssrhomicidecase': 3, 'bha': 9, 'mahamanthan': 3, 'abuuuu': 6, 'fellings': 3, 'jaannaaaa': 3, 'bacpan': 3, 'badkar': 6, 'tujhsa': 3, 'layee': 12, 'devanand': 3, 'kalabazaar': 3, 'friendshipgoals': 6, 'requirement': 3, 'krado': 3, 'deunga': 3, 'mivsrcb': 3, 'udan': 12, 'nagrikconfusion': 6, 'context': 3, 'limited': 6, 'aglu': 3, 'hrd': 3, 'rps': 3, 'aims': 6, 'genuinely': 6, 'badmashiyan': 3, 'vitamin': 3, 'winters': 3, 'fantrailer': 6, 'jnab': 6, 'pleaz': 3, 'dess': 3, 'acknowledging': 3, 'acknowledgement': 3, 'likhwani': 3, 'cries': 3, 'snapchat': 3, 'existential': 3, 'jun': 3, 'outstanding': 9, 'bhagwa': 3, 'tanhajitraileronnov': 3, 'krre': 6, 'shahjaha': 3, 'makan': 9, 'aarzoo': 9, 'tine': 3, 'hatkar': 3, 'weekendchillout': 3, 'instaphoto': 3, 'hangoutcafe': 3, 'fagani': 3, 'beee': 3, 'raspberrypyar': 3, 'ramza': 3, 'tehroge': 3, 'dafa': 6, 'os': 3, 'kerne': 3, 'bologi': 3, 'abitabh': 3, 'madd': 3, 'kigiye': 3, 'ppe': 3, 'vagera': 3, 'panni': 3, 'bandhna': 3, 'barconfusion': 3, 'tadke': 3, 'rene': 3, 'cofee': 3, 'bowlers': 6, 'wankhede': 6, 'cskvdc': 3, 'rae': 9, 'baadbhi': 3, 'rakhta': 9, 'bepanah': 3, 'utsuk': 3, 'sayd': 3, 'vishwaguru': 3, 'jawabdomodi': 3, 'goongimedia': 3, 'bahrisarkar': 3, 'bahramodi': 3, 'khot': 6, 'brillian': 3, 'tashkentfiles': 3, 'shubham': 3, 'sankhya': 3, 'travelers': 6, 'innova': 3, 'sun_with_face': 9, 'yaatrigat': 3, 'gupt': 3, 'sutron': 3, 'invoice': 3, 'adv': 6, 'debut': 6, 'ijaazat': 3, 'rabb': 3, 'daala': 3, 'maniyo': 3, 'manteri': 3, 'hunjai': 3, 'sangathan': 6, 'liarnsui': 3, 'sauroor': 3, 'tumen': 3, 'bnk': 3, 'lockers': 3, 'freezed': 3, 'kardeti': 3, 'chipakne': 3, 'zadaa': 3, 'pathaka': 3, 'younger': 6, 'skin': 15, 'happymothersday': 3, 'shbdo': 3, 'amoolya': 3, 'varunsharma': 3, 'chhorabamanka': 3, 'carryminatiroast': 6, 'cms': 6, 'opposing': 3, 'chutiyaap': 3, 'machalo': 3, 'cherry': 3, 'machchar': 3, 'vykt': 3, 'jetly': 3, 'mrityu': 3, 'nasiruddin': 9, 'kidr': 3, 'vrajbhai': 3, 'kek': 3, 'pagalpanti': 3, 'completes': 3, 'girne': 3, 'samjhi': 6, 'gravity': 3, 'offcource': 3, 'mannu': 3, 'person_in_bed': 3, 'modiatdavos': 3, 'suvere': 6, 'thekri': 3, 'babe': 3, 'wtng': 3, 'tiger_face': 15, 'muslimconfusion': 3, 'hundu': 3, 'ridiculous': 6, 'hypothetical': 3, 'nationalaward': 3, 'homoeopathic': 3, 'ayurvedic': 3, 'enemy': 3, 'banjare': 6, 'yearsofarijitsingh': 3, 'yearsofasfamily': 3, 'culprits': 6, 'secretsantawishlist': 3, 'taekook': 3, 'cuuuuuute': 3, 'sympathizer': 3, 'minorities': 3, 'atmao': 3, 'goodwill': 3, 'ambassador': 3, 'dams': 3, 'fayde': 3, 'samjao': 12, 'intolerant': 3, 'secure': 9, 'modisarkar': 6, 'modiforall': 3, 'modiglobalpower': 3, 'namoradinha': 3, 'namothankskashi': 3, 'shinupatel': 3, 'devlope': 3, 'sahro': 3, 'gawo': 3, 'ghandhi': 3, 'bechne': 3, 'laaga': 3, 'purr': 3, 'mobil': 3, 'raheta': 3, 'revolting': 3, 'competitive': 6, 'nconfusion': 3, 'jeeneet': 3, 'whytopostpone': 3, 'header': 3, 'zombies': 3, 'hacked': 3, 'bhaio': 3, 'rooth': 6, 'dikat': 9, 'manaya': 6, 'fashla': 3, 'barkaraar': 3, 'aaiieytoh': 3, 'aagyi': 3, 'paramparik': 3, 'makaconfusion': 3, 'ugty': 3, 'nazr': 3, 'thankuu': 3, 'karachirains': 3, 'hahah': 3, 'nj': 3, 'missu': 3, 'bataie': 3, 'thoka': 3, 'allahisgay': 3, 'memory': 9, 'brooklyn': 3, 'beckham': 3, 'engaged': 3, 'supportsahilchandel': 3, 'bethr': 3, 'bethke': 3, 'pichhde': 3, 'behenchod': 3, 'feature': 3, 'laayega': 3, 'nyai': 3, 'upai': 3, 'sextext': 3, 'colombia': 3, 'sri': 12, '2017': 3, 'mebsp': 3, 'jayeg': 3, 'eyesite': 3, 'commendable': 3, 'reworked': 3, 'apku': 6, 'ppochondo': 3, 'dosuman': 3, 'mordabaad': 3, 'zehmat': 3, 'pagla': 9, 'lamp': 3, 'solidarity': 3, 'samaira': 6, 'poo': 3, 'muzhe': 3, 'akher': 3, 'nations': 3, 'khadhu': 3, 'fakar': 3, 'sah': 3, 'pehnte': 6, 'besharm': 6, 'kradeti': 3, 'utane': 3, 'aachhhe': 3, 'kayamat': 6, 'humra': 6, 'bhayi': 3, 'ich': 3, 'mukeshji': 3, 'mrmarket': 3, 'sushmita': 3, 'ekmatra': 3, 'jajba': 3, 'infiltrate': 3, 'surrender': 3, 'chato': 3, 'peechhwada': 3, 'chheel': 3, 'sales': 3, 'maruti': 6, 'covered': 3, 'bhraman': 3, 'korenge': 3, 'garub': 3, 'rthis': 3, 'partiality': 3, 'khandhan': 3, 'loser': 6, 'fekde': 3, 'sambit': 3, 'giddh': 3, 'reletives': 3, 'rehate': 3, 'sunehra': 3, 'immj': 6, 'beth': 12, 'rastriya': 3, 'youjana': 3, 'apartment': 6, 'bhaaijaan': 6, 'latter': 6, 'sidseterifatikya': 3, 'zabardast': 6, 'leak': 3, 'ghalat': 6, 'dollar': 3, 'mall': 3, 'hispirits': 3, 'himotivation': 3, 'hiexpectations': 3, 'hiaspirations': 3, 'namoinhyd': 3, 'derabad': 3, 'himesh': 3, 'jorrur': 3, 'aenge': 3, 'bhaijai': 3, 'saturdaythought': 3, 'bhadak': 3, 'onenationoneelection': 3, 'krishh': 3, 'stry': 3, 'todha': 3, 'fazalijee': 3, 'pepsi': 3, 'faulad': 6, 'fooppy': 3, 'bhus': 3, 'daath': 3, 'dushyon': 3, 'chudae': 3, 'okkat': 3, 'biharelection': 3, 'biharmekaba': 3, 'bhojpuritwitter': 3, 'bakvas': 6, 'vivekananda': 6, 'sacche': 6, 'manushya': 3, 'sochiye': 6, 'abhiii': 3, 'bakiii': 3, 'saallllluuuu': 3, 'trivedi': 9, 'ritviz': 3, 'rahman': 6, 'antiislamic': 3, 'burkha': 3, 'lakhavi': 3, 'announces': 3, 'chandi': 9, 'eight': 3, 'voter': 3, 'machron': 3, 'azar': 3, 'darjano': 3, 'borhe': 3, 'khawateen': 3, 'maleria': 3, 'mubtila': 3, 'intzamia': 6, 'gehri': 3, 'mustafa': 3, 'gadahi': 3, 'finaly': 3, 'shadiyon': 3, 'karodon': 3, 'rupye': 6, 'kharch': 12, 'shreeji': 3, 'rochak': 3, 'garnishwithrenu': 3, 'informations': 3, 'wajod': 3, 'sardars': 3, 'stupids': 3, 'hanji': 3, 'tiaar': 3, 'jooba': 3, 'padhakuu': 3, 'datongue': 3, 'sabaka': 3, 'economic': 6, 'monetary': 3, 'chunk': 3, 'roam': 3, 'barefoot': 3, 'grandchild': 3, 'oven': 3, 'divse': 3, 'chaale': 3, 'fog': 3, 'eysai': 3, 'hash': 3, 'rehay': 3, 'rehiye': 3, 'hogiapki': 3, 'hogior': 3, 'zholi': 3, 'jayegitension': 3, 'haiwish': 3, 'kyi': 3, 'raut': 3, 'pdha': 3, 'susti': 3, 'haqikat': 3, 'mahefil': 3, 'bethkai': 3, 'aabay': 3, 'sowar': 3, 'penay': 3, 'walay': 3, 'jaounga': 3, 'liter': 3, 'pelaounga': 3, 'khelaounga': 3, 'loray': 3, 'bhaijaaaannnnn': 3, 'tuuuuu': 3, 'aajjjaa': 3, 'collab': 3, 'weird': 6, 'instagrammers': 6, 'followtrain': 3, 'urdushayri': 3, 'sharethelove': 3, 'shayriquotes': 3, 'innovative': 3, 'approaches': 3, 'achieving': 3, 'visions': 3, 'bybitgiveaway': 3, 'bybit': 3, 'faan': 3, '9991865726': 3, 'superhits': 3, 'dekhane': 3, 'superdupar': 3, 'drmm': 3, 'lokmanya': 3, 'tilak': 3, 'vrns': 3, 'kahipe': 3, 'guss': 3, 'tiktokforindia': 3, 'bollwood': 3, 'aaan': 6, 'baan': 6, 'dhamaal': 3, 'ash': 6, 'wareh': 3, 'gloves': 3, 'asylum': 3, 'merabharatmahan': 3, 'mtunes': 3, 'waaha': 3, 'kabar': 3, 'jaymabharti': 3, 'nombar': 3, 'chaie': 3, 'wankhedes': 6, 'electroc': 3, 'cci': 6, 'brabounes': 3, 'sobos': 3, 'tubelightonstargold': 3, 'sasta': 6, 'kmaya': 3, 'smaj': 6, 'kiran': 6, 'tisri': 3, 'tandrusti': 3, 'chauthi': 3, 'kamyabi': 3, 'tadko': 3, 'lagse': 3, 'viratians': 3, 'mviratiansontwitter': 3, 'oyo': 3, 'wary': 3, 'insaallhatala': 3, 'preity': 3, 'zinta': 3, 'hindmeri': 3, 'bhatan': 3, 'salammodi': 3, 'rahulvadiya': 3, 'rkvthegamechanger': 3, 'ladhu': 3, 'udass': 3, 'geela': 3, 'manzar': 6, 'talak': 12, 'tutve': 3, 'ghusna': 3, 'mangani': 3, 'spirits': 3, 'ussr': 3, 'kayam': 3, 'regard2': 3, 'love2': 3, 'jabaan': 3, 'bhajji': 3, 'nade': 3, 'dosts': 3, 'baazi': 3, 'ghen': 3, 'chuda': 9, 'sann': 3, 'kyaconfusion': 3, 'choreography': 3, '5pm': 6, 'haanth': 3, 'aapkia': 3, 'gayaab': 3, 'samany': 3, 'chabanek': 3, 'dant': 6, 'khanek': 3, 'sevadal': 3, 'mukhya': 3, 'sangthak': 3, 'murde': 3, 'formed': 3, 'intolerantaap': 3, 'abkibaarmodisarkaar': 3, 'uu': 3, 'rplyy': 3, 'mustt': 3, 'onlyy': 3, 'onee': 3, 'draft': 3, 'saved': 3, 'takes': 9, 'cook': 9, 'thobda': 3, 'aine': 3, 'aavoge': 3, 'patriots': 3, 'kayak': 3, 'pokhamarahai': 3, 'bajgye': 3, 'thaught': 3, 'ssath': 3, 'becoz': 9, 'olwys': 3, 'lck': 3, 'maharashtragovernment': 3, 'junoonein': 3, 'sarfaroshi': 3, 'sarfaroshikitamanna': 3, 'bhagatsingh': 3, 'shaheedidiwas': 3, 'longliveresistance': 3, 'inquilabzindabad': 3, 'rdmarch': 3, 'swallowed': 3, 'vomited': 3, 'yeilds': 3, 'pramod': 3, 'muthalik': 3, 'inlogo': 3, 'banq': 3, 'zehad': 12, 'quranmajeed': 3, 'mutala': 3, 'wafaaon': 3, 'failao': 3, 'antistudentnarendramodi': 3, 'ulfate': 6, 'narazgi': 6, 'khwahish': 3, 'bair': 3, 'bengalelections': 3, 'mothers': 3, 'badhya': 3, 'angrezo': 9, 'soach': 3, 'gahlot': 3, 'haqiat': 3, 'dalle': 3, 'chutiypaa': 3, 'withhinakhan': 3, 'challan': 3, 'bhrunga': 3, 'galo': 3, 'kri': 3, 'dhamkane': 3, 'bhoolna': 3, 'nachos': 3, 'salsa': 3, 'mitticafe': 6, 'auno': 3, 'bhojani': 3, 'chodu': 6, 'kaiku': 3, 'kashmirihinduo': 3, 'genocide': 3, 'naaro': 3, 'aurato': 3, 'azaadi': 3, 'jndbd': 3, 'cycloneockhi': 3, 'chaivinist': 3, 'chaiaddict': 3, 'knowladge': 3, 'cholafali': 3, 'mathiya': 3, 'choo': 3, 'sleepy': 3, 'bajke': 3, 'pataye': 3, 'cmos': 3, 'ost': 3, 'forgive': 6, 'ruined': 6, 'datta': 3, 'pictures': 9, 'black_square_button': 6, 'sometimes': 9, 'assalamalikum': 3, 'aadhri': 3, 'dowaye': 3, 'sadk': 3, 'cinemasconfusion': 3, 'soundcloud': 3, 'singers': 9, 'tic': 6, 'toc': 9, 'haathon': 6, 'touches': 3, 'soul': 12, 'kap': 3, 'messege': 3, 'sv': 3, 'asakeam': 3, 'anjali': 3, 'smiles': 3, 'lasted': 3, 'sold': 3, 'bulbul': 3, 'manan': 3, 'bachate': 3, 'hearted': 3, 'fisrt': 6, 'tripping': 3, 'shreya': 3, 'ghoshal': 3, 'uae': 6, 'becaz': 3, 'kushi': 9, 'qubol': 3, 'kamiyab': 6, 'syko': 3, 'yll': 3, 'bestiii': 3, 'barosa': 3, 'kaar': 3, 'jauneliya': 3, 'worthless': 3, 'phekne': 3, 'dumping': 3, 'mughhhhhe': 3, 'vajan': 3, 'padoshi': 3, 'bevda': 6, 'uthal': 3, 'puthal': 3, 'paiye': 3, 'swine': 3, 'flu': 3, 'shift': 3, 'nirnay': 9, 'aarey': 3, 'vaidhanik': 3, 'chetavni': 6, 'berozgar': 9, 'shakkar': 3, 'zokhim': 3, 'parinaam': 3, 'bhayankr': 3, 'shar': 3, 'gairat': 3, 'paaglo': 3, 'chuslets': 3, 'bolengi': 3, 'envy': 3, 'gayela': 3, 'meraadarshsid': 3, 'feet': 6, 'bhooot': 3, 'piyaare': 3, 'arrestsureshchavhanke': 3, 'damnit': 3, 'utni': 6, 'jaoga': 3, 'arnabgoswamy': 3, 'bartav': 3, 'tedhahaiparmerahaifelfie': 3, 'karmchariyo': 3, 'mehgai': 6, 'bhathha': 3, 'tofha': 3, 'aazam': 3, 'kutty': 3, 'zalill': 3, 'gajera': 3, 'najara': 3, 'keshavpura': 3, 'dukaandaar': 3, 'kholkar': 3, 'dety': 3, 'sareaam': 3, 'ulanngan': 3, 'pov': 3, 'bakta': 3, 'jootha': 9, 'lombdi': 3, 'huiii': 3, 'devlopment': 3, 'karoro': 6, 'manoge': 3, 'tikhi': 3, 'kraunga': 3, 'chillana': 3, 'captions': 3, 'pinning': 3, 'swachch': 3, 'banadiya': 3, 'intehaan': 3, 'zat': 3, 'hinto': 3, 'french_fries': 18, 'soft_ice_cream': 12, 'wahconfusion': 3, 'jeeto': 3, 'haaaro': 3, 'sunoo': 3, 'siwae': 3, 'hassan': 9, 'loveufollowers': 3, 'rakey': 3, 'jahilo': 6, 'copyright': 6, 'madarsachap': 3, 'marwane': 3, 'jihadiyon': 3, 'sakshitanwar': 3, 'red_circle': 9, 'ameenconfusion': 3, 'mesg': 3, 'meg': 3, 'faaslo': 3, 'hamein': 3, 'bolly': 6, 'wood': 3, 'badshah': 3, 'sambhali': 3, 'possibleee': 3, 'ksee': 3, 'mulaqaat': 3, 'rep': 6, 'krri': 3, 'rhugiii': 3, 'pkkkaaa': 3, '31': 3, 'ladhkoyo': 3, 'hnsm': 3, 'hne': 3, 'tanu': 3, 'moslim': 3, 'saytan': 3, 'mea': 3, 'chatro': 3, 'nagriko': 3, 'ugra': 3, 'hinsatmakconfusion': 3, 'dango': 3, 'comentry': 3, 'udaharan': 3, 'dukhaya': 6, 'krra': 3, 'udda': 3, 'anamat': 3, 'yuske': 3, 'pkchr': 3, 'ministers': 6, 'impotent': 3, 'paroge': 3, 'nehin': 3, 'bedhadak': 3, 'bewakoofiyan': 3, 'harr': 6, 'kasmein': 3, 'bhigne': 3, 'samet': 3, 'lapet': 3, 'dd': 3, 'yummilicious': 3, 'economical': 6, 'rates': 6, 'purohitthali': 3, 'swiggy': 9, 'ubereats': 3, 'phnke': 3, 'prettiest': 3, 'shoulders': 3, 'womens': 3, 'gained': 3, 'counts': 3, 'yuhin': 3, 'sadaa': 3, 'slb': 3, 'chelsea': 3, 'spoilt': 3, 'dan': 9, 'shades': 3, 'gujaratis': 3, 'chomus': 3, 'bhaijaa': 3, 'believes': 3, 'ntchat': 3, 'machake': 3, 'emperor': 3, 'plez': 3, 'eelaism': 3, 'izaazat': 3, 'shehzad': 3, 'brokensouls': 3, 'souls': 9, 'dontendbepannaah': 6, 'kheencha': 3, 'taani': 3, 'siyapa': 3, 'pragya': 3, 'dali': 9, 'aaega': 9, 'karay': 6, 'islai': 3, 'rahtein': 3, 'marja0ge': 3, 'qaber': 3, 'ja0ge': 3, 'tje': 3, 'dakhega': 3, 'ghtya': 3, 'kio': 3, 'ghaziabad': 3, 'islia': 3, 'karonga': 3, 'dilhi': 3, 'uallu': 3, 'nallo': 3, 'paenge': 3, 'gidadgang': 3, 'pureheartsid': 3, 'ourpridesid': 3, 'pahad': 3, 'khod': 3, 'marogeee': 3, 'atention': 3, 'seeker': 3, 'bujhte': 3, 'agriculture': 3, 'purchased': 3, 'msp': 3, 'scribbling': 3, 'deleted': 3, 'sanatan': 3, 'sanjayraut': 6, 'slides': 3, 'paata': 6, 'muhurt': 3, 'nikalvake': 3, 'sdch': 3, 'vish': 3, 'thhepla': 3, 'marcha': 3, 'thingstodoinanand': 3, 'gujjuoverload': 3, 'apa': 6, 'lollypop': 3, 'cancle': 3, 'annaji': 6, 'besharmiki': 3, 'hade': 3, 'aandolanse': 3, 'bhasmasur': 3, 'deshki': 3, 'pateshani': 3, 'asimanshireunion': 3, 'muzaffarpur': 3, 'saheli': 3, 'taliyao': 3, 'sunayii': 3, 'sharmake': 3, 'wiladat': 6, 'imam': 3, 'red_triangle_pointed_up': 12, 'small_orange_diamond': 9, 'rasm': 6, 'huwi': 3, 'mustufa': 3, 'gharaane': 3, 'studentsboycottofflineexams': 3, 'speaking_head': 3, 'sejad': 3, 'christians': 3, 'raises': 3, 'subramanianswamy': 3, 'dekhsakti': 3, 'ashiki': 3, 'bedardy': 3, 'hishab': 12, 'shikwe': 3, '2mint': 3, 'letest': 3, 'provided': 3, 'bullying': 3, 'narendrasinghtomar': 3, 'dikhre': 3, 'kali': 3, 'spiral_shell': 3, 'iti': 6, 'metrial': 3, 'lifttheinternetban': 3, 'jp': 3, 'ghazab': 3, 'bezzati': 3, 'zarurath': 3, 'diz': 3, 'disappointment': 3, 'bhuliyega': 3, 'agae': 3, 'caaprotests': 3, 'hinduphobicjamia': 3, 'nrcbill': 3, 'declaring': 3, 'aapoutofcash': 3, 'tmhari': 6, 'chera': 3, 'murati': 9, 'pilo': 3, 'prakriti': 3, 'instastorie': 3, 'cutesssst': 3, 'shukar': 3, 'tehelka': 3, 'machega': 3, 'inform': 6, 'educate': 3, 'isai': 3, 'essential': 3, 'duskadum': 3, 'taplik': 3, 'yogimassacre': 3, 'modihataodeshbachao': 3, 'ajana': 3, 'patents': 3, 'beutiful': 3, 'milengi': 3, 'newz': 3, 'nrzz': 3, 'lull': 3, 'aapkichori': 3, 'banaiho': 3, 'wohooo': 3, 'drank': 3, 'unreal': 3, 'toogood': 3, 'achchhakarya': 3, 'person_golfing': 6, 'itengineer': 3, 'sonoffarmer': 3, 'farmlover': 3, 'iphones': 3, 'toxic': 3, 'uglate': 3, 'humay': 3, 'patay': 3, 'ashan': 3, 'sendushomeback': 3, 'sunani': 3, 'bashing': 3, 'raees': 3, 'buffon': 3, 'ita': 3, 'chaisutta': 3, 'clicking': 3, 'imalit': 3, 'chairparson': 3, 'jhabua': 3, 'meghnagar': 3, 'sambodhit': 3, 'tanhaayi': 3, 'hajar': 9, 'liken': 3, 'pardes': 3, 'faimly': 3, 'chaatega': 3, 'kanjhar': 3, 'aish': 3, 'dishta': 3, 'jeetoo': 3, 'pakadna': 6, 'pakadne': 3, 'chang': 6, 'concrete': 3, 'topmost': 3, 'rrb': 6, 'mehfilon': 3, 'ukta': 3, 'luft': 3, 'anjuman': 3, 'bujh': 6, 'padhaa': 3, 'kubul': 3, 'maharashtragovtformation': 3, 'surgicalstrike': 3, 'bjpncp': 3, 'bjpncpgovt': 3, 'booz': 3, 'valentinesweek': 3, 'inframe': 3, 'funnyvideos': 6, 'funnyquotes': 3, 'vines': 3, 'youtubeindia': 3, 'comedyclub': 3, 'modibhakt': 3, 'dritamu': 3, 'lek': 3, 'bezita': 3, 'aku': 6, 'wedi': 3, 'dikamehame': 3, 'ntr': 3, 'varat': 3, 'fab': 3, 'lined': 3, 'raaho': 3, 'chalanaa': 3, 'batayaa': 3, 'patti': 6, 'sedlyf': 3, 'paksh': 3, 'blatkar': 3, 'siraapne': 3, 'chahake': 3, 'lagalo': 3, 'fira': 3, 'jumaa': 3, 'samajwad': 3, 'vikaspurush': 3, 'prakar': 3, 'parantu': 3, 'scotland': 3, 'yard': 3, 'kaarvayi': 6, 'pradhansevak': 3, 'swayamsevak': 3, 'dongiyo': 3, 'khudse': 3, 'jeetprajapatidharamrakshak': 3, 'khushbu': 6, 'shaakhen': 3, 'shajar': 3, 'javedakhtar': 3, 'tollywood': 3, 'southindian': 3, 'conduct': 12, 'covidiots': 3, 'sexist': 3, 'hot_dog': 3, 'mozzarella': 3, 'macroni': 3, 'tarek': 3, 'fatah': 3, 'dedega': 3, 'mountains': 3, 'travelhills': 3, 'hillsofindia': 3, 'hillclimb': 3, 'rideinstyle': 3, 'ridersofindia': 3, 'riderstyle': 3, 'bikersofindia': 3, 'dilhitohain': 3, 'spoilers': 3, 'fakhr': 3, 'kammal': 3, 'chune': 3, 'pardarshi': 3, 'aajtak': 12, '7048830072': 3, 'phas': 3, 'naksa': 3, 'crypto': 3, 'scorcher': 3, 'storage': 6, 'sikhne': 3, 'aakho': 9, 'pitna': 3, 'travelandexplore': 3, 'salmanbhai': 3, 'priceless': 6, '8868026194': 3, 'ladani': 3, 'nirankar': 6, 'satguru': 3, 'savindar': 3, 'lipstick': 3, 'karamat': 3, 'essentials': 3, 'essentialism': 3, 'waahre': 3, 'teta': 3, 'iste': 3, 'lauta': 3, 'appraisal': 3, 'diil': 3, 'chhodna': 3, 'filth': 3, 'aayoge': 3, 'krash': 3, 'shela': 3, 'dvd': 3, 'thin': 3, 'madmi': 3, 'chandramukhi': 3, 'niklega': 3, 'tonite': 3, 'navaratri': 3, 'onwards': 6, 'danda': 6, 'challao': 3, 'kishan': 3, 'sampatti': 3, 'ghumao': 3, 'sarwjanak': 3, 'toor': 3, 'chhao': 3, 'palki': 6, 'consuming': 3, 'abuse': 3, 'lonely': 3, 'dekhie': 3, 'takarir': 3, 'usane': 3, 'fathers': 3, 'countrt': 3, 'kuppi': 3, 'puthe': 3, 'vichil': 3, 'roundcoffee': 3, 'parlance': 3, 'rounds': 3, 'hawkers': 3, 'slowly': 3, 'jigriyaar': 3, 'niraj': 3, 'dhaker': 3, 'padd': 3, 'shown': 9, 'rafale': 3, 'abh': 3, 'hypocrite': 3, 'rhegaye': 3, 'tring': 6, 'yehundinonkibaathai': 6, 'wont': 3, 'ujwala': 3, 'canection': 3, 'dede': 9, 'subcide': 3, 'subsidies': 3, 'vasul': 3, 'lea': 6, 'gase': 3, 'bhrwane': 3, 'compney': 6, 'freegas': 3, 'labharte': 3, 'mhela': 3, 'kma': 3, 'wasul': 3, 'wahaap': 3, 'cooks': 3, 'awoo': 3, 'thevoice': 3, 'busti': 3, 'chhamma': 6, 'kherat': 3, 'bhokna': 3, 'discussing': 3, 'barter': 3, 'mangu': 9, 'mviews': 3, 'kalam': 12, 'opportunist': 3, 'fucoronavirus': 3, 'pyarkarona': 3, 'newwhatsappstatus': 3, 'coronaoutbreak': 3, 'khalil': 3, 'gibran': 3, 'tear': 3, 'zencafeconfusion': 3, 'poojta': 3, 'iinki': 3, 'jhutte': 6, 'chachiye': 3, 'jinka': 3, 'tyohaar': 3, 'bikaner': 6, 'tur': 3, 'surdhna': 3, 'gav': 6, 'thodhi': 3, 'living': 6, 'arrestssrkillers': 3, 'indeng': 3, 'nokri': 3, 'bajane': 3, 'tariler': 3, 'hookah': 3, 'cheesechillytoast': 3, 'cheesetoast': 3, 'hotelshivinternational': 3, 'bhachau': 3, 'ajkal': 3, 'setare': 3, 'sarf': 3, 'hazar': 3, 'bighrat': 3, 'bhin': 3, 'kardonga': 3, 'iw': 3, 'netwark': 3, 'aasman': 12, 'indira': 3, 'buzdilpakistan': 3, 'assan': 6, 'hochuki': 3, 'thorai': 3, 'karchakti': 3, 'slots': 3, 'laari': 3, 'khiloda': 3, 'theatres': 3, 'sandeepaurpinkyfaraar': 3, 'kaiae': 3, 'museebat': 9, 'mubtala': 3, 'tirmizi': 3, 'hadees': 3, 'girayi': 3, 'sentense': 3, 'malvi': 3, 'mashana': 3, 'amc': 6, 'shall': 3, 'apnaaddaa': 3, 'ourway': 3, 'adda': 3, 'hanuma': 3, 'vihari': 6, 'ashwin': 6, 'aagai': 3, 'portfolio': 3, 'selute': 3, 'happymonsoon': 3, 'dctc': 3, 'chalra': 3, 'shody': 3, 'itttttttttt': 3, 'bheje': 3, 'jhokha': 3, 'azaab': 3, 'shukr': 3, 'lago': 3, 'qadrdaan': 3, 'surah': 3, 'nisaa': 3, 'paara': 3, 'teyar': 6, 'jnb': 3, 'yuraj': 3, 'akthar': 3, 'karwaati': 3, 'aburoad': 3, 'gandgi': 3, 'kamaye': 3, 'azaadiyaan': 3, 'bhade': 3, 'tattuo': 3, 'ussy': 3, 'aalwa': 3, 'kamlanth': 3, 'dusyant': 3, 'sihor': 3, 'gadhichod': 3, 'lawdu': 3, 'jhms': 6, 'naam2': 3, 'taxpayer': 9, 'aadmis': 3, 'nears': 6, 'chadd': 3, 'sikhni': 3, 'bevkufo': 3, 'behnchod': 3, 'rehman': 6, 'thokuga': 3, 'quadar': 3, 'baya': 3, 'ijazat': 3, 'parveen': 3, 'shakir': 3, 'bihari': 3, 'radhey': 3, 'haridas': 3, 'taqdirwala': 3, 'cornflake': 3, 'goldflake': 3, 'wad': 3, 'chorhai': 3, 'udaipurblogger': 3, 'instaudaipur': 3, 'udaipurfood': 3, 'devegan': 3, 'hamale': 3, 'karwaoge': 6, 'justify': 6, 'towersconfusion': 3, 'gambling': 6, 'technicals': 3, 'melody': 3, 'wearewithmandana': 3, 'joystick': 3, 'tirnga': 3, 'duni': 3, 'lahraya': 3, 'badhaya': 3, 'bhartvasio': 3, 'toomuch': 3, 'superbly': 3, 'acted': 3, 'directed': 3, 'sultanday': 3, 'rehke': 3, 'gundagardi': 3, 'shohrat': 3, 'gunha': 3, 'aamras': 6, 'bollywoood': 3, 'mangna': 6, 'isbar': 3, 'jyegi': 3, 'preshaan': 3, 'aaapp': 3, 'badaa': 3, 'instamood': 3, 'mandsaur': 6, 'onlineshopping': 3, 'makeupartist': 3, 'couplegoals': 6, 'sadsyata': 3, 'abhian': 3, 'limbdi': 3, 'powell': 3, 'tajikistan': 3, 'gurudev': 3, 'tagore': 3, 'peetho': 3, 'sthapanaa': 3, 'bhaavaatmak': 3, 'ekataa': 3, 'sudridh': 3, 'rjaditi': 3, 'raw': 3, 'jet': 6, 'hahahah': 3, 'clearsky': 3, 'winterphotography': 3, 'xd': 3, 'hottest': 3, 'tvserials': 3, 'besarami': 3, 'tali': 6, 'bajate': 3, 'salamolay': 3, 'chummi': 3, 'inch': 3, 'jumle': 6, 'advaani': 3, 'bhute': 3, 'laghte': 3, 'startups': 3, 'rafter': 3, 'sometime': 3, 'dholka': 3, 'shower': 3, 'yaarijam': 3, 'finch': 3, 'boat': 6, 'forces': 3, 'surly': 3, 'advaance': 3, 'bdhaai': 3, 'bhaizaan': 3, 'worl': 3, 'light_bulb': 3, '_arrow': 3, 'aavi': 9, 'gare': 3, 'reva': 3, 'faydo': 3, 'biggbuzz': 6, 'biggbosskipanchat': 3, 'akashdadlani': 3, 'shilpashindhe': 3, 'priyanksharma': 3, 'jroori': 3, 'slipers': 3, 'pahen': 3, 'kishorkakanivato': 3, 'atbb': 3, 'dhundhu': 3, 'daystodabangg': 3, 'koie': 6, 'pitaee': 3, 'mary': 6, 'yaqen': 3, 'lft': 3, 'karawogy': 3, 'mujey': 3, 'mha': 3, 'inefficiency': 3, 'believing': 3, 'naren': 3, 'sippy': 3, 'hoots': 6, 'raima': 6, 'kahaanhumkahaantum': 6, 'looser': 3, 'rchalo': 3, 'galtiya': 3, 'pencil': 3, 'rubber': 3, 'ujaale': 6, 'phaile': 3, 'jaanu': 3, 'dang': 3, 'dangi': 3, 'naagli': 3, 'bhulyo': 3, 'goodnewwzreview': 3, 'goodnewwz': 3, 'gujaratisong': 3, 'muskano': 3, 'kaaana': 3, 'withbrother': 3, 'brotherlook': 3, 'brothersphotography': 3, 'aamolove': 3, 'aamohairstyle': 3, 'bota': 3, 'shonki': 3, 'chamkile': 3, 'sundi': 3, 'mutiyare': 3, 'punjabilyricsyouliketoscream': 3, 'envious': 3, 'vishala': 3, 'vishalla': 3, 'profileconfusion': 3, 'timaliamt': 3, 'hazaron': 15, 'daastanein': 3, 'alfazon': 3, 'gawa': 3, 'atmavishvas': 3, 'chahoge': 3, 'paooge': 3, 'phon': 3, 'looo': 3, 'yarrrrr': 3, 'shukraguzaar': 3, 'jali': 3, 'lagade': 3, 'yade': 3, 'becho': 3, 'abhot': 3, 'shaadiya': 3, 'bhageedar': 3, 'reactor': 3, 'hso': 3, 'haso': 3, 'manka': 3, 'biswas': 3, 'coincidently': 3, 'coments': 12, 'rozay': 6, 'develop': 3, 'bindassis': 3, 'vishvaas': 3, 'shoghu': 3, 'chaku': 3, 'ghodi': 3, 'shitnaaz': 3, 'contestants': 3, 'screenspace': 3, 'chhotidamini': 3, 'turbanator': 3, 'ayeto': 3, 'khasara': 3, 'istikhara': 3, 'majid': 3, 'chapal': 3, 'zuk': 3, 'khu': 3, 'meer': 6, 'taqui': 3, 'rosadamascena': 3, 'khushiskeptical': 3, 'hesitantr': 3, 'thukarayega': 3, 'nilo': 3, 'lingo': 3, 'fela': 6, 'horhe': 3, 'wewanthousefull': 3, 'acquainting': 3, 'bbv': 3, 'frndz': 6, 'thore': 3, 'aaty': 3, 'wy': 3, 'hehe': 3, 'sochonge': 3, 'khutta': 3, 'chaai': 3, 'stoakes': 3, 'daynighttest': 3, 'pinkballtest': 3, 'christmas_tree': 3, 'karmanye': 6, 'divo': 3, 'skipped': 3, 'faculties': 3, 'existing': 3, 'istemal': 3, 'viswah': 3, 'rhiyega': 3, 'angrezi': 3, 'jhaadte': 3, 'vaii': 6, 'puniya': 3, 'chutitpanti': 3, 'aditi': 6, 'bhugat': 3, 'mijaj': 3, 'payetosamaj': 3, 'muththi': 3, 'lakiri': 3, 'fakari': 3, 'maarta': 6, 'hagg': 3, 'mashaalllah': 3, 'killing': 6, 'tayyar': 9, 'leyland': 3, 'haara': 3, 'badluck': 3, 'srhvdc': 3, 'unsure': 3, 'unsurety': 3, 'mindset': 6, 'unpredictable': 3, 'willing': 3, 'ginna': 3, 'yadgaar': 3, 'recalls': 3, 'spoilerconfusion': 3, 'mooj': 3, 'kerdi': 3, 'lagrahan': 3, 'kerdu': 3, 'salami': 3, 'zoot': 3, 'boycottchhapaak': 3, 'jiggy': 3, 'chirag': 3, 'adored': 3, 'tujako': 3, 'pukare': 3, 'hamlok': 3, 'hamar': 3, 'magte': 6, 'baachhi': 3, 'charming': 3, 'awardee': 3, 'tujpar': 3, 'tairana': 3, 'tairo': 3, 'chaturvedi': 3, 'bhajaan': 3, 'fry': 3, 'nachun': 3, 'atif': 3, 'daaalna': 3, 'vibes': 3, 'harrrrdik': 6, 'sacchi': 9, 'gaano': 3, 'laik': 3, 'gaddri': 3, 'tana': 3, 'jeeb': 3, 'tens': 3, 'bardasth': 3, 'astrologer': 3, 'dedete': 3, 'pahaley': 3, 'jethmalani': 3, 'aamaadmikebadhtekadam': 3, 'merepaasbahutpaisahai': 3, 'armano': 3, 'khakh': 3, 'iraq': 3, 'banayi': 6, 'ripsushantsinghrajput': 3, 'fingariya': 3, 'rolaoge': 3, 'underworldkiunsunikahaani': 3, 'gangistanonspotify': 3, 'jisse': 9, 'khone': 3, 'indoremerishaan': 3, 'valentinesday': 3, 'rjgaurav': 3, 'ew': 3, 'xo': 3, 'khalhadat': 3, 'asknabeel': 3, 'mia': 3, 'kaluwa': 3, 'taaaaaliyaaa': 3, 'saiman': 3, 'pora': 3, 'brosha': 3, 'melunga': 3, 'dekhaoonga': 3, 'shaitan': 3, 'lanti': 3, 'sivaay': 3, 'yumm': 3, 'indiagram': 3, 'instatravel': 3, 'wujud': 3, 'posters': 3, 'kabka': 3, 'certekall': 3, 'behak': 3, 'abaad': 3, 'bears': 6, 'suryakumar': 3, 'asktheexpert': 6, 'bhuvi': 3, 'bjpfalldown': 3, 'daaloge': 3, 'kebangun': 3, 'segini': 3, 'patry': 3, 'jija': 3, 'fadak': 3, 'agaya': 6, 'bcoma': 3, 'mockery': 3, 'gsrtc': 3, 'beacuse': 3, 'bardoli': 3, 'depo': 3, 'followfriday': 3, 'marketing': 12, 'fooling': 3, 'strategyconfusion': 3, 'pahchano': 3, 'hukkabar': 3, 'ranchhod': 3, 'bollo': 3, 'kamnaye': 3, 'congresio': 3, 'addmission': 3, 'khurapat': 3, 'samze': 3, 'library': 3, 'raheh': 3, 'bathing': 3, 'probably': 6, 'symptoms': 3, 'dengue': 6, 'fever': 15, 'muscle': 3, 'rashes': 3, 'headaches': 3, 'diarrhea': 3, 'vomiting': 3, 'solar': 6, 'clinic': 3, 'fighters': 3, 'besthospital': 3, 'bestdoctor': 3, 'lodavat': 3, 'mansik': 3, 'agale': 3, 'vidvano': 3, 'rhege': 3, 'kudca': 6, 'extension': 9, 'drives': 3, 'rashmidesai': 3, 'arhan': 3, 'siddharth': 6, 'flow': 12, 'aslidatagiri': 3, 'aagye': 3, 'paat': 6, 'kadvi': 3, 'jailbreakios': 3, 'waglekiduniya': 3, 'sachai': 6, 'burai': 9, 'chakhaya': 3, 'ghyan': 3, 'nidafazli': 3, 'tra': 3, 'chatenge': 3, 'publicly': 6, 'maagne': 3, 'phatthi': 3, 'nirajchopra': 3, 'theatrical': 3, 'versace': 3, 'lacoste': 3, 'rayban': 3, 'armani': 3, 'menwithclass': 3, 'mensstyle': 3, 'menswear': 3, 'wearemen': 3, 'instamoment': 3, 'instamodels': 3, 'namoinshimla': 3, 'peh': 3, 'vakay': 3, 'happybirthdaysaiee': 3, 'thrilled': 3, 'jigs': 3, 'beat': 9, 'chock': 3, 'suriliji': 3, 'pehanta': 6, 'bena': 6, 'karwakar': 3, 'dekhai': 9, 'jaakay': 3, 'perform': 3, 'tattay': 3, 'corner': 3, 'bachaya': 6, 'ristedaar': 3, 'bhaaijaaan': 3, 'iftari': 3, 'dadhi': 3, 'kalwa': 3, 'bandhe': 3, 'ajmal': 3, 'att': 3, 'sirra': 3, 'kiti': 3, 'arrrey': 3, 'kmaal': 3, 'krtey': 3, 'jayshreeram': 3, 'phirmeriyaad': 3, 'navajay': 3, 'ghai': 3, 'lakinhamari': 3, 'saash': 3, 'jayghi': 3, 'ushkya': 3, 'bhulayghay': 3, 'hafis': 3, 'agge': 3, 'momio': 6, 'phiche': 3, 'kapra': 3, 'apniii': 3, 'samata': 3, 'jukaney': 3, 'roundhtey': 3, 'huvey': 3, 'puratan': 3, 'saallo': 3, 'lagavo': 3, 'machai': 6, 'achii': 3, 'boollywodd': 3, 'khangress': 3, 'kehlaye': 3, 'ghooos': 3, 'badhi': 3, 'voraciouseater': 3, 'pawga': 3, 'virushka': 3, 'ranveersingh': 3, 'deepika': 9, 'vadio': 3, 'tayaar': 3, 'batoon': 3, 'alkhol': 3, 'pig_face': 3, 'jigarktweets': 3, 'ren': 3, 'raajsawa': 3, 'ratlamdiaries': 3, 'akdu': 3, 'ziddi': 6, 'yaat': 3, 'gujjustyle': 3, 'silento': 3, 'dedh': 3, 'saade': 3, 'loksabha': 3, 'chuppa': 3, 'honn': 3, 'antiterrorismday': 3, 'sadti': 3, 'khbis': 3, 'falop': 3, 'beeee': 3, 'flirt': 6, 'attachment': 6, 'louvr': 3, 'layenge': 3, 'ramajan': 3, 'dariyaan': 3, 'sidharhshukla': 3, 'jutha': 6, 'chehara': 3, 'fish': 3, 'bowl': 3, 'rjtathagat': 3, 'thilwaidotcom': 3, 'thilwai': 3, 'redfmindore': 3, 'slowmo': 3, 'philosophy': 3, 'een': 3, 'khusbhu': 3, 'tisara': 3, 'pramaam': 3, 'buckchodi': 3, 'zivadhoni': 3, 'chirkut': 3, 'machayega': 3, 'worldrecordegg': 3, 'fraudarhaankhan': 3, 'nonsensh': 3, 'khena': 3, 'porofayil': 3, 'copi': 3, 'kardona': 6, 'jabardash': 3, 'prasansak': 3, 'niswarth': 3, 'sadaib': 3, 'kgf': 6, 'open_hands': 9, 'dhokay': 3, 'baaz': 3, 'krtay': 3, 'galtiyan': 3, 'jalse': 3, 'payenge': 3, 'wrestler': 3, 'dhobhi': 3, 'pachad': 3, 'merchandiseconfusion': 3, 'parades': 3, 'bikte': 3, 'chhav': 3, 'tadapate': 3, 'gati': 6, 'ramaya': 3, 'vasta': 3, 'fuss': 3, 'volunterily': 3, 'romilathapar': 3, 'cv': 3, 'bajarangi_bhaijaan': 3, 'beinghumansalmankhan': 3, 'musalaman': 3, 'baks': 3, 'svrg': 3, 'snti': 3, 'scrolling': 3, 'taaj': 3, 'bahetar': 6, 'loudspeaker': 6, 'gidgidate': 3, 'rahti': 3, 'stated': 3, 'brigade': 6, 'mlas': 3, 'betrayed': 3, 'nurtured': 3, 'chhed': 6, 'tharafse': 3, 'backlandi': 3, 'binodmemes': 3, 'neck': 3, 'nazroon': 3, 'savidhan': 3, 'suhanaa': 6, 'tmahra': 3, 'ft': 6, 'fries': 3, 'pie': 6, 'shake': 3, 'gentleman': 3, 'proofs': 3, 'reopen': 3, 'uthae': 3, 'bhlibhati': 3, 'thinkaboutstudents': 3, 'communicate': 3, 'ushke': 3, 'hashin': 3, 'tvactors': 3, 'examnotimpotantstudentlifeisimportant': 3, 'cancelgsebboardexams': 3, 'cancelallboardexams': 3, 'justiceforstudents': 3, 'crimefreegujrat': 3, 'kapilsharmashow': 3, 'punjabkings': 3, 'batlahouse': 3, 'sangamcineplex': 3, 'bharatcineplex': 3, 'devotion': 3, 'suub': 3, 'siddhartha': 9, 'cahte': 3, 'padte': 3, 'rasmi': 3, 'opposed': 3, 'formation': 3, 'rammandir': 3, 'questioned': 3, 'greater': 3, 'ideology': 3, 'chhayi': 3, 'srkonlettermanshow': 3, 'chadh': 3, 'universities': 3, 'ugc': 6, 'cancelfinalyearexam': 3, 'atyachar': 6, 'rukega': 3, 'matr': 3, 'bist': 3, 'dahleez': 3, 'sajda': 6, 'khuddaari': 3, 'unt': 3, 'bisleri': 3, 'phechna': 6, 'andh': 3, 'insabko': 3, 'allergy': 3, 'aaiga': 3, 'studentlives': 3, 'sides': 3, 'cityscape': 3, 'bajaata': 3, 'aakhrii': 3, 'payega': 9, 'payga': 3, 'devdaas': 3, 'twin': 3, 'striking': 3, 'resemblance': 3, 'jatana': 6, 'nightsky': 3, 'solitude': 6, 'bureaucracy': 3, 'electrcal': 3, 'dept': 3, 'preventive': 3, 'maintenance': 3, 'kulhar': 3, 'thaknah': 3, 'bhadkaya': 3, 'gagi': 3, 'nibaate': 3, 'mk': 6, 'faster': 3, 'sidnaazshines': 3, 'diksha': 3, 'gurl': 3, 'naachna': 3, 'petroliyum': 3, 'rakhiye': 3, 'jamia': 6, 'hazaaro': 9, 'laakho': 3, 'jamiamilia': 3, 'adventure': 6, 'grocery': 3, 'redzone': 3, 'greenzone': 3, 'maskforce': 3, 'staystrong': 3, 'roadblocks': 3, 'yuki': 3, 'ghaas': 3, 'sholay': 3, 'jami': 6, 'man_dancing': 6, 'bekaariyan': 3, 'dheeme': 9, 'sinne': 3, 'chalayein': 3, 'aariyan': 3, 'guzarishein': 3, 'qayam': 3, 'khahishein': 3, 'syria': 3, 'beautifull': 3, 'ufffff': 3, 'dewas': 3, 'graw': 3, 'manish': 3, 'nasriganj': 3, 'khnk': 3, 'ehtram': 3, 'muqaam': 6, 'happymother': 3, 'dilayange': 3, 'jasi': 6, 'apon': 3, 'stayle': 6, 'himmot': 3, 'godbless': 3, 'jeni': 3, 'assalaam': 3, 'aazad': 6, 'krogi': 3, 'wapus': 3, 'karwain': 3, 'sirpe': 3, 'kesariya': 3, 'alwar': 3, 'frend': 6, 'sataya': 3, 'bdo': 6, 'dubb': 6, 'bolunga': 3, 'sunuga': 3, 'gandhijike': 3, 'bandaar': 3, 'negtive': 3, 'gareebo': 3, 'jabe': 3, 'ginnes': 3, 'amen': 3, 'tiwetia': 3, 'kkr': 6, 'rrvskkr': 3, 'javay': 3, 'locho': 3, 'sandipdave': 3, 'aavuythay': 3, 'cod': 3, 'hg': 3, 'chalata': 3, 'astachitrak': 3, 'bharatbapu': 3, 'anup': 3, 'sharef': 3, 'nab': 6, 'shafaaf': 3, 'tiktokvsyoutube': 3, 'vmate': 3, 'vigo': 3, 'protests': 6, 'jitenge': 3, 'aarthik': 3, 'balsanskar': 3, 'rohitshetty': 3, 'karlia': 3, 'krdiya': 3, 'aankhmarey': 3, 'gdnt': 3, 'apda': 6, 'bharya': 3, 'kak': 3, 'lagg': 3, 'examples': 3, 'kamlsh': 3, 'nasibdar': 3, 'tiwariji': 3, 'johar': 6, 'baghel': 3, 'conecpt': 3, 'celebreties': 3, 'banenge': 3, 'adult': 3, 'filmyquzzz': 3, 'gangs': 3, 'waseypur': 3, 'referring': 3, 'kreena': 3, 'mirzaghalib': 6, 'asadullah': 3, 'baig': 3, 'khanconfusion': 3, 'birthanniversary': 3, 'writings': 3, 'cylinders': 3, 'azmaaya': 3, 'puraa': 3, 'rahaa': 6, 'karod': 3, 'lekhe': 3, 'aaptho': 3, 'imndar': 3, 'jend': 3, 'guineas': 3, 'sohran': 3, 'lagey': 3, 'osy': 3, 'khtey': 3, 'bagodara': 6, 'crossroads': 3, 'ontheroad': 3, 'ojasrawal': 3, 'needy': 3, 'versatile': 3, 'segments': 3, 'phale': 3, 'person_with_skullcap': 6, 'kahta': 6, 'nebula': 3, 'glory': 3, 'protector': 3, 'slick': 3, 'damned': 3, 'zorse': 3, 'gesture': 3, 'fling': 3, 'grip': 3, 'lecturing': 3, 'morality': 3, 'scoundrel': 3, 'stone': 3, 'unturned': 3, 'paint': 3, 'jaivick': 3, 'vallabhbhai': 3, 'amdconfusionconfusion': 3, 'shayaritime': 3, 'mehez': 3, 'parishram': 3, 'parimal': 3, 'charible': 3, 'ninjas': 3, 'cuttin': 3, 'onions': 6, 'lokpriy': 3, 'aagman': 3, 'acsept': 3, 'salamin': 3, 'alaykum': 3, 'bubarakho': 3, 'parast': 3, 'vahabi': 6, 'samwidhan': 3, 'poochhe': 3, 'baithega': 3, 'agian': 3, 'mehmaan': 3, 'khilwana': 3, 'jamun': 3, 'daalte': 3, 'crying_cat': 6, 'seculars': 3, 'vulgarity': 3, 'bookmystery': 3, 'dallo': 3, 'shivani': 3, 'puraan': 3, 'bandhhhh': 3, 'shivaniii': 3, 'crappppp': 3, 'asimsquad': 3, 'sidnaazhits': 3, 'monig': 3, 'bigbooss': 3, 'udi': 3, 'zulfiqar': 3, 'bhooko': 3, 'thailand': 3, 'sight': 3, 'craziest': 3, 'loc': 3, 'fighter': 3, 'girakar': 3, 'bull': 3, 'askthebigbull': 3, 'thebigbullwatchparty': 3, 'abhishekbachchan': 3, 'thebigbull': 3, 'confusionlike': 3, 'wasiyo': 3, 'gumte': 3, 'gauls': 3, 'potion': 3, 'dhoo': 3, 'ehsan': 9, 'tobe': 3, 'observer': 3, 'dilchaspi': 3, 'rajivsurprisek': 3, 'bnna': 6, 'hindhustan': 3, 'pakistniyo': 3, 'bhene': 3, 'churi': 3, 'keede': 3, 'andhata': 3, 'jwaan': 3, 'niwasi': 3, 'sito': 3, 'bchane': 3, 'warriorsroar': 3, 'kangana': 6, 'supportkangana': 3, 'kurtapajama': 3, 'pkz': 3, 'tandoorichai': 6, 'savani': 3, 'humanbieng': 3, 'bataunga': 6, 'karodpati': 3, 'user': 3, 'mapped': 3, 'lejaega': 3, 'usdin': 6, 'modhi': 3, 'negative': 3, 'minded': 3, 'coronavirusinindia': 6, 'devgan': 3, 'kkrh': 6, 'kurkure': 3, 'shreshtr': 3, 'dasatwa': 3, 'shareer': 3, 'swasth': 6, 'lazwab': 3, 'tapari': 3, 'amts': 3, 'passengers': 6, 'shandar': 6, 'wahmama': 3, 'mamakisarkar': 3, 'postar': 3, 'fardege': 3, 'diptesh': 3, 'ghosh': 3, 'academictwitter': 3, 'ecosystem': 6, 'passed': 6, 'judgement': 6, 'regarding': 3, 'rfeeling': 3, 'rneed': 3, 'ruhaan': 3, 'bhanja': 3, 'sabarkotha': 3, 'bootlicker': 3, 'chordesai': 3, 'dallachap': 3, 'chornalists': 3, 'salmaaannnn': 3, 'sherpur': 3, 'fasaya': 3, 'hence': 3, 'doot': 3, 'rahin': 3, 'tazzub': 3, 'maamooli': 3, 'mitt': 3, 'intijar': 3, 'ajtak': 3, 'shivastylemaker': 3, 'msdhonitheuntoldstory': 3, 'ranchi': 3, 'meconcolony': 3, 'taza': 6, 'roses': 3, 'samajti': 6, 'sochega': 3, 'sunayi': 3, 'followhim': 3, 'coincidence': 3, 'gawah': 6, 'eman': 6, 'kismato': 3, 'khawish': 3, 'uthau': 3, 'tuji': 3, 'janu': 3, 'vegetarians': 3, 'khalete': 3, 'vegomelet': 3, 'indianthings': 3, 'staytogether': 3, 'shameonhumanity': 3, 'parcel': 3, 'custom': 3, 'custome': 3, 'nathdwara': 3, 'hmmmm': 3, 'agyei': 3, 'barqaraar': 3, 'vrs': 3, 'citizenshipammendmentbill': 3, 'principled': 3, 'voo': 3, 'pajii': 3, 'kitee': 3, 'javad': 3, 'kashmirterrorattack': 3, 'riparmymen': 3, 'madly': 3, 'deeply': 3, 'padukone': 3, 'bajirao': 3, 'kejru': 3, 'gashti': 3, 'bachey': 3, 'tejranforlife': 3, 'tejasswiparakash': 3, 'mese': 9, 'mugs': 3, 'noexamsincovid': 3, 'kloi': 3, 'person_wearing_turban': 6, 'naresh': 3, 'armyboy': 3, 'meena': 3, 'jagonitishjago': 3, 'goodolddays': 6, 'tweetos': 3, 'apj': 6, 'population': 3, 'ballad': 3, 'crooning': 3, 'atangwad': 3, 'sukraan': 3, 'faisle': 3, 'defaming': 3, 'pahnayenge': 3, 'batayenge': 6, 'samhal': 3, 'nasm': 3, 'saaru': 3, 'cousin': 6, 'buzdil': 3, 'pendant': 9, 'jw': 3, 'praty': 3, 'end_arrow': 3, 'alon': 3, 'somethingnew': 3, 'tiktokiindia': 3, 'glow': 3, 'differently': 3, 'muffin': 3, 'ghyaan': 3, 'dabate': 3, 'shyd': 3, 'rajay': 3, 'udata': 3, 'beiapam': 3, 'mader': 3, 'aatam': 3, 'dhasu': 6, 'ilu': 6, 'viii': 3, 'rajnikant': 3, 'petta': 3, 'ria': 3, 'teatimeisthebesttime': 3, 'teaofinstagram': 3, 'chaiovercoffeeanyday': 3, 'uuuuuii': 3, 'khaaan': 3, 'chahen': 3, 'titar': 3, 'ichare': 3, 'morb': 6, 'district': 3, 'gj': 3, 'juni': 3, 'kobarbad': 3, 'oversight': 3, 'withdraw': 3, 'ranhenge': 3, 'unmatchable': 3, 'glaas': 3, 'saqi': 3, 'habbat': 3, 'zeehr': 3, 'jitoge': 3, 'jigara': 3, 'kabul': 3, 'aajj': 3, 'chootiyao': 3, 'bhaiyyo': 3, 'shru': 3, 'shaukin': 3, 'yashasvi': 3, 'riddi': 3, 'baana': 3, 'notifs': 3, 'messed': 3, 'udate': 3, 'pantion': 3, 'khayenge': 3, 'sicurity': 3, 'muftkhori': 3, 'insab': 3, 'psoriasis': 3, 'arhi': 3, 'mashallallah': 3, 'bhuut': 3, 'ijjatt': 3, 'dhajjiya': 3, 'iplfinal': 3, 'bibhutiyo': 3, 'dhridhata': 3, 'anmol': 3, 'marg': 3, 'sadar': 3, 'frooti': 3, 'levana': 3, 'lutva': 3, 'feriya': 3, 'yaaara': 3, 'sikhs': 3, 'yaaaara': 3, 'tweetoos': 3, 'byeee': 3, 'nayan': 3, 'fidahu': 3, 'dilki': 3, 'chupkese': 3, 'friendahipday': 3, 'khujliwal': 3, 'mahamari': 3, 'korona': 3, 'dhindhoratrailer': 3, 'bbkivines': 3, 'failana': 6, 'hotta': 3, 'atta': 3, 'sekho': 3, 'greenery': 3, 'evning': 6, 'gaon': 3, 'consistently': 3, 'throughout': 3, 'chainedtotherhythm': 3, 'slept': 6, 'nawaze': 3, 'bhusawal': 3, 'parvejpathan': 3, 'instalove': 3, 'loveher': 3, 'lovehim': 3, 'hugs': 3, 'sunshine': 3, 'enjoyingwinter': 3, 'fyp': 3, 'pindawale': 3, 'bashna': 3, 'durbhagya': 3, 'incomplete': 3, 'parle': 3, 'pehanne': 3, 'sharmindgi': 3, 'mehsoos': 3, 'raay': 3, 'num': 3, '03356507139': 3, 'skype': 3, 'rehman6731': 3, 'meabdul': 3, 'sahabto': 3, 'likhon': 3, 'ghazal': 9, 'tio': 3, 'eidd': 3, 'salmanji': 3, 'chiku': 6, 'reconnection': 3, 'shortcake': 3, 'maroon': 3, 'loosing': 3, 'relevance': 3, 'mulakaat': 3, 'agle': 6, 'bajarang': 3, 'pravachan': 6, 'suniyegaa': 3, 'wsh': 3, 'hppy': 3, 'watchng': 3, 'kebal': 3, 'kishano': 3, 'partyconfusion': 3, 'gujaratwantsaap': 3, 'galli': 3, '6uti': 3, 'lahero': 3, 'bbtrailertoday': 3, 'bickering': 3, 'smooth': 6, 'giregi': 3, 'eit': 3, 'chodna': 6, 'bhulkar': 3, 'ade': 3, 'rahtehay': 3, 'theriseofsidharth': 3, 'jalte': 6, 'bharmini': 3, 'wenaash': 3, 'wheat': 3, 'khari': 3, 'chaiwai': 3, 'tidbit': 3, 'presents': 3, 'jaoo': 3, 'gulabositabo': 3, 'mahant': 3, 'chutiyelog': 3, 'unnki': 3, 'ihatethis': 3, 'bclog': 3, 'bologuruji': 3, 'dahan': 6, 'indovsenglund': 3, 'improvement': 6, 'dilip': 3, 'sardessiji': 3, 'yateemo': 3, 'addme': 3, 'aashahappy': 3, 'chhatrapatishivaji': 3, 'shivajimaharaj': 6, 'shivajijayanti': 6, 'shivajimaharajjayanti': 3, 'choocha': 3, 'fukrapanti': 3, 'fukreyboyzzz': 3, 'drops': 3, 'khatta': 3, 'mitha': 3, 'jarurate': 3, 'dearzindgi': 3, 'brokengenration': 3, 'shape': 3, 'jalgaon': 9, 'gv': 3, 'boost': 3, 'ripu': 3, 'dina': 3, 'dot': 6, 'sweat': 3, 'sem': 15, 'keepgoing': 3, 'dreambig': 3, 'sabziwala': 3, 'sabziwalavapi': 3, '4saal': 3, '7355458113': 3, 'puchh': 3, 'frendns': 3, 'wach': 3, 'harare': 3, 'yaaya': 3, 'tnsn': 3, 'karavi': 3, 'didhu': 3, 'sharemarket': 6, 'pchidamabaram': 3, 'kaum': 3, 'dsir': 3, 'dhundna': 3, 'dhundhli': 3, 'nukkad': 6, 'regulars': 3, 'lgwaya': 3, 'syd': 3, 'mgs': 3, 'awo': 6, 'byjta': 3, 'mel': 6, 'baithne': 3, 'vr': 3, 'tirupati': 3, 'intzam': 3, 'surjit': 3, 'bhalla': 6, 'harping': 3, 'litill': 3, 'rqst': 3, 'plllssssss': 3, 'djbravo': 3, 'mivcsk': 3, 'liam': 12, 'neeson': 3, 'sonamkapoor': 3, 'divyesh': 3, 'harsh': 3, 'mirat': 3, 'krisha': 3, 'varmardi': 3, 'karjan': 3, 'modlig': 3, 'ballywood': 3, 'sitar': 3, 'banuga': 3, 'hahahahqhha': 3, 'tufaaniiii': 3, 'omshantiom': 3, 'abha': 3, 'mivie': 3, 'gaal': 3, 'pappiyo': 3, 'iqraar': 3, 'professionals': 3, 'hired': 3, 'bhajpaiyya': 3, 'hasya': 3, 'riot': 3, 'elichi': 3, 'idonesia': 3, 'maley': 3, 'partys': 3, 'manojtiwari': 3, 'rg': 3, 'shehzaad': 3, 'jarurata': 3, 'sagai': 3, 'smjha': 3, 'economics': 3, 'katoti': 3, 'jagade': 3, 'rajat': 3, 'supu': 3, 'shaanone': 3, 'alphonse': 3, 'wisdom': 3, 'onelove': 3, 'thru': 3, 'birla': 3, 'buzzing': 3, 'unable': 3, 'yoyohoneysingheffect': 3, 'bussnies': 3, 'nizami': 3, 'dinda': 3, 'messiah': 3, 'murshid': 6, 'drone': 6, 'indorelockdown': 3, 'indorenews': 3, 'hotha': 3, 'hirdaram': 3, 'consultant': 6, 'yaarrr': 3, 'udghatan': 3, 'shanicharaya': 3, 'gaddi': 3, 'nitishji': 3, 'hapen': 3, '5bje': 3, 'gus': 3, 'dostishayari': 6, 'madhosh': 3, 'ratte': 3, 'kachi': 3, 'bhakhari': 3, 'dungari': 3, 'mangini': 3, 'balasar': 3, 'sheo': 3, 'barmer': 3, 'bisth': 3, 'lediya': 3, 'khilta': 3, 'mehka': 3, 'gaayen': 3, 'kamsin': 3, 'mukhda': 3, 'claims': 3, 'khabis': 3, 'wakhra': 6, 'suicidal': 3, 'vicharniya': 3, 'hinduon': 3, 'festivalconfusion': 3, 'chetawani': 3, 'guptchar': 3, 'apake': 3, 'dikhyenge': 3, 'ghatana': 3, 'sanyog': 3, 'pulvama': 3, 'prayog': 3, 'deshme': 3, 'akansha': 3, 'arhaan': 3, 'duinya': 3, 'happyjanmashtami': 3, 'chaska': 3, 'nanakheda': 3, 'ajubaa': 3, 'wl': 3, 'nvr': 3, 'piku': 3, 'jwmarriott': 3, 'womensroyalrumble': 3, 'boo': 3, 'roone': 6, 'anxious_face_with_sweat': 3, 'kin': 6, 'badnaami': 3, 'kbtk': 3, 'tedhe': 3, 'benchoo': 3, 'umbhel': 3, 'boloongi': 3, 'baani': 3, 'gaaungi': 3, 'khaamosh': 3, 'aayesha': 3, 'everybody': 3, 'snghi': 3, 'watta': 3, 'brave': 3, 'burjkhalifa': 3, 'kodi': 3, 'bikne': 3, 'dikhayi': 6, 'puppet': 3, 'padhaoon': 3, 'nikaah': 3, 'numbar': 3, 'tiring': 6, 'hefty': 3, 'andho': 3, 'batter': 3, 'taash': 3, 'ikka': 3, 'khaayi': 3, 'jumlendar': 3, 'harenge': 3, 'sejal': 3, 'sonch': 6, 'kahee': 3, 'hamazade': 3, 'jantak': 3, 'chunne': 3, 'bade2': 6, 'engragi': 3, 'sasan': 3, 'chunna': 3, 'leya': 3, 'pryoge': 3, 'chara': 3, 'shahrukkhan': 3, 'srkfan': 3, 'srknation': 3, 'labours': 3, 'kharid': 9, 'blackmarketing': 3, 'studentskiawaz': 3, 'studentsneedmediasupport': 3, 'pleyar': 3, 'kaaniya': 3, 'jugad': 3, 'dhoundta': 3, 'karoorpati': 3, 'banadida': 3, 'lampat': 3, 'shamrock': 6, 'vinati': 6, 'anataryami': 3, 'swikari': 6, 'ridhye': 3, 'swar': 3, 'ridhya': 3, 'mor': 6, 'mukut': 3, 'pitambaradhari': 3, 'shohar': 3, 'divangi': 3, 'sachhi': 9, 'sakhi': 3, 'saiya': 3, 'rushava': 3, 'hos': 3, 'kasmo': 3, 'ksam': 3, 'acc': 3, 'khulwa': 3, 'jiyu': 3, 'thankyousrisri': 3, 'borad': 3, 'difa': 3, 'kareem': 3, 'aashora': 3, 'zariye': 3, 'taala': 3, 'pichhle': 3, 'sagheeraconfusion': 3, 'sunan': 3, 'majah': 3, 'siyam': 3, 'hadith': 3, 'grade': 3, 'ashura': 3, 'machhar': 3, 'bor': 3, 'sh': 9, 'sory': 3, 'aasg': 3, 'wry': 3, 'distractive': 3, 'hasth': 3, 'chudiya': 3, 'pahan': 3, 'diner': 3, 'tharra': 3, 'heheheh': 3, 'bhuvneshwarikumari': 3, 'shoaibibrahim': 3, 'dipikakakar': 3, 'thecuteststar': 6, 'blackmailing': 3, 'zomatofood': 3, 'vermaa': 3, 'utthao': 3, 'picked': 6, 'airs': 3, 'fandom': 9, 'represented': 3, 'sameerconfusion': 3, 'durr': 6, '300crore': 3, 'tumako': 3, 'gaau': 3, 'aako': 3, 'betho': 3, 'alisha': 3, 'extrovert': 3, 'chha': 6, 'chupe': 6, 'unoita': 3, 'rei': 3, 'rude': 3, 'samjaoo': 3, 'subhe': 3, 'niid': 3, 'pratikterahogya': 6, 'fridge': 6, 'gyz': 3, 'eraser': 3, 'drawer': 3, 'flies': 3, 'avengersageofultron': 3, 'diladi': 6, 'dadkhan': 3, 'darmiyaa': 3, 'dole': 3, 'bnii': 3, 'melodysong': 3, 'aoulad': 3, 'bhosha': 3, 'sareeef': 3, 'wuee': 3, 'gantii': 3, 'bestcouple': 3, 'habits': 3, 'keje': 3, 'khain': 3, 'banigayu': 3, 'dough': 3, 'bolengei': 3, 'broi': 3, 'pehenne': 3, 'saansh': 3, 'kudsad': 3, 'ajee': 3, 'aaaaa': 3, 'jaooooooooooooooo': 3, 'dushmano': 3, 'fikr': 3, 'hindostaa': 3, 'moinuddin': 3, 'chishti': 3, 'assalamualaikumdosto': 3, 'vidisha': 9, 'vidishaapna': 3, 'vidishacity': 3, 'vidishanews': 3, 'shaktiman': 3, 'basoda': 3, 'sanchi': 3, 'indvwi': 3, 'nalayko': 3, 'awaze': 3, 'aslo': 3, 'kashmirr': 3, 'experince': 3, 'replyy': 3, 'aba': 3, 'chitiya': 3, 'feverconfusion': 3, 'khir': 3, 'tikho': 3, 'rotalo': 3, 'yhan': 3, 'krrha': 3, 'sarab': 3, 'deye': 3, 'padhma': 3, 'khuni': 3, 'maaloom': 3, 'accidental': 3, 'medico': 3, 'ug': 6, 'orgasm': 3, 'duniaa': 3, 'addyan': 3, 'sidharthshukia': 3, 'shehnazgill': 6, 'inteha': 6, 'kareeb': 3, 'smol': 3, 'sunflowers': 3, 'nationalfood': 6, 'ghee': 3, 'sachchq': 3, 'utthh': 3, 'daftron': 3, 'afsar': 3, 'nightlife': 3, 'charlog': 3, 'kukde': 6, 'hitz': 3, 'nadia': 3, 'ausvseng': 3, 'icct': 3, 'meai': 3, 'carona': 6, 'coronaupdatesindia': 3, 'jkate': 3, 'sedka': 3, 'sakenge': 3, 'collegelife': 3, 'postures': 3, 'aim': 3, 'individual': 6, 'consciousness': 6, 'contraversial': 3, 'statements': 3, 'riha': 3, 'pichola': 6, 'heartouching': 3, 'daghaa': 3, 'digitalconfusion': 3, 'hmasha': 3, 'milungi': 3, 'mrta': 3, 'doga': 3, 'nikli': 6, 'sushantsinghrajpoot': 3, 'kkia': 3, 'hha': 3, 'firing': 3, 'crap': 3, 'ankhiyonsegolimare': 3, 'chipku': 3, 'pdhega': 3, 'assalamwaelkum': 3, 'chahane': 3, 'storms': 6, 'tides': 3, 'depths': 3, 'pearls': 3, 'vincent': 3, 'gogh': 3, 'niece': 6, 'tyar': 3, 'dere': 3, 'automated': 3, 'responses': 3, 'feeding': 3, 'hejaha': 3, 'agal': 3, 'wory': 3, 'vijaymallya': 3, 'bulwa': 3, 'ghnata': 3, 'peer': 3, 'beemaron': 3, 'taveez': 3, 'locked_with_key': 6, 'amba': 3, 'kjo': 3, 'publicaly': 3, 'slaying': 3, 'aaunga': 3, 'mukar': 3, 'sanstha': 3, 'wowwww': 3, 'dhokla': 3, 'yummyyyy': 3, 'twoliners': 3, 'relationshipgoal': 3, 'hindithoughts': 3, 'truefeeling': 3, 'ishqteratadpave': 3, 'hindipoetrylovers': 3, 'hindishayarilovers': 3, 'mannemohit': 3, 'lovequotesfeelingss': 3, 'realangels': 3, 'krdete': 3, 'chalenge': 3, 'mimicry': 3, 'vishaladityasingh': 3, 'bhaukana': 3, 'nuksaandayak': 3, 'pallu': 3, 'boxdk': 3, 'gouri': 3, 'jhakas': 3, 'mote': 3, 'footi': 3, 'nakar': 3, 'bchaye': 3, 'parisshooting': 3, 'vidhi': 3, 'ummed': 3, 'doodle': 3, 'penalty': 9, 'outs': 3, 'tagline': 3, 'saste': 3, 'jarut': 3, 'awashya': 3, 'jila': 3, 'cone': 3, 'ehen': 3, 'padna': 3, 'ytc': 3, 'locals': 6, 'slurping': 3, 'savour': 3, 'raaste': 3, 'apwad': 3, 'jank': 3, 'bayano': 3, 'gour': 3, 'farmayege': 3, 'salman_sir': 3, 'chhattishgadiya_sable_badiya': 3, 'i_love_u': 3, 'tumeri': 3, 'patrakar': 6, 'uthaya': 6, 'khelaf': 3, 'apbhi': 3, 'likhy': 3, 'puhnch': 3, 'hosakte': 3, 'standwithjamia': 3, 'eminem': 3, 'dre': 6, 'lmaoo': 3, 'ajaona': 3, 'sadhu': 3, 'santh': 3, 'bolrahe': 3, 'kapdo': 3, 'ghareebon': 3, 'kisanon': 6, 'yuwaon': 3, 'kaheten': 3, 'anpadh': 3, 'samajhen': 3, 'faisala': 3, 'hawahawa': 3, 'kitthe': 3, '04': 3, '07': 3, 'observation': 6, 'mora': 3, 'hakiqat': 3, 'betan': 3, 'bewajud': 3, 'thalia': 3, 'reformation': 3, 'era': 3, 'optimism': 3, 'abdullah': 3, 'require': 3, 'neighbours': 3, 'boundaries': 3, 'gaogunimran': 3, 'wastage': 3, 'advt': 3, 'aimed': 3, 'banks': 9, 'delhiadscam': 3, 'stud': 3, 'grasim': 3, 'chemical': 3, 'tendi': 3, 'childhood': 9, 'chuddybuddy': 3, 'liking': 3, 'manaoge': 3, 'cma': 3, 'nauty': 3, 'karsaktay': 3, 'badhayega': 3, 'diseal': 3, 'oppression': 3, 'migrate': 3, 'daughters': 3, 'reena': 6, 'maseeh': 6, 'lagaai': 6, 'chhodun': 3, 'wallah': 3, 'rejected': 3, 'indiadoesnotsupportcaa': 3, 'maggy': 6, 'khalunga': 3, 'islamicquote': 3, 'newpost': 3, 'shayrihindi': 3, 'hopeyoulikeit': 3, 'faulk': 3, 'plzzzzzzz': 3, 'shocking': 3, 'patte': 3, 'chhaav': 3, 'presalenya': 3, 'nunggu': 3, 'berapa': 3, 'hari': 3, 'baru': 3, 'redeem': 3, 'vouchernya': 3, 'takut': 3, 'terlalu': 3, 'rame': 3, 'rahey': 6, 'bachpankapyaar': 3, 'pdai': 3, 'smjhkr': 3, 'lang': 6, 'khatre': 3, 'jayegein': 3, 'unsay': 3, 'najray': 3, 'fijae': 3, 'shikwa': 3, 'yekyachutiyapahai': 3, 'pachore': 3, 'turak': 3, 'godar': 3, 'madha': 3, 'pes': 12, 'tikat': 6, 'pragaraj': 3, 'majaduro': 3, 'jaurart': 3, 'apnay': 6, 'bachaw': 3, 'rastay': 3, 'informative': 3, 'jaguruk': 3, 'sakay': 3, 'chuttiye': 3, 'baher': 3, 'shab': 3, 'firaaq': 3, 'arzoo': 3, 'recco': 3, 'topped': 3, 'chutneys': 3, 'peanuts': 3, 'neither': 6, 'teaconfusion': 3, 'mubarakh': 3, 'weting': 3, 'wallpaper': 3, 'dhanyavad': 3, 'nao': 3, 'sawaar': 3, 'karrahe': 3, 'behter': 3, 'loses': 6, 'karsakeing': 3, 'janman': 6, 'minds': 3, 'attendees': 3, 'accelerate': 3, 'entrepreneurship': 3, 'digitalmarketer': 3, 'forummarfatia': 3, 'disinfecting': 3, 'senitizingconfusion': 3, 'vegetables': 3, 'doorstep': 3, 'aaapse': 3, 'inspire': 3, 'chipka': 3, 'pelne': 3, 'vaku': 3, 'chuku': 3, 'mardangi': 3, 'sports_medal': 3, 'musalmani': 3, 'dikhauo': 3, 'wla': 3, 'myth': 3, 'pini': 3, 'shitpa': 3, 'attach': 3, 'bandhs': 3, 'puneesh': 3, 'diwaano': 3, 'sooye': 3, 'salikey': 3, 'dhalta': 6, 'dekaha': 3, 'pasyal': 3, 'evict': 3, 'sameonusiddarthsukla': 3, 'jasticforasim': 3, 'nikaloge': 3, 'zindingi': 3, 'pahuchane': 3, 'element': 3, 'recharges': 3, 'creative': 3, 'positivitea': 3, 'gangsta': 3, 'nilomi': 3, 'gog': 3, 'goodoldgeek': 3, 'socialmedia': 3, 'socialmediamarketing': 3, 'negotiate': 3, 'judiciary': 9, 'hazaam': 3, 'kartein': 3, 'goonde': 3, 'hazzam': 3, 'bypolar': 3, 'batate': 3, 'confusiontare': 3, 'munny': 3, 'momentsconfusion': 3, 'mohl': 3, 'chahi': 3, 'khumari': 6, 'saarey': 3, 'jaari': 6, 'abhiyan': 3, 'susu': 6, 'itti': 3, 'baai': 3, 'aurate': 3, 'baaj': 3, 'chukay': 3, 'baqi': 3, 'yudhvir': 3, 'jugal': 3, 'kishor': 3, 'sahni': 3, 'runforsoldiers': 3, 'hojayengay': 3, 'sink': 3, 'bartan': 6, 'bibiyon': 3, 'bacchon': 6, 'turkish': 3, 'outlet': 3, 'sand': 6, 'copper': 6, 'ladles': 6, 'heated': 3, 'range': 3, 'poured': 3, 'kulhads': 3, 'located': 3, 'opp': 6, 'kreeb': 3, 'vis': 3, 'bijal': 3, 'authority': 6, 'juvo': 3, 'loya': 3, 'ead': 3, 'supose': 3, '6caror': 3, 'politic': 3, 'nurses': 15, 'vajakhushi': 3, 'loveisland': 3, 'daftar': 3, 'bager': 6, 'chlaya': 3, 'buauu': 3, 'monthtozero': 3, 'ummeed': 6, 'khilala': 3, 'woe': 3, 'harshita': 3, 'someplace': 3, 'romurs': 3, 'depend': 3, 'semis': 6, 'mithuuuuu': 3, 'mmuuaahh': 3, 'whatsapptalks': 3, 'tamana': 3, 'wajud': 3, 'chheen': 3, 'aurto': 3, 'mamtabanerjee': 3, 'fafund': 3, 'injection': 6, 'retired': 3, 'dhoniretires': 3, 'swachchh': 6, 'aviyaan': 3, 'danyabaad': 3, 'bengalburns': 3, 'cabpolitics': 3, 'bharatiya': 3, 'reduced': 3, 'declination': 3, 'geetisha': 3, 'smjhti': 3, 'huhhhhhhh': 3, 'chakhi': 3, 'gunaahon': 3, 'lazzat': 3, 'righteous': 3, 'conduction': 3, 'holistic': 3, 'approach': 3, 'welfare': 3, 'false': 3, 'alright': 3, 'bitate': 3, 'puchhta': 3, 'udghosh': 3, 'tooti': 3, 'chizein': 3, 'hell0': 3, 'kesy': 3, 'ecnomist': 3, 'gdp': 9, 'mazdoor': 3, 'poach': 3, 'treanding': 3, 'sardarpatel': 3, 'bhiyaooo': 3, 'sardesai': 3, 'hadsha': 3, 'emo': 3, 'rohitsharma': 3, 'tage': 3, 'meoutnow': 6, 'yaatra': 3, 'kinner': 3, 'iswar': 3, 'ramazan': 3, 'gura': 3, 'controlonspotify': 3, 'yeahh': 3, 'ghula': 3, 'bandha': 6, 'baadal': 3, 'hadon': 3, 'basar': 3, 'abaadi': 3, 'maarg': 3, 'lejaa': 3, 'naphrat': 3, 'peche': 3, 'agee': 3, 'coron': 3, 'tridev': 3, 'dhobi': 3, 'shrivastava': 3, 'mehantana': 3, 'shaukiya': 3, 'tyaaar': 3, 'patiy': 3, 'haad': 3, 'namali': 3, 'pulis': 3, 'bhogi': 6, 'chhatro': 6, 'charj': 3, 'digri': 6, 'thehre': 6, 'disturbed': 3, 'maam': 3, 'wiat': 3, 'sidharthashukla': 6, 'nhy': 3, 'bhosdiwale': 6, 'bhagne': 6, 'songformyvalentine': 3, 'mohammadasifandcompanyedition': 3, 'bigots': 3, 'celebrationconfusion': 3, 'rulaayega': 3, 'a6a': 3, 'mukya': 3, 'darm': 3, 'invition': 3, 'congratulate': 3, 'rahulingermany': 3, 'seka': 3, 'chahnewalo': 3, 'suffer': 6, 'jealous': 6, 'indin': 3, 'judges': 6, 'istandwithkapilmishra': 3, 'eagles': 3, 'selfless': 3, 'thoroughly': 3, 'patriotic': 3, 'whyyyy': 3, 'uniqueness': 3, 'merely': 3, 'correct': 3, 'mut': 3, 'ujjaval': 3, 'nidhi': 3, 'aayushman': 3, 'kard': 3, 'aaeygi': 3, 'bhidu': 3, 'jayen': 3, 'hanne': 3, 'nihei': 3, 'class12': 3, 'exitmnt': 3, 'judna': 3, 'papon': 3, 'paponist': 3, 'khwaishein': 3, 'eshas': 3, 'khwaabon': 6, 'jhmstrailer': 3, 'lapak': 3, 'jalane': 3, 'sdb': 3, 'businessgrowth': 3, 'fook': 3, 'rahulkabaapchorhai': 3, 'ulti': 3, 'tareeka': 6, 'morcha': 6, 'mfdc': 3, 'nepalpm': 3, 'mtlab': 3, 'ayodhya': 3, 'modigi': 3, 'sudhr': 6, 'dhnyawad': 3, 'tohfe': 3, 'fakejewassi': 3, 'nikalwao': 3, 'ganne': 3, 'grudges': 3, 'bethi': 3, 'jaybhanushali': 3, 'dual': 3, 'standrds': 3, 'nofilterbhanushali': 3, 'booked': 3, 'wrostservice': 3, 'badservice': 3, 'hpgas': 3, 'uninstallhpgas': 3, 'banarasi': 3, 'banarasghat': 3, 'bindass': 3, 'kroconfusion': 3, 'balkum': 3, 'numsta': 3, 'cutiee': 3, 'pinky': 3, 'bamboo': 3, 'teamfollowback': 3, 'sukhan': 3, 'fakira': 3, 'waisi': 3, 'ml': 3, 'cupconfusionrs': 3, 'neer': 3, 'pnr': 3, 'pantry': 3, 'caterers': 3, 'baariash': 3, 'hoji': 3, 'pito': 3, 'manek': 3, 'chok': 3, 'pio': 3, 'ghumaa': 3, 'karoo': 3, 'ukreturn': 3, 'showhost': 3, 'emcee': 3, 'actorslife': 3, 'dalaali': 3, 'sharaba': 3, 'arrestrheanow': 3, 'cbiforssr': 3, 'kartikey': 3, 'agå': 3, 'dusted': 3, 'chika': 6, 'askstar': 3, 'pimp': 3, 'furziwal': 3, 'cleanchit': 3, 'cert': 3, 'mileage': 3, 'brewing': 3, 'yaarikamaalki': 3, 'trolled': 3, 'badaaa': 3, 'jummamubarak': 3, 'poselikemoinkhan': 3, 'sufi': 3, 'sufisme': 3, 'sufizm': 3, 'tbt': 6, 'lovestory': 6, 'banwaya': 3, 'dongiri': 3, 'kitta': 6, 'neeraj': 3, 'majato': 6, 'aayenga': 3, 'palak': 3, 'vastavik': 3, 'antaratma': 3, 'kayarata': 3, 'bansaki': 3, 'boomerang': 3, 'feminist': 3, 'ravidash': 3, 'deakho': 3, 'lijha': 3, 'salmanonsuperdancer': 3, 'nails': 3, 'enfield': 3, 'sapa': 3, 'norovirus': 3, 'sided': 3, 'kkrvkxip': 3, '50000': 6, 'jyga': 3, 'zzzzzzzzz': 3, 'crazyfan': 3, 'totaldhamaal': 3, 'croreclub': 3, 'nariki': 3, 'unnati': 3, 'unnat': 3, 'cornflakes': 6, 'goldflakes': 6, 'insensitive': 3, 'viewing': 3, 'mahalla': 3, 'liquer': 3, 'nadarat': 3, 'listing': 6, 'application': 3, 'mighty': 3, 'plp': 3, 'aanne': 3, 'ghusu': 3, 'tdr': 3, 'prabu': 3, 'eligibility': 3, 'criteria': 3, 'baithoge': 3, 'bachan': 3, 'kotao': 3, 'yummmmy': 3, 'jalsa': 3, 'pinki': 3, 'ghare': 3, 'simbha': 3, 'seconds': 6, 'umaristheboss': 3, 'honahi': 3, 'logoka': 3, 'batch': 3, 'episodes': 3, 'difficulty': 3, 'commandable': 3, 'writers': 6, 'potrait': 3, 'kissi': 3, 'amanat': 3, 'hotijannat': 3, 'kabhikayamat': 3, 'sochkarlagana': 3, 'aedost': 3, 'zamanat': 3, 'nahinhoti': 3, 'naalayak': 3, 'supari': 3, 'irrelevant': 3, 'maarooing': 3, 'yuvraaj': 3, 'zamia': 3, 'bitiya': 3, 'shubhkaamnaye': 3, 'aashirwaad': 3, 'ntv': 3, 'plzzzzzzzzzzzzzzzzzzzzzzzzzzzzz': 3, 'utsah': 3, 'jagane': 6, 'pareshaniya': 3, 'khalid': 3, 'jahni': 3, 'baray': 3, 'mutalbe': 3, 'pehlay': 3, 'gawahi': 3, 'paish': 3, 'randva': 3, 'sabhal': 3, 'sabhalenge': 3, 'laken': 6, 'kumbh': 6, 'bewafaai': 3, 'asksportstak': 3, 'manege': 6, 'koii': 3, 'fadaa': 3, 'sabbbb': 3, 'zarrurat': 3, 'congreesi': 3, 'zarin': 3, 'mistery': 3, 'ritesh': 3, 'phekte': 3, 'karlona': 3, 'peecha': 3, 'guyzzz': 3, 'dipika': 3, 'shale': 3, 'pbliciti': 3, 'bnate': 6, 'sethi': 3, 'bnavo': 3, 'afva': 3, 'failai': 3, 'gumaan': 3, 'bharam': 3, 'yaaran': 3, 'judaayi': 6, 'changi': 3, 'nadhaani': 3, 'namkaran': 3, 'agyya': 3, 'maanga': 3, 'dhum': 6, 'macheg': 3, '12seaton': 3, '65seaton': 3, 'sanson': 3, 'bahon': 3, 'sapnonl': 3, 'chhupke': 3, 'gross': 3, 'bajuwale': 3, 'thboardexams': 3, 'thboards': 3, 'courtofindia': 3, 'chiefjusticeofindia': 3, 'bhact': 3, 'rootha': 3, 'ting': 3, 'tong': 3, 'sachinnsachinn': 3, 'breakfastwithchampions': 3, 'whn': 3, 'dkho': 3, 'hagte': 3, 'btae': 3, 'marengee': 3, 'shiya': 3, 'woooooo': 3, 'btyan': 3, 'buscuit': 3, 'smz': 3, 'mtlo': 3, 'kmayegi': 3, 'bzi': 3, 'dhuva': 3, 'overlooking': 3, 'observatory': 3, 'akoamdavadi': 3, 'pista': 3, 'literacy': 3, 'sabarimala': 3, 'idiom': 3, 'bhiggi': 3, 'pakayae': 3, 'anaj': 3, 'mahenat': 6, 'iproudforfarmers': 3, 'decoration': 3, 'dikhaoconfusion': 3, 'bhukhi': 3, 'chlo': 9, 'uaka': 3, 'phs': 3, 'ladkio': 3, 'masaallah': 3, 'dekta': 3, 'bajrnag': 3, 'suprhit': 3, 'dusmn': 3, 'bahg': 3, 'dushmani': 3, 'kabil': 3, 'bhaijhan': 3, 'billaa': 3, 'behjon': 3, 'tweetslikeoppsex': 3, 'ua': 3, 'sensuality': 3, 'fuckin': 3, 'aaeene': 3, 'numbe': 3, 'janmo': 3, 'tamara': 3, 'alekum': 6, 'kse': 3, 'perhaps': 3, 'aapkey': 6, 'liyye': 3, 'bhagvaan': 3, 'prey': 6, 'kertey': 3, 'durgesh': 3, 'mohi': 3, 'thohar': 3, 'riyeeeee': 3, 'forbidden': 3, 'blki': 3, 'nirdaliay': 3, 'electionday': 3, 'vedas': 3, 'praman': 3, 'parmatma': 6, 'aayu': 3, 'badhata': 3, 'eis': 3, 'prithvi': 3, 'miracles': 6, 'trueworship': 6, 'clockwise_vertical_arrows': 9, 'haramkhorconfusion': 3, 'baz': 3, 'boodhe': 3, 'nikalana': 3, 'aus': 9, 'ashokleyland': 3, 'cng': 3, 'cngvehicles': 3, 'indiancommercialvehicles': 3, 'dostplusbs': 3, 'abhay': 3, 'raichand': 3, 'vivoipl': 3, 'cskvrcb': 3, 'aagle': 3, 'rapat': 3, 'pahunch': 3, 'stream': 3, 'kkpk': 3, 'udana': 3, 'sahaab': 3, 'banno': 6, 'moms': 3, 'karvani': 3, 'justmomthings': 3, 'karims': 3, 'turbulent': 3, 'boltey': 3, 'focused': 3, 'correction': 3, 'traders': 3, 'reversal': 6, 'mehu': 3, 'amzing': 3, 'jesha': 3, 'chhatthi': 3, 'avishkar': 3, 'starve': 3, 'nano': 3, 'battar': 3, 'netflixindia': 3, 'gajb': 3, 'joota': 3, 'apnaye': 3, 'delhigangrape': 3, 'lahar': 3, 'andaj': 3, 'pastane': 3, 'marwa': 3, 'dinraksha': 3, 'bandhanorvalentine': 3, 'dayek': 3, '4wje': 3, 'sheaf_of_rice': 3, 'mehboob': 3, 'banded': 3, 'brands': 3, 'surj': 3, 'darsemasnawi': 3, 'rumiquotes': 3, 'rumi': 3, 'sufism': 3, 'sufiarts': 3, 'chishty': 3, 'hashmati': 3, 'mevlana': 3, 'mevlanacelaleddinrumi': 3, 'deen': 3, 'deeneislam': 3, 'followsufism': 3, 'islamicquotes': 3, 'durood': 3, 'pyaari': 3, 'thearmaanianarmy': 3, 'yaaroo': 3, 'failarahe': 3, 'jooth': 6, 'punitkumarhatela': 3, 'chapluso': 3, 'atankiyo': 3, 'liyaa': 3, 'arrestamishdavgan': 3, 'mem': 6, 'tricolour': 3, 'danga': 6, 'janda': 3, 'license': 3, 'bandra': 3, 'cinematic': 3, 'robot': 3, 'hokka': 3, 'pangs': 3, 'jashoda': 3, 'chahhiye': 3, 'setho': 3, 'doh': 3, 'sibling': 3, 'dies': 3, 'atmanirbhar': 3, 'sunnte': 3, 'gambhirata': 3, 'sarakar': 6, 'bjpagainstreforms': 3, 'bjpkilleddemocracy': 3, 'kidding': 3, 'outbreak': 3, 'coronaupdatesinindia': 3, 'astra': 3, 'sastra': 3, 'rafel': 9, 'wafrl': 3, 'barood': 3, 'bhii': 3, 'coma': 3, 'isnt': 3, 'blocking': 3, 'tending': 3, 'ronakshi': 3, 'pup': 3, 'baahr': 3, 'watsaap': 3, 'iamsohanmaster': 3, 'dailybonus': 3, 'tapperzdanceskool': 3, 'shraddhashahraj': 3, 'dulhan': 3, 'bhagaye': 3, 'plzzzzzzhello': 9, 'vanrajsinh': 3, 'kittliconfusion': 3, 'invention': 3, 'applebakery': 3, 'applebakeryujjain': 3, 'ruskforeveryindian': 3, 'ruskchai': 3, 'vocalforlocalindia': 3, 'swadeshi': 3, 'bakery': 3, 'musangakar': 3, 'jualbelihewanjakarta': 3, 'jkt': 3, 'jualbelijakartabarat': 3, 'musangloversbekasi': 3, 'musangloversjakarta': 3, 'animals': 9, 'catloverindonesia': 3, 'tiktokindonesia': 3, 'musangbulanjkt': 3, 'muspan': 3, 'adopsimusan': 3, 'bataae': 3, 'bewakooof': 3, 'banaadiyaaa': 3, 'ugta': 6, 'babyk': 3, 'neverletyougo': 3, 'tarak': 3, 'bhaaaaag': 3, 'humaari': 3, 'jall': 3, 'genral': 3, 'givegenralpromotion': 3, 'styear': 3, 'narottam': 3, 'subi': 3, 'donates': 3, 'dispensers': 3, 'gurudwaras': 3, 'halwa': 3, 'chana': 3, 'vijayadashami': 3, 'prasad': 3, 'byee': 3, 'bolw': 3, 'kauwa': 3, 'kaatw': 3, 'kauwe': 3, 'sw': 3, 'bigest': 6, 'smilest': 3, 'kuman': 3, 'khusnaseeb': 3, 'nuntashirism': 3, 'fenku': 3, 'masoomo': 3, 'fehrane': 3, 'enam': 3, 'grahan': 6, 'sarcastic': 3, 'rozgaar': 3, 'samzta': 3, 'uttrakhand': 3, 'nanital': 3, 'karsakta': 3, 'banpauga': 3, 'galxaya': 3, 'chaplusi': 3, 'kinds': 6, 'lupin': 3, 'similar': 3, 'shetan': 6, 'imman': 6, 'dakro': 3, 'abla': 3, 'naari': 3, 'chi': 3, 'ensb': 3, 'gamand': 3, 'adwords': 3, 'turnaround': 3, 'flexible': 3, 'gbgahmedabad': 3, 'kameyabi': 3, 'awrat': 3, 'ezat': 3, 'lotlya': 3, 'fleet': 3, 'vagerah': 3, 'krat': 3, 'bolate': 3, 'itan': 3, 'dillagi': 3, 'shyam': 6, 'dhalne': 3, 'afghan': 3, 'islamicstate': 3, 'rahyu': 3, 'tyoharo': 3, 'jhalakta': 3, 'boycottkapilsharma': 3, 'arjunpatiala': 3, 'crpfkashmirattack': 3, 'bjpshivsena': 3, 'ruhbika': 3, 'walid': 3, 'baapconfusionki': 3, 'itconfusion': 3, 'dheekha': 3, 'maacood': 3, 'nis': 3, 'rahkata': 3, 'zogi': 6, 'handu': 3, 'krao': 3, 'zalao': 3, 'behurmati': 3, 'siding': 3, 'dhayn': 3, 'feer': 3, 'myview': 3, 'shudhi': 3, 'aslamolikum': 3, 'zaroo': 3, 'hindishayri': 6, '4r': 3, 'teeya': 3, 'pancha': 3, 'tiddiya': 3, 'maanu': 3, 'cmments': 3, 'tomar': 3, 'kotha': 3, 'opens': 3, 'deswaasio': 3, 'chutiyaa': 3, 'rajwade': 3, 'revives': 3, 'achchhe': 9, 'sja': 3, 'bent': 3, 'ema': 3, 'colgate': 3, 'ayurved': 3, 'marked': 3, 'bewekoof': 3, 'abusive': 3, 'aawunga': 3, 'hatne': 3, 'hoksr': 3, 'kardege': 3, 'angad': 6, 'bhun': 3, 'sangit': 3, 'haldi': 3, 'mahendi': 3, 'bajegi': 3, 'exploring': 3, 'padhni': 3, 'tuesdayvibes': 3, 'loveekchutiyapa': 3, 'jingo': 3, 'ramnavmi': 3, 'niravvavdi': 3, 'veraval': 3, 'mardon': 3, 'apradh': 3, 'dkd': 3, 'bandad': 3, 'grinning_cat_with_smiling_eyes': 3, 'smjhaya': 3, 'chashma': 3, 'njr': 3, 'katti': 3, 'mmmmuuuuuuaaaaahhhhhhhh': 3, 'indiasbestdancer': 3, 'seema': 3, 'uffff': 3, 'sallu_bhai': 3, 'prsnly': 3, 'kuchh_khas': 3, '8083503086': 3, 'bulls': 3, 'trading': 3, 'nse': 6, 'sensex': 3, 'tanhaiyon': 3, 'instagramers': 3, 'amitabhbachchan': 3, 'actinglfe': 3, 'sharabimovie': 6, 'mayank': 3, 'coronamemes': 3, 'sharabimoviedialouge': 3, 'loook': 3, 'alfred': 3, 'goodman': 3, 'gilman': 3, 'fariq': 3, 'bhri': 3, 'tko': 3, 'lenadena': 6, 'buraiconfusion': 3, 'shaadii': 3, 'reporting': 3, 'authorities': 3, 'isolate': 3, 'denominations': 3, 'groceries': 3, 'mms': 3, 'ankhien': 3, 'kh': 6, 'obsurat': 3, 'wohhhh': 3, 'bsurat': 3, 'khuc': 3, 'smjhty': 3, 'borrows': 3, 'krwata': 3, 'krwado': 3, 'patang': 3, 'calculator': 3, 'matka': 3, 'bejaan': 3, 'serp': 3, 'priyeshkhatrani': 3, 'jhin': 3, 'shaks': 3, 'tootne': 3, 'ghumta': 3, 'rahio': 3, 'kaaam': 3, 'kario': 6, 'adea': 3, 'chalhiye': 3, 'khasit': 3, 'hsaya': 3, 'kisnetha': 3, 'vidhata': 3, 'vidna': 3, 'moriya': 6, 'dslr': 6, 'cleanest': 3, 'swachhsurvekshan': 3, 'diary': 3, 'criminals': 3, 'activists': 6, 'freepressjournal': 3, 'modivswho': 3, 'badolat': 3, 'significant': 3, 'governance': 3, 'urjaaganga': 3, 'polic': 3, 'unprecedented': 3, 'addressed': 3, 'fane': 3, 'jiada': 3, 'ajiv': 3, 'apnapan': 3, 'guan': 3, 'behg': 3, 'cloud_with_lightning': 3, 'gurdev': 3, 'negatively': 3, 'btane': 3, 'dhanbad': 3, 'calcutta': 3, 'tanik': 3, 'determine': 3, 'shatakshi': 3, 'karvake': 3, 'chodni': 3, 'cousine': 3, 'uploaded': 3, 'buyer': 3, 'cybersecurity': 3, 'indorepolice': 3, 'yor': 3, 'spinners': 3, 'subcontinent': 3, 'pitches': 3, 'pace': 3, 'jaaa': 3, 'chodhkar': 3, 'khayi': 3, 'hinduatan': 3, 'perverts': 3, 'vahhh': 3, 'skull_and_crossbones': 6, 'chopsticks': 3, 'sticks': 3, 'chopstick': 3, 'aalag': 3, 'tashreh': 3, 'bansuri': 3, 'muraad': 3, 'tajalliyo': 3, 'fazl': 3, 'panjtan': 3, 'kareenakapoorkhan': 3, 'harshalimalhotra': 3, 'yearsofbajrangibhaijaan': 3, '2o15': 3, 'flog': 3, 'madarchodo': 3, 'kabool': 3, 'batavo': 6, 'junior': 3, 'alifkab': 3, 'lela': 3, 'vtm': 3, 'panipuri': 3, 'mouthwatering': 3, 'piyenge': 3, 'fakir': 3, 'nayakalakaar': 3, 'phi': 3, 'rop': 3, 'thuglife': 3, 'mcent': 3, 'airtime': 3, 'zyaada': 3, 'qeemat': 3, 'chukani': 3, 'neverforget': 6, 'wherewereyou': 3, 'bhupendra': 3, 'tumhein': 3, 'creator': 3, 'yaaaar': 3, 'awesomeness': 3, 'livelife': 3, 'unfortunately': 3, 'ninja': 3, 'technique': 3, 'loveu': 3, 'tooooo': 3, 'vey': 3, 'handsam': 3, 'clearly': 3, 'impromptu': 3, 'ruke': 3, 'sahuliyat': 3, 'zaruart': 3, 'tjhe': 3, 'sohrat': 3, 'mahe': 3, 'touba': 3, 'coupan': 3, 'paticeconfusion': 3, 'dusroo': 3, 'hatthii': 3, 'bahukktee': 3, 'rinkusharmalyingching': 3, 'mtkb': 3, 'katwo': 3, 'rides': 3, 'restaurants': 3, 'vadhai': 3, 'fundamentals': 3, 'satellite': 3, 'monica': 3, 'bedi': 3, 'presenter': 3, 'debuted': 3, 'notable': 3, 'includes': 3, 'sabhe': 3, 'dekhaga': 3, 'bulk': 3, 'anvaran': 3, 'raheho': 3, 'mangofestival': 3, 'haiiii': 3, 'yjhd': 3, 'apprentice': 3, 'yuwao': 3, 'yuwa': 3, 'atmhatya': 3, 'register': 6, 'yarrr': 6, 'barabaad': 3, 'guma': 3, 'gharme': 3, 'isupportyehhaiindia': 3, 'honga': 6, 'inshallha': 3, 'serv': 3, 'indorichatore': 3, 'indorizyka': 3, 'bhel': 3, 'adik': 3, 'widout': 3, 'vactin': 3, 'nddose': 3, 'certi': 3, 'htu': 3, 'thyu': 3, 'mhemdavad': 3, 'uparr': 3, 'preesure': 3, 'kidhu': 3, 'ama': 6, 'vank': 3, 'kono': 3, 'nazm': 3, 'bites': 3, 'tragedy': 3, 'jayegii': 3, 'bookstore': 3, 'sochenga': 3, 'dilwaleoncomedynightsbachao': 3, 'bicha': 3, 'khamoshi': 3, 'wfa': 3, 'kaheke': 3, 'dhakochhale': 3, 'kljarurat': 3, 'aajoa': 3, 'aishaan': 3, 'seasite': 3, 'dwarka': 3, 'jand': 3, 'banoge': 3, 'pd': 9, 'dull': 3, 'defense': 3, 'chikara': 3, 'halala': 6, 'paidaish': 3, 'royeho': 3, 'aswlkm': 3, 'sahre': 3, 'hogye': 3, 'moive': 3, 'abtak': 3, 'walla': 3, 'lalakar': 3, 'secretsuperstar': 3, 'ipoallotment': 3, 'ipoalert': 3, 'initialpublicoffer': 3, 'investing': 6, 'bse': 3, 'equity': 3, 'stockmarketindia': 3, 'poonawalaji': 3, 'abhiman': 3, 'khabare': 3, 'felana': 3, 'janate': 3, 'dara': 3, 'lrne': 3, 'damodar': 3, 'upaye': 3, 'beli': 3, 'hamesh': 3, 'lokona': 3, 'shuk': 3, 'bhagidar': 3, 'rhaya': 3, 'maamuli': 3, 'ilzaamo': 3, 'shoorveer': 3, 'pulwamamartyrs': 3, 'blackday': 3, 'ajaz': 3, 'piyushbhaiconfusion': 3, 'jismo': 3, 'chinoge': 3, 'nanhi': 3, 'sanse': 3, 'janwar': 6, 'aprilfoolsday': 3, 'aprilfool': 3, 'tih': 3, 'haramzady': 3, 'hidayet': 3, 'sampraday': 3, 'leadr': 3, 'feets': 3, 'banoonga': 3, 'fifaworldcup': 3, 'kejrival': 3, 'khttam': 3, 'theeeee': 3, 'yaani': 3, 'tinki': 3, 'chhutath': 3, 'chaudas': 3, 'navmi': 3, 'dwadas': 3, 'vartam': 3, 'tinse': 3, 'jaura': 3, 'dartam': 3, 'soja': 3, 'fleets': 3, 'passing': 6, 'manmaujievening': 3, 'padhnaa': 3, 'aly': 3, 'namste': 3, 'sastrikal': 3, 'iyers': 3, 'picks': 3, 'iyer': 3, 'paste': 3, 'robartvadra': 3, 'kutchh': 3, 'boldalo': 3, 'huh': 3, 'jalun': 6, 'presan': 3, 'marijo': 3, 'boi': 3, 'boya': 3, 'sucha': 3, 'ranjha': 3, 'churhati': 3, 'jagati': 3, 'sanwarne': 3, 'qayamat': 3, 'aaraadhya': 3, 'easiest': 3, 'giant': 3, 'punching': 3, 'daylight': 3, 'tests': 3, 'git': 3, 'relif': 3, 'swecha': 3, 'jaruratmand': 3, 'khilana': 6, 'sahyog': 3, '3k': 3, '33': 3, '966': 3, 'pantaloons': 6, 'refund': 3, 'jamaal': 3, 'jhopdi': 3, 'jhugnuo': 3, 'faruq': 3, 'fance': 3, 'superr': 3, 'fittar': 3, '3question': 3, '500': 3, 'minimum': 3, 'guaranteed': 3, 'scariest': 3, 'dekhung': 3, 'rann': 3, 'resort': 6, 'adapted': 3, 'tandooricoffee': 3, 'festish': 3, 'merrychristmas': 3, 'christmasthoughts': 3, 'nasima': 3, 'bookings': 3, 'ganesha': 6, 'jaiganesh': 3, 'moosejattana': 3, 'biggbossott': 3, 'karanataka': 3, 'abkibaar': 3, 'duva': 3, 'supremacy': 3, 'brokenbutbeautiful': 3, 'leken': 3, 'mmmuuaaa': 3, 'baby_angel': 3, 'speech_balloon': 9, 'phla': 3, 'memo': 3, 'shivaconfusion': 3, 'surila': 3, 'bhigi': 6, 'meharaba': 3, 'buja': 6, 'jmana': 3, 'ahemadabad': 3, 'bhr': 3, 'jungle': 3, '9662821362': 3, 'bow_and_arrow': 6, 'aadiwasi': 3, 'ristha': 3, 'locha': 3, 'simplest': 3, 'mujhey': 6, 'hebbit': 3, 'pakishtan': 3, 'muhtod': 3, 'smajayega': 3, 'observe': 3, 'allyouneedisbapa': 3, 'onehunnit': 3, 'theher': 3, 'lada': 3, 'farz': 3, 'pardarshan': 3, 'agitation': 3, 'arrestlucknowgirl': 3, 'usb': 3, 'sariya': 3, 'factory': 3, 'yashoda': 3, 'sola': 3, 'confident': 6, 'pakistaan': 3, 'babasi': 3, 'preshan': 3, 'murga': 3, 'nehe': 3, 'banareha': 3, 'kwo': 3, 'khte': 3, 'kutumb': 3, 'bakre': 3, 'aoulade': 3, 'hemanshu': 3, 'sapana': 6, 'inaki': 3, 'inception': 3, 'taxi': 3, 'tarfaa': 3, 'bolmodibol': 3, 'kholne': 6, 'grahak': 6, 'chodhi': 3, 'pasine': 3, 'lutwayega': 3, 'sidherts': 3, 'mently': 3, 'chhoda': 3, 'apologizetosidharthshukla': 6, 'lottery': 3, 'feedback': 3, 'sandesha': 3, 'pooo': 3, 'codings': 3, 'affred': 3, 'presentation': 3, 'kn': 3, 'thepla': 3, 'ashramcalling': 3, 'kie': 6, 'icubeds': 3, 'confusionstaaron': 3, 'huhhh': 3, 'watse': 3, 'heartbroken': 3, 'truelove': 3, 'photoshop': 3, 'wallpapers': 3, 'loverunning': 3, 'suspended': 3, 'nurturing': 3, 'shaeb': 3, 'perks': 3, 'dating': 3, 'alpshankheyk': 3, 'hedayat': 3, 'ulla': 3, 'shakh': 3, 'rastar': 3, 'rakchha': 3, 'miluga': 3, 'jingi': 3, 'khuais': 3, 'annoucement': 3, 'batayooo': 3, 'switched': 3, 'yariya': 3, 'kota': 15, 'rajnagar': 3, 'happysunday': 6, 'specialday': 3, 'kaminefriends': 3, 'kotaraj': 3, 'rajlove': 3, 'ctae': 3, 'lucche': 3, 'ghumke': 3, 'aapminoritysell': 3, 'aapsurat': 3, 'aapgujarat': 3, 'aapparty': 3, 'indiavsengland': 3, 'moteratestmatch': 3, 'moterastadium': 3, 'ahemdabadtestmatch': 3, 'janno': 3, 'arrestbhushan': 3, 'ankhein': 3, 'khushk': 3, 'peetna': 3, 'congressbetrayedfarmers': 3, 'chullhe': 3, 'hinterlands': 3, 'irfc': 3, 'shraap': 3, 'kathor': 3, 'niym': 3, 'sudharoge': 3, 'batsman': 3, 'huuurrrrrrrr': 3, 'surajmukhi': 3, 'sunflower': 3, 'morh': 3, 'bhnchod': 3, 'plzzzzzzzzzzzzzzzz': 3, 'dushre': 3, 'aadhi': 3, 'punjabimusic': 3, 'chis': 3, 'items': 3, 'kahika': 3, 'kharap': 3, 'khre': 3, 'raghogarh': 3, 'djvickyraghogarh': 3, 'djvicky': 3, 'apde': 3, 'koine': 3, 'dewanu': 3, 'manas': 3, 'rese': 3, 'jyasudhi': 3, 'rakhvanu': 3, 'adhikari': 3, 'jode': 6, 'laksh': 3, 'emno': 3, 'colony': 3, 'girnar': 3, 'rugvrd': 3, 'emm': 3, 'saveaareyforest': 3, 'hilenge': 3, 'rebekka': 3, 'stefan': 3, 'elena': 3, 'damon': 3, 'raqesh': 3, 'gifted': 6, 'sochti': 3, 'manavta': 3, 'ferse': 6, 'sidhartbestiasim': 3, 'panic': 3, 'italy': 6, 'rogue': 3, 'aaaaraha': 3, 'warnar': 3, 'pakaus': 3, 'khulle': 3, 'pande': 3, 'jaanapp': 3, 'mami': 6, 'papaa': 3, 'krogge': 3, 'aanshu': 3, 'bataou': 3, 'batemzi': 3, 'isky': 3, 'bury': 3, 'verry': 3, 'styel': 3, 'sachmuch': 3, 'ashik': 3, 'dengerous': 3, 'poojjya': 3, 'swpna': 3, 'aapkasaat': 3, 'selpy': 3, 'pooto': 3, 'chaiea': 3, 'anugrha': 3, 'deejia': 3, 'ples': 3, 'moongfalli': 3, 'akhrot': 3, 'todega': 3, 'kashmiris': 3, 'aroused': 3, 'nasoor': 3, 'patani': 3, 'gujarna': 3, 'coronaviruspakistan': 3, 'coronavirusoutbreakindia': 3, 'mumbailockdown': 3, 'kanikakacoronacrime': 3, 'bravery': 3, 'parothe': 3, 'stuffed': 3, 'slvafg': 3, 'asiacup': 3, 'monikachauhan': 3, 'radhakrishn': 3, 'swastikbhumi': 3, 'gunge': 3, 'gguyssss': 3, 'freeze': 3, 'refuse': 3, 'ghoont': 3, 'fak': 3, 'mhan': 3, 'loug': 3, 'corore': 3, 'teremere': 6, 'tabala': 3, 'paros': 3, 'trustees': 3, 'remand': 3, 'gairon': 3, 'yahn': 3, 'qustion': 3, 'electn': 3, 'ghat': 3, 'autar': 3, 'kans': 3, 'swatch': 3, 'himachal': 3, 'raajdhaani': 3, 'tasweer': 3, 'bhejee': 3, 'mainey': 3, 'reliance': 3, 'jiomart': 6, 'grouw': 3, 'tublighttrailerday': 3, 'jelegi': 3, 'tublight': 3, 'yekeen': 3, 'yekin': 3, 'vegetable': 3, 'ray': 3, 'changing': 3, 'maninagar': 3, 'route': 3, 'khudgarz': 3, 'conversations': 6, 'moving': 6, 'balmelo': 3, 'sambhala': 3, 'psn': 3, 'saturdaynight': 3, 'partyhardbutsafely': 3, 'throwbackvideo': 3, 'stressedout': 3, 'havinggoodtime': 3, 'zamir': 3, 'purea': 3, 'bejo': 3, 'kannun': 3, 'kaskanj': 3, 'milgaya': 3, 'junaid': 3, 'pahelu': 3, 'links': 3, 'pull': 3, 'iphoto': 3, 'gotarka': 3, 'workingonaholiday': 3, 'teaminstinct': 3, 'colleagueship': 3, 'molakat': 3, 'exhausted': 3, 'evms': 3, 'kolkatta': 3, 'modesty': 3, 'eliot': 3, 'zamirul': 3, 'wuhanvirus': 3, 'deekhayega': 3, 'nadal': 3, 'clay': 3, 'ckmkb': 3, 'savarkar': 3, 'kamzor': 3, 'awe': 3, 'battle': 3, 'dhamakedar': 3, 'badhe': 3, 'selman': 3, 'klneq': 3, 'heq': 3, 'bhandara': 3, 'chhabil': 3, 'enka': 3, 'satisfying': 3, 'carrybhai': 3, 'asu': 3, 'punyatithi': 3, 'kamata': 3, 'familytime': 6, 'mavali': 3, 'pardesh': 3, 'ea': 3, 'rabbit_face': 3, 'maanegi': 3, 'duji': 3, 'aajto': 3, 'lila': 3, 'awaiz': 3, 'kamyaab': 3, 'gta': 3, 'activate': 3, 'trikal': 3, 'janani': 3, 'londondreams': 3, 'replyyyyy': 3, 'lejay': 3, 'tymal': 3, 'johnny': 3, 'sins': 3, 'mills': 3, 'engvsl': 3, 'slvseng': 3, 'rastâ': 3, 'udheek': 3, 'marjawan': 3, 'ishqmeinmarjwan': 3, 'honeko': 3, 'antimthefinaltruth': 3, 'contests': 3, 'bygod': 3, 'bachaau': 3, 'bajao': 3, 'targeted': 3, 'pilots': 3, 'relative': 6, 'nispaksh': 3, 'bikkar': 3, 'darkar': 3, 'jiyoge': 3, 'parosoge': 3, 'roke': 3, 'bujhkar': 3, 'kisaon': 3, 'desperate': 3, 'xyz': 3, 'cum': 3, 'behlane': 3, 'udanr': 3, 'banaopar': 3, 'towo': 3, 'jogi': 3, 'jaani': 3, 'toj': 3, 'jpkhh': 3, 'yaaahooo': 3, 'karri': 3, 'yoge': 3, 'gadabad': 3, 'jahanaganj': 3, 'azamgarh': 3, 'hater': 3, 'strawberry': 9, 'round_pushpin': 3, 'deepshikha': 3, 'vishnupuri': 3, 'strawberryshake': 3, 'cometo': 3, 'qualifying': 3, 'issbar': 3, 'kanye': 3, 'reportonkhansir': 3, 'bhagban': 3, 'dor': 3, 'khincha': 3, 'hire': 3, 'barsate': 3, 'pyas': 3, 'jagaye': 3, 'jagha': 3, 'phuch': 3, 'sparrow': 3, 'thnku': 3, 'paresh': 3, 'mlm': 3, 'dhanyavaad': 3, 'tolstoy': 3, 'vvn': 3, 'aaun': 3, 'krwa': 3, 'bnake': 3, 'chhodoge': 3, 'namaj': 3, 'musjid': 3, 'ikattha': 3, 'karvaao': 3, 'thaak': 3, 'collaboration': 3, 'downlod': 3, 'tikdi': 6, 'himatnagar': 3, 'prakash': 3, 'aaoa': 3, 'banwake': 3, 'msd': 6, 'untold': 3, 'bharatmata': 3, 'jaihoo': 3, 'mixing': 3, 'khiladibhaiyya': 3, 'khiladimusicrocks': 3, 'fold': 3, 'loon': 3, 'kesharinandan': 3, 'bhandar': 3, 'aapto': 3, 'ulja': 3, 'wigdiya': 3, 'tanda': 3, 'sulja': 3, 'gear': 3, 'pawa': 3, 'jeha': 3, 'lawa': 3, 'sirjee': 3, 'râ': 3, 'žj': 3, 'å': 3, 'vâ': 3, '¹vâ': 3, 'chhuti': 3, 'usime': 3, 'oatra': 3, 'aallah': 3, 'healthyeating': 3, 'desikhana': 3, 'desifood': 3, 'foodism': 3, 'hungrito': 9, 'announcements': 3, 'arresst': 3, 'rkantado': 3, 'precious': 3, 'proposal': 3, 'meanwhile': 3, 'aviral': 3, 'kaalu': 3, 'consists': 3, 'rotli': 3, 'bharatakke': 3, 'magana': 3, 'illi': 3, 'raitaru': 3, 'sayakattaru': 3, 'jaado': 3, 'jadoogar': 3, 'karinge': 6, 'baigan': 3, 'sarafa': 3, 'prohibited': 33, 'bhukadofagra': 3, 'teenmaardosa': 3, 'dosalover': 3, 'southindianfood': 3, 'dosas': 3, 'mitaau': 3, 'devdas': 3, 'webinar': 3, 'tabhai': 3, 'nemawar': 3, 'kindest': 3, 'promoting': 3, 'parja': 3, 'khismat': 3, 'croro': 3, 'duvaa': 3, 'hating': 3, 'muchhhh': 3, 'scope': 3, 'abhijeet': 3, '2lagao': 3, 'misanthropist': 3, 'bhaju': 3, 'salad': 3, 'padhaayi': 3, 'poochkar': 3, 'dajjal': 3, 'bhido': 3, 'fuel': 3, 'reduction': 3, 'liartimesnow': 3, 'dothe': 3, 'ungali': 3, 'katate': 3, 'bhagwaanji': 3, 'person_pouting': 3, 'brillient': 3, 'jeee': 3, 'skty': 3, 'colg': 3, 'aiya': 3, 'gaaaa': 3, 'natraj': 3, 'dinning': 3, 'kashmires': 3, 'flags': 3, 'seaport': 3, 'ashwaq': 3, 'missyouyuvi': 3, 'restinpeace': 3, 'dhadkne': 3, 'tamacha': 3, 'pdkr': 3, 'pde': 3, 'kheta': 3, 'rajatverma': 3, 'shagunsharma': 3, 'kareaga': 3, 'rea': 3, 'terea': 3, 'tujhsea': 3, 'pendingconfusion': 6, 'declareconfusion': 6, 'postponedconfusion': 3, 'cancelledconfusion': 3, 'holdconfusion': 3, 'waitingconfusion': 6, 'resume': 3, 'bhaaiii': 3, 'orrr': 3, 'kitnaaa': 3, 'krwaogyy': 3, 'oldbhopalmoments': 3, 'bhagwabrigade': 3, 'jhalakti': 3, 'nithallamodi': 3, 'magical': 3, 'snehal': 3, 'sindhis': 3, 'teejri': 3, 'fod': 3, 'nhiii': 6, 'angavarun': 3, 'jhaghad': 3, 'soulfully': 3, 'blessing': 3, 'tujhey': 3, 'sansaar': 3, 'tujhi': 3, 'dest': 3, 'actar': 3, 'gamemaarichhe': 3, 'tandav': 3, 'disclaimer': 3, 'hataoge': 3, 'nest': 3, 'marlia': 3, 'sudhrega': 3, 'nachenge': 3, 'bellhop_bell': 3, 'khtam': 3, 'yogdaan': 3, 'ghaghudi': 3, 'dikhi': 3, 'hogaaa': 3, 'karyakal': 3, 'savarnim': 3, 'soothing': 3, 'qdar': 6, 'roothna': 3, 'khfa': 3, 'harkoi': 3, 'tumh': 3, 'dish': 3, 'dishes': 3, 'tuesdaymotivation': 3, 'freedelivery': 3, 'ttrending': 3, 'pmpressmeet': 3, 'upnishads': 3, 'scriptures': 3, 'nigla': 3, 'batadein': 3, 'falseequivalence': 3, 'udaa': 3, 'bahout': 3, '7726066179': 3, 'krwaoge': 3, 'devangi': 3, 'ladte': 3, 'villain': 3, 'lien': 3, 'infraproject': 3, 'chidchide': 3, 'thrash': 3, 'stones': 3, 'prototypes': 3, 'hacking': 3, 'baishram': 3, 'pahlai': 3, 'janlo': 3, 'farmersprotest': 3, 'savetime': 3, 'withthefarmers': 3, '350': 6, 'demonetization': 3, 'lode': 3, 'rplyyy': 3, 'migrants': 3, 'raheinge': 3, 'dhaaka': 3, 'yeti': 3, 'banjrangi': 3, 'benishaan': 3, 'mofos': 3, 'metabolism': 6, 'billgate': 3, 'krah': 3, 'jayoge': 3, 'kuj': 3, 'terr': 3, 'daulat': 3, 'temba': 3, 'bavuma': 3, 'plessis': 3, 'wivssa': 3, 'khaunga': 3, 'hefe': 3, 'varnist': 3, 'aatmnirbharbharat': 3, 'familyday': 3, 'haramkhorsanjayraut': 3, 'evry1': 3, 'lika': 3, 'issne': 3, 'choor': 3, 'bajhaan': 3, 'beatufil': 3, 'khnan': 3, 'veryvery': 3, 'veryy': 3, 'yaqeenan': 3, 'dli': 3, 'imtehan': 3, 'ques': 3, 'poochna': 3, 'wohin': 3, 'nandigram': 3, 'yearsofaap': 3, 'waapis': 3, 'jeeyenge': 3, 'monty': 3, 'karye': 3, 'bharath': 6, 'extensions': 3, 'extendduedates': 3, 'yessssss': 3, 'taimuralikhanpataudi': 3, 'tocutetohandle': 3, 'cutenessoverload': 3, 'khayali': 3, 'pulav': 3, 'mentos': 3, 'trades': 3, 'randwe': 3, 'mroge': 3, 'nagada': 6, 'mnp': 3, 'tikait': 3, 'rakeshtikait': 3, 'sebi': 3, 'direc': 3, 'comp': 3, 'tkg': 3, 'inves': 3, 'kuvh': 3, 'samil': 3, 'kartethe': 3, 'ditel': 3, 'hihe': 3, 'impoted': 3, 'mobile_phone': 3, 'taari': 6, 'bekraari': 3, 'lagda': 3, 'sambhalne': 3, 'gidad': 3, 'gufa': 3, 'congressledubijodhpur': 3, 'nowwwww': 3, 'bhukhhad': 3, 'mondayblues': 6, 'rushed': 3, 'buyelectric': 3, 'lipte': 3, 'duwaein': 3, 'afju': 3, 'aaheer': 3, 'chaurahe': 3, 'marni': 3, 'riders': 3, 'amikkr': 3, 'zar': 3, 'sho': 3, 'itn': 3, 'lan': 3, 'mehm': 3, 'ahl': 3, 'mahfil': 3, 'bazm': 3, 'saz': 3, 'welcomes': 3, 'fck': 3, 'urself': 3, 'veliya': 3, 'mahiya': 3, 'luking': 3, 'aswm': 3, 'nyt': 3, 'sdz': 3, 'ehsaash': 3, 'kitali': 3, 'dhota': 3, 'haarti': 3, 'bhy': 3, 'turf': 3, 'kuc': 6, 'parthe': 3, 'zabab': 3, 'krishnathanks': 3, 'usangita': 3, 'mlavijay': 3, 'mavan': 3, 'sonijay': 3, 'verma': 3, 'affordable': 3, 'journeyover': 3, 'silver': 3, 'shear': 3, 'shears': 3, 'bhech': 3, 'kharidle': 3, 'bpl': 6, 'scheduled': 3, 'confusionwithout': 3, 'prior': 3, 'gaaye': 3, 'uanka': 3, 'gaayo': 3, 'katata': 3, 'fasi': 3, 'corahe': 3, 'bhayiaa': 6, 'lukin': 3, 'chuppi': 3, 'tend': 3, 'dabbi': 3, 'hassi': 3, 'propagating': 3, 'stupidity': 3, 'chowkidarchorhai': 3, 'saynotochowkidar': 3, 'hiddentruth': 3, 'modigoback': 3, 'engvnz': 3, 'shararat': 3, 'shaitaani': 3, 'gadbad': 3, 'owsum': 3, 'movieâ': 3, 'buhubali': 3, 'rocxxx': 3, 'hip': 3, 'lamhee': 3, 'hotee': 3, 'jinee': 3, 'hoghe': 3, 'nephew': 3, 'bengan': 3, 'brinjalconfusion': 3, 'mardin': 3, 'istanbul': 3, 'muahhh': 3, 'bhaiiiii': 6, 'likeeee': 3, 'tunes': 3, 'askzee': 3, 'janlokpal': 3, 'unho': 6, 'interviw': 3, 'lya': 6, 'gully': 3, 'flavour': 3, 'lyatea': 3, 'vatsalya': 3, 'trendingtea': 3, 'primixteas': 3, 'instanttea': 3, 'justaddwater': 3, 'truecaller': 3, 'relax': 6, 'possessive': 3, 'protective': 3, 'pappiya': 3, 'jhappiya': 3, 'sidnaazforever': 3, 'anish': 3, 'owasi': 3, 'wroung': 3, '347': 3, 'offic': 3, 'zahr': 3, 'ashk': 3, 'zakhmon': 3, 'chhede': 3, 'devansu': 3, 'rathva': 3, 'weast': 3, 'kritya': 3, 'apradho': 3, 'gunahgar': 3, 'milaya': 3, 'kathmullo': 3, 'betiyo': 3, 'khilwad': 3, 'kohinoor': 3, 'behtarin': 3, 'pahada': 3, 'lnd': 3, 'gandmari': 3, 'raand': 3, 'pau': 3, 'bhaji': 3, 'matar': 3, 'padyatra': 3, 'telngana': 3, 'chaina': 3, 'histry': 3, 'remeber': 3, 'hiiiiiiiii': 3, 'salmannnnnnnn': 3, 'stephen': 3, 'fleming': 3, 'guardian': 3, 'kiwis': 3, 'chlane': 3, 'myiya': 3, 'fulka': 3, 'edible': 3, 'tapti': 3, 'betarah': 3, 'ladaai': 3, 'controll': 3, 'karyu': 3, 'hardest': 3, 'padaega': 3, 'islamkot': 3, 'tharparkar': 3, 'jahanami': 3, 'andhbhakti': 3, 'proves': 3, 'salmankhanverdict': 3, 'tanhaiyo': 3, 'salamrockybhai': 3, 'goodquote': 3, 'supremeleader': 3, 'transparent': 3, 'ambiguity': 3, 'burn': 3, 'speakup': 3, 'rojagar': 3, 'berojgaari': 3, 'illaj': 3, 'chutayapa': 3, 'lenevala': 3, 'vaasiyon': 3, 'akl': 3, 'andhon': 3, 'smjhaye': 3, 'recpact': 3, 'allways': 3, 'hahahhah': 3, 'pisa': 6, 'garbad': 3, 'sunita': 3, 'rahate': 6, 'aey': 3, 'bethegi': 3, 'dange': 3, 'chunida': 3, 'phayada': 3, 'jeisa': 3, 'bhootnia': 3, 'panti': 3, 'suyyash': 3, 'fools': 3, 'chitti': 3, 'kashmirhamarahai': 3, 'anythingfor': 3, 'pandvas': 3, 'vyapari': 3, 'bussinessman': 3, 'viceo': 3, 'jhagadia': 3, 'complain': 3, 'consumer': 3, 'courte': 3, 'finserv': 3, 'bouncing': 3, 'moratorium': 3, 'modionceagain': 3, 'hamay': 3, 'muqa': 3, 'disharavi': 3, 'democratically': 3, 'elected': 3, 'negetive': 3, 'manner': 3, 'lies': 3, 'workshops': 3, 'medicine': 3, 'stood': 3, 'ngp': 3, 'godbharai': 3, 'ansuna': 3, 'qareeb': 3, 'dhadkanon': 3, 'itnai': 3, 'deer': 3, 'biggbossconfusion': 3, 'bajrahgi': 3, 'oldbasyt': 3, 'walkam': 3, 'dese': 3, 'spcl': 3, 'lil': 3, 'clbrte': 3, 'hamien': 3, 'gaate': 3, 'tadapte': 3, 'jabalpur': 9, 'hpnd': 3, 'kut': 3, 'sud': 3, 'moto': 6, 'dangewalo': 3, 'hounorable': 3, 'pehchana': 3, 'fansa': 3, 'jacky': 3, 'bhagnani': 3, 'ishant': 3, 'amnestyinternational': 3, 'cheting': 3, 'appps': 3, 'babey': 3, 'guli': 3, 'gulu': 3, 'hahahhahahahaha': 3, 'mujphe': 3, 'association': 3, 'rightwing': 3, 'accussed': 3, 'granted': 3, 'comedians': 3, 'munnawarfaruqui': 3, 'kunalkamra': 6, 'justicematters': 3, 'kaduva': 3, 'songconfusion': 3, 'dyan': 3, 'dona': 3, 'meherma': 3, 'stree': 3, 'martay': 3, 'bbadna': 3, 'bajarngi': 3, 'agye': 3, 'padli': 3, 'chshma': 3, 'shayrana': 3, 'delhiresults': 3, 'taklifda': 3, 'shashi': 3, 'chnce': 3, 'humre': 3, 'reparian': 3, 'sazia': 3, 'patakha': 3, 'tamaru': 3, 'saaso': 3, 'nishani': 3, 'uok': 6, 'arw': 3, 'prblms': 3, 'rade': 3, 'promot': 3, 'noexams': 3, 'opeksha': 3, 'jika': 3, 'vokt': 3, 'jiko': 3, 'anticaa': 3, 'sungh': 3, 'pepsiipl': 3, 'ahde': 3, 'thike': 3, 'roh': 3, 'shetty': 3, 'diwaniya': 3, 'hoth': 6, 'hubahu': 3, 'saanwari': 3, 'zulf': 3, 'rubaru': 3, 'pheeki': 3, 'todiyega': 3, 'fudduu': 3, 'fandu': 3, 'mushkura': 3, 'connoisseur': 3, 'anil': 3, 'tanuja': 3, 'allows': 3, 'rupayo': 3, 'pfi': 3, 'logg': 3, 'pist': 3, 'rahahe': 3, 'laavo': 3, 'hase': 9, 'females': 3, 'faayeda': 3, 'simp': 3, 'ekdujekeliye': 3, 'bffs': 3, 'mathri': 3, 'tumney': 3, 'khilli': 3, 'udaai': 3, 'cross_mark_button': 3, 'sabhayata': 3, 'frnshp': 3, 'gharwale': 3, 'tammanna': 3, 'hasiyat': 3, 'tabayafe': 3, 'aapsy': 3, 'banaras': 3, 'chuoge': 3, 'sudher': 3, 'vesi': 3, 'sunder': 3, 'ufc': 3, 'lolzz': 3, 'salgaycriminal': 3, 'vishv': 3, 'svaasthy': 3, 'anumaan': 3, 'lagabhag': 3, 'miliyan': 3, 'aatmahatya': 3, 'itane': 3, 'apanee': 3, 'aatmaghaatee': 3, 'avasaad': 3, 'niraasha': 3, 'chapet': 3, 'ihet': 3, 'floap': 3, 'idd': 3, 'bharo': 3, 'pasiney': 3, 'khuleyaam': 3, 'khuleyga': 3, 'asahi': 3, 'weneedmasspramotion': 3, 'mcqwithoutoption': 3, 'gtuexam': 3, 'gtumasspramotion': 3, 'paroste': 3, 'faddu': 3, 'mullah': 3, 'pichhola': 3, 'nishad': 3, 'panchayat': 3, 'shero': 3, 'tovel': 6, 'ghunghat': 3, 'pachpan': 3, 'dns': 3, 'likhum': 3, 'pulwamamassacre': 3, 'pulawama': 3, 'pulawamaterrorattack': 3, 'crpfattack': 3, 'indiawithmartyrs': 3, 'mre': 3, 'fvrt': 3, 'prson': 3, 'nazae': 3, 'hlpful': 3, 'praised': 3, 'jayaz': 3, 'muphut': 3, 'kahana': 3, 'brhamin': 3, 'millna': 3, 'chahty': 3, 'miloo': 3, 'millo': 3, 'dyna': 3, 'jyis': 3, 'bing': 3, 'takee': 3, 'millaa': 3, '918399840411': 3, 'someday': 3, 'symbol': 3, 'bolnaa': 3, 'gharelu': 3, 'nusk': 3, 'lahor': 3, 'mahga': 3, 'ananya': 3, 'meradilbhikitnapagalhai': 3, 'khobiyo': 3, 'intro': 3, 'haijay': 3, 'aaray': 3, 'kispe': 3, 'repostconfusion': 3, 'khatriimtiaz': 3, 'yoyo': 3, 'thukraya': 3, 'bhagte': 3, 'batayi': 3, 'heet': 9, 'seemet': 3, 'anjani': 3, 'modade': 3, 'banjani': 3, 'chubby': 3, 'khaati': 3, 'pahechan': 3, 'terri': 3, 'etti': 3, 'blow': 3, 'candles': 3, 'prized': 3, 'twolineshayari': 3, 'lifeqoutes': 3, 'umer': 3, 'hairat': 3, 'shvani': 3, 'bright': 3, 'oncem': 3, 'plssss': 3, 'raakhiyo': 3, 'shilpaa': 3, 'knowmodiji': 3, 'chakakaar': 3, 'db': 6, 'aftergym': 3, 'aadarniy': 3, 'feuchar': 3, 'bahuthi': 3, 'aachha': 3, 'garima': 6, 'bharatdesh': 3, 'naheruji': 3, 'variso': 3, 'gulamo': 3, 'paley': 3, 'mazal': 3, 'fakhri': 3, 'sandals': 3, 'exemption': 3, 'rebate': 3, 'salaried': 3, 'bharte': 6, 'wahwahi': 3, 'budgetsession': 3, 'chlna': 3, 'shamshan': 3, 'jalna': 3, 'musti': 3, 'aavaaj': 3, 'naaj': 3, 'aarrr': 3, 'memespecial': 3, 'baarat': 3, 'dhol': 3, 'beard': 3, 'beardlover': 3, 'beardnation': 3, 'beardgang': 3, 'beardstyles': 3, 'beardlife': 3, 'beards': 3, 'beardie': 3, '9': 3, 'lwayz': 3, 'thaeid': 3, 'prty': 3, 'trafcse': 3, 'virudh': 3, 'kharb': 3, 'esliye': 3, 'banking': 3, 'cpcforbankers': 3, 'appearing': 3, 'hsc': 3, 'empowerment': 3, 'chaape': 3, 'peacockconfusion': 3, 'tihari': 3, 'pitne': 3, 'daur': 3, 'gujar': 3, 'dane': 6, 'mohtaz': 3, 'batli': 3, 'jabba': 3, 'sandarbh': 3, 'settu': 3, 'advancehbdpawankalyan': 3, 'vakeelsaab': 3, 'seedling': 6, 'bua': 3, 'nyari': 3, 'vishvas': 3, 'balaghat': 3, 'tenk': 3, 'bimariyo': 3, 'ghere': 3, 'fest': 3, 'loveforchai': 3, 'esko': 3, 'rhhii': 3, 'uggh': 3, 'civics': 3, 'borrinnngg': 3, 'chuzo': 3, 'mbkd': 3, 'dimple': 3, 'upto': 3, 'transmission': 3, 'paega': 3, 'plizz': 3, 'chans': 3, 'wating': 3, 'dheyan': 3, 'bachhi': 3, 'megha': 3, 'dhade': 3, 'surbhirana': 3, 'meghadhade': 3, 'meghsters': 3, 'meghadhadeinbb': 3, 'lase': 3, 'salmanbailorjail': 3, 'closeup': 3, 'smachar': 3, 'bhastachra': 3, 'carodo': 3, 'rupioka': 3, 'anvil': 3, 'banknifty': 3, 'niftybank': 3, 'sanso': 3, 'sargam': 3, 'karvat': 3, 'sangam': 3, 'khwabon': 3, 'islamophobiainindia': 3, 'zwei': 6, 'scheiben': 6, 'marmelade': 3, 'und': 3, 'uterbutter': 3, 'immer': 3, 'neues': 3, 'olliinindien': 3, 'nirdharit': 3, 'prakaar': 3, 'tagyourbuddies': 3, 'jazba': 3, 'patelgiri': 3, 'jnutapes': 3, 'jnuviolence': 3, 'tarfa': 3, 'khwais': 3, 'juba': 3, 'numais': 3, 'downside': 3, 'guests': 3, 'facepalm': 3, 'stations': 3, 'airports': 3, 'todayz': 3, 'juss': 3, 'saliyan': 3, 'palghar': 3, 'sadhon': 3, 'mx': 3, 'boycottramyug': 3, 'actully': 3, 'jignesh': 3, 'hallabol': 3, 'chatha': 3, 'lagbag': 3, 'firconfusion': 3, 'tohconfusion': 3, 'duggu': 3, 'muskrate': 3, 'bita': 3, 'guzrti': 3, 'wqt': 6, 'dopahar': 3, 'padhi': 3, 'excellent': 3, 'bandhuk': 3, 'bantadharji': 3, 'royegene': 3, 'cheer': 3, 'hameshaa': 3, 'hameshaaa': 3, 'mortath': 3, 'kanjr': 3, 'logicallyconfusion': 3, 'gujarane': 3, 'vlogger': 3, 'aakra': 3, 'parchi': 3, 'jowa': 3, 'sary': 3, 'jary': 3, 'awam': 3, 'pateshan': 3, 'mazhabi': 3, 'galati': 3, 'samjaha': 3, 'dashing': 3, 'mahatwist': 3, 'notout': 3, 'bjpmuktbharat': 3, 'badd': 3, 'pithu': 3, 'khongress': 3, 'sebl': 3, 'nahitar': 3, 'raghav': 3, 'sarvoch': 3, 'offline': 3, 'lifeline': 3, 'wahaan': 3, 'atb': 3, 'dein': 3, 'hajaaro': 3, 'hmsbko': 6, 'etne': 6, 'hojaenge': 3, 'standwithkashmir': 3, 'kashmirwithmodi': 3, 'kashmirhour': 3, 'indianarmyinkashmir': 3, 'aavti': 3, 'bharrr': 3, 'aveeeeeee': 3, 'pahuchi': 3, 'ausvnz': 3, 'adnan': 3, 'dhool': 3, 'jaagruk': 3, 'genius': 3, 'bahuhumarirajnikant': 3, 'sanjaydutt': 3, 'munnabhaimbbs': 3, 'throat': 3, 'sambhalte': 3, 'kounse': 3, 'dikhain': 3, 'pity': 3, 'intelligence': 3, 'sarphire': 3, 'tandoallahyar': 3, 'jashne': 3, 'masajid': 3, 'tihadi': 3, 'malon': 3, 'deserving': 3, 'contestant': 3, 'winnerconfusion': 3, 'winpritam': 3, 'jgi': 3, 'rhungi': 3, 'bhaieya': 3, 'chunoti': 3, 'bahado': 3, 'chunotiyo': 3, 'nipat': 3, 'khisak': 3, 'skil': 3, 'kanhi': 3, 'seej': 3, 'fayar': 3, 'naksal': 3, 'waad': 3, 'esmy': 3, 'dalalo': 3, 'banko': 3, 'difaltar': 3, 'dyty': 3, 'gaddho': 3, 'stole': 3, 'dialouge': 3, 'hansraj': 3, 'kavikumarazaad': 3, 'mainepyarkiya': 3, 'thefilmfarelyf': 3, 'bhaitards': 3, 'brotherstrailertomorrow': 3, 'rajnetik': 3, 'mamale': 3, 'dhakel': 3, 'usake': 3, 'gharse': 3, 'kidnep': 3, 'sagewala': 3, 'sameone': 3, 'canthelp': 3, 'damnyou': 3, 'dilwaye': 3, 'commision': 3, 'japta': 3, 'leraha': 3, 'shaddi': 3, 'admire': 3, 'purest': 3, 'pleasures': 3, 'possession': 3, 'trainee': 3, 'katni': 3, 'nationwide': 3, 'oximeter': 3, 'ushering': 3, 'revolution': 3, 'modelling': 3, 'participatory': 3, 'billon': 3, 'comeon': 3, 'troops': 3, 'uthoge': 3, 'built': 3, 'ooooohhhhhhhhhhhhhhhh': 3, 'faldu': 3, 'clarify': 3, 'mahanagarpalika': 3, 'niklate': 3, 'badlte': 3, 'asiqi': 3, 'burke': 3, 'intne': 3, 'gavon': 3, 'ganvon': 3, 'maffi': 3, 'dhkta': 3, 'rafu': 3, 'dechyka': 3, 'backing': 3, 'prashant': 3, 'bhushan': 3, 'aamadmi': 3, 'noedit': 3, 'chalre': 3, 'terishe': 3, 'sujav': 3, 'forgets': 3, 'confusiontimely': 3, 'namohumari': 3, 'muskile': 3, 'hogikaushambi': 3, 'pichle': 3, 'hoiga': 3, 'alts': 3, 'lagenge': 3, 'dex': 3, 'decentralisation': 3, 'volumes': 3, 'pancake': 3, 'bitcoin': 3, 'jindaa': 3, 'locks': 3, 'glittery': 3, 'parshareofficial': 3, 'parsharereal': 3, 'income': 3, 'sodeyy': 3, 'paaaakkkiiissstan': 3, 'applying': 3, 'rubina': 3, 'krain': 3, 'heros': 3, 'msu': 3, 'hostels': 3, 'nuts': 3, 'mashed': 3, 'potatoes': 3, 'oats': 3, 'decides': 3, 'caused': 3, 'tube': 3, 'ar': 3, 'samdari': 3, 'armusic': 6, 'dikao': 3, 'oon': 3, 'masaib': 3, 'rammi': 3, 'hindo': 3, 'kuty': 3, 'gandooo': 3, 'bolny': 3, 'dubal': 3, 'aagy': 3, 'nilk': 3, 'pysy': 3, 'explan': 3, 'mahamabav': 3, 'charo': 3, 'varnoko': 3, 'bakhubi': 3, 'nibhata': 3, 'smoothie': 3, 'yadev': 6, 'eligation': 3, 'pmcaresfund': 3, 'covidemergency': 3, 'pornstars': 3, 'suhagraat': 3, 'chaaku': 3, 'dikhayega': 3, 'juthe': 3, 'khabri': 3, 'happybirthdaysidharthshukla': 3, 'hbdsidharthshukla': 3, 'yeahhappy': 3, 'biscoot': 3, 'mmmmuuuuuuaaaaaaahhhhh': 3, 'buahghhhahhaahhaahhaahha': 3, 'tailor': 3, 'fantastic': 3, 'bekarar': 3, 'judaai': 3, 'recalling': 3, 'historic': 3, 'ties': 3, 'deep': 3, 'murat': 3, 'rahulgandhipagalhai': 3, 'alliance': 3, 'badlenge': 3, 'raajniti': 3, 'aapya': 3, 'kanwal': 3, 'yetunekyakiya': 3, 'fullscreenwhatsappstatus': 3, 'fullscreen': 3, 'lovestatus': 3, 'milano': 3, 'baschasudhi': 3, 'horha': 3, 'sachha': 3, 'borawan': 3, 'isolation': 3, 'pdhne': 3, 'coronaoutbreakinindia': 3, 'rajasthanlockdown': 3, 'introvertisssm': 3, 'priyankachopra': 3, 'bjpmla': 3, 'unnaocase': 3, 'unnaorapist': 3, 'meal': 3, 'nashta': 3, 'arrival': 3}\n",
            "10\n"
          ]
        }
      ]
    },
    {
      "cell_type": "code",
      "source": [
        "suggestions = sym_spell.lookup('ldxgbbta', Verbosity.CLOSEST, max_edit_distance=4)\n",
        "for i in suggestions:\n",
        "  print(i)"
      ],
      "metadata": {
        "colab": {
          "base_uri": "https://localhost:8080/"
        },
        "id": "U_wRwziYjHqQ",
        "outputId": "f708a4f4-f045-4ba8-84c8-5d7df8791bf6"
      },
      "execution_count": null,
      "outputs": [
        {
          "output_type": "stream",
          "name": "stdout",
          "text": [
            "lagta, 4, 240\n",
            "lgta, 4, 21\n",
            "dabba, 4, 9\n",
            "dibba, 4, 6\n",
            "lgata, 4, 6\n",
            "dhbba, 4, 3\n"
          ]
        }
      ]
    }
  ]
}